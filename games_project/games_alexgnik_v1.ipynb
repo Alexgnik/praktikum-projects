{
 "cells": [
  {
   "cell_type": "markdown",
   "id": "37f11e2e",
   "metadata": {
    "toc": true
   },
   "source": [
    "<h1>Table of Contents<span class=\"tocSkip\"></span></h1>\n",
    "<div class=\"toc\"><ul class=\"toc-item\"><li><span><a href=\"#Материалы:\" data-toc-modified-id=\"Материалы:-1\"><span class=\"toc-item-num\">1&nbsp;&nbsp;</span>Материалы:</a></span></li><li><span><a href=\"#Игры---Формирование-модели-монетизации\" data-toc-modified-id=\"Игры---Формирование-модели-монетизации-2\"><span class=\"toc-item-num\">2&nbsp;&nbsp;</span>Игры - Формирование модели монетизации</a></span><ul class=\"toc-item\"><li><span><a href=\"#Задача:\" data-toc-modified-id=\"Задача:-2.1\"><span class=\"toc-item-num\">2.1&nbsp;&nbsp;</span>Задача<strong>:</strong></a></span></li><li><span><a href=\"#Описание-датасетов:\" data-toc-modified-id=\"Описание-датасетов:-2.2\"><span class=\"toc-item-num\">2.2&nbsp;&nbsp;</span>Описание датасетов:</a></span></li></ul></li><li><span><a href=\"#Загрузим-данные-и-изучим-общую-информацию\" data-toc-modified-id=\"Загрузим-данные-и-изучим-общую-информацию-3\"><span class=\"toc-item-num\">3&nbsp;&nbsp;</span>Загрузим данные и изучим общую информацию</a></span><ul class=\"toc-item\"><li><span><a href=\"#Загрузка-данных\" data-toc-modified-id=\"Загрузка-данных-3.1\"><span class=\"toc-item-num\">3.1&nbsp;&nbsp;</span>Загрузка данных</a></span></li><li><span><a href=\"#Изучим-общую-информацию\" data-toc-modified-id=\"Изучим-общую-информацию-3.2\"><span class=\"toc-item-num\">3.2&nbsp;&nbsp;</span>Изучим общую информацию</a></span></li></ul></li><li><span><a href=\"#Предобработка-данных\" data-toc-modified-id=\"Предобработка-данных-4\"><span class=\"toc-item-num\">4&nbsp;&nbsp;</span>Предобработка данных</a></span><ul class=\"toc-item\"><li><span><a href=\"#Проверим-отсутствие-дубликатов.-Приведем-данные-к-нужным-типам-и-названия-столбцов-при-необходимости.\" data-toc-modified-id=\"Проверим-отсутствие-дубликатов.-Приведем-данные-к-нужным-типам-и-названия-столбцов-при-необходимости.-4.1\"><span class=\"toc-item-num\">4.1&nbsp;&nbsp;</span>Проверим отсутствие дубликатов. Приведем данные к нужным типам и названия столбцов при необходимости.</a></span></li><li><span><a href=\"#Определим-и-изучим-пропущенные-значения.\" data-toc-modified-id=\"Определим-и-изучим-пропущенные-значения.-4.2\"><span class=\"toc-item-num\">4.2&nbsp;&nbsp;</span>Определим и изучим пропущенные значения.</a></span><ul class=\"toc-item\"><li><span><a href=\"#Изучим-пропущенные-значения,-если-есть-и-предположим-для-них-логичную-замену.-При-отстутствии-логичной-замены-проверим-возможность-убрать-данные-из-анализа,-если-это-не-повредит-анализу-или-оставить-значения,-как-есть.\" data-toc-modified-id=\"Изучим-пропущенные-значения,-если-есть-и-предположим-для-них-логичную-замену.-При-отстутствии-логичной-замены-проверим-возможность-убрать-данные-из-анализа,-если-это-не-повредит-анализу-или-оставить-значения,-как-есть.-4.2.1\"><span class=\"toc-item-num\">4.2.1&nbsp;&nbsp;</span>Изучим пропущенные значения, если есть и предположим для них логичную замену. При отстутствии логичной замены проверим возможность убрать данные из анализа, если это не повредит анализу или оставить значения, как есть.</a></span></li><li><span><a href=\"#Заполним-пропуски,-где-это-уместно-и-опишем,-почему-выбрали-данный-способ-заполнения-или-оставим-пропуски-как-есть,-если-они-не-повредят-нашему-анализу.\" data-toc-modified-id=\"Заполним-пропуски,-где-это-уместно-и-опишем,-почему-выбрали-данный-способ-заполнения-или-оставим-пропуски-как-есть,-если-они-не-повредят-нашему-анализу.-4.2.2\"><span class=\"toc-item-num\">4.2.2&nbsp;&nbsp;</span>Заполним пропуски, где это уместно и опишем, почему выбрали данный способ заполнения или оставим пропуски как есть, если они не повредят нашему анализу.</a></span></li></ul></li></ul></li><li><span><a href=\"#Исследовательский-анализ-данных\" data-toc-modified-id=\"Исследовательский-анализ-данных-5\"><span class=\"toc-item-num\">5&nbsp;&nbsp;</span>Исследовательский анализ данных</a></span><ul class=\"toc-item\"><li><span><a href=\"#Добавим-столбцы-в-датасете-game_actions-с-датой-события-и-датой-первого-события-пользователя\" data-toc-modified-id=\"Добавим-столбцы-в-датасете-game_actions-с-датой-события-и-датой-первого-события-пользователя-5.1\"><span class=\"toc-item-num\">5.1&nbsp;&nbsp;</span>Добавим столбцы в датасете <code>game_actions</code> с датой события и датой первого события пользователя</a></span></li><li><span><a href=\"#Добавим-в-датасет-game_actions-данные-с-рекламных-источников\" data-toc-modified-id=\"Добавим-в-датасет-game_actions-данные-с-рекламных-источников-5.2\"><span class=\"toc-item-num\">5.2&nbsp;&nbsp;</span>Добавим в датасет <code>game_actions</code> данные с рекламных источников</a></span></li><li><span><a href=\"#Добавим-столбец-с-затратами-на-привлечение-каждого-пользователя\" data-toc-modified-id=\"Добавим-столбец-с-затратами-на-привлечение-каждого-пользователя-5.3\"><span class=\"toc-item-num\">5.3&nbsp;&nbsp;</span>Добавим столбец с затратами на привлечение каждого пользователя</a></span></li><li><span><a href=\"#Построим-гистрограмму-по-стоимости-привлечения-пользователя-каждой-рекламной-компании\" data-toc-modified-id=\"Построим-гистрограмму-по-стоимости-привлечения-пользователя-каждой-рекламной-компании-5.4\"><span class=\"toc-item-num\">5.4&nbsp;&nbsp;</span>Построим гистрограмму по стоимости привлечения пользователя каждой рекламной компании</a></span></li><li><span><a href=\"#Добавим-столбец-за-каждый-построенный-тип-объекта-из-расчёта-0.07-условных-единиц.\" data-toc-modified-id=\"Добавим-столбец-за-каждый-построенный-тип-объекта-из-расчёта-0.07-условных-единиц.-5.5\"><span class=\"toc-item-num\">5.5&nbsp;&nbsp;</span>Добавим столбец за каждый построенный тип объекта из расчёта 0.07 условных единиц.</a></span></li><li><span><a href=\"#Создадим-сводную-таблицу-с-куммулятивными-данными-по-возможному-полученному-доходу-от-каждого-пользователя-по-просмотру-рекламы-по-дням-пользования-приложением.\" data-toc-modified-id=\"Создадим-сводную-таблицу-с-куммулятивными-данными-по-возможному-полученному-доходу-от-каждого-пользователя-по-просмотру-рекламы-по-дням-пользования-приложением.-5.6\"><span class=\"toc-item-num\">5.6&nbsp;&nbsp;</span>Создадим сводную таблицу с куммулятивными данными по возможному полученному доходу от каждого пользователя по просмотру рекламы по дням пользования приложением.</a></span></li><li><span><a href=\"#Построим-графики-окупаемости-дохода-от-пользователя-в-среднем-по-дням-пользования-приложением-и-точками-безубыточности.\" data-toc-modified-id=\"Построим-графики-окупаемости-дохода-от-пользователя-в-среднем-по-дням-пользования-приложением-и-точками-безубыточности.-5.7\"><span class=\"toc-item-num\">5.7&nbsp;&nbsp;</span>Построим графики окупаемости дохода от пользователя в среднем по дням пользования приложением и точками безубыточности.</a></span></li></ul></li><li><span><a href=\"#Проанализируем-влияние-событий-на-совершение-целевого-события\" data-toc-modified-id=\"Проанализируем-влияние-событий-на-совершение-целевого-события-6\"><span class=\"toc-item-num\">6&nbsp;&nbsp;</span>Проанализируем влияние событий на совершение целевого события</a></span><ul class=\"toc-item\"><li><span><a href=\"#Построим-боксплоты-построенных-объектов-по-дням-нахождения-в-игре-и-по-количеству-среди-целевой-группы-и-не-закончивших-уровень.-Проведем-также-такой-анализ-с-разбивкой-по-разным-источникам.\" data-toc-modified-id=\"Построим-боксплоты-построенных-объектов-по-дням-нахождения-в-игре-и-по-количеству-среди-целевой-группы-и-не-закончивших-уровень.-Проведем-также-такой-анализ-с-разбивкой-по-разным-источникам.-6.1\"><span class=\"toc-item-num\">6.1&nbsp;&nbsp;</span>Построим боксплоты построенных объектов по дням нахождения в игре и по количеству среди целевой группы и не закончивших уровень. Проведем также такой анализ с разбивкой по разным источникам.</a></span></li></ul></li><li><span><a href=\"#Проверьте-ститистические-гипотизы.\" data-toc-modified-id=\"Проверьте-ститистические-гипотизы.-7\"><span class=\"toc-item-num\">7&nbsp;&nbsp;</span>Проверьте ститистические гипотизы.</a></span><ul class=\"toc-item\"><li><span><a href=\"#Проверим-гипотезу-различия-времени-прохождения-уровня-между-пользователями,-которые-заканчивают-уровень-через-реализацию-проекта,-и-пользователями,-которые-заканчивают-уровень-победой-над-другим-игроком.\" data-toc-modified-id=\"Проверим-гипотезу-различия-времени-прохождения-уровня-между-пользователями,-которые-заканчивают-уровень-через-реализацию-проекта,-и-пользователями,-которые-заканчивают-уровень-победой-над-другим-игроком.-7.1\"><span class=\"toc-item-num\">7.1&nbsp;&nbsp;</span>Проверим гипотезу различия времени прохождения уровня между пользователями, которые заканчивают уровень через реализацию проекта, и пользователями, которые заканчивают уровень победой над другим игроком.</a></span></li><li><span><a href=\"#Проверим-гипотизу-различия-количества-построенных-объектов-пользователями-пришедшими-с-разных-источников.\" data-toc-modified-id=\"Проверим-гипотизу-различия-количества-построенных-объектов-пользователями-пришедшими-с-разных-источников.-7.2\"><span class=\"toc-item-num\">7.2&nbsp;&nbsp;</span>Проверим гипотизу различия количества построенных объектов пользователями пришедшими с разных источников.</a></span></li></ul></li><li><span><a href=\"#Сформируем-модель-монетизации\" data-toc-modified-id=\"Сформируем-модель-монетизации-8\"><span class=\"toc-item-num\">8&nbsp;&nbsp;</span>Сформируем модель монетизации</a></span><ul class=\"toc-item\"><li><span><a href=\"#Модель-монетизации\" data-toc-modified-id=\"Модель-монетизации-8.1\"><span class=\"toc-item-num\">8.1&nbsp;&nbsp;</span>Модель монетизации</a></span></li></ul></li><li><span><a href=\"#Выводы\" data-toc-modified-id=\"Выводы-9\"><span class=\"toc-item-num\">9&nbsp;&nbsp;</span>Выводы</a></span></li></ul></div>"
   ]
  },
  {
   "cell_type": "markdown",
   "id": "2a790b2e",
   "metadata": {},
   "source": [
    "# Материалы: \n",
    "[Презентация](https://drive.google.com/file/d/1Tk_iBqPDQ2J4YAI-4iRrqTGSfc7_1-og/view?usp=sharing)\n",
    "\n",
    "[Дашборд](https://public.tableau.com/app/profile/aliaksandr.halinouski/viz/histogram_games_count_building/histogram?publish=yes)"
   ]
  },
  {
   "cell_type": "markdown",
   "id": "e052ed21",
   "metadata": {},
   "source": [
    "# Игры - Формирование модели монетизации"
   ]
  },
  {
   "cell_type": "markdown",
   "id": "d5263e9d",
   "metadata": {},
   "source": [
    "## Задача**:**\n",
    "\n",
    "Сформируйте модель монетизации игрового приложения.\n",
    "\n",
    "Многие игры зарабатывают с помощью рекламы. И все они сталкиваются с противоречием;\n",
    "\n",
    "- Пользователь разозлится и уйдёт, если начать показывать ему рекламу раньше, чем игра его затянет.\n",
    "- Но  чем позже создатели игры включат рекламу, тем меньше они заработают.\n",
    "\n",
    "Аналитик помогает бизнесу выбрать оптимальное время для запуска рекламы. Зная расходы на продвижение игры, он может рассчитать её окупаемость при разных сценариях \n",
    "\n",
    "Пока создатели игры планируют показывать её на экране выбором постройки. Помогите им не уйти в минус.\n",
    "\n",
    "1. Проведите исследовательский анализ данных\n",
    "\n",
    "2. Проанализируйте влияние событий на совершение целевого события\n",
    "\n",
    "3. Проверьте статистические гипотезы\n",
    "\n",
    "*Проверьте гипотезу различия времени прохождения уровня между пользователями, которые заканчивают уровень через реализацию проекта, и пользователями, которые заканчивают уровень победой над другим игроком.*\n",
    "\n",
    "*Сформулируйте и проверьте статистическую гипотезу относительно представленных данных*\n",
    "\n",
    "## Описание датасетов:\n",
    "\n",
    "Основной датасет содержит данные о событиях, совершенных в мобильной игре «Космические братья». В ней пользователи строят свою космическую программу и пытаются преуспеть в нелёгком деле колонизации галактики.\n",
    "\n",
    "Основная монетизация игры — только планируется. Но предполагается, что в приложении будет происходить показ рекламы на экране с выбором типа объекта для постройки.\n",
    "\n",
    "В датасете представлены данные по игре пользователей на первом уровне. Завершение первого уровня требует от игрока выполнения одного из двух условий:\n",
    "\n",
    "- Победа над первым врагом\n",
    "- Реализация проекта - разработка орбитальной сборки спутников\n",
    "\n",
    "В датасете содержатся данные первых пользователей приложения — когорты пользователей, которые начали пользоваться приложением в период с 4 по 10 мая включительно.\n",
    "\n",
    "Датасет *game_actions.csv*:\n",
    "\n",
    "- `event_datetime` — время события;\n",
    "- `event` — одно из трёх событий:\n",
    "    1. `building` — объект построен,\n",
    "    2. `finished_stage_1` — первый уровень завершён,\n",
    "    3. `project` — проект завершён;\n",
    "- `building_type` — один из трёх типов здания:\n",
    "    1. `assembly_shop` — сборочный цех,\n",
    "    2. `spaceport` — космопорт,\n",
    "    3. `research_center` — исследовательский центр;\n",
    "- `user_id` — идентификатор пользователя;\n",
    "- `project_type` — тип реализованного проекта;\n",
    "\n",
    "Помимо основного датасета есть два датасета с информацией о рекламных активностях. Они также помогут в решении задачи.\n",
    "\n",
    "Датасет *ad_cost.csv* содержит колонки:\n",
    "\n",
    "- `day` - день, в который был совершен клик по объявлению\n",
    "- `source` - источник трафика\n",
    "- `cost` - стоимость кликов\n",
    "\n",
    "Датасет user_source.csv содержит колонки:\n",
    "\n",
    "- `user_id` - идентификатор пользователя\n",
    "- `source` - источников, с которого пришёл пользователь, установивший приложение"
   ]
  },
  {
   "cell_type": "markdown",
   "id": "de446967",
   "metadata": {},
   "source": [
    "# Загрузим данные и изучим общую информацию"
   ]
  },
  {
   "cell_type": "markdown",
   "id": "469227ba",
   "metadata": {},
   "source": [
    "## Загрузка данных"
   ]
  },
  {
   "cell_type": "code",
   "execution_count": 1,
   "id": "358ed189",
   "metadata": {},
   "outputs": [],
   "source": [
    "# импортируем библиотеки\n",
    "import pandas as pd\n",
    "import numpy as np\n",
    "import matplotlib.pyplot as plt\n",
    "%matplotlib inline\n",
    "import warnings\n",
    "warnings.filterwarnings('ignore')\n",
    "import seaborn as sns\n",
    "import scipy.stats as st\n",
    "from datetime import datetime, timedelta"
   ]
  },
  {
   "cell_type": "code",
   "execution_count": 2,
   "id": "360e90d6",
   "metadata": {},
   "outputs": [],
   "source": [
    "# зададим дефолтные настройки отображения таблиц и графиков\n",
    "pd.set_option('display.float_format', '{:_.2f}'.format)\n",
    "pd.set_option('display.max_rows', 50)\n",
    "plt.rcParams['font.size'] = '14'\n",
    "plt.rcParams['figure.figsize'] = (15, 8)"
   ]
  },
  {
   "cell_type": "code",
   "execution_count": 3,
   "id": "a6d86d69",
   "metadata": {},
   "outputs": [],
   "source": [
    "# считываем датасеты\n",
    "try:\n",
    "    ad_costs = pd.read_csv('ad_costs.csv')\n",
    "    game_actions = pd.read_csv('game_actions.csv')\n",
    "    user_source = pd.read_csv('user_source.csv')\n",
    "except FileNotFoundError:\n",
    "    ad_costs = pd.read_csv('/datasets/ad_costs.csv')\n",
    "    game_actions = pd.read_csv('/datasets/game_actions.csv')\n",
    "    user_source = pd.read_csv('/datasets/user_source.csv')"
   ]
  },
  {
   "cell_type": "markdown",
   "id": "39ffa2bd",
   "metadata": {},
   "source": [
    "## Изучим общую информацию"
   ]
  },
  {
   "cell_type": "code",
   "execution_count": 4,
   "id": "14813960",
   "metadata": {},
   "outputs": [],
   "source": [
    "def df_info(df):\n",
    "    \"\"\"\n",
    "    функция принимает на вход датафрейм\n",
    "    показывает рандомно несколько записей из датафрейма\n",
    "    проходит по столбцам с общей информацией\n",
    "    если столбцы числовые, дают информацию по значениям\n",
    "    если типа объект, то уникальные названия и частоту в столбце\n",
    "    \"\"\"\n",
    "    print(f'Всего {df.shape[0]} записей')\n",
    "    print('Выборочные записи в датафрейме')\n",
    "    display(df.sample(5))\n",
    "    print('Общая информация по столбцам')\n",
    "    display(df.describe().T)\n",
    "    # получаем список объектных столбцов\n",
    "    object_column = df.select_dtypes(include='O').columns.tolist()\n",
    "    for column in df.columns:\n",
    "        if column in object_column:\n",
    "            print(f'Уникальные значения и их частота в дататфрейме в столбце {column}')\n",
    "            display(df[column].value_counts(normalize=True))"
   ]
  },
  {
   "cell_type": "markdown",
   "id": "582d60c8",
   "metadata": {},
   "source": [
    "**Датафрейм `ad_costs.csv`**"
   ]
  },
  {
   "cell_type": "code",
   "execution_count": 5,
   "id": "1f9e3557",
   "metadata": {},
   "outputs": [
    {
     "name": "stdout",
     "output_type": "stream",
     "text": [
      "Всего 28 записей\n",
      "Выборочные записи в датафрейме\n"
     ]
    },
    {
     "data": {
      "text/html": [
       "<div>\n",
       "<style scoped>\n",
       "    .dataframe tbody tr th:only-of-type {\n",
       "        vertical-align: middle;\n",
       "    }\n",
       "\n",
       "    .dataframe tbody tr th {\n",
       "        vertical-align: top;\n",
       "    }\n",
       "\n",
       "    .dataframe thead th {\n",
       "        text-align: right;\n",
       "    }\n",
       "</style>\n",
       "<table border=\"1\" class=\"dataframe\">\n",
       "  <thead>\n",
       "    <tr style=\"text-align: right;\">\n",
       "      <th></th>\n",
       "      <th>source</th>\n",
       "      <th>day</th>\n",
       "      <th>cost</th>\n",
       "    </tr>\n",
       "  </thead>\n",
       "  <tbody>\n",
       "    <tr>\n",
       "      <th>2</th>\n",
       "      <td>facebook_ads</td>\n",
       "      <td>2020-05-05</td>\n",
       "      <td>260.19</td>\n",
       "    </tr>\n",
       "    <tr>\n",
       "      <th>12</th>\n",
       "      <td>instagram_new_adverts</td>\n",
       "      <td>2020-05-08</td>\n",
       "      <td>71.58</td>\n",
       "    </tr>\n",
       "    <tr>\n",
       "      <th>27</th>\n",
       "      <td>youtube_channel_reklama</td>\n",
       "      <td>2020-05-09</td>\n",
       "      <td>23.31</td>\n",
       "    </tr>\n",
       "    <tr>\n",
       "      <th>11</th>\n",
       "      <td>instagram_new_adverts</td>\n",
       "      <td>2020-05-07</td>\n",
       "      <td>109.92</td>\n",
       "    </tr>\n",
       "    <tr>\n",
       "      <th>17</th>\n",
       "      <td>yandex_direct</td>\n",
       "      <td>2020-05-06</td>\n",
       "      <td>180.92</td>\n",
       "    </tr>\n",
       "  </tbody>\n",
       "</table>\n",
       "</div>"
      ],
      "text/plain": [
       "                     source         day   cost\n",
       "2              facebook_ads  2020-05-05 260.19\n",
       "12    instagram_new_adverts  2020-05-08  71.58\n",
       "27  youtube_channel_reklama  2020-05-09  23.31\n",
       "11    instagram_new_adverts  2020-05-07 109.92\n",
       "17            yandex_direct  2020-05-06 180.92"
      ]
     },
     "metadata": {},
     "output_type": "display_data"
    },
    {
     "name": "stdout",
     "output_type": "stream",
     "text": [
      "Общая информация по столбцам\n"
     ]
    },
    {
     "data": {
      "text/html": [
       "<div>\n",
       "<style scoped>\n",
       "    .dataframe tbody tr th:only-of-type {\n",
       "        vertical-align: middle;\n",
       "    }\n",
       "\n",
       "    .dataframe tbody tr th {\n",
       "        vertical-align: top;\n",
       "    }\n",
       "\n",
       "    .dataframe thead th {\n",
       "        text-align: right;\n",
       "    }\n",
       "</style>\n",
       "<table border=\"1\" class=\"dataframe\">\n",
       "  <thead>\n",
       "    <tr style=\"text-align: right;\">\n",
       "      <th></th>\n",
       "      <th>count</th>\n",
       "      <th>mean</th>\n",
       "      <th>std</th>\n",
       "      <th>min</th>\n",
       "      <th>25%</th>\n",
       "      <th>50%</th>\n",
       "      <th>75%</th>\n",
       "      <th>max</th>\n",
       "    </tr>\n",
       "  </thead>\n",
       "  <tbody>\n",
       "    <tr>\n",
       "      <th>cost</th>\n",
       "      <td>28.00</td>\n",
       "      <td>271.56</td>\n",
       "      <td>286.87</td>\n",
       "      <td>23.31</td>\n",
       "      <td>66.75</td>\n",
       "      <td>160.06</td>\n",
       "      <td>349.03</td>\n",
       "      <td>969.14</td>\n",
       "    </tr>\n",
       "  </tbody>\n",
       "</table>\n",
       "</div>"
      ],
      "text/plain": [
       "      count   mean    std   min   25%    50%    75%    max\n",
       "cost  28.00 271.56 286.87 23.31 66.75 160.06 349.03 969.14"
      ]
     },
     "metadata": {},
     "output_type": "display_data"
    },
    {
     "name": "stdout",
     "output_type": "stream",
     "text": [
      "Уникальные значения и их частота в дататфрейме в столбце source\n"
     ]
    },
    {
     "data": {
      "text/plain": [
       "youtube_channel_reklama   0.25\n",
       "yandex_direct             0.25\n",
       "facebook_ads              0.25\n",
       "instagram_new_adverts     0.25\n",
       "Name: source, dtype: float64"
      ]
     },
     "metadata": {},
     "output_type": "display_data"
    },
    {
     "name": "stdout",
     "output_type": "stream",
     "text": [
      "Уникальные значения и их частота в дататфрейме в столбце day\n"
     ]
    },
    {
     "data": {
      "text/plain": [
       "2020-05-04   0.14\n",
       "2020-05-07   0.14\n",
       "2020-05-05   0.14\n",
       "2020-05-08   0.14\n",
       "2020-05-06   0.14\n",
       "2020-05-09   0.14\n",
       "2020-05-03   0.14\n",
       "Name: day, dtype: float64"
      ]
     },
     "metadata": {},
     "output_type": "display_data"
    }
   ],
   "source": [
    "df_info(ad_costs)"
   ]
  },
  {
   "cell_type": "markdown",
   "id": "e0623350",
   "metadata": {},
   "source": [
    "В датафрейме `ad_costs` содержится информация по данным рекламной компании.  \n",
    "Всего 4 канала трафика в столбце `source`, данные по которым представлены с 3 по 9 мая 2020 года по затратам за каждый день. Всего 28 записей, в среднем затраты - 271,56 на клики, минимально от 23,31 до максимального 969,14."
   ]
  },
  {
   "cell_type": "markdown",
   "id": "16b9dcf2",
   "metadata": {},
   "source": [
    "**Датафрейм `game_actions.csv`**"
   ]
  },
  {
   "cell_type": "code",
   "execution_count": 6,
   "id": "008182c7",
   "metadata": {
    "scrolled": true
   },
   "outputs": [
    {
     "name": "stdout",
     "output_type": "stream",
     "text": [
      "Всего 135640 записей\n",
      "Выборочные записи в датафрейме\n"
     ]
    },
    {
     "data": {
      "text/html": [
       "<div>\n",
       "<style scoped>\n",
       "    .dataframe tbody tr th:only-of-type {\n",
       "        vertical-align: middle;\n",
       "    }\n",
       "\n",
       "    .dataframe tbody tr th {\n",
       "        vertical-align: top;\n",
       "    }\n",
       "\n",
       "    .dataframe thead th {\n",
       "        text-align: right;\n",
       "    }\n",
       "</style>\n",
       "<table border=\"1\" class=\"dataframe\">\n",
       "  <thead>\n",
       "    <tr style=\"text-align: right;\">\n",
       "      <th></th>\n",
       "      <th>event_datetime</th>\n",
       "      <th>event</th>\n",
       "      <th>building_type</th>\n",
       "      <th>user_id</th>\n",
       "      <th>project_type</th>\n",
       "    </tr>\n",
       "  </thead>\n",
       "  <tbody>\n",
       "    <tr>\n",
       "      <th>125993</th>\n",
       "      <td>2020-05-18 16:34:42</td>\n",
       "      <td>building</td>\n",
       "      <td>spaceport</td>\n",
       "      <td>9a5b5d4b-0404-4647-abd3-dd30bfd0bfae</td>\n",
       "      <td>NaN</td>\n",
       "    </tr>\n",
       "    <tr>\n",
       "      <th>26785</th>\n",
       "      <td>2020-05-06 23:13:21</td>\n",
       "      <td>building</td>\n",
       "      <td>assembly_shop</td>\n",
       "      <td>f29f7e4c-08cc-46a6-b68b-7acb85edb913</td>\n",
       "      <td>NaN</td>\n",
       "    </tr>\n",
       "    <tr>\n",
       "      <th>103853</th>\n",
       "      <td>2020-05-14 05:51:07</td>\n",
       "      <td>building</td>\n",
       "      <td>spaceport</td>\n",
       "      <td>817746cd-c6e3-4ec1-ba94-bca8c0aae828</td>\n",
       "      <td>NaN</td>\n",
       "    </tr>\n",
       "    <tr>\n",
       "      <th>299</th>\n",
       "      <td>2020-05-04 00:57:45</td>\n",
       "      <td>building</td>\n",
       "      <td>assembly_shop</td>\n",
       "      <td>2d38b846-549e-45a5-bcb7-a018f6015f7b</td>\n",
       "      <td>NaN</td>\n",
       "    </tr>\n",
       "    <tr>\n",
       "      <th>20430</th>\n",
       "      <td>2020-05-06 07:59:11</td>\n",
       "      <td>building</td>\n",
       "      <td>assembly_shop</td>\n",
       "      <td>70f98a7b-1673-4921-97fc-86747a1ee33c</td>\n",
       "      <td>NaN</td>\n",
       "    </tr>\n",
       "  </tbody>\n",
       "</table>\n",
       "</div>"
      ],
      "text/plain": [
       "             event_datetime     event  building_type  \\\n",
       "125993  2020-05-18 16:34:42  building      spaceport   \n",
       "26785   2020-05-06 23:13:21  building  assembly_shop   \n",
       "103853  2020-05-14 05:51:07  building      spaceport   \n",
       "299     2020-05-04 00:57:45  building  assembly_shop   \n",
       "20430   2020-05-06 07:59:11  building  assembly_shop   \n",
       "\n",
       "                                     user_id project_type  \n",
       "125993  9a5b5d4b-0404-4647-abd3-dd30bfd0bfae          NaN  \n",
       "26785   f29f7e4c-08cc-46a6-b68b-7acb85edb913          NaN  \n",
       "103853  817746cd-c6e3-4ec1-ba94-bca8c0aae828          NaN  \n",
       "299     2d38b846-549e-45a5-bcb7-a018f6015f7b          NaN  \n",
       "20430   70f98a7b-1673-4921-97fc-86747a1ee33c          NaN  "
      ]
     },
     "metadata": {},
     "output_type": "display_data"
    },
    {
     "name": "stdout",
     "output_type": "stream",
     "text": [
      "Общая информация по столбцам\n"
     ]
    },
    {
     "data": {
      "text/html": [
       "<div>\n",
       "<style scoped>\n",
       "    .dataframe tbody tr th:only-of-type {\n",
       "        vertical-align: middle;\n",
       "    }\n",
       "\n",
       "    .dataframe tbody tr th {\n",
       "        vertical-align: top;\n",
       "    }\n",
       "\n",
       "    .dataframe thead th {\n",
       "        text-align: right;\n",
       "    }\n",
       "</style>\n",
       "<table border=\"1\" class=\"dataframe\">\n",
       "  <thead>\n",
       "    <tr style=\"text-align: right;\">\n",
       "      <th></th>\n",
       "      <th>count</th>\n",
       "      <th>unique</th>\n",
       "      <th>top</th>\n",
       "      <th>freq</th>\n",
       "    </tr>\n",
       "  </thead>\n",
       "  <tbody>\n",
       "    <tr>\n",
       "      <th>event_datetime</th>\n",
       "      <td>135640</td>\n",
       "      <td>128790</td>\n",
       "      <td>2020-05-10 03:08:18</td>\n",
       "      <td>4</td>\n",
       "    </tr>\n",
       "    <tr>\n",
       "      <th>event</th>\n",
       "      <td>135640</td>\n",
       "      <td>3</td>\n",
       "      <td>building</td>\n",
       "      <td>127957</td>\n",
       "    </tr>\n",
       "    <tr>\n",
       "      <th>building_type</th>\n",
       "      <td>127957</td>\n",
       "      <td>3</td>\n",
       "      <td>spaceport</td>\n",
       "      <td>59325</td>\n",
       "    </tr>\n",
       "    <tr>\n",
       "      <th>user_id</th>\n",
       "      <td>135640</td>\n",
       "      <td>13576</td>\n",
       "      <td>ff841992-d93b-462e-bc6e-18c24a514f36</td>\n",
       "      <td>22</td>\n",
       "    </tr>\n",
       "    <tr>\n",
       "      <th>project_type</th>\n",
       "      <td>1866</td>\n",
       "      <td>1</td>\n",
       "      <td>satellite_orbital_assembly</td>\n",
       "      <td>1866</td>\n",
       "    </tr>\n",
       "  </tbody>\n",
       "</table>\n",
       "</div>"
      ],
      "text/plain": [
       "                 count  unique                                   top    freq\n",
       "event_datetime  135640  128790                   2020-05-10 03:08:18       4\n",
       "event           135640       3                              building  127957\n",
       "building_type   127957       3                             spaceport   59325\n",
       "user_id         135640   13576  ff841992-d93b-462e-bc6e-18c24a514f36      22\n",
       "project_type      1866       1            satellite_orbital_assembly    1866"
      ]
     },
     "metadata": {},
     "output_type": "display_data"
    },
    {
     "name": "stdout",
     "output_type": "stream",
     "text": [
      "Уникальные значения и их частота в дататфрейме в столбце event_datetime\n"
     ]
    },
    {
     "data": {
      "text/plain": [
       "2020-05-10 03:08:18   0.00\n",
       "2020-05-09 12:35:56   0.00\n",
       "2020-05-07 03:10:43   0.00\n",
       "2020-05-04 04:02:30   0.00\n",
       "2020-05-08 21:56:19   0.00\n",
       "                      ... \n",
       "2020-05-09 02:36:58   0.00\n",
       "2020-05-13 00:27:16   0.00\n",
       "2020-05-10 04:01:16   0.00\n",
       "2020-05-18 12:56:47   0.00\n",
       "2020-05-15 14:36:17   0.00\n",
       "Name: event_datetime, Length: 128790, dtype: float64"
      ]
     },
     "metadata": {},
     "output_type": "display_data"
    },
    {
     "name": "stdout",
     "output_type": "stream",
     "text": [
      "Уникальные значения и их частота в дататфрейме в столбце event\n"
     ]
    },
    {
     "data": {
      "text/plain": [
       "building           0.94\n",
       "finished_stage_1   0.04\n",
       "project            0.01\n",
       "Name: event, dtype: float64"
      ]
     },
     "metadata": {},
     "output_type": "display_data"
    },
    {
     "name": "stdout",
     "output_type": "stream",
     "text": [
      "Уникальные значения и их частота в дататфрейме в столбце building_type\n"
     ]
    },
    {
     "data": {
      "text/plain": [
       "spaceport         0.46\n",
       "assembly_shop     0.43\n",
       "research_center   0.11\n",
       "Name: building_type, dtype: float64"
      ]
     },
     "metadata": {},
     "output_type": "display_data"
    },
    {
     "name": "stdout",
     "output_type": "stream",
     "text": [
      "Уникальные значения и их частота в дататфрейме в столбце user_id\n"
     ]
    },
    {
     "data": {
      "text/plain": [
       "ff841992-d93b-462e-bc6e-18c24a514f36   0.00\n",
       "bf542075-e3a2-4e79-82d8-3838e86d2a25   0.00\n",
       "d6aca06a-cd75-4cd8-b8cd-240a3c163884   0.00\n",
       "4f57b9dc-faa4-4ced-8c6f-1098d612438c   0.00\n",
       "c133dd1d-c5d0-48e8-aaf7-f654be5b9b56   0.00\n",
       "                                       ... \n",
       "ce195017-5a23-4d75-924a-eb328262e838   0.00\n",
       "f2750d16-16dc-420f-9a61-0a9c85308086   0.00\n",
       "011e8846-9204-434b-809a-398310d730da   0.00\n",
       "e17fd642-a43d-41d4-86a8-c81c6107f9cc   0.00\n",
       "ded24248-15c7-4037-9092-f64fcaa651e7   0.00\n",
       "Name: user_id, Length: 13576, dtype: float64"
      ]
     },
     "metadata": {},
     "output_type": "display_data"
    },
    {
     "name": "stdout",
     "output_type": "stream",
     "text": [
      "Уникальные значения и их частота в дататфрейме в столбце project_type\n"
     ]
    },
    {
     "data": {
      "text/plain": [
       "satellite_orbital_assembly   1.00\n",
       "Name: project_type, dtype: float64"
      ]
     },
     "metadata": {},
     "output_type": "display_data"
    }
   ],
   "source": [
    "df_info(game_actions)"
   ]
  },
  {
   "cell_type": "markdown",
   "id": "4a70d408",
   "metadata": {},
   "source": [
    "Всего 135_640 записей в датафрейме `game_actions`.  \n",
    "- 94% записей связано с постройкой зданий, 4% завершение уровня и 1% завершение проекта\n",
    "- 11% из построек это исследовательский центр, остальные постройки сборочный цех и космопорт примерно поровну\n",
    "- 13_576 уникальных id игроков\n",
    "- 1_866 всего реализованных проектов"
   ]
  },
  {
   "cell_type": "markdown",
   "id": "edc51277",
   "metadata": {},
   "source": [
    "**Датафрейм `user_source.csv`**"
   ]
  },
  {
   "cell_type": "code",
   "execution_count": 7,
   "id": "2e85c5bc",
   "metadata": {},
   "outputs": [
    {
     "name": "stdout",
     "output_type": "stream",
     "text": [
      "Всего 13576 записей\n",
      "Выборочные записи в датафрейме\n"
     ]
    },
    {
     "data": {
      "text/html": [
       "<div>\n",
       "<style scoped>\n",
       "    .dataframe tbody tr th:only-of-type {\n",
       "        vertical-align: middle;\n",
       "    }\n",
       "\n",
       "    .dataframe tbody tr th {\n",
       "        vertical-align: top;\n",
       "    }\n",
       "\n",
       "    .dataframe thead th {\n",
       "        text-align: right;\n",
       "    }\n",
       "</style>\n",
       "<table border=\"1\" class=\"dataframe\">\n",
       "  <thead>\n",
       "    <tr style=\"text-align: right;\">\n",
       "      <th></th>\n",
       "      <th>user_id</th>\n",
       "      <th>source</th>\n",
       "    </tr>\n",
       "  </thead>\n",
       "  <tbody>\n",
       "    <tr>\n",
       "      <th>9841</th>\n",
       "      <td>b9c9ded7-ec3c-453e-a1dc-57b342d95872</td>\n",
       "      <td>yandex_direct</td>\n",
       "    </tr>\n",
       "    <tr>\n",
       "      <th>11930</th>\n",
       "      <td>e117de0b-8142-456a-b907-330b8f516012</td>\n",
       "      <td>youtube_channel_reklama</td>\n",
       "    </tr>\n",
       "    <tr>\n",
       "      <th>476</th>\n",
       "      <td>08e370c4-8477-493b-a8e0-07540f24a413</td>\n",
       "      <td>facebook_ads</td>\n",
       "    </tr>\n",
       "    <tr>\n",
       "      <th>2008</th>\n",
       "      <td>246e5263-70ee-4dd0-92ea-7dd4d6e15640</td>\n",
       "      <td>yandex_direct</td>\n",
       "    </tr>\n",
       "    <tr>\n",
       "      <th>674</th>\n",
       "      <td>0c8c47c0-e1d0-4892-9a50-43326f30ae0b</td>\n",
       "      <td>yandex_direct</td>\n",
       "    </tr>\n",
       "  </tbody>\n",
       "</table>\n",
       "</div>"
      ],
      "text/plain": [
       "                                    user_id                   source\n",
       "9841   b9c9ded7-ec3c-453e-a1dc-57b342d95872            yandex_direct\n",
       "11930  e117de0b-8142-456a-b907-330b8f516012  youtube_channel_reklama\n",
       "476    08e370c4-8477-493b-a8e0-07540f24a413             facebook_ads\n",
       "2008   246e5263-70ee-4dd0-92ea-7dd4d6e15640            yandex_direct\n",
       "674    0c8c47c0-e1d0-4892-9a50-43326f30ae0b            yandex_direct"
      ]
     },
     "metadata": {},
     "output_type": "display_data"
    },
    {
     "name": "stdout",
     "output_type": "stream",
     "text": [
      "Общая информация по столбцам\n"
     ]
    },
    {
     "data": {
      "text/html": [
       "<div>\n",
       "<style scoped>\n",
       "    .dataframe tbody tr th:only-of-type {\n",
       "        vertical-align: middle;\n",
       "    }\n",
       "\n",
       "    .dataframe tbody tr th {\n",
       "        vertical-align: top;\n",
       "    }\n",
       "\n",
       "    .dataframe thead th {\n",
       "        text-align: right;\n",
       "    }\n",
       "</style>\n",
       "<table border=\"1\" class=\"dataframe\">\n",
       "  <thead>\n",
       "    <tr style=\"text-align: right;\">\n",
       "      <th></th>\n",
       "      <th>count</th>\n",
       "      <th>unique</th>\n",
       "      <th>top</th>\n",
       "      <th>freq</th>\n",
       "    </tr>\n",
       "  </thead>\n",
       "  <tbody>\n",
       "    <tr>\n",
       "      <th>user_id</th>\n",
       "      <td>13576</td>\n",
       "      <td>13576</td>\n",
       "      <td>b3214d24-b741-4023-a6fc-0bbe342869db</td>\n",
       "      <td>1</td>\n",
       "    </tr>\n",
       "    <tr>\n",
       "      <th>source</th>\n",
       "      <td>13576</td>\n",
       "      <td>4</td>\n",
       "      <td>yandex_direct</td>\n",
       "      <td>4817</td>\n",
       "    </tr>\n",
       "  </tbody>\n",
       "</table>\n",
       "</div>"
      ],
      "text/plain": [
       "         count unique                                   top  freq\n",
       "user_id  13576  13576  b3214d24-b741-4023-a6fc-0bbe342869db     1\n",
       "source   13576      4                         yandex_direct  4817"
      ]
     },
     "metadata": {},
     "output_type": "display_data"
    },
    {
     "name": "stdout",
     "output_type": "stream",
     "text": [
      "Уникальные значения и их частота в дататфрейме в столбце user_id\n"
     ]
    },
    {
     "data": {
      "text/plain": [
       "b3214d24-b741-4023-a6fc-0bbe342869db   0.00\n",
       "7b300645-e902-4b7d-a5cf-ac75a9a0fced   0.00\n",
       "9dbd6321-2a2a-429e-974e-fe0d9c42c75a   0.00\n",
       "1a2c5d39-bfa0-4ff8-8313-cfb2f7af086a   0.00\n",
       "4138b876-6ea8-4acc-b0c2-78132307abfd   0.00\n",
       "                                       ... \n",
       "935994d1-8a25-4182-8432-23fca1f6965e   0.00\n",
       "8cf25e61-a4dd-4c54-aafc-d0ef088a6c9b   0.00\n",
       "fc7afb91-bb1d-4552-8a28-6d987f1d87f0   0.00\n",
       "30cd0167-5779-4256-a9f4-4a98ab3ee482   0.00\n",
       "4306ddc6-daa2-4805-8ab1-da11f3934bd7   0.00\n",
       "Name: user_id, Length: 13576, dtype: float64"
      ]
     },
     "metadata": {},
     "output_type": "display_data"
    },
    {
     "name": "stdout",
     "output_type": "stream",
     "text": [
      "Уникальные значения и их частота в дататфрейме в столбце source\n"
     ]
    },
    {
     "data": {
      "text/plain": [
       "yandex_direct             0.35\n",
       "instagram_new_adverts     0.25\n",
       "facebook_ads              0.20\n",
       "youtube_channel_reklama   0.20\n",
       "Name: source, dtype: float64"
      ]
     },
     "metadata": {},
     "output_type": "display_data"
    }
   ],
   "source": [
    "df_info(user_source)"
   ]
  },
  {
   "cell_type": "markdown",
   "id": "5fe07674",
   "metadata": {},
   "source": [
    "Датафрейм `user_source` у нас предтавляет собой уникальные 13_576 идентификаторов пользователей и источник трафика, с которого он пришёл.  \n",
    "Наибольшее количество переход было с `yandex_direct` порядка 35% от всех."
   ]
  },
  {
   "cell_type": "markdown",
   "id": "02f75159",
   "metadata": {},
   "source": [
    "# Предобработка данных"
   ]
  },
  {
   "cell_type": "markdown",
   "id": "a4d19063",
   "metadata": {},
   "source": [
    "## Проверим отсутствие дубликатов. Приведем данные к нужным типам и названия столбцов при необходимости."
   ]
  },
  {
   "cell_type": "code",
   "execution_count": 8,
   "id": "e46ba0ac",
   "metadata": {},
   "outputs": [
    {
     "name": "stdout",
     "output_type": "stream",
     "text": [
      "Всего 0\n",
      "Всего 1\n",
      "Всего 0\n"
     ]
    }
   ],
   "source": [
    "print(f'Всего {ad_costs.duplicated().sum()}')\n",
    "print(f'Всего {game_actions.duplicated().sum()}')\n",
    "print(f'Всего {user_source.duplicated().sum()}')"
   ]
  },
  {
   "cell_type": "markdown",
   "id": "f28968f3",
   "metadata": {},
   "source": [
    "В датафрейме `game_actions` есть один дубликат, который следует удалить, также впоследствии будет желательно выявить причину его появления."
   ]
  },
  {
   "cell_type": "code",
   "execution_count": 9,
   "id": "ace03621",
   "metadata": {
    "scrolled": true
   },
   "outputs": [
    {
     "name": "stdout",
     "output_type": "stream",
     "text": [
      "Всего 0\n"
     ]
    }
   ],
   "source": [
    "# удалим дубликат, проиндексируем, параметр `drop=True` не создаст нового столбца индекса\n",
    "game_actions = game_actions.drop_duplicates().reset_index(drop=True)\n",
    "print(f'Всего {game_actions.duplicated().sum()}')"
   ]
  },
  {
   "cell_type": "code",
   "execution_count": 10,
   "id": "9c51cba3",
   "metadata": {},
   "outputs": [
    {
     "name": "stdout",
     "output_type": "stream",
     "text": [
      "<class 'pandas.core.frame.DataFrame'>\n",
      "RangeIndex: 28 entries, 0 to 27\n",
      "Data columns (total 3 columns):\n",
      " #   Column  Non-Null Count  Dtype  \n",
      "---  ------  --------------  -----  \n",
      " 0   source  28 non-null     object \n",
      " 1   day     28 non-null     object \n",
      " 2   cost    28 non-null     float64\n",
      "dtypes: float64(1), object(2)\n",
      "memory usage: 800.0+ bytes\n"
     ]
    }
   ],
   "source": [
    "ad_costs.info()"
   ]
  },
  {
   "cell_type": "markdown",
   "id": "88530937",
   "metadata": {},
   "source": [
    "Приведём столбец `day` к типу дата."
   ]
  },
  {
   "cell_type": "code",
   "execution_count": 11,
   "id": "bf79ce38",
   "metadata": {},
   "outputs": [
    {
     "name": "stdout",
     "output_type": "stream",
     "text": [
      "<class 'pandas.core.frame.DataFrame'>\n",
      "RangeIndex: 28 entries, 0 to 27\n",
      "Data columns (total 3 columns):\n",
      " #   Column  Non-Null Count  Dtype         \n",
      "---  ------  --------------  -----         \n",
      " 0   source  28 non-null     object        \n",
      " 1   day     28 non-null     datetime64[ns]\n",
      " 2   cost    28 non-null     float64       \n",
      "dtypes: datetime64[ns](1), float64(1), object(1)\n",
      "memory usage: 800.0+ bytes\n"
     ]
    }
   ],
   "source": [
    "ad_costs['day'] = pd.to_datetime(ad_costs['day'])\n",
    "ad_costs.info()"
   ]
  },
  {
   "cell_type": "code",
   "execution_count": 12,
   "id": "02e9a269",
   "metadata": {},
   "outputs": [
    {
     "name": "stdout",
     "output_type": "stream",
     "text": [
      "<class 'pandas.core.frame.DataFrame'>\n",
      "RangeIndex: 135639 entries, 0 to 135638\n",
      "Data columns (total 5 columns):\n",
      " #   Column          Non-Null Count   Dtype \n",
      "---  ------          --------------   ----- \n",
      " 0   event_datetime  135639 non-null  object\n",
      " 1   event           135639 non-null  object\n",
      " 2   building_type   127956 non-null  object\n",
      " 3   user_id         135639 non-null  object\n",
      " 4   project_type    1866 non-null    object\n",
      "dtypes: object(5)\n",
      "memory usage: 5.2+ MB\n"
     ]
    }
   ],
   "source": [
    "game_actions.info()"
   ]
  },
  {
   "cell_type": "markdown",
   "id": "f439ac72",
   "metadata": {},
   "source": [
    "Также столбец `event_datetime` приведём к типу дата со временем, которое содержится в столбце. По остальным столбцам тип корректный."
   ]
  },
  {
   "cell_type": "code",
   "execution_count": 13,
   "id": "7ec73e23",
   "metadata": {},
   "outputs": [
    {
     "name": "stdout",
     "output_type": "stream",
     "text": [
      "<class 'pandas.core.frame.DataFrame'>\n",
      "RangeIndex: 135639 entries, 0 to 135638\n",
      "Data columns (total 5 columns):\n",
      " #   Column          Non-Null Count   Dtype         \n",
      "---  ------          --------------   -----         \n",
      " 0   event_datetime  135639 non-null  datetime64[ns]\n",
      " 1   event           135639 non-null  object        \n",
      " 2   building_type   127956 non-null  object        \n",
      " 3   user_id         135639 non-null  object        \n",
      " 4   project_type    1866 non-null    object        \n",
      "dtypes: datetime64[ns](1), object(4)\n",
      "memory usage: 5.2+ MB\n"
     ]
    },
    {
     "data": {
      "text/html": [
       "<div>\n",
       "<style scoped>\n",
       "    .dataframe tbody tr th:only-of-type {\n",
       "        vertical-align: middle;\n",
       "    }\n",
       "\n",
       "    .dataframe tbody tr th {\n",
       "        vertical-align: top;\n",
       "    }\n",
       "\n",
       "    .dataframe thead th {\n",
       "        text-align: right;\n",
       "    }\n",
       "</style>\n",
       "<table border=\"1\" class=\"dataframe\">\n",
       "  <thead>\n",
       "    <tr style=\"text-align: right;\">\n",
       "      <th></th>\n",
       "      <th>event_datetime</th>\n",
       "      <th>event</th>\n",
       "      <th>building_type</th>\n",
       "      <th>user_id</th>\n",
       "      <th>project_type</th>\n",
       "    </tr>\n",
       "  </thead>\n",
       "  <tbody>\n",
       "    <tr>\n",
       "      <th>95907</th>\n",
       "      <td>2020-05-13 04:20:43</td>\n",
       "      <td>building</td>\n",
       "      <td>spaceport</td>\n",
       "      <td>f9f30f9b-0b23-48f9-8632-794afde702f9</td>\n",
       "      <td>NaN</td>\n",
       "    </tr>\n",
       "    <tr>\n",
       "      <th>97633</th>\n",
       "      <td>2020-05-13 09:48:04</td>\n",
       "      <td>building</td>\n",
       "      <td>spaceport</td>\n",
       "      <td>09c0f78e-1b5b-457b-b677-e11e6452e2ba</td>\n",
       "      <td>NaN</td>\n",
       "    </tr>\n",
       "    <tr>\n",
       "      <th>56124</th>\n",
       "      <td>2020-05-09 11:32:27</td>\n",
       "      <td>building</td>\n",
       "      <td>assembly_shop</td>\n",
       "      <td>c7ed4608-deca-46fa-9aef-1660297eecbe</td>\n",
       "      <td>NaN</td>\n",
       "    </tr>\n",
       "  </tbody>\n",
       "</table>\n",
       "</div>"
      ],
      "text/plain": [
       "           event_datetime     event  building_type  \\\n",
       "95907 2020-05-13 04:20:43  building      spaceport   \n",
       "97633 2020-05-13 09:48:04  building      spaceport   \n",
       "56124 2020-05-09 11:32:27  building  assembly_shop   \n",
       "\n",
       "                                    user_id project_type  \n",
       "95907  f9f30f9b-0b23-48f9-8632-794afde702f9          NaN  \n",
       "97633  09c0f78e-1b5b-457b-b677-e11e6452e2ba          NaN  \n",
       "56124  c7ed4608-deca-46fa-9aef-1660297eecbe          NaN  "
      ]
     },
     "execution_count": 13,
     "metadata": {},
     "output_type": "execute_result"
    }
   ],
   "source": [
    "game_actions['event_datetime'] = pd.to_datetime(game_actions['event_datetime'])\n",
    "game_actions.info()\n",
    "game_actions.sample(3)"
   ]
  },
  {
   "cell_type": "code",
   "execution_count": 14,
   "id": "f6bd4c32",
   "metadata": {},
   "outputs": [
    {
     "name": "stdout",
     "output_type": "stream",
     "text": [
      "<class 'pandas.core.frame.DataFrame'>\n",
      "RangeIndex: 13576 entries, 0 to 13575\n",
      "Data columns (total 2 columns):\n",
      " #   Column   Non-Null Count  Dtype \n",
      "---  ------   --------------  ----- \n",
      " 0   user_id  13576 non-null  object\n",
      " 1   source   13576 non-null  object\n",
      "dtypes: object(2)\n",
      "memory usage: 212.2+ KB\n"
     ]
    }
   ],
   "source": [
    "user_source.info()"
   ]
  },
  {
   "cell_type": "markdown",
   "id": "11259dc2",
   "metadata": {},
   "source": [
    "Данные приведены к нужным типам, названия столбцов корректны."
   ]
  },
  {
   "cell_type": "markdown",
   "id": "486888c2",
   "metadata": {},
   "source": [
    "## Определим и изучим пропущенные значения."
   ]
  },
  {
   "cell_type": "markdown",
   "id": "c0fd89bf",
   "metadata": {},
   "source": [
    "### Изучим пропущенные значения, если есть и предположим для них логичную замену. При отстутствии логичной замены проверим возможность убрать данные из анализа, если это не повредит анализу или оставить значения, как есть."
   ]
  },
  {
   "cell_type": "markdown",
   "id": "d21e836c",
   "metadata": {},
   "source": [
    "Мы могли ранее заметить, что пропущенные значения были только в `game_actions` в столбцах `building_type`, `project_type`. Изучим данные пропуски."
   ]
  },
  {
   "cell_type": "code",
   "execution_count": 15,
   "id": "7436aa3e",
   "metadata": {},
   "outputs": [
    {
     "data": {
      "text/html": [
       "<div>\n",
       "<style scoped>\n",
       "    .dataframe tbody tr th:only-of-type {\n",
       "        vertical-align: middle;\n",
       "    }\n",
       "\n",
       "    .dataframe tbody tr th {\n",
       "        vertical-align: top;\n",
       "    }\n",
       "\n",
       "    .dataframe thead th {\n",
       "        text-align: right;\n",
       "    }\n",
       "</style>\n",
       "<table border=\"1\" class=\"dataframe\">\n",
       "  <thead>\n",
       "    <tr style=\"text-align: right;\">\n",
       "      <th></th>\n",
       "      <th>event_datetime</th>\n",
       "      <th>event</th>\n",
       "      <th>building_type</th>\n",
       "      <th>user_id</th>\n",
       "      <th>project_type</th>\n",
       "    </tr>\n",
       "  </thead>\n",
       "  <tbody>\n",
       "    <tr>\n",
       "      <th>6659</th>\n",
       "      <td>2020-05-04 19:47:29</td>\n",
       "      <td>finished_stage_1</td>\n",
       "      <td>NaN</td>\n",
       "      <td>ced7b368-818f-48f6-9461-2346de0892c5</td>\n",
       "      <td>NaN</td>\n",
       "    </tr>\n",
       "    <tr>\n",
       "      <th>13134</th>\n",
       "      <td>2020-05-05 13:22:09</td>\n",
       "      <td>finished_stage_1</td>\n",
       "      <td>NaN</td>\n",
       "      <td>7ef7fc89-2779-46ea-b328-9e5035b83af5</td>\n",
       "      <td>NaN</td>\n",
       "    </tr>\n",
       "    <tr>\n",
       "      <th>15274</th>\n",
       "      <td>2020-05-05 18:54:37</td>\n",
       "      <td>finished_stage_1</td>\n",
       "      <td>NaN</td>\n",
       "      <td>70db22b3-c2f4-43bc-94ea-51c8d2904a29</td>\n",
       "      <td>NaN</td>\n",
       "    </tr>\n",
       "    <tr>\n",
       "      <th>16284</th>\n",
       "      <td>2020-05-05 21:27:29</td>\n",
       "      <td>finished_stage_1</td>\n",
       "      <td>NaN</td>\n",
       "      <td>903fc9ef-ba97-4b12-9d5c-ac8d602fbd8b</td>\n",
       "      <td>NaN</td>\n",
       "    </tr>\n",
       "    <tr>\n",
       "      <th>19650</th>\n",
       "      <td>2020-05-06 06:02:22</td>\n",
       "      <td>finished_stage_1</td>\n",
       "      <td>NaN</td>\n",
       "      <td>58e077ba-feb1-4556-a5a0-d96bd04efa39</td>\n",
       "      <td>NaN</td>\n",
       "    </tr>\n",
       "    <tr>\n",
       "      <th>...</th>\n",
       "      <td>...</td>\n",
       "      <td>...</td>\n",
       "      <td>...</td>\n",
       "      <td>...</td>\n",
       "      <td>...</td>\n",
       "    </tr>\n",
       "    <tr>\n",
       "      <th>135631</th>\n",
       "      <td>2020-06-04 15:50:38</td>\n",
       "      <td>finished_stage_1</td>\n",
       "      <td>NaN</td>\n",
       "      <td>22cce310-fe10-41a2-941b-9c3d63327fea</td>\n",
       "      <td>NaN</td>\n",
       "    </tr>\n",
       "    <tr>\n",
       "      <th>135632</th>\n",
       "      <td>2020-06-04 17:56:14</td>\n",
       "      <td>finished_stage_1</td>\n",
       "      <td>NaN</td>\n",
       "      <td>d477dde8-7c22-4f23-9c4f-4ec31a1aa4c8</td>\n",
       "      <td>NaN</td>\n",
       "    </tr>\n",
       "    <tr>\n",
       "      <th>135635</th>\n",
       "      <td>2020-06-05 02:25:12</td>\n",
       "      <td>finished_stage_1</td>\n",
       "      <td>NaN</td>\n",
       "      <td>515c1952-99aa-4bca-a7ea-d0449eb5385a</td>\n",
       "      <td>NaN</td>\n",
       "    </tr>\n",
       "    <tr>\n",
       "      <th>135637</th>\n",
       "      <td>2020-06-05 12:12:27</td>\n",
       "      <td>finished_stage_1</td>\n",
       "      <td>NaN</td>\n",
       "      <td>32572adb-900f-4b5d-a453-1eb1e6d88d8b</td>\n",
       "      <td>NaN</td>\n",
       "    </tr>\n",
       "    <tr>\n",
       "      <th>135638</th>\n",
       "      <td>2020-06-05 12:32:49</td>\n",
       "      <td>finished_stage_1</td>\n",
       "      <td>NaN</td>\n",
       "      <td>f21d179f-1c4b-437e-b9c6-ab1976907195</td>\n",
       "      <td>NaN</td>\n",
       "    </tr>\n",
       "  </tbody>\n",
       "</table>\n",
       "<p>7683 rows × 5 columns</p>\n",
       "</div>"
      ],
      "text/plain": [
       "            event_datetime             event building_type  \\\n",
       "6659   2020-05-04 19:47:29  finished_stage_1           NaN   \n",
       "13134  2020-05-05 13:22:09  finished_stage_1           NaN   \n",
       "15274  2020-05-05 18:54:37  finished_stage_1           NaN   \n",
       "16284  2020-05-05 21:27:29  finished_stage_1           NaN   \n",
       "19650  2020-05-06 06:02:22  finished_stage_1           NaN   \n",
       "...                    ...               ...           ...   \n",
       "135631 2020-06-04 15:50:38  finished_stage_1           NaN   \n",
       "135632 2020-06-04 17:56:14  finished_stage_1           NaN   \n",
       "135635 2020-06-05 02:25:12  finished_stage_1           NaN   \n",
       "135637 2020-06-05 12:12:27  finished_stage_1           NaN   \n",
       "135638 2020-06-05 12:32:49  finished_stage_1           NaN   \n",
       "\n",
       "                                     user_id project_type  \n",
       "6659    ced7b368-818f-48f6-9461-2346de0892c5          NaN  \n",
       "13134   7ef7fc89-2779-46ea-b328-9e5035b83af5          NaN  \n",
       "15274   70db22b3-c2f4-43bc-94ea-51c8d2904a29          NaN  \n",
       "16284   903fc9ef-ba97-4b12-9d5c-ac8d602fbd8b          NaN  \n",
       "19650   58e077ba-feb1-4556-a5a0-d96bd04efa39          NaN  \n",
       "...                                      ...          ...  \n",
       "135631  22cce310-fe10-41a2-941b-9c3d63327fea          NaN  \n",
       "135632  d477dde8-7c22-4f23-9c4f-4ec31a1aa4c8          NaN  \n",
       "135635  515c1952-99aa-4bca-a7ea-d0449eb5385a          NaN  \n",
       "135637  32572adb-900f-4b5d-a453-1eb1e6d88d8b          NaN  \n",
       "135638  f21d179f-1c4b-437e-b9c6-ab1976907195          NaN  \n",
       "\n",
       "[7683 rows x 5 columns]"
      ]
     },
     "execution_count": 15,
     "metadata": {},
     "output_type": "execute_result"
    }
   ],
   "source": [
    "game_actions.query('building_type.isna()')"
   ]
  },
  {
   "cell_type": "markdown",
   "id": "b9eeed55",
   "metadata": {},
   "source": [
    "Сделаем предположение, что данные пропуски связаны с окончанием уровня в событиях `event` или с выполнением проекта в `project_type`"
   ]
  },
  {
   "cell_type": "code",
   "execution_count": 16,
   "id": "048c4848",
   "metadata": {},
   "outputs": [
    {
     "data": {
      "text/html": [
       "<div>\n",
       "<style scoped>\n",
       "    .dataframe tbody tr th:only-of-type {\n",
       "        vertical-align: middle;\n",
       "    }\n",
       "\n",
       "    .dataframe tbody tr th {\n",
       "        vertical-align: top;\n",
       "    }\n",
       "\n",
       "    .dataframe thead th {\n",
       "        text-align: right;\n",
       "    }\n",
       "</style>\n",
       "<table border=\"1\" class=\"dataframe\">\n",
       "  <thead>\n",
       "    <tr style=\"text-align: right;\">\n",
       "      <th></th>\n",
       "      <th>event_datetime</th>\n",
       "      <th>event</th>\n",
       "      <th>building_type</th>\n",
       "      <th>user_id</th>\n",
       "      <th>project_type</th>\n",
       "    </tr>\n",
       "  </thead>\n",
       "  <tbody>\n",
       "    <tr>\n",
       "      <th>6659</th>\n",
       "      <td>2020-05-04 19:47:29</td>\n",
       "      <td>finished_stage_1</td>\n",
       "      <td>NaN</td>\n",
       "      <td>ced7b368-818f-48f6-9461-2346de0892c5</td>\n",
       "      <td>NaN</td>\n",
       "    </tr>\n",
       "    <tr>\n",
       "      <th>13134</th>\n",
       "      <td>2020-05-05 13:22:09</td>\n",
       "      <td>finished_stage_1</td>\n",
       "      <td>NaN</td>\n",
       "      <td>7ef7fc89-2779-46ea-b328-9e5035b83af5</td>\n",
       "      <td>NaN</td>\n",
       "    </tr>\n",
       "    <tr>\n",
       "      <th>15274</th>\n",
       "      <td>2020-05-05 18:54:37</td>\n",
       "      <td>finished_stage_1</td>\n",
       "      <td>NaN</td>\n",
       "      <td>70db22b3-c2f4-43bc-94ea-51c8d2904a29</td>\n",
       "      <td>NaN</td>\n",
       "    </tr>\n",
       "    <tr>\n",
       "      <th>16284</th>\n",
       "      <td>2020-05-05 21:27:29</td>\n",
       "      <td>finished_stage_1</td>\n",
       "      <td>NaN</td>\n",
       "      <td>903fc9ef-ba97-4b12-9d5c-ac8d602fbd8b</td>\n",
       "      <td>NaN</td>\n",
       "    </tr>\n",
       "    <tr>\n",
       "      <th>19650</th>\n",
       "      <td>2020-05-06 06:02:22</td>\n",
       "      <td>finished_stage_1</td>\n",
       "      <td>NaN</td>\n",
       "      <td>58e077ba-feb1-4556-a5a0-d96bd04efa39</td>\n",
       "      <td>NaN</td>\n",
       "    </tr>\n",
       "    <tr>\n",
       "      <th>...</th>\n",
       "      <td>...</td>\n",
       "      <td>...</td>\n",
       "      <td>...</td>\n",
       "      <td>...</td>\n",
       "      <td>...</td>\n",
       "    </tr>\n",
       "    <tr>\n",
       "      <th>135631</th>\n",
       "      <td>2020-06-04 15:50:38</td>\n",
       "      <td>finished_stage_1</td>\n",
       "      <td>NaN</td>\n",
       "      <td>22cce310-fe10-41a2-941b-9c3d63327fea</td>\n",
       "      <td>NaN</td>\n",
       "    </tr>\n",
       "    <tr>\n",
       "      <th>135632</th>\n",
       "      <td>2020-06-04 17:56:14</td>\n",
       "      <td>finished_stage_1</td>\n",
       "      <td>NaN</td>\n",
       "      <td>d477dde8-7c22-4f23-9c4f-4ec31a1aa4c8</td>\n",
       "      <td>NaN</td>\n",
       "    </tr>\n",
       "    <tr>\n",
       "      <th>135635</th>\n",
       "      <td>2020-06-05 02:25:12</td>\n",
       "      <td>finished_stage_1</td>\n",
       "      <td>NaN</td>\n",
       "      <td>515c1952-99aa-4bca-a7ea-d0449eb5385a</td>\n",
       "      <td>NaN</td>\n",
       "    </tr>\n",
       "    <tr>\n",
       "      <th>135637</th>\n",
       "      <td>2020-06-05 12:12:27</td>\n",
       "      <td>finished_stage_1</td>\n",
       "      <td>NaN</td>\n",
       "      <td>32572adb-900f-4b5d-a453-1eb1e6d88d8b</td>\n",
       "      <td>NaN</td>\n",
       "    </tr>\n",
       "    <tr>\n",
       "      <th>135638</th>\n",
       "      <td>2020-06-05 12:32:49</td>\n",
       "      <td>finished_stage_1</td>\n",
       "      <td>NaN</td>\n",
       "      <td>f21d179f-1c4b-437e-b9c6-ab1976907195</td>\n",
       "      <td>NaN</td>\n",
       "    </tr>\n",
       "  </tbody>\n",
       "</table>\n",
       "<p>7683 rows × 5 columns</p>\n",
       "</div>"
      ],
      "text/plain": [
       "            event_datetime             event building_type  \\\n",
       "6659   2020-05-04 19:47:29  finished_stage_1           NaN   \n",
       "13134  2020-05-05 13:22:09  finished_stage_1           NaN   \n",
       "15274  2020-05-05 18:54:37  finished_stage_1           NaN   \n",
       "16284  2020-05-05 21:27:29  finished_stage_1           NaN   \n",
       "19650  2020-05-06 06:02:22  finished_stage_1           NaN   \n",
       "...                    ...               ...           ...   \n",
       "135631 2020-06-04 15:50:38  finished_stage_1           NaN   \n",
       "135632 2020-06-04 17:56:14  finished_stage_1           NaN   \n",
       "135635 2020-06-05 02:25:12  finished_stage_1           NaN   \n",
       "135637 2020-06-05 12:12:27  finished_stage_1           NaN   \n",
       "135638 2020-06-05 12:32:49  finished_stage_1           NaN   \n",
       "\n",
       "                                     user_id project_type  \n",
       "6659    ced7b368-818f-48f6-9461-2346de0892c5          NaN  \n",
       "13134   7ef7fc89-2779-46ea-b328-9e5035b83af5          NaN  \n",
       "15274   70db22b3-c2f4-43bc-94ea-51c8d2904a29          NaN  \n",
       "16284   903fc9ef-ba97-4b12-9d5c-ac8d602fbd8b          NaN  \n",
       "19650   58e077ba-feb1-4556-a5a0-d96bd04efa39          NaN  \n",
       "...                                      ...          ...  \n",
       "135631  22cce310-fe10-41a2-941b-9c3d63327fea          NaN  \n",
       "135632  d477dde8-7c22-4f23-9c4f-4ec31a1aa4c8          NaN  \n",
       "135635  515c1952-99aa-4bca-a7ea-d0449eb5385a          NaN  \n",
       "135637  32572adb-900f-4b5d-a453-1eb1e6d88d8b          NaN  \n",
       "135638  f21d179f-1c4b-437e-b9c6-ab1976907195          NaN  \n",
       "\n",
       "[7683 rows x 5 columns]"
      ]
     },
     "execution_count": 16,
     "metadata": {},
     "output_type": "execute_result"
    }
   ],
   "source": [
    "game_actions.query('~project_type.isna() | event == \"finished_stage_1\"')"
   ]
  },
  {
   "cell_type": "code",
   "execution_count": 17,
   "id": "fbffea4b",
   "metadata": {},
   "outputs": [
    {
     "data": {
      "text/html": [
       "<div>\n",
       "<style scoped>\n",
       "    .dataframe tbody tr th:only-of-type {\n",
       "        vertical-align: middle;\n",
       "    }\n",
       "\n",
       "    .dataframe tbody tr th {\n",
       "        vertical-align: top;\n",
       "    }\n",
       "\n",
       "    .dataframe thead th {\n",
       "        text-align: right;\n",
       "    }\n",
       "</style>\n",
       "<table border=\"1\" class=\"dataframe\">\n",
       "  <thead>\n",
       "    <tr style=\"text-align: right;\">\n",
       "      <th></th>\n",
       "      <th>event_datetime</th>\n",
       "      <th>event</th>\n",
       "      <th>building_type</th>\n",
       "      <th>user_id</th>\n",
       "      <th>project_type</th>\n",
       "    </tr>\n",
       "  </thead>\n",
       "  <tbody>\n",
       "    <tr>\n",
       "      <th>47121</th>\n",
       "      <td>2020-05-08 18:10:25</td>\n",
       "      <td>project</td>\n",
       "      <td>NaN</td>\n",
       "      <td>e3c66498-9d45-4000-9392-f81e6796e7da</td>\n",
       "      <td>satellite_orbital_assembly</td>\n",
       "    </tr>\n",
       "    <tr>\n",
       "      <th>57398</th>\n",
       "      <td>2020-05-09 13:49:11</td>\n",
       "      <td>project</td>\n",
       "      <td>NaN</td>\n",
       "      <td>936e7af6-8338-4703-a1df-fc6c3f5b8e34</td>\n",
       "      <td>satellite_orbital_assembly</td>\n",
       "    </tr>\n",
       "    <tr>\n",
       "      <th>58797</th>\n",
       "      <td>2020-05-09 16:19:33</td>\n",
       "      <td>project</td>\n",
       "      <td>NaN</td>\n",
       "      <td>a4491c86-c498-4f74-a56e-65c136d0e9a1</td>\n",
       "      <td>satellite_orbital_assembly</td>\n",
       "    </tr>\n",
       "    <tr>\n",
       "      <th>61174</th>\n",
       "      <td>2020-05-09 20:29:01</td>\n",
       "      <td>project</td>\n",
       "      <td>NaN</td>\n",
       "      <td>85d9e675-562b-4329-8bbd-14d3b39096be</td>\n",
       "      <td>satellite_orbital_assembly</td>\n",
       "    </tr>\n",
       "    <tr>\n",
       "      <th>63770</th>\n",
       "      <td>2020-05-10 00:57:47</td>\n",
       "      <td>project</td>\n",
       "      <td>NaN</td>\n",
       "      <td>1889ca71-3c57-4e61-9ea6-a711971bbf0a</td>\n",
       "      <td>satellite_orbital_assembly</td>\n",
       "    </tr>\n",
       "    <tr>\n",
       "      <th>...</th>\n",
       "      <td>...</td>\n",
       "      <td>...</td>\n",
       "      <td>...</td>\n",
       "      <td>...</td>\n",
       "      <td>...</td>\n",
       "    </tr>\n",
       "    <tr>\n",
       "      <th>135601</th>\n",
       "      <td>2020-06-02 03:04:42</td>\n",
       "      <td>project</td>\n",
       "      <td>NaN</td>\n",
       "      <td>9d98001c-7e14-40d7-896e-46b3047365fd</td>\n",
       "      <td>satellite_orbital_assembly</td>\n",
       "    </tr>\n",
       "    <tr>\n",
       "      <th>135602</th>\n",
       "      <td>2020-06-02 06:21:03</td>\n",
       "      <td>project</td>\n",
       "      <td>NaN</td>\n",
       "      <td>df4a1e13-eba9-4928-a7cf-ee303d6f80f9</td>\n",
       "      <td>satellite_orbital_assembly</td>\n",
       "    </tr>\n",
       "    <tr>\n",
       "      <th>135608</th>\n",
       "      <td>2020-06-02 17:17:28</td>\n",
       "      <td>project</td>\n",
       "      <td>NaN</td>\n",
       "      <td>82e46f34-e243-4728-8e20-2e171fc33ea4</td>\n",
       "      <td>satellite_orbital_assembly</td>\n",
       "    </tr>\n",
       "    <tr>\n",
       "      <th>135616</th>\n",
       "      <td>2020-06-03 09:46:04</td>\n",
       "      <td>project</td>\n",
       "      <td>NaN</td>\n",
       "      <td>fe032991-71e0-48c5-889f-4c3805ba4c9b</td>\n",
       "      <td>satellite_orbital_assembly</td>\n",
       "    </tr>\n",
       "    <tr>\n",
       "      <th>135629</th>\n",
       "      <td>2020-06-04 08:29:42</td>\n",
       "      <td>project</td>\n",
       "      <td>NaN</td>\n",
       "      <td>d477dde8-7c22-4f23-9c4f-4ec31a1aa4c8</td>\n",
       "      <td>satellite_orbital_assembly</td>\n",
       "    </tr>\n",
       "  </tbody>\n",
       "</table>\n",
       "<p>1866 rows × 5 columns</p>\n",
       "</div>"
      ],
      "text/plain": [
       "            event_datetime    event building_type  \\\n",
       "47121  2020-05-08 18:10:25  project           NaN   \n",
       "57398  2020-05-09 13:49:11  project           NaN   \n",
       "58797  2020-05-09 16:19:33  project           NaN   \n",
       "61174  2020-05-09 20:29:01  project           NaN   \n",
       "63770  2020-05-10 00:57:47  project           NaN   \n",
       "...                    ...      ...           ...   \n",
       "135601 2020-06-02 03:04:42  project           NaN   \n",
       "135602 2020-06-02 06:21:03  project           NaN   \n",
       "135608 2020-06-02 17:17:28  project           NaN   \n",
       "135616 2020-06-03 09:46:04  project           NaN   \n",
       "135629 2020-06-04 08:29:42  project           NaN   \n",
       "\n",
       "                                     user_id                project_type  \n",
       "47121   e3c66498-9d45-4000-9392-f81e6796e7da  satellite_orbital_assembly  \n",
       "57398   936e7af6-8338-4703-a1df-fc6c3f5b8e34  satellite_orbital_assembly  \n",
       "58797   a4491c86-c498-4f74-a56e-65c136d0e9a1  satellite_orbital_assembly  \n",
       "61174   85d9e675-562b-4329-8bbd-14d3b39096be  satellite_orbital_assembly  \n",
       "63770   1889ca71-3c57-4e61-9ea6-a711971bbf0a  satellite_orbital_assembly  \n",
       "...                                      ...                         ...  \n",
       "135601  9d98001c-7e14-40d7-896e-46b3047365fd  satellite_orbital_assembly  \n",
       "135602  df4a1e13-eba9-4928-a7cf-ee303d6f80f9  satellite_orbital_assembly  \n",
       "135608  82e46f34-e243-4728-8e20-2e171fc33ea4  satellite_orbital_assembly  \n",
       "135616  fe032991-71e0-48c5-889f-4c3805ba4c9b  satellite_orbital_assembly  \n",
       "135629  d477dde8-7c22-4f23-9c4f-4ec31a1aa4c8  satellite_orbital_assembly  \n",
       "\n",
       "[1866 rows x 5 columns]"
      ]
     },
     "execution_count": 17,
     "metadata": {},
     "output_type": "execute_result"
    }
   ],
   "source": [
    "game_actions.query('~project_type.isna()')"
   ]
  },
  {
   "cell_type": "markdown",
   "id": "e91d9079",
   "metadata": {},
   "source": [
    "Предположение подтвердилось. Пропуски в столбцах образовались чисто формально, из-за взаимоисключающих действий пользователей.  \n",
    "События `event` подразумевает собой либо постройку зданий одного из 3 типов, либо событие завершение первого уровня, либо завершение проекта. В последних двух случаях возникают значения NaN в столбце `building_type`, а когда типа события не завершение проекта, то значение NaN в столбце `project_type`"
   ]
  },
  {
   "cell_type": "markdown",
   "id": "30867e54",
   "metadata": {},
   "source": [
    "### Заполним пропуски, где это уместно и опишем, почему выбрали данный способ заполнения или оставим пропуски как есть, если они не повредят нашему анализу."
   ]
  },
  {
   "cell_type": "markdown",
   "id": "970365e6",
   "metadata": {},
   "source": [
    "Как мы выяснили, пропуски чисто технические, они не будут влиять на результаты нашего исследования, поэтому оставим их, как есть."
   ]
  },
  {
   "cell_type": "markdown",
   "id": "c5bec35b",
   "metadata": {},
   "source": [
    "# Исследовательский анализ данных"
   ]
  },
  {
   "cell_type": "markdown",
   "id": "4998d99e",
   "metadata": {},
   "source": [
    "## Добавим столбцы в датасете `game_actions` с датой события и датой первого события пользователя"
   ]
  },
  {
   "cell_type": "code",
   "execution_count": 18,
   "id": "b8c181f9",
   "metadata": {},
   "outputs": [
    {
     "data": {
      "text/html": [
       "<div>\n",
       "<style scoped>\n",
       "    .dataframe tbody tr th:only-of-type {\n",
       "        vertical-align: middle;\n",
       "    }\n",
       "\n",
       "    .dataframe tbody tr th {\n",
       "        vertical-align: top;\n",
       "    }\n",
       "\n",
       "    .dataframe thead th {\n",
       "        text-align: right;\n",
       "    }\n",
       "</style>\n",
       "<table border=\"1\" class=\"dataframe\">\n",
       "  <thead>\n",
       "    <tr style=\"text-align: right;\">\n",
       "      <th></th>\n",
       "      <th>event_datetime</th>\n",
       "      <th>event</th>\n",
       "      <th>building_type</th>\n",
       "      <th>user_id</th>\n",
       "      <th>project_type</th>\n",
       "      <th>date</th>\n",
       "    </tr>\n",
       "  </thead>\n",
       "  <tbody>\n",
       "    <tr>\n",
       "      <th>11231</th>\n",
       "      <td>2020-05-05 08:22:32</td>\n",
       "      <td>building</td>\n",
       "      <td>assembly_shop</td>\n",
       "      <td>4125fb57-a5b8-4827-bb22-de6d7a6291e4</td>\n",
       "      <td>NaN</td>\n",
       "      <td>2020-05-05</td>\n",
       "    </tr>\n",
       "    <tr>\n",
       "      <th>101201</th>\n",
       "      <td>2020-05-13 21:05:53</td>\n",
       "      <td>building</td>\n",
       "      <td>research_center</td>\n",
       "      <td>fcb40a7e-a215-48ba-bba6-ecd0d20fd356</td>\n",
       "      <td>NaN</td>\n",
       "      <td>2020-05-13</td>\n",
       "    </tr>\n",
       "    <tr>\n",
       "      <th>32859</th>\n",
       "      <td>2020-05-07 12:46:30</td>\n",
       "      <td>building</td>\n",
       "      <td>assembly_shop</td>\n",
       "      <td>a61968da-f82d-4e7d-a5bc-03ecbad85405</td>\n",
       "      <td>NaN</td>\n",
       "      <td>2020-05-07</td>\n",
       "    </tr>\n",
       "    <tr>\n",
       "      <th>63694</th>\n",
       "      <td>2020-05-10 00:49:04</td>\n",
       "      <td>finished_stage_1</td>\n",
       "      <td>NaN</td>\n",
       "      <td>d09663ff-e046-46c1-ba7d-f106feab5e46</td>\n",
       "      <td>NaN</td>\n",
       "      <td>2020-05-10</td>\n",
       "    </tr>\n",
       "    <tr>\n",
       "      <th>45839</th>\n",
       "      <td>2020-05-08 15:40:48</td>\n",
       "      <td>building</td>\n",
       "      <td>spaceport</td>\n",
       "      <td>9782ce3f-de8a-4060-b2e3-bd2db946c8e1</td>\n",
       "      <td>NaN</td>\n",
       "      <td>2020-05-08</td>\n",
       "    </tr>\n",
       "  </tbody>\n",
       "</table>\n",
       "</div>"
      ],
      "text/plain": [
       "            event_datetime             event    building_type  \\\n",
       "11231  2020-05-05 08:22:32          building    assembly_shop   \n",
       "101201 2020-05-13 21:05:53          building  research_center   \n",
       "32859  2020-05-07 12:46:30          building    assembly_shop   \n",
       "63694  2020-05-10 00:49:04  finished_stage_1              NaN   \n",
       "45839  2020-05-08 15:40:48          building        spaceport   \n",
       "\n",
       "                                     user_id project_type        date  \n",
       "11231   4125fb57-a5b8-4827-bb22-de6d7a6291e4          NaN  2020-05-05  \n",
       "101201  fcb40a7e-a215-48ba-bba6-ecd0d20fd356          NaN  2020-05-13  \n",
       "32859   a61968da-f82d-4e7d-a5bc-03ecbad85405          NaN  2020-05-07  \n",
       "63694   d09663ff-e046-46c1-ba7d-f106feab5e46          NaN  2020-05-10  \n",
       "45839   9782ce3f-de8a-4060-b2e3-bd2db946c8e1          NaN  2020-05-08  "
      ]
     },
     "execution_count": 18,
     "metadata": {},
     "output_type": "execute_result"
    }
   ],
   "source": [
    "game_actions['date'] = game_actions['event_datetime'].dt.date\n",
    "game_actions.sample(5)"
   ]
  },
  {
   "cell_type": "markdown",
   "id": "5df14a2f",
   "metadata": {},
   "source": [
    "Будем исходить из предположения, что пользователь при переходе из рекламного источника на следующий день стал пользоваться приложением и совершил первое событие, так у нас данные рекламной компании даны с 3 по 9 мая, а пользоваться приложением стали с 4 по 10 мая. Мы можем посчитать дату совершения первого события пользователя в приложении и соединить потом с информацией из рекламных источников."
   ]
  },
  {
   "cell_type": "code",
   "execution_count": 19,
   "id": "150c7d57",
   "metadata": {},
   "outputs": [
    {
     "data": {
      "text/html": [
       "<div>\n",
       "<style scoped>\n",
       "    .dataframe tbody tr th:only-of-type {\n",
       "        vertical-align: middle;\n",
       "    }\n",
       "\n",
       "    .dataframe tbody tr th {\n",
       "        vertical-align: top;\n",
       "    }\n",
       "\n",
       "    .dataframe thead th {\n",
       "        text-align: right;\n",
       "    }\n",
       "</style>\n",
       "<table border=\"1\" class=\"dataframe\">\n",
       "  <thead>\n",
       "    <tr style=\"text-align: right;\">\n",
       "      <th></th>\n",
       "      <th>event_datetime</th>\n",
       "      <th>event</th>\n",
       "      <th>building_type</th>\n",
       "      <th>user_id</th>\n",
       "      <th>project_type</th>\n",
       "      <th>date</th>\n",
       "      <th>day</th>\n",
       "    </tr>\n",
       "  </thead>\n",
       "  <tbody>\n",
       "    <tr>\n",
       "      <th>40493</th>\n",
       "      <td>2020-05-08 05:07:22</td>\n",
       "      <td>building</td>\n",
       "      <td>assembly_shop</td>\n",
       "      <td>7b96354b-1646-4ea5-93b7-bbd431e08f85</td>\n",
       "      <td>NaN</td>\n",
       "      <td>2020-05-08</td>\n",
       "      <td>2020-05-05</td>\n",
       "    </tr>\n",
       "    <tr>\n",
       "      <th>63627</th>\n",
       "      <td>2020-05-10 00:43:22</td>\n",
       "      <td>building</td>\n",
       "      <td>spaceport</td>\n",
       "      <td>36cf3588-22ad-4bea-85b5-8a3b2d0a2042</td>\n",
       "      <td>NaN</td>\n",
       "      <td>2020-05-10</td>\n",
       "      <td>2020-05-05</td>\n",
       "    </tr>\n",
       "    <tr>\n",
       "      <th>47380</th>\n",
       "      <td>2020-05-08 18:44:56</td>\n",
       "      <td>building</td>\n",
       "      <td>assembly_shop</td>\n",
       "      <td>b8d80548-f8bf-435b-9c3e-f1db74863cf2</td>\n",
       "      <td>NaN</td>\n",
       "      <td>2020-05-08</td>\n",
       "      <td>2020-05-05</td>\n",
       "    </tr>\n",
       "    <tr>\n",
       "      <th>86417</th>\n",
       "      <td>2020-05-11 23:32:32</td>\n",
       "      <td>building</td>\n",
       "      <td>spaceport</td>\n",
       "      <td>2f4b0919-36a8-4848-89ba-c59508fcc820</td>\n",
       "      <td>NaN</td>\n",
       "      <td>2020-05-11</td>\n",
       "      <td>2020-05-04</td>\n",
       "    </tr>\n",
       "    <tr>\n",
       "      <th>23246</th>\n",
       "      <td>2020-05-06 14:49:00</td>\n",
       "      <td>building</td>\n",
       "      <td>assembly_shop</td>\n",
       "      <td>7dd5a8a1-a7ad-4cc1-b393-2157445d1adf</td>\n",
       "      <td>NaN</td>\n",
       "      <td>2020-05-06</td>\n",
       "      <td>2020-05-06</td>\n",
       "    </tr>\n",
       "  </tbody>\n",
       "</table>\n",
       "</div>"
      ],
      "text/plain": [
       "           event_datetime     event  building_type  \\\n",
       "40493 2020-05-08 05:07:22  building  assembly_shop   \n",
       "63627 2020-05-10 00:43:22  building      spaceport   \n",
       "47380 2020-05-08 18:44:56  building  assembly_shop   \n",
       "86417 2020-05-11 23:32:32  building      spaceport   \n",
       "23246 2020-05-06 14:49:00  building  assembly_shop   \n",
       "\n",
       "                                    user_id project_type       date        day  \n",
       "40493  7b96354b-1646-4ea5-93b7-bbd431e08f85          NaN 2020-05-08 2020-05-05  \n",
       "63627  36cf3588-22ad-4bea-85b5-8a3b2d0a2042          NaN 2020-05-10 2020-05-05  \n",
       "47380  b8d80548-f8bf-435b-9c3e-f1db74863cf2          NaN 2020-05-08 2020-05-05  \n",
       "86417  2f4b0919-36a8-4848-89ba-c59508fcc820          NaN 2020-05-11 2020-05-04  \n",
       "23246  7dd5a8a1-a7ad-4cc1-b393-2157445d1adf          NaN 2020-05-06 2020-05-06  "
      ]
     },
     "execution_count": 19,
     "metadata": {},
     "output_type": "execute_result"
    }
   ],
   "source": [
    "# добавим столбец со следующим днём после рекламной компании\n",
    "ad_costs = ad_costs.rename(columns={'day' : 'day_cost'})\n",
    "ad_costs['day'] = ad_costs['day_cost'] + timedelta(days=1)\n",
    "\n",
    "# получаем датафрейм с id пользователя и его первым событием в приложении\n",
    "id_first_event = (game_actions.sort_values(by=['user_id','event_datetime']).\n",
    "                 groupby('user_id').agg({'event_datetime' : 'first'}).\n",
    "                 reset_index().\n",
    "                 rename(columns={'event_datetime' : 'day'}))\n",
    "\n",
    "# устанавливаем дату первого события вместо формата даты и времени\n",
    "id_first_event.day = id_first_event.day.dt.date\n",
    "\n",
    "# приведем даты к формату datetime\n",
    "id_first_event.day = pd.to_datetime(id_first_event.day)\n",
    "game_actions.date = pd.to_datetime(game_actions.date)\n",
    "\n",
    "# присоединяем данные с датой первого события к датасету game_actions и создаем новый датасет\n",
    "df = game_actions.merge(id_first_event, on='user_id', how='left')\n",
    "df.sample(5)"
   ]
  },
  {
   "cell_type": "markdown",
   "id": "7b77d7b3",
   "metadata": {},
   "source": [
    "## Добавим в датасет `game_actions` данные с рекламных источников"
   ]
  },
  {
   "cell_type": "code",
   "execution_count": 20,
   "id": "ceef2063",
   "metadata": {},
   "outputs": [
    {
     "data": {
      "text/html": [
       "<div>\n",
       "<style scoped>\n",
       "    .dataframe tbody tr th:only-of-type {\n",
       "        vertical-align: middle;\n",
       "    }\n",
       "\n",
       "    .dataframe tbody tr th {\n",
       "        vertical-align: top;\n",
       "    }\n",
       "\n",
       "    .dataframe thead th {\n",
       "        text-align: right;\n",
       "    }\n",
       "</style>\n",
       "<table border=\"1\" class=\"dataframe\">\n",
       "  <thead>\n",
       "    <tr style=\"text-align: right;\">\n",
       "      <th></th>\n",
       "      <th>event_datetime</th>\n",
       "      <th>event</th>\n",
       "      <th>building_type</th>\n",
       "      <th>user_id</th>\n",
       "      <th>project_type</th>\n",
       "      <th>date</th>\n",
       "      <th>day</th>\n",
       "      <th>source</th>\n",
       "      <th>day_cost</th>\n",
       "      <th>cost</th>\n",
       "    </tr>\n",
       "  </thead>\n",
       "  <tbody>\n",
       "    <tr>\n",
       "      <th>14705</th>\n",
       "      <td>2020-05-05 17:26:58</td>\n",
       "      <td>building</td>\n",
       "      <td>assembly_shop</td>\n",
       "      <td>b1ee371b-52ae-4933-a6e2-476a1fe7bfb5</td>\n",
       "      <td>NaN</td>\n",
       "      <td>2020-05-05</td>\n",
       "      <td>2020-05-04</td>\n",
       "      <td>yandex_direct</td>\n",
       "      <td>2020-05-03</td>\n",
       "      <td>969.14</td>\n",
       "    </tr>\n",
       "    <tr>\n",
       "      <th>17930</th>\n",
       "      <td>2020-05-06 01:41:03</td>\n",
       "      <td>building</td>\n",
       "      <td>spaceport</td>\n",
       "      <td>90efe3d7-be4c-47bc-8ff9-08dff207fc6d</td>\n",
       "      <td>NaN</td>\n",
       "      <td>2020-05-06</td>\n",
       "      <td>2020-05-04</td>\n",
       "      <td>facebook_ads</td>\n",
       "      <td>2020-05-03</td>\n",
       "      <td>935.88</td>\n",
       "    </tr>\n",
       "    <tr>\n",
       "      <th>116117</th>\n",
       "      <td>2020-05-16 05:12:51</td>\n",
       "      <td>building</td>\n",
       "      <td>spaceport</td>\n",
       "      <td>adda4013-4b20-4e26-ba61-f70270d8f4ef</td>\n",
       "      <td>NaN</td>\n",
       "      <td>2020-05-16</td>\n",
       "      <td>2020-05-04</td>\n",
       "      <td>instagram_new_adverts</td>\n",
       "      <td>2020-05-03</td>\n",
       "      <td>943.20</td>\n",
       "    </tr>\n",
       "    <tr>\n",
       "      <th>10615</th>\n",
       "      <td>2020-05-05 06:42:17</td>\n",
       "      <td>building</td>\n",
       "      <td>assembly_shop</td>\n",
       "      <td>7fcea387-ef11-4cea-9143-a83033571ae0</td>\n",
       "      <td>NaN</td>\n",
       "      <td>2020-05-05</td>\n",
       "      <td>2020-05-05</td>\n",
       "      <td>youtube_channel_reklama</td>\n",
       "      <td>2020-05-04</td>\n",
       "      <td>259.07</td>\n",
       "    </tr>\n",
       "    <tr>\n",
       "      <th>11853</th>\n",
       "      <td>2020-05-05 09:58:07</td>\n",
       "      <td>building</td>\n",
       "      <td>spaceport</td>\n",
       "      <td>9ae7b41b-0f60-4c30-aad6-9e5f178bce86</td>\n",
       "      <td>NaN</td>\n",
       "      <td>2020-05-05</td>\n",
       "      <td>2020-05-04</td>\n",
       "      <td>facebook_ads</td>\n",
       "      <td>2020-05-03</td>\n",
       "      <td>935.88</td>\n",
       "    </tr>\n",
       "  </tbody>\n",
       "</table>\n",
       "</div>"
      ],
      "text/plain": [
       "            event_datetime     event  building_type  \\\n",
       "14705  2020-05-05 17:26:58  building  assembly_shop   \n",
       "17930  2020-05-06 01:41:03  building      spaceport   \n",
       "116117 2020-05-16 05:12:51  building      spaceport   \n",
       "10615  2020-05-05 06:42:17  building  assembly_shop   \n",
       "11853  2020-05-05 09:58:07  building      spaceport   \n",
       "\n",
       "                                     user_id project_type       date  \\\n",
       "14705   b1ee371b-52ae-4933-a6e2-476a1fe7bfb5          NaN 2020-05-05   \n",
       "17930   90efe3d7-be4c-47bc-8ff9-08dff207fc6d          NaN 2020-05-06   \n",
       "116117  adda4013-4b20-4e26-ba61-f70270d8f4ef          NaN 2020-05-16   \n",
       "10615   7fcea387-ef11-4cea-9143-a83033571ae0          NaN 2020-05-05   \n",
       "11853   9ae7b41b-0f60-4c30-aad6-9e5f178bce86          NaN 2020-05-05   \n",
       "\n",
       "              day                   source   day_cost   cost  \n",
       "14705  2020-05-04            yandex_direct 2020-05-03 969.14  \n",
       "17930  2020-05-04             facebook_ads 2020-05-03 935.88  \n",
       "116117 2020-05-04    instagram_new_adverts 2020-05-03 943.20  \n",
       "10615  2020-05-05  youtube_channel_reklama 2020-05-04 259.07  \n",
       "11853  2020-05-04             facebook_ads 2020-05-03 935.88  "
      ]
     },
     "metadata": {},
     "output_type": "display_data"
    },
    {
     "data": {
      "text/plain": [
       "event_datetime         0\n",
       "event                  0\n",
       "building_type       7683\n",
       "user_id                0\n",
       "project_type      133773\n",
       "date                   0\n",
       "day                    0\n",
       "source                 0\n",
       "day_cost               0\n",
       "cost                   0\n",
       "dtype: int64"
      ]
     },
     "execution_count": 20,
     "metadata": {},
     "output_type": "execute_result"
    }
   ],
   "source": [
    "#cоединим данные в одну таблицу\n",
    "df = (df.merge(user_source, on='user_id', how='left').\n",
    "               merge(ad_costs, on=['source', 'day'], how='left'))\n",
    "display(df.sample(5))\n",
    "\n",
    "# проверяю пустые значения после присоединения\n",
    "df.isna().sum()"
   ]
  },
  {
   "cell_type": "markdown",
   "id": "b4b0e66c",
   "metadata": {},
   "source": [
    "## Добавим столбец с затратами на привлечение каждого пользователя"
   ]
  },
  {
   "cell_type": "code",
   "execution_count": 21,
   "id": "2a1f6e22",
   "metadata": {},
   "outputs": [
    {
     "data": {
      "text/html": [
       "<div>\n",
       "<style scoped>\n",
       "    .dataframe tbody tr th:only-of-type {\n",
       "        vertical-align: middle;\n",
       "    }\n",
       "\n",
       "    .dataframe tbody tr th {\n",
       "        vertical-align: top;\n",
       "    }\n",
       "\n",
       "    .dataframe thead th {\n",
       "        text-align: right;\n",
       "    }\n",
       "</style>\n",
       "<table border=\"1\" class=\"dataframe\">\n",
       "  <thead>\n",
       "    <tr style=\"text-align: right;\">\n",
       "      <th></th>\n",
       "      <th>day</th>\n",
       "      <th>source</th>\n",
       "      <th>count_user</th>\n",
       "    </tr>\n",
       "  </thead>\n",
       "  <tbody>\n",
       "    <tr>\n",
       "      <th>0</th>\n",
       "      <td>2020-05-04</td>\n",
       "      <td>facebook_ads</td>\n",
       "      <td>1184</td>\n",
       "    </tr>\n",
       "    <tr>\n",
       "      <th>1</th>\n",
       "      <td>2020-05-04</td>\n",
       "      <td>instagram_new_adverts</td>\n",
       "      <td>1452</td>\n",
       "    </tr>\n",
       "    <tr>\n",
       "      <th>2</th>\n",
       "      <td>2020-05-04</td>\n",
       "      <td>yandex_direct</td>\n",
       "      <td>2078</td>\n",
       "    </tr>\n",
       "    <tr>\n",
       "      <th>3</th>\n",
       "      <td>2020-05-04</td>\n",
       "      <td>youtube_channel_reklama</td>\n",
       "      <td>1146</td>\n",
       "    </tr>\n",
       "    <tr>\n",
       "      <th>4</th>\n",
       "      <td>2020-05-05</td>\n",
       "      <td>facebook_ads</td>\n",
       "      <td>694</td>\n",
       "    </tr>\n",
       "  </tbody>\n",
       "</table>\n",
       "</div>"
      ],
      "text/plain": [
       "         day                   source  count_user\n",
       "0 2020-05-04             facebook_ads        1184\n",
       "1 2020-05-04    instagram_new_adverts        1452\n",
       "2 2020-05-04            yandex_direct        2078\n",
       "3 2020-05-04  youtube_channel_reklama        1146\n",
       "4 2020-05-05             facebook_ads         694"
      ]
     },
     "execution_count": 21,
     "metadata": {},
     "output_type": "execute_result"
    }
   ],
   "source": [
    "# считаем количество пользователей пришедших с разных рекламных источников по дням\n",
    "user_id_count_day = (df.groupby(['day', 'source']).agg({'user_id' : 'nunique'})\n",
    "                     .reset_index().rename(columns={'user_id' : 'count_user'}))\n",
    "user_id_count_day.head()"
   ]
  },
  {
   "cell_type": "code",
   "execution_count": 22,
   "id": "bad0db9b",
   "metadata": {},
   "outputs": [
    {
     "data": {
      "text/html": [
       "<div>\n",
       "<style scoped>\n",
       "    .dataframe tbody tr th:only-of-type {\n",
       "        vertical-align: middle;\n",
       "    }\n",
       "\n",
       "    .dataframe tbody tr th {\n",
       "        vertical-align: top;\n",
       "    }\n",
       "\n",
       "    .dataframe thead th {\n",
       "        text-align: right;\n",
       "    }\n",
       "</style>\n",
       "<table border=\"1\" class=\"dataframe\">\n",
       "  <thead>\n",
       "    <tr style=\"text-align: right;\">\n",
       "      <th></th>\n",
       "      <th>event_datetime</th>\n",
       "      <th>event</th>\n",
       "      <th>building_type</th>\n",
       "      <th>user_id</th>\n",
       "      <th>project_type</th>\n",
       "      <th>date</th>\n",
       "      <th>day</th>\n",
       "      <th>source</th>\n",
       "      <th>day_cost</th>\n",
       "      <th>cost</th>\n",
       "      <th>count_user</th>\n",
       "    </tr>\n",
       "  </thead>\n",
       "  <tbody>\n",
       "    <tr>\n",
       "      <th>57903</th>\n",
       "      <td>2020-05-09 14:43:59</td>\n",
       "      <td>building</td>\n",
       "      <td>spaceport</td>\n",
       "      <td>e1fdc01d-138f-4e49-bbfe-4d4fa4111475</td>\n",
       "      <td>NaN</td>\n",
       "      <td>2020-05-09</td>\n",
       "      <td>2020-05-04</td>\n",
       "      <td>instagram_new_adverts</td>\n",
       "      <td>2020-05-03</td>\n",
       "      <td>943.20</td>\n",
       "      <td>1452</td>\n",
       "    </tr>\n",
       "  </tbody>\n",
       "</table>\n",
       "</div>"
      ],
      "text/plain": [
       "           event_datetime     event building_type  \\\n",
       "57903 2020-05-09 14:43:59  building     spaceport   \n",
       "\n",
       "                                    user_id project_type       date  \\\n",
       "57903  e1fdc01d-138f-4e49-bbfe-4d4fa4111475          NaN 2020-05-09   \n",
       "\n",
       "             day                 source   day_cost   cost  count_user  \n",
       "57903 2020-05-04  instagram_new_adverts 2020-05-03 943.20        1452  "
      ]
     },
     "execution_count": 22,
     "metadata": {},
     "output_type": "execute_result"
    }
   ],
   "source": [
    "# добавим количество пользователей по источникам прихода и дням первого события\n",
    "df = df.merge(user_id_count_day, on=['day', 'source'], how='left')\n",
    "df.sample()"
   ]
  },
  {
   "cell_type": "code",
   "execution_count": 23,
   "id": "59819b22",
   "metadata": {},
   "outputs": [
    {
     "data": {
      "text/html": [
       "<div>\n",
       "<style scoped>\n",
       "    .dataframe tbody tr th:only-of-type {\n",
       "        vertical-align: middle;\n",
       "    }\n",
       "\n",
       "    .dataframe tbody tr th {\n",
       "        vertical-align: top;\n",
       "    }\n",
       "\n",
       "    .dataframe thead th {\n",
       "        text-align: right;\n",
       "    }\n",
       "</style>\n",
       "<table border=\"1\" class=\"dataframe\">\n",
       "  <thead>\n",
       "    <tr style=\"text-align: right;\">\n",
       "      <th></th>\n",
       "      <th>event_datetime</th>\n",
       "      <th>event</th>\n",
       "      <th>building_type</th>\n",
       "      <th>user_id</th>\n",
       "      <th>project_type</th>\n",
       "      <th>date</th>\n",
       "      <th>day</th>\n",
       "      <th>source</th>\n",
       "      <th>day_cost</th>\n",
       "      <th>cost</th>\n",
       "      <th>count_user</th>\n",
       "      <th>cost_source</th>\n",
       "    </tr>\n",
       "  </thead>\n",
       "  <tbody>\n",
       "    <tr>\n",
       "      <th>32624</th>\n",
       "      <td>2020-05-07 12:14:56</td>\n",
       "      <td>building</td>\n",
       "      <td>spaceport</td>\n",
       "      <td>6bf21f66-4e07-4d36-b4bd-65c010c898da</td>\n",
       "      <td>NaN</td>\n",
       "      <td>2020-05-07</td>\n",
       "      <td>2020-05-04</td>\n",
       "      <td>instagram_new_adverts</td>\n",
       "      <td>2020-05-03</td>\n",
       "      <td>943.20</td>\n",
       "      <td>1452</td>\n",
       "      <td>0.65</td>\n",
       "    </tr>\n",
       "  </tbody>\n",
       "</table>\n",
       "</div>"
      ],
      "text/plain": [
       "           event_datetime     event building_type  \\\n",
       "32624 2020-05-07 12:14:56  building     spaceport   \n",
       "\n",
       "                                    user_id project_type       date  \\\n",
       "32624  6bf21f66-4e07-4d36-b4bd-65c010c898da          NaN 2020-05-07   \n",
       "\n",
       "             day                 source   day_cost   cost  count_user  \\\n",
       "32624 2020-05-04  instagram_new_adverts 2020-05-03 943.20        1452   \n",
       "\n",
       "       cost_source  \n",
       "32624         0.65  "
      ]
     },
     "metadata": {},
     "output_type": "display_data"
    },
    {
     "data": {
      "text/plain": [
       "event_datetime         0\n",
       "event                  0\n",
       "building_type       7683\n",
       "user_id                0\n",
       "project_type      133773\n",
       "date                   0\n",
       "day                    0\n",
       "source                 0\n",
       "day_cost               0\n",
       "cost                   0\n",
       "count_user             0\n",
       "cost_source            0\n",
       "dtype: int64"
      ]
     },
     "execution_count": 23,
     "metadata": {},
     "output_type": "execute_result"
    }
   ],
   "source": [
    "# добавим столбец со стоимостью привлечения пользователя\n",
    "df['cost_source'] = df['cost'] / df['count_user']\n",
    "display(df.sample())\n",
    "df.isna().sum()"
   ]
  },
  {
   "cell_type": "markdown",
   "id": "5b66e74f",
   "metadata": {},
   "source": [
    "## Построим гистрограмму по стоимости привлечения пользователя каждой рекламной компании"
   ]
  },
  {
   "cell_type": "code",
   "execution_count": 24,
   "id": "740d713c",
   "metadata": {},
   "outputs": [
    {
     "data": {
      "image/png": "[encoded data removed]",
      "text/plain": [
       "<Figure size 1080x576 with 1 Axes>"
      ]
     },
     "metadata": {
      "needs_background": "light"
     },
     "output_type": "display_data"
    },
    {
     "name": "stdout",
     "output_type": "stream",
     "text": [
      "В среднем стоимость привлечения пользователя по всем каналам равна 0.56 условных единиц\n"
     ]
    }
   ],
   "source": [
    "# выделяем каждого пользователя по источнику и цене привлечения\n",
    "df_cost_source = df.groupby('user_id').\\\n",
    "        agg({'source' : 'max', 'cost_source' : 'max'}).reset_index()\n",
    "\n",
    "# гистрограмма стоимостей привлечения пользователей с разных рекламных источников\n",
    "sns.histplot(data=df_cost_source, x='cost_source', hue='source', binwidth=0.025)\n",
    "\n",
    "plt.title('Затраты на привлечение одного пользователя по рекламным источникам', fontsize=20)\n",
    "\n",
    "plt.xlabel('Стоимость привлечения пользователя')\n",
    "plt.ylabel('')\n",
    "plt.show()\n",
    "\n",
    "print(f'В среднем стоимость привлечения пользователя по всем каналам равна \\\n",
    "{df.groupby(\"user_id\")[\"cost_source\"].mean().mean().round(2)} условных единиц')"
   ]
  },
  {
   "cell_type": "markdown",
   "id": "f9993b48",
   "metadata": {},
   "source": [
    "- Самый дешевый рекламный источник у нас получился `youtube`\n",
    "- Самый многочисленный `yandex` также расположился недалеко по стоимости привлечения\n",
    "- А вот `instagram` и `facebook` обходятся в привлечении намного дороже."
   ]
  },
  {
   "cell_type": "markdown",
   "id": "ecddbf27",
   "metadata": {},
   "source": [
    "## Добавим столбец за каждый построенный тип объекта из расчёта 0.07 условных единиц."
   ]
  },
  {
   "cell_type": "code",
   "execution_count": 25,
   "id": "1807218e",
   "metadata": {
    "scrolled": false
   },
   "outputs": [
    {
     "data": {
      "text/html": [
       "<div>\n",
       "<style scoped>\n",
       "    .dataframe tbody tr th:only-of-type {\n",
       "        vertical-align: middle;\n",
       "    }\n",
       "\n",
       "    .dataframe tbody tr th {\n",
       "        vertical-align: top;\n",
       "    }\n",
       "\n",
       "    .dataframe thead th {\n",
       "        text-align: right;\n",
       "    }\n",
       "</style>\n",
       "<table border=\"1\" class=\"dataframe\">\n",
       "  <thead>\n",
       "    <tr style=\"text-align: right;\">\n",
       "      <th></th>\n",
       "      <th>event_datetime</th>\n",
       "      <th>event</th>\n",
       "      <th>building_type</th>\n",
       "      <th>user_id</th>\n",
       "      <th>project_type</th>\n",
       "      <th>date</th>\n",
       "      <th>day</th>\n",
       "      <th>source</th>\n",
       "      <th>day_cost</th>\n",
       "      <th>cost</th>\n",
       "      <th>count_user</th>\n",
       "      <th>cost_source</th>\n",
       "      <th>cost_build</th>\n",
       "    </tr>\n",
       "  </thead>\n",
       "  <tbody>\n",
       "    <tr>\n",
       "      <th>27509</th>\n",
       "      <td>2020-05-07 00:51:50</td>\n",
       "      <td>building</td>\n",
       "      <td>assembly_shop</td>\n",
       "      <td>7a834a84-7b74-4fe4-9283-5085ce7a97fe</td>\n",
       "      <td>NaN</td>\n",
       "      <td>2020-05-07</td>\n",
       "      <td>2020-05-04</td>\n",
       "      <td>instagram_new_adverts</td>\n",
       "      <td>2020-05-03</td>\n",
       "      <td>943.20</td>\n",
       "      <td>1452</td>\n",
       "      <td>0.65</td>\n",
       "      <td>0.07</td>\n",
       "    </tr>\n",
       "  </tbody>\n",
       "</table>\n",
       "</div>"
      ],
      "text/plain": [
       "           event_datetime     event  building_type  \\\n",
       "27509 2020-05-07 00:51:50  building  assembly_shop   \n",
       "\n",
       "                                    user_id project_type       date  \\\n",
       "27509  7a834a84-7b74-4fe4-9283-5085ce7a97fe          NaN 2020-05-07   \n",
       "\n",
       "             day                 source   day_cost   cost  count_user  \\\n",
       "27509 2020-05-04  instagram_new_adverts 2020-05-03 943.20        1452   \n",
       "\n",
       "       cost_source  cost_build  \n",
       "27509         0.65        0.07  "
      ]
     },
     "execution_count": 25,
     "metadata": {},
     "output_type": "execute_result"
    }
   ],
   "source": [
    "\"\"\"добавляем столбец со значением 0.07 показ одной рекламы за здание или 0, \n",
    "если событие не постройка здания\"\"\"\n",
    "cost = 0.07\n",
    "\n",
    "df['cost_build'] = df['building_type'].apply(lambda x: 0 if pd.isna(x) else cost)\n",
    "df.sample()"
   ]
  },
  {
   "cell_type": "markdown",
   "id": "870e61da",
   "metadata": {},
   "source": [
    "## Создадим сводную таблицу с куммулятивными данными по возможному полученному доходу от каждого пользователя по просмотру рекламы по дням пользования приложением."
   ]
  },
  {
   "cell_type": "code",
   "execution_count": 26,
   "id": "d0ca3255",
   "metadata": {},
   "outputs": [
    {
     "data": {
      "text/html": [
       "<div>\n",
       "<style scoped>\n",
       "    .dataframe tbody tr th:only-of-type {\n",
       "        vertical-align: middle;\n",
       "    }\n",
       "\n",
       "    .dataframe tbody tr th {\n",
       "        vertical-align: top;\n",
       "    }\n",
       "\n",
       "    .dataframe thead th {\n",
       "        text-align: right;\n",
       "    }\n",
       "</style>\n",
       "<table border=\"1\" class=\"dataframe\">\n",
       "  <thead>\n",
       "    <tr style=\"text-align: right;\">\n",
       "      <th></th>\n",
       "      <th>event_datetime</th>\n",
       "      <th>event</th>\n",
       "      <th>building_type</th>\n",
       "      <th>user_id</th>\n",
       "      <th>project_type</th>\n",
       "      <th>date</th>\n",
       "      <th>day</th>\n",
       "      <th>source</th>\n",
       "      <th>day_cost</th>\n",
       "      <th>cost</th>\n",
       "      <th>count_user</th>\n",
       "      <th>cost_source</th>\n",
       "      <th>cost_build</th>\n",
       "      <th>user_day</th>\n",
       "    </tr>\n",
       "  </thead>\n",
       "  <tbody>\n",
       "    <tr>\n",
       "      <th>18595</th>\n",
       "      <td>2020-05-06 03:22:37</td>\n",
       "      <td>building</td>\n",
       "      <td>assembly_shop</td>\n",
       "      <td>6c27475f-d44f-4743-b63d-913a5d50ea6c</td>\n",
       "      <td>NaN</td>\n",
       "      <td>2020-05-06</td>\n",
       "      <td>2020-05-06</td>\n",
       "      <td>yandex_direct</td>\n",
       "      <td>2020-05-05</td>\n",
       "      <td>308.23</td>\n",
       "      <td>664</td>\n",
       "      <td>0.46</td>\n",
       "      <td>0.07</td>\n",
       "      <td>0</td>\n",
       "    </tr>\n",
       "  </tbody>\n",
       "</table>\n",
       "</div>"
      ],
      "text/plain": [
       "           event_datetime     event  building_type  \\\n",
       "18595 2020-05-06 03:22:37  building  assembly_shop   \n",
       "\n",
       "                                    user_id project_type       date  \\\n",
       "18595  6c27475f-d44f-4743-b63d-913a5d50ea6c          NaN 2020-05-06   \n",
       "\n",
       "             day         source   day_cost   cost  count_user  cost_source  \\\n",
       "18595 2020-05-06  yandex_direct 2020-05-05 308.23         664         0.46   \n",
       "\n",
       "       cost_build  user_day  \n",
       "18595        0.07         0  "
      ]
     },
     "execution_count": 26,
     "metadata": {},
     "output_type": "execute_result"
    }
   ],
   "source": [
    "# добавляем столбец с разностью дней между событием и датой первого входа в приложение\n",
    "df['user_day'] = df['date'] - df['day']\n",
    "df['user_day'] = df['user_day'].dt.days\n",
    "df.sample()"
   ]
  },
  {
   "cell_type": "code",
   "execution_count": 27,
   "id": "3e9280ee",
   "metadata": {},
   "outputs": [
    {
     "data": {
      "text/html": [
       "<div>\n",
       "<style scoped>\n",
       "    .dataframe tbody tr th:only-of-type {\n",
       "        vertical-align: middle;\n",
       "    }\n",
       "\n",
       "    .dataframe tbody tr th {\n",
       "        vertical-align: top;\n",
       "    }\n",
       "\n",
       "    .dataframe thead th {\n",
       "        text-align: right;\n",
       "    }\n",
       "</style>\n",
       "<table border=\"1\" class=\"dataframe\">\n",
       "  <thead>\n",
       "    <tr style=\"text-align: right;\">\n",
       "      <th>user_day</th>\n",
       "      <th>user_id</th>\n",
       "      <th>0</th>\n",
       "      <th>1</th>\n",
       "      <th>2</th>\n",
       "      <th>3</th>\n",
       "      <th>4</th>\n",
       "      <th>5</th>\n",
       "      <th>6</th>\n",
       "      <th>7</th>\n",
       "      <th>8</th>\n",
       "      <th>...</th>\n",
       "      <th>22</th>\n",
       "      <th>23</th>\n",
       "      <th>24</th>\n",
       "      <th>25</th>\n",
       "      <th>26</th>\n",
       "      <th>27</th>\n",
       "      <th>28</th>\n",
       "      <th>29</th>\n",
       "      <th>30</th>\n",
       "      <th>31</th>\n",
       "    </tr>\n",
       "  </thead>\n",
       "  <tbody>\n",
       "    <tr>\n",
       "      <th>13051</th>\n",
       "      <td>f63bb9b9-ddea-43d3-bad6-c0c879ef008f</td>\n",
       "      <td>0.07</td>\n",
       "      <td>0.07</td>\n",
       "      <td>0.28</td>\n",
       "      <td>0.42</td>\n",
       "      <td>0.42</td>\n",
       "      <td>0.56</td>\n",
       "      <td>0.63</td>\n",
       "      <td>0.63</td>\n",
       "      <td>0.63</td>\n",
       "      <td>...</td>\n",
       "      <td>0.63</td>\n",
       "      <td>0.63</td>\n",
       "      <td>0.63</td>\n",
       "      <td>0.63</td>\n",
       "      <td>0.63</td>\n",
       "      <td>0.63</td>\n",
       "      <td>0.63</td>\n",
       "      <td>0.63</td>\n",
       "      <td>0.63</td>\n",
       "      <td>0.63</td>\n",
       "    </tr>\n",
       "  </tbody>\n",
       "</table>\n",
       "<p>1 rows × 33 columns</p>\n",
       "</div>"
      ],
      "text/plain": [
       "user_day                               user_id    0    1    2    3    4    5  \\\n",
       "13051     f63bb9b9-ddea-43d3-bad6-c0c879ef008f 0.07 0.07 0.28 0.42 0.42 0.56   \n",
       "\n",
       "user_day    6    7    8  ...   22   23   24   25   26   27   28   29   30   31  \n",
       "13051    0.63 0.63 0.63  ... 0.63 0.63 0.63 0.63 0.63 0.63 0.63 0.63 0.63 0.63  \n",
       "\n",
       "[1 rows x 33 columns]"
      ]
     },
     "execution_count": 27,
     "metadata": {},
     "output_type": "execute_result"
    }
   ],
   "source": [
    "# создаем сводную таблицу с куммулятивными данными\n",
    "df_result = (df.pivot_table(index='user_id', \n",
    "                           columns='user_day', \n",
    "                           values='cost_build', \n",
    "                           aggfunc='sum'))\n",
    "\n",
    "\"\"\"заполняем нулями образовавшиеся Nan и получаем накопленную по дням нахождения а приложении\n",
    "сумму от гипотетической рекламы\"\"\"\n",
    "\n",
    "df_result = df_result.fillna(0).cumsum(axis=1).reset_index()\n",
    "\n",
    "df_result.sample()"
   ]
  },
  {
   "cell_type": "code",
   "execution_count": 28,
   "id": "83208533",
   "metadata": {},
   "outputs": [],
   "source": [
    "# присоединяем к сводной таблице данные по источнику трафика и стоимостью привлечения юзера\n",
    "df_result = df_result.merge(df[['user_id', 'source', 'cost_source']], on='user_id', how='left')\n",
    "\n",
    "# удаляем образовавшиеся дубликаты\n",
    "df_result = df_result.drop_duplicates(ignore_index=True)"
   ]
  },
  {
   "cell_type": "markdown",
   "id": "d2569eb5",
   "metadata": {},
   "source": [
    "## Построим графики окупаемости дохода от пользователя в среднем по дням пользования приложением и точками безубыточности."
   ]
  },
  {
   "cell_type": "code",
   "execution_count": 29,
   "id": "9c6757f6",
   "metadata": {},
   "outputs": [],
   "source": [
    "# выделяем последний день в датасете\n",
    "# -2, так как есть ещё два столбца с источником и стоимостью привлечения\n",
    "describe_len = df_result.describe().T.shape[0]-2\n",
    "\n",
    "# все источники привлечения рекламы\n",
    "source = df_result.source.unique()"
   ]
  },
  {
   "cell_type": "code",
   "execution_count": 30,
   "id": "e9209899",
   "metadata": {
    "scrolled": true
   },
   "outputs": [],
   "source": [
    "# выделяем пользователей закончивших уровень и не закончивших уровень\n",
    "finished = ['finished_stage_1', 'project']\n",
    "user_finish = df.query('event in @finished')['user_id'].unique()\n",
    "user_other = df.query('user_id not in @user_finish')['user_id'].unique()"
   ]
  },
  {
   "cell_type": "code",
   "execution_count": 31,
   "id": "4ac2b56f",
   "metadata": {},
   "outputs": [],
   "source": [
    "count_user_finish = len(user_finish)\n",
    "count_user_other = len(user_other)"
   ]
  },
  {
   "cell_type": "code",
   "execution_count": 32,
   "id": "20c94fdc",
   "metadata": {},
   "outputs": [],
   "source": [
    "def title_source(title, source):\n",
    "# проверяю, если один рекламный канал, то вывожу другой заголовок (слово поделиться на буквы)\n",
    "    plt.suptitle(f'{title}. Рекламные источники -\\n {source}')\n",
    "    if len(source[0]) == 1:\n",
    "        plt.suptitle(f'{title} с {source}')"
   ]
  },
  {
   "cell_type": "code",
   "execution_count": 33,
   "id": "56999af8",
   "metadata": {},
   "outputs": [],
   "source": [
    "def lineplot_cost(df=df_result, source=source, describe_len=describe_len):\n",
    "\n",
    "    \"\"\"\n",
    "Функция рисует график дохода от постройки зданий по дням с разбивкой по пользователям,\n",
    "закончившим уровень и не закончивших. Источник рекламы source включает по умолчанию всех, \n",
    "можно указать в списке или строкой выборочно.\n",
    "    \"\"\"\n",
    "\n",
    "\n",
    "# считает среднее значение затрат с фильтрацией по источникам\n",
    "    mean_cost_source = round(df_result.query('source in @source').\\\n",
    "                        describe()['cost_source']['mean'],2)\n",
    "\n",
    "# строит графики\n",
    "    sns.lineplot(data=(df_result.query('user_id in @user_finish & source in @source')\n",
    "                       .describe().T.loc[0:describe_len,'mean']))\n",
    "\n",
    "    \n",
    "    sns.lineplot(data=(df_result.query('user_id in @user_other & source in @source')\n",
    "                       .describe().T.loc[0:describe_len,'mean']))\n",
    "    \n",
    "    \n",
    "\n",
    "    plt.xticks(np.arange(0,describe_len,1))\n",
    "    plt.axhline(y=mean_cost_source,color='red', linestyle='-.')\n",
    "    plt.text(1,mean_cost_source+0.005, 'затраты на рекламу одного пользователя', fontsize=12)\n",
    "    \n",
    "    plt.ylabel('Прибыль от постройки зданий одного пользователя')\n",
    "    \n",
    "    plt.legend(['завершили уровень', 'не завершили уровень'])\n",
    "    \n",
    "\n",
    "    title_source(title='График среднего дохода пользователя', source=source)\n",
    "\n",
    "# считаю среднее значение дохода по пользователям, закончивший уровень и не закончивший и общий\n",
    "    mean_user_finish = round(df_result.query('user_id in @user_finish & source in @source')\n",
    "         .describe().T.loc[describe_len,'mean'], 2)\n",
    "    \n",
    "    mean_user_other = round(df_result.query('user_id in @user_other & source in @source')\n",
    "         .describe().T.loc[describe_len,'mean'],2)\n",
    "    \n",
    "    mean_user = round(df_result.query('source in @source')\n",
    "         .describe().T.loc[describe_len,'mean'],2)\n",
    "    \n",
    "    plt.show()\n",
    "\n",
    "# вывод полученных значений\n",
    "    print(f'Средний доход от вовлеченного пользователя - {mean_user_finish}\\n\\\n",
    "Средний доход от невовлеченного пользователя - {mean_user_other}\\n\\\n",
    "Средние траты на рекламу - {mean_cost_source}\\n\\\n",
    "Средний доход от пользователей - {mean_user}\\n\\\n",
    "Доход от постройки зданий в среднем пользователя от расхода на рекламу - \\\n",
    "{mean_user/mean_cost_source - 1:.2%}')"
   ]
  },
  {
   "cell_type": "code",
   "execution_count": 34,
   "id": "73ee4f06",
   "metadata": {
    "scrolled": false
   },
   "outputs": [
    {
     "data": {
      "image/png": "[encoded data removed]",
      "text/plain": [
       "<Figure size 1080x576 with 1 Axes>"
      ]
     },
     "metadata": {
      "needs_background": "light"
     },
     "output_type": "display_data"
    },
    {
     "name": "stdout",
     "output_type": "stream",
     "text": [
      "Средний доход от вовлеченного пользователя - 0.73\n",
      "Средний доход от невовлеченного пользователя - 0.61\n",
      "Средние траты на рекламу - 0.56\n",
      "Средний доход от пользователей - 0.66\n",
      "Доход от постройки зданий в среднем пользователя от расхода на рекламу - 17.86%\n"
     ]
    },
    {
     "data": {
      "image/png": "[encoded data removed]",
      "text/plain": [
       "<Figure size 1080x576 with 1 Axes>"
      ]
     },
     "metadata": {
      "needs_background": "light"
     },
     "output_type": "display_data"
    },
    {
     "name": "stdout",
     "output_type": "stream",
     "text": [
      "Средний доход от вовлеченного пользователя - 0.74\n",
      "Средний доход от невовлеченного пользователя - 0.62\n",
      "Средние траты на рекламу - 0.79\n",
      "Средний доход от пользователей - 0.67\n",
      "Доход от постройки зданий в среднем пользователя от расхода на рекламу - -15.19%\n"
     ]
    },
    {
     "data": {
      "image/png": "[encoded data removed]",
      "text/plain": [
       "<Figure size 1080x576 with 1 Axes>"
      ]
     },
     "metadata": {
      "needs_background": "light"
     },
     "output_type": "display_data"
    },
    {
     "name": "stdout",
     "output_type": "stream",
     "text": [
      "Средний доход от вовлеченного пользователя - 0.72\n",
      "Средний доход от невовлеченного пользователя - 0.6\n",
      "Средние траты на рекламу - 0.46\n",
      "Средний доход от пользователей - 0.65\n",
      "Доход от постройки зданий в среднем пользователя от расхода на рекламу - 41.30%\n"
     ]
    },
    {
     "data": {
      "image/png": "[encoded data removed]",
      "text/plain": [
       "<Figure size 1080x576 with 1 Axes>"
      ]
     },
     "metadata": {
      "needs_background": "light"
     },
     "output_type": "display_data"
    },
    {
     "name": "stdout",
     "output_type": "stream",
     "text": [
      "Средний доход от вовлеченного пользователя - 0.73\n",
      "Средний доход от невовлеченного пользователя - 0.59\n",
      "Средние траты на рекламу - 0.4\n",
      "Средний доход от пользователей - 0.65\n",
      "Доход от постройки зданий в среднем пользователя от расхода на рекламу - 62.50%\n"
     ]
    },
    {
     "data": {
      "image/png": "[encoded data removed]",
      "text/plain": [
       "<Figure size 1080x576 with 1 Axes>"
      ]
     },
     "metadata": {
      "needs_background": "light"
     },
     "output_type": "display_data"
    },
    {
     "name": "stdout",
     "output_type": "stream",
     "text": [
      "Средний доход от вовлеченного пользователя - 0.73\n",
      "Средний доход от невовлеченного пользователя - 0.61\n",
      "Средние траты на рекламу - 0.65\n",
      "Средний доход от пользователей - 0.67\n",
      "Доход от постройки зданий в среднем пользователя от расхода на рекламу - 3.08%\n"
     ]
    }
   ],
   "source": [
    "# общий график дохода от пользователей всех каналов\n",
    "lineplot_cost()\n",
    "\n",
    "# график дохода постройки от пользователей по каждому из рекламных каналом\n",
    "for i in source:\n",
    "    lineplot_cost(df_result, source=i)"
   ]
  },
  {
   "cell_type": "markdown",
   "id": "73d76896",
   "metadata": {},
   "source": [
    "По графикам можем судить, что  \n",
    "- в целом мы видим, что в среднем пользователи, закончившие уровень и пользователи, ушедшие с приложения окупают рекламные затраты. Прошедшие уровень на седьмой день окупают затраты на рекламу, а пользователи, не прошедшие уровень, окупают себя на 11 день. У нас есть почти 18% запас от гипотетического дохода относительно расходов на рекламу.\n",
    "- реклама от `facebook` не окупает себя на 15%\n",
    "- превышение дохода над расходами на рекламу пользователей `yandex` составляют 41%. Затраты бы окупались уже на 5 и 7 дни соответственно вовлеченных и не вовлеченных пользователей. У пользователей, пришедших с `yuotube` самые лучшие показатели - 62% превышение доходаб 4 и 6 день окупаемости соответственно по пользователям вовлеченным и нет.\n",
    "- `Instagram` с 3% гипотетической прибылью благодаря вовлеченным пользователям, не закончившие уровень пользователи не окупаются.\n",
    "- в целом пользователи всех рекламных источников показывают в среднем очень близкие результаты по доходу приложения, разница в стоимости привлечения."
   ]
  },
  {
   "cell_type": "markdown",
   "id": "18da38d6",
   "metadata": {},
   "source": [
    "# Проанализируем влияние событий на совершение целевого события"
   ]
  },
  {
   "cell_type": "markdown",
   "id": "b81cddbf",
   "metadata": {},
   "source": [
    "## Построим боксплоты построенных объектов по дням нахождения в игре и по количеству среди целевой группы и не закончивших уровень. Проведем также такой анализ с разбивкой по разным источникам."
   ]
  },
  {
   "cell_type": "code",
   "execution_count": 35,
   "id": "7a074a4c",
   "metadata": {},
   "outputs": [
    {
     "data": {
      "text/html": [
       "<div>\n",
       "<style scoped>\n",
       "    .dataframe tbody tr th:only-of-type {\n",
       "        vertical-align: middle;\n",
       "    }\n",
       "\n",
       "    .dataframe tbody tr th {\n",
       "        vertical-align: top;\n",
       "    }\n",
       "\n",
       "    .dataframe thead th {\n",
       "        text-align: right;\n",
       "    }\n",
       "</style>\n",
       "<table border=\"1\" class=\"dataframe\">\n",
       "  <thead>\n",
       "    <tr style=\"text-align: right;\">\n",
       "      <th></th>\n",
       "      <th>event_datetime</th>\n",
       "      <th>event</th>\n",
       "      <th>building_type</th>\n",
       "      <th>user_id</th>\n",
       "      <th>project_type</th>\n",
       "      <th>date</th>\n",
       "      <th>day</th>\n",
       "      <th>source</th>\n",
       "      <th>day_cost</th>\n",
       "      <th>cost</th>\n",
       "      <th>count_user</th>\n",
       "      <th>cost_source</th>\n",
       "      <th>cost_build</th>\n",
       "      <th>user_day</th>\n",
       "    </tr>\n",
       "  </thead>\n",
       "  <tbody>\n",
       "    <tr>\n",
       "      <th>116310</th>\n",
       "      <td>2020-05-16 06:06:11</td>\n",
       "      <td>project</td>\n",
       "      <td>NaN</td>\n",
       "      <td>c5fe3c55-54b5-43b3-92a2-9874410c8c6f</td>\n",
       "      <td>satellite_orbital_assembly</td>\n",
       "      <td>2020-05-16</td>\n",
       "      <td>2020-05-04</td>\n",
       "      <td>youtube_channel_reklama</td>\n",
       "      <td>2020-05-03</td>\n",
       "      <td>454.22</td>\n",
       "      <td>1146</td>\n",
       "      <td>0.40</td>\n",
       "      <td>0.00</td>\n",
       "      <td>12</td>\n",
       "    </tr>\n",
       "  </tbody>\n",
       "</table>\n",
       "</div>"
      ],
      "text/plain": [
       "            event_datetime    event building_type  \\\n",
       "116310 2020-05-16 06:06:11  project           NaN   \n",
       "\n",
       "                                     user_id                project_type  \\\n",
       "116310  c5fe3c55-54b5-43b3-92a2-9874410c8c6f  satellite_orbital_assembly   \n",
       "\n",
       "             date        day                   source   day_cost   cost  \\\n",
       "116310 2020-05-16 2020-05-04  youtube_channel_reklama 2020-05-03 454.22   \n",
       "\n",
       "        count_user  cost_source  cost_build  user_day  \n",
       "116310        1146         0.40        0.00        12  "
      ]
     },
     "execution_count": 35,
     "metadata": {},
     "output_type": "execute_result"
    }
   ],
   "source": [
    "df.sample()"
   ]
  },
  {
   "cell_type": "code",
   "execution_count": 36,
   "id": "c183691f",
   "metadata": {},
   "outputs": [],
   "source": [
    "# добавим столбец с количеством дней с даты первого входа в приложение до даты события\n",
    "df['day_finish'] = df['date'] - df['day']\n",
    "df['day_finish'] = df['day_finish'].dt.days\n",
    "day_max = df.day_finish.max()"
   ]
  },
  {
   "cell_type": "code",
   "execution_count": 37,
   "id": "2fcb4038",
   "metadata": {},
   "outputs": [],
   "source": [
    "def boxplot_day(df, source=source):\n",
    "    \n",
    "    \"\"\"\n",
    "    Строим боксплоты по количеству построенных здания по дням нахождения в приложении \n",
    "    пришедшими пользователями со всех или разных рекламных источников с разбивкой на закончивших\n",
    "    и не закончивших уровень\n",
    "    \"\"\"\n",
    "    \n",
    "    fig = plt.figure()\n",
    "    ax1 = fig.add_subplot(1, 2, 1)\n",
    "    (sns.boxplot(data=df.query\n",
    "                ('user_id in @user_finish & source in @source'), \n",
    "                y='day_finish', x='building_type'))\n",
    "\n",
    "    ax2 = fig.add_subplot(1, 2, 2, sharey=ax1)\n",
    "    (sns.boxplot(data=df.query('user_id in @user_other & source in @source'), \n",
    "                y='day_finish', x='building_type'))\n",
    "    plt.yticks(np.arange(0, day_max, step=1))\n",
    "\n",
    "    title_source(title='Построенные типы здания завершившими - слева и не завершившими - справа пользователями',source=source)\n",
    "    plt.show()"
   ]
  },
  {
   "cell_type": "code",
   "execution_count": 38,
   "id": "be982838",
   "metadata": {
    "scrolled": false
   },
   "outputs": [
    {
     "data": {
      "image/png": "[encoded data removed]",
      "text/plain": [
       "<Figure size 1080x576 with 2 Axes>"
      ]
     },
     "metadata": {
      "needs_background": "light"
     },
     "output_type": "display_data"
    },
    {
     "data": {
      "image/png": "[encoded data removed]",
      "text/plain": [
       "<Figure size 1080x576 with 2 Axes>"
      ]
     },
     "metadata": {
      "needs_background": "light"
     },
     "output_type": "display_data"
    },
    {
     "data": {
      "image/png": "[encoded data removed]",
      "text/plain": [
       "<Figure size 1080x576 with 2 Axes>"
      ]
     },
     "metadata": {
      "needs_background": "light"
     },
     "output_type": "display_data"
    },
    {
     "data": {
      "image/png": "[encoded data removed]",
      "text/plain": [
       "<Figure size 1080x576 with 2 Axes>"
      ]
     },
     "metadata": {
      "needs_background": "light"
     },
     "output_type": "display_data"
    },
    {
     "data": {
      "image/png": "[encoded data removed]",
      "text/plain": [
       "<Figure size 1080x576 with 2 Axes>"
      ]
     },
     "metadata": {
      "needs_background": "light"
     },
     "output_type": "display_data"
    }
   ],
   "source": [
    "boxplot_day(df)\n",
    "\n",
    "for i in source:\n",
    "    boxplot_day(df, i)"
   ]
  },
  {
   "cell_type": "markdown",
   "id": "16ec8c99",
   "metadata": {},
   "source": [
    "- строительство зданий по дням нахождения в приложении пользователями закончившими уровень и не закончившими несёт в себе мало различий. Есть различия в медиане построенных `research_center` -у не закончивших уровень пользователей, медиана смещена на 10 день, а у пользователей, закончивших уровень, медиана на 9 дне использования приложения.\n",
    "- в целом у всех пользователей, пришедших с различных рекламных источников ситуация схожа и пользователи закончившие уровень и не закончившие ведут себя одинаково в отношении строительства зданий по днях в проекте."
   ]
  },
  {
   "cell_type": "code",
   "execution_count": 39,
   "id": "e7a81e5d",
   "metadata": {},
   "outputs": [
    {
     "data": {
      "text/html": [
       "<div>\n",
       "<style scoped>\n",
       "    .dataframe tbody tr th:only-of-type {\n",
       "        vertical-align: middle;\n",
       "    }\n",
       "\n",
       "    .dataframe tbody tr th {\n",
       "        vertical-align: top;\n",
       "    }\n",
       "\n",
       "    .dataframe thead th {\n",
       "        text-align: right;\n",
       "    }\n",
       "</style>\n",
       "<table border=\"1\" class=\"dataframe\">\n",
       "  <thead>\n",
       "    <tr style=\"text-align: right;\">\n",
       "      <th></th>\n",
       "      <th>event_datetime</th>\n",
       "      <th>event</th>\n",
       "      <th>building_type</th>\n",
       "      <th>user_id</th>\n",
       "      <th>project_type</th>\n",
       "      <th>date</th>\n",
       "      <th>day</th>\n",
       "      <th>source</th>\n",
       "      <th>day_cost</th>\n",
       "      <th>cost</th>\n",
       "      <th>count_user</th>\n",
       "      <th>cost_source</th>\n",
       "      <th>cost_build</th>\n",
       "      <th>user_day</th>\n",
       "      <th>day_finish</th>\n",
       "      <th>user_finish</th>\n",
       "    </tr>\n",
       "  </thead>\n",
       "  <tbody>\n",
       "    <tr>\n",
       "      <th>44166</th>\n",
       "      <td>2020-05-08 12:21:52</td>\n",
       "      <td>building</td>\n",
       "      <td>spaceport</td>\n",
       "      <td>7006d8e8-2de1-43ca-8050-bb0aa41c4b23</td>\n",
       "      <td>NaN</td>\n",
       "      <td>2020-05-08</td>\n",
       "      <td>2020-05-04</td>\n",
       "      <td>facebook_ads</td>\n",
       "      <td>2020-05-03</td>\n",
       "      <td>935.88</td>\n",
       "      <td>1184</td>\n",
       "      <td>0.79</td>\n",
       "      <td>0.07</td>\n",
       "      <td>4</td>\n",
       "      <td>4</td>\n",
       "      <td>0</td>\n",
       "    </tr>\n",
       "  </tbody>\n",
       "</table>\n",
       "</div>"
      ],
      "text/plain": [
       "           event_datetime     event building_type  \\\n",
       "44166 2020-05-08 12:21:52  building     spaceport   \n",
       "\n",
       "                                    user_id project_type       date  \\\n",
       "44166  7006d8e8-2de1-43ca-8050-bb0aa41c4b23          NaN 2020-05-08   \n",
       "\n",
       "             day        source   day_cost   cost  count_user  cost_source  \\\n",
       "44166 2020-05-04  facebook_ads 2020-05-03 935.88        1184         0.79   \n",
       "\n",
       "       cost_build  user_day  day_finish  user_finish  \n",
       "44166        0.07         4           4            0  "
      ]
     },
     "execution_count": 39,
     "metadata": {},
     "output_type": "execute_result"
    }
   ],
   "source": [
    "# добавляем столбец с условием принадлежности пользователя к законченности уровня\n",
    "df['user_finish'] = df['user_id'].map(lambda x: 1 if x in user_finish else 0)\n",
    "df.sample()"
   ]
  },
  {
   "cell_type": "code",
   "execution_count": 40,
   "id": "599f9778",
   "metadata": {},
   "outputs": [
    {
     "data": {
      "text/html": [
       "<div>\n",
       "<style scoped>\n",
       "    .dataframe tbody tr th:only-of-type {\n",
       "        vertical-align: middle;\n",
       "    }\n",
       "\n",
       "    .dataframe tbody tr th {\n",
       "        vertical-align: top;\n",
       "    }\n",
       "\n",
       "    .dataframe thead th {\n",
       "        text-align: right;\n",
       "    }\n",
       "</style>\n",
       "<table border=\"1\" class=\"dataframe\">\n",
       "  <thead>\n",
       "    <tr style=\"text-align: right;\">\n",
       "      <th></th>\n",
       "      <th>user_finish</th>\n",
       "      <th>building_type</th>\n",
       "      <th>count_building</th>\n",
       "      <th>count</th>\n",
       "      <th>mean_count_building</th>\n",
       "    </tr>\n",
       "  </thead>\n",
       "  <tbody>\n",
       "    <tr>\n",
       "      <th>5</th>\n",
       "      <td>1</td>\n",
       "      <td>spaceport</td>\n",
       "      <td>27920</td>\n",
       "      <td>5817</td>\n",
       "      <td>4.80</td>\n",
       "    </tr>\n",
       "    <tr>\n",
       "      <th>3</th>\n",
       "      <td>1</td>\n",
       "      <td>assembly_shop</td>\n",
       "      <td>25414</td>\n",
       "      <td>5817</td>\n",
       "      <td>4.37</td>\n",
       "    </tr>\n",
       "    <tr>\n",
       "      <th>4</th>\n",
       "      <td>1</td>\n",
       "      <td>research_center</td>\n",
       "      <td>7452</td>\n",
       "      <td>5817</td>\n",
       "      <td>1.28</td>\n",
       "    </tr>\n",
       "    <tr>\n",
       "      <th>2</th>\n",
       "      <td>0</td>\n",
       "      <td>spaceport</td>\n",
       "      <td>31405</td>\n",
       "      <td>7759</td>\n",
       "      <td>4.05</td>\n",
       "    </tr>\n",
       "    <tr>\n",
       "      <th>0</th>\n",
       "      <td>0</td>\n",
       "      <td>assembly_shop</td>\n",
       "      <td>29080</td>\n",
       "      <td>7759</td>\n",
       "      <td>3.75</td>\n",
       "    </tr>\n",
       "    <tr>\n",
       "      <th>1</th>\n",
       "      <td>0</td>\n",
       "      <td>research_center</td>\n",
       "      <td>6685</td>\n",
       "      <td>7759</td>\n",
       "      <td>0.86</td>\n",
       "    </tr>\n",
       "  </tbody>\n",
       "</table>\n",
       "</div>"
      ],
      "text/plain": [
       "   user_finish    building_type  count_building  count  mean_count_building\n",
       "5            1        spaceport           27920   5817                 4.80\n",
       "3            1    assembly_shop           25414   5817                 4.37\n",
       "4            1  research_center            7452   5817                 1.28\n",
       "2            0        spaceport           31405   7759                 4.05\n",
       "0            0    assembly_shop           29080   7759                 3.75\n",
       "1            0  research_center            6685   7759                 0.86"
      ]
     },
     "execution_count": 40,
     "metadata": {},
     "output_type": "execute_result"
    }
   ],
   "source": [
    "# группируем по пользователям закончившим и не закончившим уровень и считаем колчичество\n",
    "# построенных зданий. После делим на общее количество пользователей в группе и получаем \n",
    "# среднее количество построенных зданий в группе\n",
    "object_type_mean = (df.groupby(['user_finish','building_type'])\n",
    "                    .agg({'user_id':'count'}).reset_index()\n",
    "                   .rename(columns={'user_id' : 'count_building'}))\n",
    "        \n",
    "object_type_mean['count'] = (object_type_mean['user_finish'].\n",
    "                             map(lambda x: count_user_finish if x == 1 else count_user_other))\n",
    "\n",
    "object_type_mean['mean_count_building'] = (object_type_mean['count_building'] /\n",
    "                                          object_type_mean['count'].round(2))\n",
    "\n",
    "object_type_mean = object_type_mean.sort_values(by=['user_finish', 'mean_count_building'],\n",
    "                                               ascending=False)\n",
    "\n",
    "object_type_mean"
   ]
  },
  {
   "cell_type": "code",
   "execution_count": 41,
   "id": "1d40d62f",
   "metadata": {},
   "outputs": [
    {
     "data": {
      "image/png": "[encoded data removed]",
      "text/plain": [
       "<Figure size 1080x576 with 1 Axes>"
      ]
     },
     "metadata": {
      "needs_background": "light"
     },
     "output_type": "display_data"
    }
   ],
   "source": [
    "sns.barplot(data=object_type_mean, x='mean_count_building', y='building_type', \n",
    "            hue='user_finish')\n",
    "\n",
    "plt.title('Среднее количество построенных объектов пользователями приложения')\n",
    "plt.xlabel('Среднее количество')\n",
    "plt.ylabel('')\n",
    "\n",
    "plt.show()"
   ]
  },
  {
   "cell_type": "markdown",
   "id": "9bef360a",
   "metadata": {},
   "source": [
    "Самое строиваемое здание - космопорт. В среднем на уровне пользователи строят 4 раза не прошедшие уровень и 5 раз прошедшие, сборочный цех разница между прошедшими уровень и не прошедшими немногим менее единицы - те, кто не прошёл строят меньше 4 раз, а кто прошёл больше 4 раз.  \n",
    "И последнее, исследовательский центр - те, кто прошёл уровень строят в среднем немногим более 1 раза, а кто не прошёл уровень не дотягивают в среднем до одной постройки."
   ]
  },
  {
   "cell_type": "markdown",
   "id": "4e6b58cd",
   "metadata": {},
   "source": [
    "# Проверьте ститистические гипотизы."
   ]
  },
  {
   "cell_type": "markdown",
   "id": "1d84ec9a",
   "metadata": {},
   "source": [
    "## Проверим гипотезу различия времени прохождения уровня между пользователями, которые заканчивают уровень через реализацию проекта, и пользователями, которые заканчивают уровень победой над другим игроком."
   ]
  },
  {
   "cell_type": "markdown",
   "id": "fd87eeed",
   "metadata": {},
   "source": [
    "Посчитаем 95 и 99 персентиль скорости прохождения уровня и для проверки гипотизы решим, какое количество дней будет выбросом и исключим их из анализа."
   ]
  },
  {
   "cell_type": "code",
   "execution_count": 42,
   "id": "b627182a",
   "metadata": {},
   "outputs": [
    {
     "name": "stdout",
     "output_type": "stream",
     "text": [
      "95 перцентиль составляет 19.0\n",
      "99 перцентиль составляет 23.0\n"
     ]
    }
   ],
   "source": [
    "day_finish = df.query('event in \"finished_stage_1\"')['day_finish']\n",
    "print(f'95 перцентиль составляет {np.percentile(day_finish, 95)}')\n",
    "print(f'99 перцентиль составляет {np.percentile(day_finish, 99)}')"
   ]
  },
  {
   "cell_type": "markdown",
   "id": "95876210",
   "metadata": {},
   "source": [
    "Для целей проверки статистической гипотизы установим предельное количество дней 99 персентиля в качестве предела, после которого выше значения количества дней будем считать выбросами."
   ]
  },
  {
   "cell_type": "code",
   "execution_count": 43,
   "id": "e75cd284",
   "metadata": {},
   "outputs": [],
   "source": [
    "day_percentile = 23"
   ]
  },
  {
   "cell_type": "code",
   "execution_count": 44,
   "id": "fabe2fb8",
   "metadata": {},
   "outputs": [],
   "source": [
    "# выделяем пользователей прошедших уровень победой другого игрока и завершившими проект\n",
    "user_project = df.query('event in \"project\"')['user_id']\n",
    "user_enemy = df.query('event in \"finished_stage_1\" & user_id not in @user_project')['user_id']"
   ]
  },
  {
   "cell_type": "code",
   "execution_count": 45,
   "id": "bdc07d1d",
   "metadata": {},
   "outputs": [],
   "source": [
    "# выделяем дни окончания уровня пользователями закончившими проект и победившими врагов\n",
    "sample_project = df.query('event==\"finished_stage_1\" & user_id in @user_project')['day_finish']\n",
    "sample_enemy = df.query('event==\"finished_stage_1\" & user_id in @user_enemy')['day_finish']\n",
    "\n",
    "sample_project = sample_project[sample_project <= day_percentile]\n",
    "sample_enemy = sample_enemy[sample_enemy <= day_percentile]"
   ]
  },
  {
   "cell_type": "markdown",
   "id": "b5454d98",
   "metadata": {},
   "source": [
    "Сформулируем нулевую гипотизу.  \n",
    "Ho ---> статистически значимых различий во времени прохождения уровня между группами пользователей, которые заканчивают уровень через реализацию проекта и пользователями, которые заканчивают уровень победой над другим игроком, нет.  \n",
    "H1 ---> есть статистически значимые различия во времени прохождения уровня между группами."
   ]
  },
  {
   "cell_type": "code",
   "execution_count": 46,
   "id": "93c69687",
   "metadata": {},
   "outputs": [
    {
     "name": "stdout",
     "output_type": "stream",
     "text": [
      "p-value конверсии между группами 3.4361618846497175e-105\n",
      "Относительная скорость прохождения уровня группы победивших врага к группе,закончивших проект -17.40%\n",
      "Скорость прохождения уровня группой, победившей врага в среднем - 10.97\n",
      "Скорость прохождения уровня группой, закончившей проект в среднем - 13.28\n"
     ]
    }
   ],
   "source": [
    "# установим альфа\n",
    "alpha = 0.05\n",
    "print(\"p-value конверсии между группами {0:}\".\n",
    "format(st.mannwhitneyu(sample_project, sample_enemy)[1]))\n",
    "\n",
    "print(\"Относительная скорость прохождения уровня группы победивших врага к группе,\\\n",
    "закончивших проект {0:.2%}\".format(sample_enemy.mean() / sample_project.mean() - 1))\n",
    "\n",
    "print(f'Скорость прохождения уровня группой, победившей врага в среднем - \\\n",
    "{sample_enemy.mean():.2f}\\nСкорость прохождения уровня группой, закончившей проект в среднем -\\\n",
    " {sample_project.mean():.2f}')"
   ]
  },
  {
   "cell_type": "markdown",
   "id": "8fa5e1d5",
   "metadata": {},
   "source": [
    "Значит нулевую гипотизу, что статистических различий во времени прохождения уровня между группами пользователей, которые заканчивают уровень через реализацию проекта и пользователями, которые заканчивают уровень победой над другим игроком - отвергаем.  \n",
    "Относительная скорость прохождения уровня пользователями, побеждающие врагов на 17.40% выше.  \n",
    "Здесь необходимо проработать баланс геймдизайнерам и подравнять баланс, чтобы пользователи, заканчивавшие уровень завершением проекта делали это немного ранее, соразмерно скорости победы над врагом."
   ]
  },
  {
   "cell_type": "markdown",
   "id": "5d7b5b18",
   "metadata": {},
   "source": [
    "## Проверим гипотизу различия количества построенных объектов пользователями пришедшими с разных источников."
   ]
  },
  {
   "cell_type": "markdown",
   "id": "0d7fb042",
   "metadata": {},
   "source": [
    "Для проверки гипотизы, для начала избавимся от выбросов.  \n",
    "Посмотрим, какое количество будет представлять собой 95 персентиль и 99, потом решим, какое количество зданий будем считать выбросом и после удалим их из данных."
   ]
  },
  {
   "cell_type": "code",
   "execution_count": 47,
   "id": "94af9c19",
   "metadata": {},
   "outputs": [
    {
     "name": "stdout",
     "output_type": "stream",
     "text": [
      "95 перцентиль составляет 16.0\n",
      "99 перцентиль составляет 18.0\n"
     ]
    }
   ],
   "source": [
    "user_count_per = df.query('source in @source & event ==\"building\"').\\\n",
    "    groupby('user_id')['building_type'].count()\n",
    "print(f'95 перцентиль составляет {np.percentile(user_count_per, 95)}')\n",
    "print(f'99 перцентиль составляет {np.percentile(user_count_per, 99)}')"
   ]
  },
  {
   "cell_type": "code",
   "execution_count": 48,
   "id": "d39495de",
   "metadata": {},
   "outputs": [],
   "source": [
    "def building_count_source(df, source, percentile=16):\n",
    "    \"\"\"\n",
    "    Подаем датасет и рекламный источник, на выходе получаем количество построенных\n",
    "    зданий каждого пользователя, пришедшего с данного источника, результат \n",
    "    присваиваем в переменную\n",
    "    \"\"\"\n",
    "    \n",
    "    count_building = (df.query('source in @source & event ==\"building\"').\n",
    "                      groupby('user_id')['building_type'].count())\n",
    "    # убираем выбросы\n",
    "    count_building = count_building[count_building <= percentile]\n",
    "    \n",
    "    return count_building.values"
   ]
  },
  {
   "cell_type": "code",
   "execution_count": 49,
   "id": "c238c137",
   "metadata": {},
   "outputs": [],
   "source": [
    "# получаем массив количества построенных зданий каждого пользователя, пришедшего с рекламного\n",
    "# источника - имя переменной равно рекламному источнику с помощью присваивания global()\n",
    "for i in source:\n",
    "    globals()[i] = building_count_source(df, i)"
   ]
  },
  {
   "cell_type": "markdown",
   "id": "778c89f8",
   "metadata": {},
   "source": [
    "Сформулируем нулевую гипотизу.  \n",
    "Ho ---> статистически значимых различий в количестве построенных зданий между пользователями, пришедшими с разных рекламных источников нет.  \n",
    "H1 ---> есть статистически значимые различия в количестве построенных зданий пользователями с разных рекламных источников."
   ]
  },
  {
   "cell_type": "code",
   "execution_count": 50,
   "id": "705307d5",
   "metadata": {},
   "outputs": [
    {
     "name": "stdout",
     "output_type": "stream",
     "text": [
      "p-значение для сравнения групп А и B:  0.021574706286509825\n",
      "p-значение для сравнения групп A и C:  0.01619635120535638\n",
      "p-значение для сравнения групп А и D:  0.30886321708813835\n",
      "p-значение для сравнения групп B и C:  0.6626611822669703\n",
      "p-значение для сравнения групп B и D:  0.1913766708279725\n",
      "p-значение для сравнения групп C и D:  0.1235798718329115\n",
      "Не получилось отвергнуть нулевую гипотезу для сравнения групп А и B\n",
      "Не получилось отвергнуть нулевую гипотезу для сравнения групп A и C\n",
      "Не получилось отвергнуть нулевую гипотезу для сравнения групп А и D\n",
      "Не получилось отвергнуть нулевую гипотезу для сравнения групп B и C\n",
      "Не получилось отвергнуть нулевую гипотезу для сравнения групп B и D\n",
      "Не получилось отвергнуть нулевую гипотезу для сравнения групп C и D\n"
     ]
    }
   ],
   "source": [
    "alpha = 0.05  # критический уровень статистической значимости\n",
    "\n",
    "results_AB = st.mannwhitneyu(facebook_ads, yandex_direct)\n",
    "\n",
    "results_AC = st.mannwhitneyu(facebook_ads, youtube_channel_reklama)\n",
    "\n",
    "results_AD = st.mannwhitneyu(facebook_ads, instagram_new_adverts)\n",
    "\n",
    "results_BC = st.mannwhitneyu(yandex_direct, youtube_channel_reklama)\n",
    "\n",
    "results_BD = st.mannwhitneyu(yandex_direct, instagram_new_adverts)\n",
    "\n",
    "results_CD = st.mannwhitneyu(youtube_channel_reklama, instagram_new_adverts)\n",
    "\n",
    "# установим уровень статистической значимости с поправкой Бенферовни по числу гипотиз\n",
    "bonferroni_alpha = alpha / 6  # произведено шесть сравнений\n",
    "\n",
    "print('p-значение для сравнения групп А и B: ', results_AB.pvalue)\n",
    "print('p-значение для сравнения групп A и C: ', results_AC.pvalue)\n",
    "print('p-значение для сравнения групп А и D: ', results_AD.pvalue)\n",
    "print('p-значение для сравнения групп B и C: ', results_BC.pvalue)\n",
    "print('p-значение для сравнения групп B и D: ', results_BD.pvalue)\n",
    "print('p-значение для сравнения групп C и D: ', results_CD.pvalue)\n",
    "\n",
    "\n",
    "if results_AB.pvalue < bonferroni_alpha:\n",
    "    print('Отвергаем нулевую гипотезу для сравнения групп А и B')\n",
    "else:\n",
    "    print(\n",
    "        'Не получилось отвергнуть нулевую гипотезу для сравнения групп А и B'\n",
    "    )\n",
    "\n",
    "if results_AC.pvalue < bonferroni_alpha:\n",
    "    print('Отвергаем нулевую гипотезу для сравнения групп A и C')\n",
    "else:\n",
    "    print(\n",
    "        'Не получилось отвергнуть нулевую гипотезу для сравнения групп A и C'\n",
    "    )\n",
    "\n",
    "if results_AD.pvalue < bonferroni_alpha:\n",
    "    print('Отвергаем нулевую гипотезу для сравнения групп А и D')\n",
    "else:\n",
    "    print(\n",
    "        'Не получилось отвергнуть нулевую гипотезу для сравнения групп А и D'\n",
    "    )\n",
    "\n",
    "if results_BC.pvalue < bonferroni_alpha:\n",
    "    print('Отвергаем нулевую гипотезу для сравнения групп B и C')\n",
    "else:\n",
    "    print(\n",
    "        'Не получилось отвергнуть нулевую гипотезу для сравнения групп B и C'\n",
    "    )\n",
    "\n",
    "if results_BD.pvalue < bonferroni_alpha:\n",
    "    print('Отвергаем нулевую гипотезу для сравнения групп B и D')\n",
    "else:\n",
    "    print(\n",
    "        'Не получилось отвергнуть нулевую гипотезу для сравнения групп B и D'\n",
    "    )\n",
    "\n",
    "if results_CD.pvalue < bonferroni_alpha:\n",
    "    print('Отвергаем нулевую гипотезу для сравнения групп C и D')\n",
    "else:\n",
    "    print(\n",
    "        'Не получилось отвергнуть нулевую гипотезу для сравнения групп C и D'\n",
    "    )"
   ]
  },
  {
   "cell_type": "markdown",
   "id": "203d85ca",
   "metadata": {},
   "source": [
    "Ни одну гипотизу об отсутствии статистически значимых различий в количестве построенных зданий между пользователями, пришедшими с разных рекламных источников не удалось отвергнуть.  \n",
    "Так как у нас все пользователи ведут себя примерно одинаково и у нас есть один рекламный источник `facebook`, который не окупает напрямую себя, проведём дополнительное исследование канала на предмет возможности использования данного канала в привлечении игроков."
   ]
  },
  {
   "cell_type": "markdown",
   "id": "de0ffe3f",
   "metadata": {},
   "source": [
    "# Сформируем модель монетизации"
   ]
  },
  {
   "cell_type": "code",
   "execution_count": 51,
   "id": "8debed50",
   "metadata": {},
   "outputs": [
    {
     "data": {
      "text/html": [
       "<div>\n",
       "<style scoped>\n",
       "    .dataframe tbody tr th:only-of-type {\n",
       "        vertical-align: middle;\n",
       "    }\n",
       "\n",
       "    .dataframe tbody tr th {\n",
       "        vertical-align: top;\n",
       "    }\n",
       "\n",
       "    .dataframe thead th {\n",
       "        text-align: right;\n",
       "    }\n",
       "</style>\n",
       "<table border=\"1\" class=\"dataframe\">\n",
       "  <thead>\n",
       "    <tr style=\"text-align: right;\">\n",
       "      <th></th>\n",
       "      <th>user_finish</th>\n",
       "      <th>source</th>\n",
       "      <th>user_id</th>\n",
       "      <th>cost_build</th>\n",
       "      <th>cost_source</th>\n",
       "    </tr>\n",
       "  </thead>\n",
       "  <tbody>\n",
       "    <tr>\n",
       "      <th>0</th>\n",
       "      <td>0</td>\n",
       "      <td>facebook_ads</td>\n",
       "      <td>1576</td>\n",
       "      <td>981.96</td>\n",
       "      <td>0.79</td>\n",
       "    </tr>\n",
       "    <tr>\n",
       "      <th>1</th>\n",
       "      <td>0</td>\n",
       "      <td>instagram_new_adverts</td>\n",
       "      <td>1881</td>\n",
       "      <td>1_150.59</td>\n",
       "      <td>0.65</td>\n",
       "    </tr>\n",
       "    <tr>\n",
       "      <th>2</th>\n",
       "      <td>0</td>\n",
       "      <td>yandex_direct</td>\n",
       "      <td>2775</td>\n",
       "      <td>1_672.37</td>\n",
       "      <td>0.46</td>\n",
       "    </tr>\n",
       "    <tr>\n",
       "      <th>3</th>\n",
       "      <td>0</td>\n",
       "      <td>youtube_channel_reklama</td>\n",
       "      <td>1527</td>\n",
       "      <td>896.98</td>\n",
       "      <td>0.40</td>\n",
       "    </tr>\n",
       "    <tr>\n",
       "      <th>4</th>\n",
       "      <td>1</td>\n",
       "      <td>facebook_ads</td>\n",
       "      <td>1150</td>\n",
       "      <td>847.21</td>\n",
       "      <td>0.79</td>\n",
       "    </tr>\n",
       "    <tr>\n",
       "      <th>5</th>\n",
       "      <td>1</td>\n",
       "      <td>instagram_new_adverts</td>\n",
       "      <td>1466</td>\n",
       "      <td>1_076.46</td>\n",
       "      <td>0.65</td>\n",
       "    </tr>\n",
       "    <tr>\n",
       "      <th>6</th>\n",
       "      <td>1</td>\n",
       "      <td>yandex_direct</td>\n",
       "      <td>2042</td>\n",
       "      <td>1_479.87</td>\n",
       "      <td>0.46</td>\n",
       "    </tr>\n",
       "    <tr>\n",
       "      <th>7</th>\n",
       "      <td>1</td>\n",
       "      <td>youtube_channel_reklama</td>\n",
       "      <td>1159</td>\n",
       "      <td>851.48</td>\n",
       "      <td>0.40</td>\n",
       "    </tr>\n",
       "  </tbody>\n",
       "</table>\n",
       "</div>"
      ],
      "text/plain": [
       "   user_finish                   source  user_id  cost_build  cost_source\n",
       "0            0             facebook_ads     1576      981.96         0.79\n",
       "1            0    instagram_new_adverts     1881    1_150.59         0.65\n",
       "2            0            yandex_direct     2775    1_672.37         0.46\n",
       "3            0  youtube_channel_reklama     1527      896.98         0.40\n",
       "4            1             facebook_ads     1150      847.21         0.79\n",
       "5            1    instagram_new_adverts     1466    1_076.46         0.65\n",
       "6            1            yandex_direct     2042    1_479.87         0.46\n",
       "7            1  youtube_channel_reklama     1159      851.48         0.40"
      ]
     },
     "execution_count": 51,
     "metadata": {},
     "output_type": "execute_result"
    }
   ],
   "source": [
    "# получаем таблицу сгруппированную по пользователям закончившим уровень и нет и\n",
    "# по источникам перехода\n",
    "df_sum_mean = df.groupby(['user_finish','source']).\\\n",
    "agg({'user_id' : 'nunique', 'cost_build' : 'sum', 'cost_source' : 'mean'}).\\\n",
    "reset_index()\n",
    "df_sum_mean"
   ]
  },
  {
   "cell_type": "code",
   "execution_count": 52,
   "id": "35ab0299",
   "metadata": {},
   "outputs": [
    {
     "data": {
      "text/html": [
       "<div>\n",
       "<style scoped>\n",
       "    .dataframe tbody tr th:only-of-type {\n",
       "        vertical-align: middle;\n",
       "    }\n",
       "\n",
       "    .dataframe tbody tr th {\n",
       "        vertical-align: top;\n",
       "    }\n",
       "\n",
       "    .dataframe thead th {\n",
       "        text-align: right;\n",
       "    }\n",
       "</style>\n",
       "<table border=\"1\" class=\"dataframe\">\n",
       "  <thead>\n",
       "    <tr style=\"text-align: right;\">\n",
       "      <th></th>\n",
       "      <th>user_finish</th>\n",
       "      <th>source</th>\n",
       "      <th>user_id</th>\n",
       "      <th>cost_build</th>\n",
       "      <th>cost_source</th>\n",
       "      <th>user_sum</th>\n",
       "    </tr>\n",
       "  </thead>\n",
       "  <tbody>\n",
       "    <tr>\n",
       "      <th>0</th>\n",
       "      <td>0</td>\n",
       "      <td>facebook_ads</td>\n",
       "      <td>1576</td>\n",
       "      <td>981.96</td>\n",
       "      <td>0.79</td>\n",
       "      <td>-0.16</td>\n",
       "    </tr>\n",
       "    <tr>\n",
       "      <th>1</th>\n",
       "      <td>0</td>\n",
       "      <td>instagram_new_adverts</td>\n",
       "      <td>1881</td>\n",
       "      <td>1_150.59</td>\n",
       "      <td>0.65</td>\n",
       "      <td>-0.03</td>\n",
       "    </tr>\n",
       "    <tr>\n",
       "      <th>2</th>\n",
       "      <td>0</td>\n",
       "      <td>yandex_direct</td>\n",
       "      <td>2775</td>\n",
       "      <td>1_672.37</td>\n",
       "      <td>0.46</td>\n",
       "      <td>0.14</td>\n",
       "    </tr>\n",
       "    <tr>\n",
       "      <th>3</th>\n",
       "      <td>0</td>\n",
       "      <td>youtube_channel_reklama</td>\n",
       "      <td>1527</td>\n",
       "      <td>896.98</td>\n",
       "      <td>0.40</td>\n",
       "      <td>0.19</td>\n",
       "    </tr>\n",
       "    <tr>\n",
       "      <th>4</th>\n",
       "      <td>1</td>\n",
       "      <td>facebook_ads</td>\n",
       "      <td>1150</td>\n",
       "      <td>847.21</td>\n",
       "      <td>0.79</td>\n",
       "      <td>-0.05</td>\n",
       "    </tr>\n",
       "    <tr>\n",
       "      <th>5</th>\n",
       "      <td>1</td>\n",
       "      <td>instagram_new_adverts</td>\n",
       "      <td>1466</td>\n",
       "      <td>1_076.46</td>\n",
       "      <td>0.65</td>\n",
       "      <td>0.09</td>\n",
       "    </tr>\n",
       "    <tr>\n",
       "      <th>6</th>\n",
       "      <td>1</td>\n",
       "      <td>yandex_direct</td>\n",
       "      <td>2042</td>\n",
       "      <td>1_479.87</td>\n",
       "      <td>0.46</td>\n",
       "      <td>0.26</td>\n",
       "    </tr>\n",
       "    <tr>\n",
       "      <th>7</th>\n",
       "      <td>1</td>\n",
       "      <td>youtube_channel_reklama</td>\n",
       "      <td>1159</td>\n",
       "      <td>851.48</td>\n",
       "      <td>0.40</td>\n",
       "      <td>0.34</td>\n",
       "    </tr>\n",
       "  </tbody>\n",
       "</table>\n",
       "</div>"
      ],
      "text/plain": [
       "   user_finish                   source  user_id  cost_build  cost_source  \\\n",
       "0            0             facebook_ads     1576      981.96         0.79   \n",
       "1            0    instagram_new_adverts     1881    1_150.59         0.65   \n",
       "2            0            yandex_direct     2775    1_672.37         0.46   \n",
       "3            0  youtube_channel_reklama     1527      896.98         0.40   \n",
       "4            1             facebook_ads     1150      847.21         0.79   \n",
       "5            1    instagram_new_adverts     1466    1_076.46         0.65   \n",
       "6            1            yandex_direct     2042    1_479.87         0.46   \n",
       "7            1  youtube_channel_reklama     1159      851.48         0.40   \n",
       "\n",
       "   user_sum  \n",
       "0     -0.16  \n",
       "1     -0.03  \n",
       "2      0.14  \n",
       "3      0.19  \n",
       "4     -0.05  \n",
       "5      0.09  \n",
       "6      0.26  \n",
       "7      0.34  "
      ]
     },
     "execution_count": 52,
     "metadata": {},
     "output_type": "execute_result"
    }
   ],
   "source": [
    "# считаем среднее значение дохода от одного пользователя\n",
    "df_sum_mean['user_sum'] = round(df_sum_mean['cost_build']\n",
    "            /df_sum_mean['user_id'] - df_sum_mean['cost_source'],2)\n",
    "df_sum_mean"
   ]
  },
  {
   "cell_type": "code",
   "execution_count": 53,
   "id": "4ddeb8a9",
   "metadata": {},
   "outputs": [
    {
     "data": {
      "image/png": "[encoded data removed]",
      "text/plain": [
       "<Figure size 1080x576 with 1 Axes>"
      ]
     },
     "metadata": {
      "needs_background": "light"
     },
     "output_type": "display_data"
    }
   ],
   "source": [
    "sns.barplot(data=df_sum_mean, x='source', y='user_sum', \n",
    "            hue='user_finish')\n",
    "\n",
    "plt.title('Средняя окупаемость пользователя приложения')\n",
    "plt.xlabel('Рекламные источники')\n",
    "plt.ylabel('Окупаемость от одного пользователя')\n",
    "plt.axhline()\n",
    "\n",
    "plt.show()"
   ]
  },
  {
   "cell_type": "markdown",
   "id": "abf10a71",
   "metadata": {},
   "source": [
    "## Модель монетизации"
   ]
  },
  {
   "cell_type": "code",
   "execution_count": 54,
   "id": "4a0aabb9",
   "metadata": {},
   "outputs": [],
   "source": [
    "# Series значения средней окупаемости не завершивших и завершивших уровень пользователей\n",
    "avr_sum_user = (df_sum_mean.groupby(\"user_finish\").agg({'user_finish' : 'max', 'user_sum' : 'mean'}))\n",
    "# добавляем элемент среднего значения окупаемости всех пользователей\n",
    "avr_sum_user.loc[len(avr_sum_user.index)] = [2, df_sum_mean.user_sum.mean()]\n",
    "\n",
    "# меняем элементы на более соответствующие и сортируем по значениям окупаемости\n",
    "avr_sum_user['user_finish'] = ['не закончили уровень', 'закончили уровень', 'все пользователи']\n",
    "avr_sum_user = avr_sum_user.sort_values('user_sum')"
   ]
  },
  {
   "cell_type": "code",
   "execution_count": 55,
   "id": "2416aaec",
   "metadata": {},
   "outputs": [
    {
     "data": {
      "image/png": "[encoded data removed]",
      "text/plain": [
       "<Figure size 1080x576 with 1 Axes>"
      ]
     },
     "metadata": {
      "needs_background": "light"
     },
     "output_type": "display_data"
    },
    {
     "name": "stdout",
     "output_type": "stream",
     "text": [
      "Средняя окупаемость пользователей не завершивших уровень - 0.04\n",
      "Средняя окупаемость пользователей завершивших уровень - 0.16\n",
      "Средняя окупаемость всех пользователей - 0.10\n"
     ]
    }
   ],
   "source": [
    "# строим барплот по средней окупаемости пользователя\n",
    "sns.barplot(data=avr_sum_user, x='user_finish', y='user_sum')\n",
    "\n",
    "plt.title('Средняя окупаемость пользователей приложения')\n",
    "plt.xlabel('')\n",
    "plt.ylabel('Средняя окупаемость пользователя')\n",
    "\n",
    "\n",
    "plt.show()\n",
    "\n",
    "df_sum_mean.groupby(\"user_finish\").user_sum.mean()[0]\n",
    "print(f'Средняя окупаемость пользователей не завершивших уровень - \\\n",
    "{df_sum_mean.groupby(\"user_finish\").user_sum.mean()[0]:.2f}')\n",
    "\n",
    "print(f'Средняя окупаемость пользователей завершивших уровень - \\\n",
    "{df_sum_mean.groupby(\"user_finish\").user_sum.mean()[1]:.2f}')\n",
    "\n",
    "print(f'Средняя окупаемость всех пользователей - \\\n",
    "{df_sum_mean.user_sum.mean():.2f}')"
   ]
  },
  {
   "cell_type": "markdown",
   "id": "8469f78a",
   "metadata": {},
   "source": [
    "Cредняя окупаемость пользователей в текущей модели рекламных источников составила 0.10 условных единиц с пользователя, \n",
    "что позволяет иметь запас постройки 1 здания без рекламы в текущих условиях и реклама будет окупаться."
   ]
  },
  {
   "cell_type": "markdown",
   "id": "9a232855",
   "metadata": {},
   "source": [
    "# Выводы"
   ]
  },
  {
   "cell_type": "markdown",
   "id": "5ba2e396",
   "metadata": {},
   "source": [
    "Мы выяснили, что нет статистической значимости между пользователями, приходящими с разных рекламных источников.  \n",
    "Мы получили запас прочности окупаемости привлечения пользователя в виде не показа рекламы при постройке одного здания, в котором можно отказаться от рекламы.  \n",
    "Также стоит скорректировать баланс геймдизайнерам, чтобы пользователи, заканчивавшие уровень завершением проекта делали это немного ранее, соразмерно скорости победы над врагом."
   ]
  }
 ],
 "metadata": {
  "ExecuteTimeLog": [
   {
    "duration": 235,
    "start_time": "2022-05-09T08:11:18.494Z"
   },
   {
    "duration": 1276,
    "start_time": "2022-05-09T10:09:26.598Z"
   },
   {
    "duration": 4,
    "start_time": "2022-05-09T10:09:27.876Z"
   },
   {
    "duration": 274,
    "start_time": "2022-05-09T10:09:27.881Z"
   },
   {
    "duration": 4,
    "start_time": "2022-05-09T10:09:28.158Z"
   },
   {
    "duration": 38,
    "start_time": "2022-05-09T10:09:28.164Z"
   },
   {
    "duration": 431,
    "start_time": "2022-05-09T10:09:28.203Z"
   },
   {
    "duration": 66,
    "start_time": "2022-05-09T10:09:28.636Z"
   },
   {
    "duration": 98,
    "start_time": "2022-05-09T10:09:28.703Z"
   },
   {
    "duration": 163,
    "start_time": "2022-05-09T10:09:28.802Z"
   },
   {
    "duration": 13,
    "start_time": "2022-05-09T10:09:28.968Z"
   },
   {
    "duration": 13,
    "start_time": "2022-05-09T10:09:28.982Z"
   },
   {
    "duration": 33,
    "start_time": "2022-05-09T10:09:28.997Z"
   },
   {
    "duration": 83,
    "start_time": "2022-05-09T10:09:29.032Z"
   },
   {
    "duration": 10,
    "start_time": "2022-05-09T10:09:29.116Z"
   },
   {
    "duration": 46,
    "start_time": "2022-05-09T10:09:29.128Z"
   },
   {
    "duration": 22,
    "start_time": "2022-05-09T10:09:29.176Z"
   },
   {
    "duration": 18,
    "start_time": "2022-05-09T10:09:29.199Z"
   },
   {
    "duration": 87,
    "start_time": "2022-05-09T10:09:29.218Z"
   },
   {
    "duration": 198,
    "start_time": "2022-05-09T10:09:29.307Z"
   },
   {
    "duration": 126,
    "start_time": "2022-05-09T10:09:29.507Z"
   },
   {
    "duration": 68,
    "start_time": "2022-05-09T10:09:29.634Z"
   },
   {
    "duration": 70,
    "start_time": "2022-05-09T10:09:29.704Z"
   },
   {
    "duration": 44,
    "start_time": "2022-05-09T10:09:29.776Z"
   },
   {
    "duration": 1239,
    "start_time": "2022-05-09T10:09:29.821Z"
   },
   {
    "duration": 81,
    "start_time": "2022-05-09T10:09:31.061Z"
   },
   {
    "duration": 38,
    "start_time": "2022-05-09T10:09:31.144Z"
   },
   {
    "duration": 128,
    "start_time": "2022-05-09T10:09:31.183Z"
   },
   {
    "duration": 217,
    "start_time": "2022-05-09T10:09:31.315Z"
   },
   {
    "duration": 90,
    "start_time": "2022-05-09T10:09:31.533Z"
   },
   {
    "duration": 49,
    "start_time": "2022-05-09T10:09:31.624Z"
   },
   {
    "duration": 3,
    "start_time": "2022-05-09T10:09:31.675Z"
   },
   {
    "duration": 22,
    "start_time": "2022-05-09T10:09:31.679Z"
   },
   {
    "duration": 14,
    "start_time": "2022-05-09T10:09:31.703Z"
   },
   {
    "duration": 4756,
    "start_time": "2022-05-09T10:09:31.719Z"
   },
   {
    "duration": 15,
    "start_time": "2022-05-09T10:09:36.477Z"
   },
   {
    "duration": 11,
    "start_time": "2022-05-09T10:09:36.494Z"
   },
   {
    "duration": 5,
    "start_time": "2022-05-09T10:09:36.506Z"
   },
   {
    "duration": 2424,
    "start_time": "2022-05-09T10:09:36.513Z"
   },
   {
    "duration": 16325,
    "start_time": "2022-05-09T10:09:38.939Z"
   },
   {
    "duration": 36,
    "start_time": "2022-05-09T10:09:55.265Z"
   },
   {
    "duration": 198,
    "start_time": "2022-05-09T10:09:55.303Z"
   },
   {
    "duration": 11,
    "start_time": "2022-05-09T10:09:55.503Z"
   },
   {
    "duration": 2,
    "start_time": "2022-05-09T10:09:55.516Z"
   },
   {
    "duration": 24,
    "start_time": "2022-05-09T10:09:55.520Z"
   },
   {
    "duration": 55,
    "start_time": "2022-05-09T10:09:55.546Z"
   },
   {
    "duration": 10,
    "start_time": "2022-05-09T10:09:55.603Z"
   },
   {
    "duration": 85,
    "start_time": "2022-05-09T10:09:55.615Z"
   },
   {
    "duration": 3,
    "start_time": "2022-05-09T10:09:55.702Z"
   },
   {
    "duration": 100,
    "start_time": "2022-05-09T10:09:55.707Z"
   },
   {
    "duration": 30,
    "start_time": "2022-05-09T10:09:55.809Z"
   },
   {
    "duration": 2,
    "start_time": "2022-05-09T10:09:55.841Z"
   },
   {
    "duration": 841,
    "start_time": "2022-05-09T10:09:55.845Z"
   },
   {
    "duration": 792,
    "start_time": "2022-05-09T10:09:56.688Z"
   },
   {
    "duration": 7,
    "start_time": "2022-05-09T10:11:54.894Z"
   },
   {
    "duration": 4149,
    "start_time": "2022-05-09T10:11:56.077Z"
   },
   {
    "duration": 4,
    "start_time": "2022-05-09T10:47:48.148Z"
   },
   {
    "duration": 21,
    "start_time": "2022-05-09T10:48:24.770Z"
   },
   {
    "duration": 14,
    "start_time": "2022-05-09T10:49:28.515Z"
   },
   {
    "duration": 97,
    "start_time": "2022-05-09T10:56:38.191Z"
   },
   {
    "duration": 100,
    "start_time": "2022-05-09T10:57:10.834Z"
   },
   {
    "duration": 26,
    "start_time": "2022-05-09T10:57:27.997Z"
   },
   {
    "duration": 35,
    "start_time": "2022-05-09T10:57:43.636Z"
   },
   {
    "duration": 29,
    "start_time": "2022-05-09T10:58:13.057Z"
   },
   {
    "duration": 34,
    "start_time": "2022-05-09T10:59:27.690Z"
   },
   {
    "duration": 100,
    "start_time": "2022-05-09T12:27:10.290Z"
   },
   {
    "duration": 147,
    "start_time": "2022-05-09T12:27:26.526Z"
   },
   {
    "duration": 5,
    "start_time": "2022-05-09T12:27:28.396Z"
   },
   {
    "duration": 6,
    "start_time": "2022-05-09T12:27:49.005Z"
   },
   {
    "duration": 4,
    "start_time": "2022-05-09T12:30:52.495Z"
   },
   {
    "duration": 4,
    "start_time": "2022-05-09T12:30:59.988Z"
   },
   {
    "duration": 19,
    "start_time": "2022-05-09T12:31:37.966Z"
   },
   {
    "duration": 15,
    "start_time": "2022-05-09T12:32:12.001Z"
   },
   {
    "duration": 6,
    "start_time": "2022-05-09T12:35:22.714Z"
   },
   {
    "duration": 17,
    "start_time": "2022-05-09T12:39:00.997Z"
   },
   {
    "duration": 38,
    "start_time": "2022-05-09T12:41:45.928Z"
   },
   {
    "duration": 22,
    "start_time": "2022-05-09T12:42:21.891Z"
   },
   {
    "duration": 34,
    "start_time": "2022-05-09T12:42:42.736Z"
   },
   {
    "duration": 4,
    "start_time": "2022-05-09T12:43:07.590Z"
   },
   {
    "duration": 7,
    "start_time": "2022-05-09T12:43:16.970Z"
   },
   {
    "duration": 1237,
    "start_time": "2022-05-09T12:44:19.187Z"
   },
   {
    "duration": 1460,
    "start_time": "2022-05-09T12:44:34.682Z"
   },
   {
    "duration": 18,
    "start_time": "2022-05-09T12:46:20.427Z"
   },
   {
    "duration": 886,
    "start_time": "2022-05-09T12:46:45.514Z"
   },
   {
    "duration": 32,
    "start_time": "2022-05-09T12:47:13.743Z"
   },
   {
    "duration": 19,
    "start_time": "2022-05-09T12:52:08.230Z"
   },
   {
    "duration": 10,
    "start_time": "2022-05-09T12:52:34.516Z"
   },
   {
    "duration": 32,
    "start_time": "2022-05-09T12:52:38.926Z"
   },
   {
    "duration": 119,
    "start_time": "2022-05-09T12:53:13.524Z"
   },
   {
    "duration": 229,
    "start_time": "2022-05-09T12:53:19.059Z"
   },
   {
    "duration": 32,
    "start_time": "2022-05-09T12:53:31.060Z"
   },
   {
    "duration": 11,
    "start_time": "2022-05-09T12:53:38.921Z"
   },
   {
    "duration": 28,
    "start_time": "2022-05-09T12:53:41.574Z"
   },
   {
    "duration": 8,
    "start_time": "2022-05-09T12:54:20.695Z"
   },
   {
    "duration": 27,
    "start_time": "2022-05-09T12:54:21.726Z"
   },
   {
    "duration": 9,
    "start_time": "2022-05-09T12:54:47.400Z"
   },
   {
    "duration": 30,
    "start_time": "2022-05-09T12:54:48.546Z"
   },
   {
    "duration": 14,
    "start_time": "2022-05-09T12:55:07.788Z"
   },
   {
    "duration": 44,
    "start_time": "2022-05-09T12:55:08.842Z"
   },
   {
    "duration": 88,
    "start_time": "2022-05-09T13:04:56.467Z"
   },
   {
    "duration": 4,
    "start_time": "2022-05-09T13:05:01.914Z"
   },
   {
    "duration": 1983,
    "start_time": "2022-05-09T13:06:21.192Z"
   },
   {
    "duration": 116,
    "start_time": "2022-05-09T13:06:56.322Z"
   },
   {
    "duration": 209,
    "start_time": "2022-05-09T13:06:57.922Z"
   },
   {
    "duration": 2037,
    "start_time": "2022-05-09T13:07:20.604Z"
   },
   {
    "duration": 26,
    "start_time": "2022-05-09T13:07:28.090Z"
   },
   {
    "duration": 1534,
    "start_time": "2022-05-09T13:08:30.127Z"
   },
   {
    "duration": 1062,
    "start_time": "2022-05-09T13:09:06.564Z"
   },
   {
    "duration": 1806,
    "start_time": "2022-05-09T13:10:54.922Z"
   },
   {
    "duration": 1732,
    "start_time": "2022-05-09T13:11:21.356Z"
   },
   {
    "duration": 1515,
    "start_time": "2022-05-09T13:11:35.669Z"
   },
   {
    "duration": 3,
    "start_time": "2022-05-09T13:12:00.011Z"
   },
   {
    "duration": 3574,
    "start_time": "2022-05-09T13:12:01.123Z"
   },
   {
    "duration": 92,
    "start_time": "2022-05-09T13:14:51.551Z"
   },
   {
    "duration": 91,
    "start_time": "2022-05-09T13:15:21.740Z"
   },
   {
    "duration": 122,
    "start_time": "2022-05-09T13:15:52.286Z"
   },
   {
    "duration": 18,
    "start_time": "2022-05-09T13:16:26.262Z"
   },
   {
    "duration": 12,
    "start_time": "2022-05-09T13:18:00.339Z"
   },
   {
    "duration": 13,
    "start_time": "2022-05-09T13:18:11.344Z"
   },
   {
    "duration": 403,
    "start_time": "2022-05-09T13:18:45.652Z"
   },
   {
    "duration": 29,
    "start_time": "2022-05-09T13:19:24.070Z"
   },
   {
    "duration": 6,
    "start_time": "2022-05-09T13:19:46.437Z"
   },
   {
    "duration": 24,
    "start_time": "2022-05-09T13:20:13.634Z"
   },
   {
    "duration": 16,
    "start_time": "2022-05-09T13:20:58.950Z"
   },
   {
    "duration": 25,
    "start_time": "2022-05-09T13:21:11.826Z"
   },
   {
    "duration": 10,
    "start_time": "2022-05-09T13:21:26.923Z"
   },
   {
    "duration": 9,
    "start_time": "2022-05-09T13:21:46.790Z"
   },
   {
    "duration": 833,
    "start_time": "2022-05-09T13:21:55.622Z"
   },
   {
    "duration": 792,
    "start_time": "2022-05-09T13:23:28.010Z"
   },
   {
    "duration": 15,
    "start_time": "2022-05-09T13:25:36.915Z"
   },
   {
    "duration": 766,
    "start_time": "2022-05-09T13:25:38.853Z"
   },
   {
    "duration": 24,
    "start_time": "2022-05-09T13:25:54.757Z"
   },
   {
    "duration": 79,
    "start_time": "2022-05-09T13:26:50.903Z"
   },
   {
    "duration": 78,
    "start_time": "2022-05-09T13:27:05.949Z"
   },
   {
    "duration": 77,
    "start_time": "2022-05-09T13:27:37.470Z"
   },
   {
    "duration": 80,
    "start_time": "2022-05-09T13:27:57.577Z"
   },
   {
    "duration": 23,
    "start_time": "2022-05-09T13:28:08.267Z"
   },
   {
    "duration": 25,
    "start_time": "2022-05-09T13:28:12.291Z"
   },
   {
    "duration": 1187,
    "start_time": "2022-05-09T13:28:29.214Z"
   },
   {
    "duration": 27,
    "start_time": "2022-05-09T13:28:30.990Z"
   },
   {
    "duration": 1228,
    "start_time": "2022-05-09T13:29:09.402Z"
   },
   {
    "duration": 26,
    "start_time": "2022-05-09T13:29:11.346Z"
   },
   {
    "duration": 14,
    "start_time": "2022-05-09T13:31:08.122Z"
   },
   {
    "duration": 16,
    "start_time": "2022-05-09T13:31:17.191Z"
   },
   {
    "duration": 21,
    "start_time": "2022-05-09T13:31:46.286Z"
   },
   {
    "duration": 72,
    "start_time": "2022-05-09T13:38:51.786Z"
   },
   {
    "duration": 19,
    "start_time": "2022-05-09T13:39:11.314Z"
   },
   {
    "duration": 20,
    "start_time": "2022-05-09T13:41:03.529Z"
   },
   {
    "duration": 16,
    "start_time": "2022-05-09T13:41:22.400Z"
   },
   {
    "duration": 32,
    "start_time": "2022-05-09T13:42:24.187Z"
   },
   {
    "duration": 17,
    "start_time": "2022-05-09T13:42:45.957Z"
   },
   {
    "duration": 14,
    "start_time": "2022-05-09T13:42:57.092Z"
   },
   {
    "duration": 16,
    "start_time": "2022-05-09T13:43:19.882Z"
   },
   {
    "duration": 17,
    "start_time": "2022-05-09T13:44:58.111Z"
   },
   {
    "duration": 17,
    "start_time": "2022-05-09T13:45:03.620Z"
   },
   {
    "duration": 24,
    "start_time": "2022-05-09T13:46:26.231Z"
   },
   {
    "duration": 33,
    "start_time": "2022-05-09T13:46:44.536Z"
   },
   {
    "duration": 18,
    "start_time": "2022-05-09T13:47:00.382Z"
   },
   {
    "duration": 18,
    "start_time": "2022-05-09T13:47:08.025Z"
   },
   {
    "duration": 16,
    "start_time": "2022-05-09T13:47:10.746Z"
   },
   {
    "duration": 789,
    "start_time": "2022-05-09T13:47:19.338Z"
   },
   {
    "duration": 4,
    "start_time": "2022-05-09T13:48:18.617Z"
   },
   {
    "duration": 16,
    "start_time": "2022-05-09T13:48:50.074Z"
   },
   {
    "duration": 16,
    "start_time": "2022-05-09T13:48:51.010Z"
   },
   {
    "duration": 17,
    "start_time": "2022-05-09T13:49:18.100Z"
   },
   {
    "duration": 15,
    "start_time": "2022-05-09T13:49:18.958Z"
   },
   {
    "duration": 19,
    "start_time": "2022-05-09T13:49:38.743Z"
   },
   {
    "duration": 1811,
    "start_time": "2022-05-09T13:50:21.049Z"
   },
   {
    "duration": 6,
    "start_time": "2022-05-09T13:50:34.597Z"
   },
   {
    "duration": 18,
    "start_time": "2022-05-09T13:51:44.578Z"
   },
   {
    "duration": 24,
    "start_time": "2022-05-09T13:52:08.531Z"
   },
   {
    "duration": 5,
    "start_time": "2022-05-09T13:53:25.066Z"
   },
   {
    "duration": 4,
    "start_time": "2022-05-09T13:53:51.082Z"
   },
   {
    "duration": 5,
    "start_time": "2022-05-09T13:54:23.395Z"
   },
   {
    "duration": 5,
    "start_time": "2022-05-09T13:54:50.426Z"
   },
   {
    "duration": 19,
    "start_time": "2022-05-09T13:56:04.509Z"
   },
   {
    "duration": 18,
    "start_time": "2022-05-09T13:56:32.038Z"
   },
   {
    "duration": 19,
    "start_time": "2022-05-09T13:57:02.557Z"
   },
   {
    "duration": 16,
    "start_time": "2022-05-09T13:57:36.461Z"
   },
   {
    "duration": 17,
    "start_time": "2022-05-09T13:57:54.961Z"
   },
   {
    "duration": 18,
    "start_time": "2022-05-09T13:58:19.190Z"
   },
   {
    "duration": 821,
    "start_time": "2022-05-09T13:58:25.765Z"
   },
   {
    "duration": 16,
    "start_time": "2022-05-09T13:58:56.713Z"
   },
   {
    "duration": 8,
    "start_time": "2022-05-09T14:07:31.393Z"
   },
   {
    "duration": 16,
    "start_time": "2022-05-09T14:07:43.886Z"
   },
   {
    "duration": 106,
    "start_time": "2022-05-09T14:14:11.356Z"
   },
   {
    "duration": 141,
    "start_time": "2022-05-09T14:14:31.635Z"
   },
   {
    "duration": 80,
    "start_time": "2022-05-09T14:16:17.157Z"
   },
   {
    "duration": 82,
    "start_time": "2022-05-09T14:16:26.852Z"
   },
   {
    "duration": 84,
    "start_time": "2022-05-09T14:16:36.104Z"
   },
   {
    "duration": 32,
    "start_time": "2022-05-09T14:16:42.885Z"
   },
   {
    "duration": 29,
    "start_time": "2022-05-09T14:17:12.278Z"
   },
   {
    "duration": 30,
    "start_time": "2022-05-09T14:17:19.066Z"
   },
   {
    "duration": 16,
    "start_time": "2022-05-09T14:17:36.873Z"
   },
   {
    "duration": 17,
    "start_time": "2022-05-09T14:18:22.959Z"
   },
   {
    "duration": 10,
    "start_time": "2022-05-09T14:18:42.324Z"
   },
   {
    "duration": 28,
    "start_time": "2022-05-09T14:19:14.114Z"
   },
   {
    "duration": 17,
    "start_time": "2022-05-09T14:19:32.972Z"
   },
   {
    "duration": 15,
    "start_time": "2022-05-09T14:19:42.976Z"
   },
   {
    "duration": 24,
    "start_time": "2022-05-09T14:19:47.104Z"
   },
   {
    "duration": 78,
    "start_time": "2022-05-09T14:20:05.537Z"
   },
   {
    "duration": 86,
    "start_time": "2022-05-09T14:20:13.614Z"
   },
   {
    "duration": 147,
    "start_time": "2022-05-09T14:20:25.640Z"
   },
   {
    "duration": 93,
    "start_time": "2022-05-09T14:20:44.366Z"
   },
   {
    "duration": 9,
    "start_time": "2022-05-09T14:20:56.809Z"
   },
   {
    "duration": 1131,
    "start_time": "2022-05-09T14:21:11.435Z"
   },
   {
    "duration": 5,
    "start_time": "2022-05-09T14:21:12.568Z"
   },
   {
    "duration": 335,
    "start_time": "2022-05-09T14:21:12.575Z"
   },
   {
    "duration": 7,
    "start_time": "2022-05-09T14:21:12.912Z"
   },
   {
    "duration": 54,
    "start_time": "2022-05-09T14:21:12.920Z"
   },
   {
    "duration": 439,
    "start_time": "2022-05-09T14:21:12.976Z"
   },
   {
    "duration": 71,
    "start_time": "2022-05-09T14:21:13.417Z"
   },
   {
    "duration": 96,
    "start_time": "2022-05-09T14:21:13.490Z"
   },
   {
    "duration": 166,
    "start_time": "2022-05-09T14:21:13.588Z"
   },
   {
    "duration": 18,
    "start_time": "2022-05-09T14:21:13.757Z"
   },
   {
    "duration": 15,
    "start_time": "2022-05-09T14:21:13.776Z"
   },
   {
    "duration": 35,
    "start_time": "2022-05-09T14:21:13.793Z"
   },
   {
    "duration": 79,
    "start_time": "2022-05-09T14:21:13.830Z"
   },
   {
    "duration": 11,
    "start_time": "2022-05-09T14:21:13.911Z"
   },
   {
    "duration": 28,
    "start_time": "2022-05-09T14:21:13.924Z"
   },
   {
    "duration": 41,
    "start_time": "2022-05-09T14:21:13.954Z"
   },
   {
    "duration": 17,
    "start_time": "2022-05-09T14:21:13.997Z"
   },
   {
    "duration": 92,
    "start_time": "2022-05-09T14:21:14.016Z"
   },
   {
    "duration": 210,
    "start_time": "2022-05-09T14:21:14.109Z"
   },
   {
    "duration": 130,
    "start_time": "2022-05-09T14:21:14.321Z"
   },
   {
    "duration": 66,
    "start_time": "2022-05-09T14:21:14.453Z"
   },
   {
    "duration": 75,
    "start_time": "2022-05-09T14:21:14.521Z"
   },
   {
    "duration": 44,
    "start_time": "2022-05-09T14:21:14.598Z"
   },
   {
    "duration": 1291,
    "start_time": "2022-05-09T14:21:14.644Z"
   },
   {
    "duration": 78,
    "start_time": "2022-05-09T14:21:15.937Z"
   },
   {
    "duration": 21,
    "start_time": "2022-05-09T14:21:16.016Z"
   },
   {
    "duration": 132,
    "start_time": "2022-05-09T14:21:16.039Z"
   },
   {
    "duration": 213,
    "start_time": "2022-05-09T14:21:16.175Z"
   },
   {
    "duration": 85,
    "start_time": "2022-05-09T14:21:16.389Z"
   },
   {
    "duration": 38,
    "start_time": "2022-05-09T14:21:16.476Z"
   },
   {
    "duration": 3,
    "start_time": "2022-05-09T14:21:16.515Z"
   },
   {
    "duration": 6,
    "start_time": "2022-05-09T14:21:16.520Z"
   },
   {
    "duration": 8,
    "start_time": "2022-05-09T14:21:16.528Z"
   },
   {
    "duration": 4187,
    "start_time": "2022-05-09T14:21:16.538Z"
   },
   {
    "duration": 16,
    "start_time": "2022-05-09T14:21:20.727Z"
   },
   {
    "duration": 18,
    "start_time": "2022-05-09T14:21:20.745Z"
   },
   {
    "duration": 9,
    "start_time": "2022-05-09T14:21:20.765Z"
   },
   {
    "duration": 2252,
    "start_time": "2022-05-09T14:21:20.776Z"
   },
   {
    "duration": 15029,
    "start_time": "2022-05-09T14:21:23.030Z"
   },
   {
    "duration": 37,
    "start_time": "2022-05-09T14:21:38.060Z"
   },
   {
    "duration": 195,
    "start_time": "2022-05-09T14:21:38.098Z"
   },
   {
    "duration": 11,
    "start_time": "2022-05-09T14:21:38.295Z"
   },
   {
    "duration": 3,
    "start_time": "2022-05-09T14:21:38.308Z"
   },
   {
    "duration": 25,
    "start_time": "2022-05-09T14:21:38.312Z"
   },
   {
    "duration": 47,
    "start_time": "2022-05-09T14:21:38.338Z"
   },
   {
    "duration": 8,
    "start_time": "2022-05-09T14:21:38.386Z"
   },
   {
    "duration": 55,
    "start_time": "2022-05-09T14:21:38.395Z"
   },
   {
    "duration": 4,
    "start_time": "2022-05-09T14:21:38.451Z"
   },
   {
    "duration": 85,
    "start_time": "2022-05-09T14:21:38.473Z"
   },
   {
    "duration": 37,
    "start_time": "2022-05-09T14:21:38.559Z"
   },
   {
    "duration": 23,
    "start_time": "2022-05-09T14:21:38.598Z"
   },
   {
    "duration": 150,
    "start_time": "2022-05-09T14:21:38.623Z"
   },
   {
    "duration": 3,
    "start_time": "2022-05-09T14:21:38.775Z"
   },
   {
    "duration": 22,
    "start_time": "2022-05-09T14:21:38.780Z"
   },
   {
    "duration": 11,
    "start_time": "2022-05-09T14:21:38.803Z"
   },
   {
    "duration": 820,
    "start_time": "2022-05-09T14:21:38.815Z"
   },
   {
    "duration": 17,
    "start_time": "2022-05-09T14:22:08.086Z"
   },
   {
    "duration": 76,
    "start_time": "2022-05-09T14:24:07.957Z"
   },
   {
    "duration": 74,
    "start_time": "2022-05-09T14:24:40.714Z"
   },
   {
    "duration": 13,
    "start_time": "2022-05-09T14:25:20.263Z"
   },
   {
    "duration": 17,
    "start_time": "2022-05-09T14:25:24.282Z"
   },
   {
    "duration": 6,
    "start_time": "2022-05-09T14:26:08.497Z"
   },
   {
    "duration": 15,
    "start_time": "2022-05-09T14:26:10.467Z"
   },
   {
    "duration": 16,
    "start_time": "2022-05-09T14:26:19.173Z"
   },
   {
    "duration": 781,
    "start_time": "2022-05-09T14:26:31.915Z"
   },
   {
    "duration": 15,
    "start_time": "2022-05-09T14:28:57.753Z"
   },
   {
    "duration": 52,
    "start_time": "2022-05-09T14:34:36.725Z"
   },
   {
    "duration": 13,
    "start_time": "2022-05-09T14:35:32.069Z"
   },
   {
    "duration": 58,
    "start_time": "2022-05-09T14:36:31.339Z"
   },
   {
    "duration": 51,
    "start_time": "2022-05-09T14:38:55.760Z"
   },
   {
    "duration": 59,
    "start_time": "2022-05-09T14:39:19.687Z"
   },
   {
    "duration": 58,
    "start_time": "2022-05-09T14:40:12.069Z"
   },
   {
    "duration": 111,
    "start_time": "2022-05-09T14:41:34.630Z"
   },
   {
    "duration": 59,
    "start_time": "2022-05-09T14:42:21.083Z"
   },
   {
    "duration": 59,
    "start_time": "2022-05-09T14:42:40.427Z"
   },
   {
    "duration": 10,
    "start_time": "2022-05-09T14:43:01.093Z"
   },
   {
    "duration": 12,
    "start_time": "2022-05-09T14:45:18.152Z"
   },
   {
    "duration": 12,
    "start_time": "2022-05-09T14:45:36.725Z"
   },
   {
    "duration": 10,
    "start_time": "2022-05-09T14:45:48.141Z"
   },
   {
    "duration": 1274,
    "start_time": "2022-05-09T14:46:27.097Z"
   },
   {
    "duration": 10,
    "start_time": "2022-05-09T14:47:24.727Z"
   },
   {
    "duration": 10,
    "start_time": "2022-05-09T14:47:58.983Z"
   },
   {
    "duration": 11,
    "start_time": "2022-05-09T14:48:19.555Z"
   },
   {
    "duration": 6,
    "start_time": "2022-05-09T14:48:30.131Z"
   },
   {
    "duration": 10,
    "start_time": "2022-05-09T14:49:24.905Z"
   },
   {
    "duration": 10,
    "start_time": "2022-05-09T14:49:41.847Z"
   },
   {
    "duration": 328,
    "start_time": "2022-05-09T14:50:21.988Z"
   },
   {
    "duration": 337,
    "start_time": "2022-05-09T14:50:36.542Z"
   },
   {
    "duration": 312,
    "start_time": "2022-05-09T14:50:58.319Z"
   },
   {
    "duration": 4,
    "start_time": "2022-05-09T14:51:46.428Z"
   },
   {
    "duration": 4,
    "start_time": "2022-05-09T14:51:59.477Z"
   },
   {
    "duration": 13,
    "start_time": "2022-05-09T14:52:08.249Z"
   },
   {
    "duration": 182,
    "start_time": "2022-05-09T14:57:32.263Z"
   },
   {
    "duration": 358,
    "start_time": "2022-05-09T15:01:07.243Z"
   },
   {
    "duration": 11,
    "start_time": "2022-05-09T15:03:10.070Z"
   },
   {
    "duration": 182,
    "start_time": "2022-05-09T15:03:29.576Z"
   },
   {
    "duration": 210,
    "start_time": "2022-05-09T15:06:20.268Z"
   },
   {
    "duration": 335,
    "start_time": "2022-05-09T15:07:06.438Z"
   },
   {
    "duration": 299,
    "start_time": "2022-05-09T15:08:51.496Z"
   },
   {
    "duration": 317,
    "start_time": "2022-05-09T15:09:01.273Z"
   },
   {
    "duration": 312,
    "start_time": "2022-05-09T15:09:17.670Z"
   },
   {
    "duration": 10,
    "start_time": "2022-05-09T15:11:33.664Z"
   },
   {
    "duration": 5,
    "start_time": "2022-05-09T15:11:47.423Z"
   },
   {
    "duration": 6,
    "start_time": "2022-05-09T15:24:56.973Z"
   },
   {
    "duration": 7,
    "start_time": "2022-05-09T15:25:31.421Z"
   },
   {
    "duration": 81,
    "start_time": "2022-05-09T15:27:04.567Z"
   },
   {
    "duration": 80,
    "start_time": "2022-05-09T15:27:09.684Z"
   },
   {
    "duration": 5,
    "start_time": "2022-05-09T15:27:15.766Z"
   },
   {
    "duration": 8,
    "start_time": "2022-05-09T15:27:30.680Z"
   },
   {
    "duration": 8,
    "start_time": "2022-05-09T15:28:25.732Z"
   },
   {
    "duration": 1482,
    "start_time": "2022-05-09T18:54:02.765Z"
   },
   {
    "duration": 5,
    "start_time": "2022-05-09T18:54:04.249Z"
   },
   {
    "duration": 365,
    "start_time": "2022-05-09T18:54:04.255Z"
   },
   {
    "duration": 7,
    "start_time": "2022-05-09T18:54:04.623Z"
   },
   {
    "duration": 35,
    "start_time": "2022-05-09T18:54:04.631Z"
   },
   {
    "duration": 451,
    "start_time": "2022-05-09T18:54:04.668Z"
   },
   {
    "duration": 49,
    "start_time": "2022-05-09T18:54:05.120Z"
   },
   {
    "duration": 110,
    "start_time": "2022-05-09T18:54:05.170Z"
   },
   {
    "duration": 251,
    "start_time": "2022-05-09T18:54:05.282Z"
   },
   {
    "duration": 10,
    "start_time": "2022-05-09T18:54:05.536Z"
   },
   {
    "duration": 15,
    "start_time": "2022-05-09T18:54:05.547Z"
   },
   {
    "duration": 52,
    "start_time": "2022-05-09T18:54:05.564Z"
   },
   {
    "duration": 79,
    "start_time": "2022-05-09T18:54:05.619Z"
   },
   {
    "duration": 19,
    "start_time": "2022-05-09T18:54:05.699Z"
   },
   {
    "duration": 46,
    "start_time": "2022-05-09T18:54:05.720Z"
   },
   {
    "duration": 19,
    "start_time": "2022-05-09T18:54:05.768Z"
   },
   {
    "duration": 33,
    "start_time": "2022-05-09T18:54:05.788Z"
   },
   {
    "duration": 67,
    "start_time": "2022-05-09T18:54:05.826Z"
   },
   {
    "duration": 234,
    "start_time": "2022-05-09T18:54:05.903Z"
   },
   {
    "duration": 138,
    "start_time": "2022-05-09T18:54:06.141Z"
   },
   {
    "duration": 68,
    "start_time": "2022-05-09T18:54:06.281Z"
   },
   {
    "duration": 87,
    "start_time": "2022-05-09T18:54:06.350Z"
   },
   {
    "duration": 46,
    "start_time": "2022-05-09T18:54:06.438Z"
   },
   {
    "duration": 1517,
    "start_time": "2022-05-09T18:54:06.486Z"
   },
   {
    "duration": 96,
    "start_time": "2022-05-09T18:54:08.006Z"
   },
   {
    "duration": 33,
    "start_time": "2022-05-09T18:54:08.105Z"
   },
   {
    "duration": 138,
    "start_time": "2022-05-09T18:54:08.141Z"
   },
   {
    "duration": 234,
    "start_time": "2022-05-09T18:54:08.283Z"
   },
   {
    "duration": 82,
    "start_time": "2022-05-09T18:54:08.523Z"
   },
   {
    "duration": 45,
    "start_time": "2022-05-09T18:54:08.608Z"
   },
   {
    "duration": 2,
    "start_time": "2022-05-09T18:54:08.655Z"
   },
   {
    "duration": 7,
    "start_time": "2022-05-09T18:54:08.659Z"
   },
   {
    "duration": 36,
    "start_time": "2022-05-09T18:54:08.668Z"
   },
   {
    "duration": 5545,
    "start_time": "2022-05-09T18:54:08.708Z"
   },
   {
    "duration": 14,
    "start_time": "2022-05-09T18:54:14.255Z"
   },
   {
    "duration": 18,
    "start_time": "2022-05-09T18:54:14.270Z"
   },
   {
    "duration": 17,
    "start_time": "2022-05-09T18:54:14.289Z"
   },
   {
    "duration": 3234,
    "start_time": "2022-05-09T18:54:14.310Z"
   },
   {
    "duration": 19745,
    "start_time": "2022-05-09T18:54:17.546Z"
   },
   {
    "duration": 60,
    "start_time": "2022-05-09T18:54:37.292Z"
   },
   {
    "duration": 267,
    "start_time": "2022-05-09T18:54:37.354Z"
   },
   {
    "duration": 14,
    "start_time": "2022-05-09T18:54:37.624Z"
   },
   {
    "duration": 3,
    "start_time": "2022-05-09T18:54:37.640Z"
   },
   {
    "duration": 21,
    "start_time": "2022-05-09T18:54:37.644Z"
   },
   {
    "duration": 59,
    "start_time": "2022-05-09T18:54:37.667Z"
   },
   {
    "duration": 9,
    "start_time": "2022-05-09T18:54:37.732Z"
   },
   {
    "duration": 92,
    "start_time": "2022-05-09T18:54:37.743Z"
   },
   {
    "duration": 3,
    "start_time": "2022-05-09T18:54:37.837Z"
   },
   {
    "duration": 100,
    "start_time": "2022-05-09T18:54:37.842Z"
   },
   {
    "duration": 29,
    "start_time": "2022-05-09T18:54:37.943Z"
   },
   {
    "duration": 43,
    "start_time": "2022-05-09T18:54:37.974Z"
   },
   {
    "duration": 137,
    "start_time": "2022-05-09T18:54:38.019Z"
   },
   {
    "duration": 3,
    "start_time": "2022-05-09T18:54:38.158Z"
   },
   {
    "duration": 69,
    "start_time": "2022-05-09T18:54:38.163Z"
   },
   {
    "duration": 10,
    "start_time": "2022-05-09T18:54:38.234Z"
   },
   {
    "duration": 346,
    "start_time": "2022-05-09T18:54:38.246Z"
   },
   {
    "duration": 28,
    "start_time": "2022-05-09T18:54:38.594Z"
   },
   {
    "duration": 1680,
    "start_time": "2022-05-10T07:23:11.094Z"
   },
   {
    "duration": 4,
    "start_time": "2022-05-10T07:23:12.777Z"
   },
   {
    "duration": 539,
    "start_time": "2022-05-10T07:23:12.783Z"
   },
   {
    "duration": 6,
    "start_time": "2022-05-10T07:23:13.325Z"
   },
   {
    "duration": 56,
    "start_time": "2022-05-10T07:23:13.333Z"
   },
   {
    "duration": 482,
    "start_time": "2022-05-10T07:23:13.391Z"
   },
   {
    "duration": 95,
    "start_time": "2022-05-10T07:23:13.876Z"
   },
   {
    "duration": 135,
    "start_time": "2022-05-10T07:23:13.974Z"
   },
   {
    "duration": 239,
    "start_time": "2022-05-10T07:23:14.112Z"
   },
   {
    "duration": 15,
    "start_time": "2022-05-10T07:23:14.357Z"
   },
   {
    "duration": 25,
    "start_time": "2022-05-10T07:23:14.375Z"
   },
   {
    "duration": 63,
    "start_time": "2022-05-10T07:23:14.402Z"
   },
   {
    "duration": 106,
    "start_time": "2022-05-10T07:23:14.468Z"
   },
   {
    "duration": 15,
    "start_time": "2022-05-10T07:23:14.577Z"
   },
   {
    "duration": 59,
    "start_time": "2022-05-10T07:23:14.595Z"
   },
   {
    "duration": 35,
    "start_time": "2022-05-10T07:23:14.657Z"
   },
   {
    "duration": 25,
    "start_time": "2022-05-10T07:23:14.694Z"
   },
   {
    "duration": 134,
    "start_time": "2022-05-10T07:23:14.721Z"
   },
   {
    "duration": 326,
    "start_time": "2022-05-10T07:23:14.857Z"
   },
   {
    "duration": 190,
    "start_time": "2022-05-10T07:23:15.186Z"
   },
   {
    "duration": 87,
    "start_time": "2022-05-10T07:23:15.378Z"
   },
   {
    "duration": 116,
    "start_time": "2022-05-10T07:23:15.468Z"
   },
   {
    "duration": 90,
    "start_time": "2022-05-10T07:23:15.586Z"
   },
   {
    "duration": 2576,
    "start_time": "2022-05-10T07:23:15.679Z"
   },
   {
    "duration": 134,
    "start_time": "2022-05-10T07:23:18.257Z"
   },
   {
    "duration": 42,
    "start_time": "2022-05-10T07:23:18.393Z"
   },
   {
    "duration": 249,
    "start_time": "2022-05-10T07:23:18.438Z"
   },
   {
    "duration": 387,
    "start_time": "2022-05-10T07:23:18.695Z"
   },
   {
    "duration": 268,
    "start_time": "2022-05-10T07:23:19.084Z"
   },
   {
    "duration": 106,
    "start_time": "2022-05-10T07:23:19.354Z"
   },
   {
    "duration": 3,
    "start_time": "2022-05-10T07:23:19.463Z"
   },
   {
    "duration": 11,
    "start_time": "2022-05-10T07:23:19.468Z"
   },
   {
    "duration": 11,
    "start_time": "2022-05-10T07:23:19.481Z"
   },
   {
    "duration": 7864,
    "start_time": "2022-05-10T07:23:19.494Z"
   },
   {
    "duration": 22,
    "start_time": "2022-05-10T07:23:27.360Z"
   },
   {
    "duration": 16,
    "start_time": "2022-05-10T07:23:27.384Z"
   },
   {
    "duration": 7,
    "start_time": "2022-05-10T07:23:27.402Z"
   },
   {
    "duration": 3843,
    "start_time": "2022-05-10T07:23:27.411Z"
   },
   {
    "duration": 24532,
    "start_time": "2022-05-10T07:23:31.257Z"
   },
   {
    "duration": 60,
    "start_time": "2022-05-10T07:23:55.791Z"
   },
   {
    "duration": 334,
    "start_time": "2022-05-10T07:23:55.854Z"
   },
   {
    "duration": 17,
    "start_time": "2022-05-10T07:23:56.190Z"
   },
   {
    "duration": 6,
    "start_time": "2022-05-10T07:23:56.209Z"
   },
   {
    "duration": 57,
    "start_time": "2022-05-10T07:23:56.217Z"
   },
   {
    "duration": 43,
    "start_time": "2022-05-10T07:23:56.276Z"
   },
   {
    "duration": 29,
    "start_time": "2022-05-10T07:23:56.322Z"
   },
   {
    "duration": 81,
    "start_time": "2022-05-10T07:23:56.353Z"
   },
   {
    "duration": 17,
    "start_time": "2022-05-10T07:23:56.436Z"
   },
   {
    "duration": 133,
    "start_time": "2022-05-10T07:23:56.455Z"
   },
   {
    "duration": 41,
    "start_time": "2022-05-10T07:23:56.590Z"
   },
   {
    "duration": 54,
    "start_time": "2022-05-10T07:23:56.633Z"
   },
   {
    "duration": 210,
    "start_time": "2022-05-10T07:23:56.689Z"
   },
   {
    "duration": 5,
    "start_time": "2022-05-10T07:23:56.902Z"
   },
   {
    "duration": 98,
    "start_time": "2022-05-10T07:23:56.909Z"
   },
   {
    "duration": 15,
    "start_time": "2022-05-10T07:23:57.010Z"
   },
   {
    "duration": 454,
    "start_time": "2022-05-10T07:23:57.027Z"
   },
   {
    "duration": 11,
    "start_time": "2022-05-10T07:23:57.483Z"
   },
   {
    "duration": 8,
    "start_time": "2022-05-10T07:27:39.905Z"
   },
   {
    "duration": 6,
    "start_time": "2022-05-10T07:28:32.606Z"
   },
   {
    "duration": 6,
    "start_time": "2022-05-10T07:29:58.762Z"
   },
   {
    "duration": 7,
    "start_time": "2022-05-10T07:30:08.308Z"
   },
   {
    "duration": 6,
    "start_time": "2022-05-10T07:30:16.627Z"
   },
   {
    "duration": 6,
    "start_time": "2022-05-10T07:34:18.535Z"
   },
   {
    "duration": 7,
    "start_time": "2022-05-10T07:34:55.930Z"
   },
   {
    "duration": 6,
    "start_time": "2022-05-10T07:35:07.948Z"
   },
   {
    "duration": 148,
    "start_time": "2022-05-10T07:38:02.587Z"
   },
   {
    "duration": 19,
    "start_time": "2022-05-10T07:38:23.286Z"
   },
   {
    "duration": 22,
    "start_time": "2022-05-10T07:38:36.580Z"
   },
   {
    "duration": 6,
    "start_time": "2022-05-10T07:38:50.531Z"
   },
   {
    "duration": 6,
    "start_time": "2022-05-10T07:40:39.490Z"
   },
   {
    "duration": 6,
    "start_time": "2022-05-10T07:40:48.401Z"
   },
   {
    "duration": 14,
    "start_time": "2022-05-10T07:41:19.425Z"
   },
   {
    "duration": 11,
    "start_time": "2022-05-10T07:45:40.575Z"
   },
   {
    "duration": 546,
    "start_time": "2022-05-10T07:46:57.854Z"
   },
   {
    "duration": 276,
    "start_time": "2022-05-10T07:47:54.217Z"
   },
   {
    "duration": 288,
    "start_time": "2022-05-10T07:48:00.528Z"
   },
   {
    "duration": 415,
    "start_time": "2022-05-10T07:48:09.100Z"
   },
   {
    "duration": 454,
    "start_time": "2022-05-10T07:48:40.947Z"
   },
   {
    "duration": 459,
    "start_time": "2022-05-10T07:50:51.208Z"
   },
   {
    "duration": 438,
    "start_time": "2022-05-10T07:51:05.556Z"
   },
   {
    "duration": 365,
    "start_time": "2022-05-10T07:52:24.328Z"
   },
   {
    "duration": 439,
    "start_time": "2022-05-10T07:52:44.947Z"
   },
   {
    "duration": 418,
    "start_time": "2022-05-10T07:52:52.984Z"
   },
   {
    "duration": 296,
    "start_time": "2022-05-10T07:56:32.583Z"
   },
   {
    "duration": 6,
    "start_time": "2022-05-10T07:56:57.816Z"
   },
   {
    "duration": 6,
    "start_time": "2022-05-10T07:57:04.862Z"
   },
   {
    "duration": 5,
    "start_time": "2022-05-10T07:57:15.659Z"
   },
   {
    "duration": 296,
    "start_time": "2022-05-10T07:57:31.612Z"
   },
   {
    "duration": 279,
    "start_time": "2022-05-10T07:58:43.643Z"
   },
   {
    "duration": 268,
    "start_time": "2022-05-10T07:59:16.327Z"
   },
   {
    "duration": 501,
    "start_time": "2022-05-10T07:59:32.917Z"
   },
   {
    "duration": 287,
    "start_time": "2022-05-10T07:59:59.971Z"
   },
   {
    "duration": 300,
    "start_time": "2022-05-10T08:00:30.092Z"
   },
   {
    "duration": 11,
    "start_time": "2022-05-10T08:02:35.001Z"
   },
   {
    "duration": 11,
    "start_time": "2022-05-10T08:02:41.936Z"
   },
   {
    "duration": 10,
    "start_time": "2022-05-10T08:08:01.809Z"
   },
   {
    "duration": 11,
    "start_time": "2022-05-10T08:08:03.140Z"
   },
   {
    "duration": 13,
    "start_time": "2022-05-10T08:10:12.891Z"
   },
   {
    "duration": 13,
    "start_time": "2022-05-10T08:10:12.908Z"
   },
   {
    "duration": 12,
    "start_time": "2022-05-10T08:10:31.895Z"
   },
   {
    "duration": 12,
    "start_time": "2022-05-10T08:10:32.545Z"
   },
   {
    "duration": 15,
    "start_time": "2022-05-10T08:10:40.987Z"
   },
   {
    "duration": 12,
    "start_time": "2022-05-10T08:10:41.990Z"
   },
   {
    "duration": 430,
    "start_time": "2022-05-10T08:13:27.249Z"
   },
   {
    "duration": 17,
    "start_time": "2022-05-10T08:13:45.880Z"
   },
   {
    "duration": 22,
    "start_time": "2022-05-10T08:14:08.587Z"
   },
   {
    "duration": 20,
    "start_time": "2022-05-10T08:14:20.443Z"
   },
   {
    "duration": 22,
    "start_time": "2022-05-10T08:15:36.418Z"
   },
   {
    "duration": 5,
    "start_time": "2022-05-10T08:15:38.572Z"
   },
   {
    "duration": 13,
    "start_time": "2022-05-10T08:16:14.243Z"
   },
   {
    "duration": 9,
    "start_time": "2022-05-10T08:16:16.061Z"
   },
   {
    "duration": 16,
    "start_time": "2022-05-10T08:16:24.906Z"
   },
   {
    "duration": 9,
    "start_time": "2022-05-10T08:16:45.249Z"
   },
   {
    "duration": 407,
    "start_time": "2022-05-10T08:17:15.207Z"
   },
   {
    "duration": 486,
    "start_time": "2022-05-10T08:20:41.631Z"
   },
   {
    "duration": 12,
    "start_time": "2022-05-10T08:21:28.711Z"
   },
   {
    "duration": 14,
    "start_time": "2022-05-10T08:22:06.606Z"
   },
   {
    "duration": 11,
    "start_time": "2022-05-10T08:22:12.593Z"
   },
   {
    "duration": 4,
    "start_time": "2022-05-10T08:23:24.551Z"
   },
   {
    "duration": 11,
    "start_time": "2022-05-10T08:23:25.763Z"
   },
   {
    "duration": 362,
    "start_time": "2022-05-10T08:23:44.771Z"
   },
   {
    "duration": 15,
    "start_time": "2022-05-10T08:24:23.342Z"
   },
   {
    "duration": 388,
    "start_time": "2022-05-10T08:24:24.394Z"
   },
   {
    "duration": 276,
    "start_time": "2022-05-10T08:25:34.140Z"
   },
   {
    "duration": 175,
    "start_time": "2022-05-10T09:33:33.838Z"
   },
   {
    "duration": 3803,
    "start_time": "2022-05-10T09:33:34.802Z"
   },
   {
    "duration": 6,
    "start_time": "2022-05-10T09:34:18.550Z"
   },
   {
    "duration": 4204,
    "start_time": "2022-05-10T09:34:19.614Z"
   },
   {
    "duration": 7,
    "start_time": "2022-05-10T09:35:42.650Z"
   },
   {
    "duration": 3773,
    "start_time": "2022-05-10T09:35:43.382Z"
   },
   {
    "duration": 8,
    "start_time": "2022-05-10T09:36:13.585Z"
   },
   {
    "duration": 3909,
    "start_time": "2022-05-10T09:36:14.221Z"
   },
   {
    "duration": 2143,
    "start_time": "2022-05-10T12:39:54.720Z"
   },
   {
    "duration": 6,
    "start_time": "2022-05-10T12:39:56.867Z"
   },
   {
    "duration": 391,
    "start_time": "2022-05-10T12:39:56.876Z"
   },
   {
    "duration": 7,
    "start_time": "2022-05-10T12:39:57.270Z"
   },
   {
    "duration": 48,
    "start_time": "2022-05-10T12:39:57.279Z"
   },
   {
    "duration": 620,
    "start_time": "2022-05-10T12:39:57.353Z"
   },
   {
    "duration": 99,
    "start_time": "2022-05-10T12:39:57.976Z"
   },
   {
    "duration": 148,
    "start_time": "2022-05-10T12:39:58.077Z"
   },
   {
    "duration": 381,
    "start_time": "2022-05-10T12:39:58.227Z"
   },
   {
    "duration": 21,
    "start_time": "2022-05-10T12:39:58.614Z"
   },
   {
    "duration": 36,
    "start_time": "2022-05-10T12:39:58.638Z"
   },
   {
    "duration": 45,
    "start_time": "2022-05-10T12:39:58.677Z"
   },
   {
    "duration": 119,
    "start_time": "2022-05-10T12:39:58.724Z"
   },
   {
    "duration": 14,
    "start_time": "2022-05-10T12:39:58.852Z"
   },
   {
    "duration": 35,
    "start_time": "2022-05-10T12:39:58.869Z"
   },
   {
    "duration": 58,
    "start_time": "2022-05-10T12:39:58.906Z"
   },
   {
    "duration": 29,
    "start_time": "2022-05-10T12:39:58.966Z"
   },
   {
    "duration": 155,
    "start_time": "2022-05-10T12:39:58.998Z"
   },
   {
    "duration": 449,
    "start_time": "2022-05-10T12:39:59.156Z"
   },
   {
    "duration": 285,
    "start_time": "2022-05-10T12:39:59.608Z"
   },
   {
    "duration": 134,
    "start_time": "2022-05-10T12:39:59.896Z"
   },
   {
    "duration": 153,
    "start_time": "2022-05-10T12:40:00.033Z"
   },
   {
    "duration": 120,
    "start_time": "2022-05-10T12:40:00.189Z"
   },
   {
    "duration": 4502,
    "start_time": "2022-05-10T12:40:00.313Z"
   },
   {
    "duration": 217,
    "start_time": "2022-05-10T12:40:04.818Z"
   },
   {
    "duration": 50,
    "start_time": "2022-05-10T12:40:05.038Z"
   },
   {
    "duration": 267,
    "start_time": "2022-05-10T12:40:05.091Z"
   },
   {
    "duration": 415,
    "start_time": "2022-05-10T12:40:05.367Z"
   },
   {
    "duration": 143,
    "start_time": "2022-05-10T12:40:05.785Z"
   },
   {
    "duration": 67,
    "start_time": "2022-05-10T12:40:05.931Z"
   },
   {
    "duration": 4,
    "start_time": "2022-05-10T12:40:06.000Z"
   },
   {
    "duration": 8,
    "start_time": "2022-05-10T12:40:06.006Z"
   },
   {
    "duration": 39,
    "start_time": "2022-05-10T12:40:06.016Z"
   },
   {
    "duration": 6885,
    "start_time": "2022-05-10T12:40:06.058Z"
   },
   {
    "duration": 28,
    "start_time": "2022-05-10T12:40:12.945Z"
   },
   {
    "duration": 19,
    "start_time": "2022-05-10T12:40:12.975Z"
   },
   {
    "duration": 7,
    "start_time": "2022-05-10T12:40:12.996Z"
   },
   {
    "duration": 4204,
    "start_time": "2022-05-10T12:40:13.005Z"
   },
   {
    "duration": 22574,
    "start_time": "2022-05-10T12:40:17.211Z"
   },
   {
    "duration": 69,
    "start_time": "2022-05-10T12:40:39.788Z"
   },
   {
    "duration": 352,
    "start_time": "2022-05-10T12:40:39.860Z"
   },
   {
    "duration": 37,
    "start_time": "2022-05-10T12:40:40.215Z"
   },
   {
    "duration": 4,
    "start_time": "2022-05-10T12:40:40.255Z"
   },
   {
    "duration": 34,
    "start_time": "2022-05-10T12:40:40.262Z"
   },
   {
    "duration": 74,
    "start_time": "2022-05-10T12:40:40.299Z"
   },
   {
    "duration": 12,
    "start_time": "2022-05-10T12:40:40.375Z"
   },
   {
    "duration": 96,
    "start_time": "2022-05-10T12:40:40.389Z"
   },
   {
    "duration": 5,
    "start_time": "2022-05-10T12:40:40.487Z"
   },
   {
    "duration": 141,
    "start_time": "2022-05-10T12:40:40.495Z"
   },
   {
    "duration": 49,
    "start_time": "2022-05-10T12:40:40.639Z"
   },
   {
    "duration": 38,
    "start_time": "2022-05-10T12:40:40.690Z"
   },
   {
    "duration": 215,
    "start_time": "2022-05-10T12:40:40.752Z"
   },
   {
    "duration": 6,
    "start_time": "2022-05-10T12:40:40.969Z"
   },
   {
    "duration": 106,
    "start_time": "2022-05-10T12:40:40.978Z"
   },
   {
    "duration": 24,
    "start_time": "2022-05-10T12:40:41.087Z"
   },
   {
    "duration": 662,
    "start_time": "2022-05-10T12:40:41.114Z"
   },
   {
    "duration": 14,
    "start_time": "2022-05-10T12:40:41.779Z"
   },
   {
    "duration": 23,
    "start_time": "2022-05-10T12:40:41.796Z"
   },
   {
    "duration": 293,
    "start_time": "2022-05-10T12:40:41.821Z"
   },
   {
    "duration": 1749,
    "start_time": "2022-05-11T08:01:50.141Z"
   },
   {
    "duration": 4,
    "start_time": "2022-05-11T08:01:51.894Z"
   },
   {
    "duration": 408,
    "start_time": "2022-05-11T08:01:51.900Z"
   },
   {
    "duration": 7,
    "start_time": "2022-05-11T08:01:52.311Z"
   },
   {
    "duration": 51,
    "start_time": "2022-05-11T08:01:52.320Z"
   },
   {
    "duration": 494,
    "start_time": "2022-05-11T08:01:52.373Z"
   },
   {
    "duration": 62,
    "start_time": "2022-05-11T08:01:52.892Z"
   },
   {
    "duration": 147,
    "start_time": "2022-05-11T08:01:52.956Z"
   },
   {
    "duration": 224,
    "start_time": "2022-05-11T08:01:53.105Z"
   },
   {
    "duration": 15,
    "start_time": "2022-05-11T08:01:53.333Z"
   },
   {
    "duration": 19,
    "start_time": "2022-05-11T08:01:53.350Z"
   },
   {
    "duration": 67,
    "start_time": "2022-05-11T08:01:53.371Z"
   },
   {
    "duration": 106,
    "start_time": "2022-05-11T08:01:53.440Z"
   },
   {
    "duration": 16,
    "start_time": "2022-05-11T08:01:53.549Z"
   },
   {
    "duration": 54,
    "start_time": "2022-05-11T08:01:53.567Z"
   },
   {
    "duration": 32,
    "start_time": "2022-05-11T08:01:53.624Z"
   },
   {
    "duration": 59,
    "start_time": "2022-05-11T08:01:53.659Z"
   },
   {
    "duration": 112,
    "start_time": "2022-05-11T08:01:53.721Z"
   },
   {
    "duration": 321,
    "start_time": "2022-05-11T08:01:53.836Z"
   },
   {
    "duration": 189,
    "start_time": "2022-05-11T08:01:54.160Z"
   },
   {
    "duration": 101,
    "start_time": "2022-05-11T08:01:54.352Z"
   },
   {
    "duration": 119,
    "start_time": "2022-05-11T08:01:54.456Z"
   },
   {
    "duration": 76,
    "start_time": "2022-05-11T08:01:54.578Z"
   },
   {
    "duration": 2428,
    "start_time": "2022-05-11T08:01:54.657Z"
   },
   {
    "duration": 132,
    "start_time": "2022-05-11T08:01:57.087Z"
   },
   {
    "duration": 31,
    "start_time": "2022-05-11T08:01:57.221Z"
   },
   {
    "duration": 187,
    "start_time": "2022-05-11T08:01:57.255Z"
   },
   {
    "duration": 292,
    "start_time": "2022-05-11T08:01:57.450Z"
   },
   {
    "duration": 117,
    "start_time": "2022-05-11T08:01:57.744Z"
   },
   {
    "duration": 61,
    "start_time": "2022-05-11T08:01:57.863Z"
   },
   {
    "duration": 4,
    "start_time": "2022-05-11T08:01:57.926Z"
   },
   {
    "duration": 11,
    "start_time": "2022-05-11T08:01:57.931Z"
   },
   {
    "duration": 10,
    "start_time": "2022-05-11T08:01:57.944Z"
   },
   {
    "duration": 6184,
    "start_time": "2022-05-11T08:01:57.957Z"
   },
   {
    "duration": 23,
    "start_time": "2022-05-11T08:02:04.143Z"
   },
   {
    "duration": 32,
    "start_time": "2022-05-11T08:02:04.169Z"
   },
   {
    "duration": 7,
    "start_time": "2022-05-11T08:02:04.203Z"
   },
   {
    "duration": 3933,
    "start_time": "2022-05-11T08:02:04.212Z"
   },
   {
    "duration": 21372,
    "start_time": "2022-05-11T08:02:08.147Z"
   },
   {
    "duration": 46,
    "start_time": "2022-05-11T08:02:29.521Z"
   },
   {
    "duration": 330,
    "start_time": "2022-05-11T08:02:29.569Z"
   },
   {
    "duration": 16,
    "start_time": "2022-05-11T08:02:29.901Z"
   },
   {
    "duration": 4,
    "start_time": "2022-05-11T08:02:29.920Z"
   },
   {
    "duration": 31,
    "start_time": "2022-05-11T08:02:29.927Z"
   },
   {
    "duration": 78,
    "start_time": "2022-05-11T08:02:29.960Z"
   },
   {
    "duration": 12,
    "start_time": "2022-05-11T08:02:30.040Z"
   },
   {
    "duration": 105,
    "start_time": "2022-05-11T08:02:30.055Z"
   },
   {
    "duration": 5,
    "start_time": "2022-05-11T08:02:30.163Z"
   },
   {
    "duration": 141,
    "start_time": "2022-05-11T08:02:30.170Z"
   },
   {
    "duration": 41,
    "start_time": "2022-05-11T08:02:30.314Z"
   },
   {
    "duration": 54,
    "start_time": "2022-05-11T08:02:30.357Z"
   },
   {
    "duration": 209,
    "start_time": "2022-05-11T08:02:30.414Z"
   },
   {
    "duration": 6,
    "start_time": "2022-05-11T08:02:30.626Z"
   },
   {
    "duration": 119,
    "start_time": "2022-05-11T08:02:30.635Z"
   },
   {
    "duration": 17,
    "start_time": "2022-05-11T08:02:30.757Z"
   },
   {
    "duration": 439,
    "start_time": "2022-05-11T08:02:30.794Z"
   },
   {
    "duration": 11,
    "start_time": "2022-05-11T08:02:31.236Z"
   },
   {
    "duration": 43,
    "start_time": "2022-05-11T08:02:31.250Z"
   },
   {
    "duration": 263,
    "start_time": "2022-05-11T08:02:31.295Z"
   },
   {
    "duration": 85,
    "start_time": "2022-05-11T08:03:18.349Z"
   },
   {
    "duration": 15,
    "start_time": "2022-05-11T08:03:54.953Z"
   },
   {
    "duration": 452,
    "start_time": "2022-05-11T08:04:01.494Z"
   },
   {
    "duration": 12,
    "start_time": "2022-05-11T08:04:33.343Z"
   },
   {
    "duration": 15,
    "start_time": "2022-05-11T08:04:44.246Z"
   },
   {
    "duration": 279,
    "start_time": "2022-05-11T08:04:46.016Z"
   },
   {
    "duration": 362,
    "start_time": "2022-05-11T08:09:28.054Z"
   },
   {
    "duration": 281,
    "start_time": "2022-05-11T08:10:08.624Z"
   },
   {
    "duration": 179,
    "start_time": "2022-05-11T08:12:10.132Z"
   },
   {
    "duration": 6,
    "start_time": "2022-05-11T15:01:47.064Z"
   },
   {
    "duration": 8,
    "start_time": "2022-05-11T15:01:47.075Z"
   },
   {
    "duration": 1712,
    "start_time": "2022-05-11T15:01:47.097Z"
   },
   {
    "duration": 6,
    "start_time": "2022-05-11T15:01:48.811Z"
   },
   {
    "duration": 41,
    "start_time": "2022-05-11T15:01:48.819Z"
   },
   {
    "duration": 504,
    "start_time": "2022-05-11T15:01:48.863Z"
   },
   {
    "duration": 63,
    "start_time": "2022-05-11T15:01:49.396Z"
   },
   {
    "duration": 137,
    "start_time": "2022-05-11T15:01:49.495Z"
   },
   {
    "duration": 231,
    "start_time": "2022-05-11T15:01:49.635Z"
   },
   {
    "duration": 25,
    "start_time": "2022-05-11T15:01:49.868Z"
   },
   {
    "duration": 16,
    "start_time": "2022-05-11T15:01:49.896Z"
   },
   {
    "duration": 50,
    "start_time": "2022-05-11T15:01:49.915Z"
   },
   {
    "duration": 127,
    "start_time": "2022-05-11T15:01:49.967Z"
   },
   {
    "duration": 15,
    "start_time": "2022-05-11T15:01:50.096Z"
   },
   {
    "duration": 30,
    "start_time": "2022-05-11T15:01:50.113Z"
   },
   {
    "duration": 58,
    "start_time": "2022-05-11T15:01:50.149Z"
   },
   {
    "duration": 28,
    "start_time": "2022-05-11T15:01:50.209Z"
   },
   {
    "duration": 100,
    "start_time": "2022-05-11T15:01:50.239Z"
   },
   {
    "duration": 303,
    "start_time": "2022-05-11T15:01:50.342Z"
   },
   {
    "duration": 194,
    "start_time": "2022-05-11T15:01:50.648Z"
   },
   {
    "duration": 99,
    "start_time": "2022-05-11T15:01:50.844Z"
   },
   {
    "duration": 120,
    "start_time": "2022-05-11T15:01:50.945Z"
   },
   {
    "duration": 71,
    "start_time": "2022-05-11T15:01:51.067Z"
   },
   {
    "duration": 2481,
    "start_time": "2022-05-11T15:01:51.141Z"
   },
   {
    "duration": 132,
    "start_time": "2022-05-11T15:01:53.624Z"
   },
   {
    "duration": 42,
    "start_time": "2022-05-11T15:01:53.758Z"
   },
   {
    "duration": 169,
    "start_time": "2022-05-11T15:01:53.803Z"
   },
   {
    "duration": 275,
    "start_time": "2022-05-11T15:01:53.975Z"
   },
   {
    "duration": 118,
    "start_time": "2022-05-11T15:01:54.253Z"
   },
   {
    "duration": 63,
    "start_time": "2022-05-11T15:01:54.373Z"
   },
   {
    "duration": 4,
    "start_time": "2022-05-11T15:01:54.439Z"
   },
   {
    "duration": 7,
    "start_time": "2022-05-11T15:01:54.445Z"
   },
   {
    "duration": 11,
    "start_time": "2022-05-11T15:01:54.455Z"
   },
   {
    "duration": 7360,
    "start_time": "2022-05-11T15:01:54.468Z"
   },
   {
    "duration": 23,
    "start_time": "2022-05-11T15:02:01.831Z"
   },
   {
    "duration": 40,
    "start_time": "2022-05-11T15:02:01.858Z"
   },
   {
    "duration": 7,
    "start_time": "2022-05-11T15:02:01.901Z"
   },
   {
    "duration": 3734,
    "start_time": "2022-05-11T15:02:01.910Z"
   },
   {
    "duration": 22783,
    "start_time": "2022-05-11T15:02:05.646Z"
   },
   {
    "duration": 62,
    "start_time": "2022-05-11T15:02:28.431Z"
   },
   {
    "duration": 349,
    "start_time": "2022-05-11T15:02:28.495Z"
   },
   {
    "duration": 15,
    "start_time": "2022-05-11T15:02:28.846Z"
   },
   {
    "duration": 3,
    "start_time": "2022-05-11T15:02:28.867Z"
   },
   {
    "duration": 27,
    "start_time": "2022-05-11T15:02:28.893Z"
   },
   {
    "duration": 39,
    "start_time": "2022-05-11T15:02:28.923Z"
   },
   {
    "duration": 37,
    "start_time": "2022-05-11T15:02:28.964Z"
   },
   {
    "duration": 90,
    "start_time": "2022-05-11T15:02:29.003Z"
   },
   {
    "duration": 4,
    "start_time": "2022-05-11T15:02:29.096Z"
   },
   {
    "duration": 132,
    "start_time": "2022-05-11T15:02:29.102Z"
   },
   {
    "duration": 42,
    "start_time": "2022-05-11T15:02:29.236Z"
   },
   {
    "duration": 83,
    "start_time": "2022-05-11T15:02:29.293Z"
   },
   {
    "duration": 25,
    "start_time": "2022-05-11T15:02:29.378Z"
   },
   {
    "duration": 424,
    "start_time": "2022-05-11T15:02:29.405Z"
   },
   {
    "duration": 16,
    "start_time": "2022-05-11T15:02:29.831Z"
   },
   {
    "duration": 291,
    "start_time": "2022-05-11T15:02:29.849Z"
   }
  ],
  "kernelspec": {
   "display_name": "Python 3 (ipykernel)",
   "language": "python",
   "name": "python3"
  },
  "language_info": {
   "codemirror_mode": {
    "name": "ipython",
    "version": 3
   },
   "file_extension": ".py",
   "mimetype": "text/x-python",
   "name": "python",
   "nbconvert_exporter": "python",
   "pygments_lexer": "ipython3",
   "version": "3.9.12"
  },
  "toc": {
   "base_numbering": 1,
   "nav_menu": {},
   "number_sections": true,
   "sideBar": true,
   "skip_h1_title": false,
   "title_cell": "Table of Contents",
   "title_sidebar": "Contents",
   "toc_cell": true,
   "toc_position": {
    "height": "calc(100% - 180px)",
    "left": "10px",
    "top": "150px",
    "width": "236.422px"
   },
   "toc_section_display": true,
   "toc_window_display": true
  }
 },
 "nbformat": 4,
 "nbformat_minor": 5
}
