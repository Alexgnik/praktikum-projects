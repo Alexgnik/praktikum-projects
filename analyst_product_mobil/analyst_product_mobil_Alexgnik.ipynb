{
 "cells": [
  {
   "cell_type": "markdown",
   "id": "62e51285",
   "metadata": {},
   "source": [
    "# Описание проекта"
   ]
  },
  {
   "cell_type": "markdown",
   "id": "5e10404c",
   "metadata": {},
   "source": [
    "Стартап продаёт продукты питания. Нужно разобраться, как ведут себя пользователи мобильного приложения.  \n",
    "Изучим воронку продаж. Узнаем, как пользователи доходят до покупки.   \n",
    "Сколько пользователей доходит до покупки, а сколько — «застревает» на предыдущих шагах? И на каких именно?  \n",
    "Исследуем результаты A/A/B-эксперимента. Дизайнеры хотят поменять шрифты во всём приложении, а менеджеры испугались, что пользователям будет непривычно.   \n",
    "Договорились принять решение по результатам A/A/B-теста.   Пользователей разбили на 3 группы:  \n",
    "2 контрольные со старыми шрифтами и одну экспериментальную — с новыми.   Выясним, какой шрифт лучше.  "
   ]
  },
  {
   "cell_type": "markdown",
   "id": "7c85f6af",
   "metadata": {},
   "source": [
    "# Описание данных"
   ]
  },
  {
   "cell_type": "markdown",
   "id": "f85b8cc1",
   "metadata": {},
   "source": [
    "Каждая запись в логе — это действие пользователя, или событие.\n",
    "-\tEventName — название события;\n",
    "-\tDeviceIDHash — уникальный идентификатор пользователя;\n",
    "-\tEventTimestamp — время события;\n",
    "-\tExpId — номер эксперимента: 246 и 247 — контрольные группы, а 248 — экспериментальная.\n"
   ]
  },
  {
   "cell_type": "markdown",
   "id": "cef22b5b",
   "metadata": {},
   "source": [
    "# Загрузка данных"
   ]
  },
  {
   "cell_type": "code",
   "execution_count": 44,
   "id": "af3af101",
   "metadata": {},
   "outputs": [],
   "source": [
    "# импортируем библиотеки\n",
    "import pandas as pd\n",
    "import numpy as np\n",
    "import matplotlib.pyplot as plt\n",
    "%matplotlib inline\n",
    "import warnings\n",
    "warnings.filterwarnings('ignore')\n",
    "import seaborn as sns\n",
    "from datetime import datetime, timedelta\n",
    "from scipy import stats as st\n",
    "import math as mth"
   ]
  },
  {
   "cell_type": "code",
   "execution_count": 45,
   "id": "df987e32",
   "metadata": {},
   "outputs": [],
   "source": [
    "# считываем файл с данными\n",
    "try:\n",
    "    df = pd.read_csv('logs_exp.csv', sep='\\\\t')\n",
    "except FileNotFoundError:\n",
    "    df = pd.read_csv('/datasets/logs_exp.csv', sep='\\\\t')"
   ]
  },
  {
   "cell_type": "code",
   "execution_count": 46,
   "id": "5a03888e",
   "metadata": {},
   "outputs": [
    {
     "name": "stdout",
     "output_type": "stream",
     "text": [
      "<class 'pandas.core.frame.DataFrame'>\n",
      "RangeIndex: 244126 entries, 0 to 244125\n",
      "Data columns (total 4 columns):\n",
      "\"EventName        244126 non-null object\n",
      "DeviceIDHash      244126 non-null int64\n",
      "EventTimestamp    244126 non-null int64\n",
      "ExpId\"            244126 non-null object\n",
      "dtypes: int64(2), object(2)\n",
      "memory usage: 7.5+ MB\n"
     ]
    },
    {
     "data": {
      "text/html": [
       "<div>\n",
       "<style scoped>\n",
       "    .dataframe tbody tr th:only-of-type {\n",
       "        vertical-align: middle;\n",
       "    }\n",
       "\n",
       "    .dataframe tbody tr th {\n",
       "        vertical-align: top;\n",
       "    }\n",
       "\n",
       "    .dataframe thead th {\n",
       "        text-align: right;\n",
       "    }\n",
       "</style>\n",
       "<table border=\"1\" class=\"dataframe\">\n",
       "  <thead>\n",
       "    <tr style=\"text-align: right;\">\n",
       "      <th></th>\n",
       "      <th>\"EventName</th>\n",
       "      <th>DeviceIDHash</th>\n",
       "      <th>EventTimestamp</th>\n",
       "      <th>ExpId\"</th>\n",
       "    </tr>\n",
       "  </thead>\n",
       "  <tbody>\n",
       "    <tr>\n",
       "      <td>0</td>\n",
       "      <td>\"MainScreenAppear</td>\n",
       "      <td>4575588528974610257</td>\n",
       "      <td>1564029816</td>\n",
       "      <td>246\"</td>\n",
       "    </tr>\n",
       "    <tr>\n",
       "      <td>1</td>\n",
       "      <td>\"MainScreenAppear</td>\n",
       "      <td>7416695313311560658</td>\n",
       "      <td>1564053102</td>\n",
       "      <td>246\"</td>\n",
       "    </tr>\n",
       "    <tr>\n",
       "      <td>2</td>\n",
       "      <td>\"PaymentScreenSuccessful</td>\n",
       "      <td>3518123091307005509</td>\n",
       "      <td>1564054127</td>\n",
       "      <td>248\"</td>\n",
       "    </tr>\n",
       "    <tr>\n",
       "      <td>3</td>\n",
       "      <td>\"CartScreenAppear</td>\n",
       "      <td>3518123091307005509</td>\n",
       "      <td>1564054127</td>\n",
       "      <td>248\"</td>\n",
       "    </tr>\n",
       "    <tr>\n",
       "      <td>4</td>\n",
       "      <td>\"PaymentScreenSuccessful</td>\n",
       "      <td>6217807653094995999</td>\n",
       "      <td>1564055322</td>\n",
       "      <td>248\"</td>\n",
       "    </tr>\n",
       "  </tbody>\n",
       "</table>\n",
       "</div>"
      ],
      "text/plain": [
       "                 \"EventName         DeviceIDHash  EventTimestamp ExpId\"\n",
       "0         \"MainScreenAppear  4575588528974610257      1564029816   246\"\n",
       "1         \"MainScreenAppear  7416695313311560658      1564053102   246\"\n",
       "2  \"PaymentScreenSuccessful  3518123091307005509      1564054127   248\"\n",
       "3         \"CartScreenAppear  3518123091307005509      1564054127   248\"\n",
       "4  \"PaymentScreenSuccessful  6217807653094995999      1564055322   248\""
      ]
     },
     "metadata": {},
     "output_type": "display_data"
    }
   ],
   "source": [
    "# общая информация по таблице df_orders\n",
    "df.info()\n",
    "display(df.head())"
   ]
  },
  {
   "cell_type": "markdown",
   "id": "bbba10da",
   "metadata": {},
   "source": [
    "# Подготовка данных"
   ]
  },
  {
   "cell_type": "markdown",
   "id": "ba3f7e71",
   "metadata": {},
   "source": [
    "## Замена названия столбцов"
   ]
  },
  {
   "cell_type": "code",
   "execution_count": 4,
   "id": "10d027cc",
   "metadata": {},
   "outputs": [
    {
     "data": {
      "text/html": [
       "<div>\n",
       "<style scoped>\n",
       "    .dataframe tbody tr th:only-of-type {\n",
       "        vertical-align: middle;\n",
       "    }\n",
       "\n",
       "    .dataframe tbody tr th {\n",
       "        vertical-align: top;\n",
       "    }\n",
       "\n",
       "    .dataframe thead th {\n",
       "        text-align: right;\n",
       "    }\n",
       "</style>\n",
       "<table border=\"1\" class=\"dataframe\">\n",
       "  <thead>\n",
       "    <tr style=\"text-align: right;\">\n",
       "      <th></th>\n",
       "      <th>event</th>\n",
       "      <th>device_id</th>\n",
       "      <th>event_time</th>\n",
       "      <th>exp_id</th>\n",
       "    </tr>\n",
       "  </thead>\n",
       "  <tbody>\n",
       "    <tr>\n",
       "      <td>0</td>\n",
       "      <td>\"MainScreenAppear</td>\n",
       "      <td>4575588528974610257</td>\n",
       "      <td>1564029816</td>\n",
       "      <td>246\"</td>\n",
       "    </tr>\n",
       "    <tr>\n",
       "      <td>1</td>\n",
       "      <td>\"MainScreenAppear</td>\n",
       "      <td>7416695313311560658</td>\n",
       "      <td>1564053102</td>\n",
       "      <td>246\"</td>\n",
       "    </tr>\n",
       "    <tr>\n",
       "      <td>2</td>\n",
       "      <td>\"PaymentScreenSuccessful</td>\n",
       "      <td>3518123091307005509</td>\n",
       "      <td>1564054127</td>\n",
       "      <td>248\"</td>\n",
       "    </tr>\n",
       "    <tr>\n",
       "      <td>3</td>\n",
       "      <td>\"CartScreenAppear</td>\n",
       "      <td>3518123091307005509</td>\n",
       "      <td>1564054127</td>\n",
       "      <td>248\"</td>\n",
       "    </tr>\n",
       "    <tr>\n",
       "      <td>4</td>\n",
       "      <td>\"PaymentScreenSuccessful</td>\n",
       "      <td>6217807653094995999</td>\n",
       "      <td>1564055322</td>\n",
       "      <td>248\"</td>\n",
       "    </tr>\n",
       "  </tbody>\n",
       "</table>\n",
       "</div>"
      ],
      "text/plain": [
       "                      event            device_id  event_time exp_id\n",
       "0         \"MainScreenAppear  4575588528974610257  1564029816   246\"\n",
       "1         \"MainScreenAppear  7416695313311560658  1564053102   246\"\n",
       "2  \"PaymentScreenSuccessful  3518123091307005509  1564054127   248\"\n",
       "3         \"CartScreenAppear  3518123091307005509  1564054127   248\"\n",
       "4  \"PaymentScreenSuccessful  6217807653094995999  1564055322   248\""
      ]
     },
     "execution_count": 4,
     "metadata": {},
     "output_type": "execute_result"
    }
   ],
   "source": [
    "# замена столбцов на удобные в стиле snake case\n",
    "df = df.rename(columns={'\"EventName':'event', 'DeviceIDHash':'device_id', \n",
    "                          'EventTimestamp':'event_time', 'ExpId\"':'exp_id'})\n",
    "df.head()"
   ]
  },
  {
   "cell_type": "markdown",
   "id": "6e6c116c",
   "metadata": {},
   "source": [
    "## \tПроверим пропуски и типы данных."
   ]
  },
  {
   "cell_type": "code",
   "execution_count": null,
   "id": "dce1070b",
   "metadata": {},
   "outputs": [],
   "source": [
    "# проверим дубликаты\n",
    "print(f'Всего {df.duplicated().sum()} дубликатов в таблице')"
   ]
  },
  {
   "cell_type": "code",
   "execution_count": 6,
   "id": "74719523",
   "metadata": {},
   "outputs": [
    {
     "data": {
      "text/html": [
       "<div>\n",
       "<style scoped>\n",
       "    .dataframe tbody tr th:only-of-type {\n",
       "        vertical-align: middle;\n",
       "    }\n",
       "\n",
       "    .dataframe tbody tr th {\n",
       "        vertical-align: top;\n",
       "    }\n",
       "\n",
       "    .dataframe thead th {\n",
       "        text-align: right;\n",
       "    }\n",
       "</style>\n",
       "<table border=\"1\" class=\"dataframe\">\n",
       "  <thead>\n",
       "    <tr style=\"text-align: right;\">\n",
       "      <th></th>\n",
       "      <th>event</th>\n",
       "      <th>device_id</th>\n",
       "      <th>event_time</th>\n",
       "      <th>exp_id</th>\n",
       "    </tr>\n",
       "  </thead>\n",
       "  <tbody>\n",
       "    <tr>\n",
       "      <td>130557</td>\n",
       "      <td>\"MainScreenAppear</td>\n",
       "      <td>33176906322804559</td>\n",
       "      <td>1564933075</td>\n",
       "      <td>248\"</td>\n",
       "    </tr>\n",
       "    <tr>\n",
       "      <td>130558</td>\n",
       "      <td>\"MainScreenAppear</td>\n",
       "      <td>33176906322804559</td>\n",
       "      <td>1564933075</td>\n",
       "      <td>248\"</td>\n",
       "    </tr>\n",
       "    <tr>\n",
       "      <td>130994</td>\n",
       "      <td>\"OffersScreenAppear</td>\n",
       "      <td>33176906322804559</td>\n",
       "      <td>1564933763</td>\n",
       "      <td>248\"</td>\n",
       "    </tr>\n",
       "    <tr>\n",
       "      <td>130995</td>\n",
       "      <td>\"OffersScreenAppear</td>\n",
       "      <td>33176906322804559</td>\n",
       "      <td>1564933763</td>\n",
       "      <td>248\"</td>\n",
       "    </tr>\n",
       "    <tr>\n",
       "      <td>104106</td>\n",
       "      <td>\"CartScreenAppear</td>\n",
       "      <td>34565258828294726</td>\n",
       "      <td>1564857221</td>\n",
       "      <td>248\"</td>\n",
       "    </tr>\n",
       "    <tr>\n",
       "      <td>104108</td>\n",
       "      <td>\"CartScreenAppear</td>\n",
       "      <td>34565258828294726</td>\n",
       "      <td>1564857221</td>\n",
       "      <td>248\"</td>\n",
       "    </tr>\n",
       "    <tr>\n",
       "      <td>159301</td>\n",
       "      <td>\"PaymentScreenSuccessful</td>\n",
       "      <td>54903596035630984</td>\n",
       "      <td>1565011672</td>\n",
       "      <td>248\"</td>\n",
       "    </tr>\n",
       "    <tr>\n",
       "      <td>159302</td>\n",
       "      <td>\"PaymentScreenSuccessful</td>\n",
       "      <td>54903596035630984</td>\n",
       "      <td>1565011672</td>\n",
       "      <td>248\"</td>\n",
       "    </tr>\n",
       "    <tr>\n",
       "      <td>176812</td>\n",
       "      <td>\"PaymentScreenSuccessful</td>\n",
       "      <td>77364241990273403</td>\n",
       "      <td>1565044732</td>\n",
       "      <td>246\"</td>\n",
       "    </tr>\n",
       "    <tr>\n",
       "      <td>176813</td>\n",
       "      <td>\"PaymentScreenSuccessful</td>\n",
       "      <td>77364241990273403</td>\n",
       "      <td>1565044732</td>\n",
       "      <td>246\"</td>\n",
       "    </tr>\n",
       "  </tbody>\n",
       "</table>\n",
       "</div>"
      ],
      "text/plain": [
       "                           event          device_id  event_time exp_id\n",
       "130557         \"MainScreenAppear  33176906322804559  1564933075   248\"\n",
       "130558         \"MainScreenAppear  33176906322804559  1564933075   248\"\n",
       "130994       \"OffersScreenAppear  33176906322804559  1564933763   248\"\n",
       "130995       \"OffersScreenAppear  33176906322804559  1564933763   248\"\n",
       "104106         \"CartScreenAppear  34565258828294726  1564857221   248\"\n",
       "104108         \"CartScreenAppear  34565258828294726  1564857221   248\"\n",
       "159301  \"PaymentScreenSuccessful  54903596035630984  1565011672   248\"\n",
       "159302  \"PaymentScreenSuccessful  54903596035630984  1565011672   248\"\n",
       "176812  \"PaymentScreenSuccessful  77364241990273403  1565044732   246\"\n",
       "176813  \"PaymentScreenSuccessful  77364241990273403  1565044732   246\""
      ]
     },
     "execution_count": 6,
     "metadata": {},
     "output_type": "execute_result"
    }
   ],
   "source": [
    "# посмотрим, что за дубликаты\n",
    "df.loc[df.duplicated(keep=False)].sort_values(by=['device_id','event']).head(10)"
   ]
  },
  {
   "cell_type": "markdown",
   "id": "d8f17496",
   "metadata": {},
   "source": [
    "Дубликаты образовались при неверной выгрузке в файл или ошибки при записях логов.  \n",
    "Явно одни и теже события невозможны одновременно и дубликаты следует удалить."
   ]
  },
  {
   "cell_type": "code",
   "execution_count": 7,
   "id": "64ff703d",
   "metadata": {},
   "outputs": [
    {
     "name": "stdout",
     "output_type": "stream",
     "text": [
      "Всего 0 дубликата(ов) в таблице\n"
     ]
    }
   ],
   "source": [
    "# удаляем дубликаты, кроме первого вхождения и проверяем их отсутствие\n",
    "# при удалении дубликатов переиндексируем датасет с удалением старых индексов\n",
    "df = df.drop_duplicates().reset_index(drop=True)\n",
    "# проверяем после удаления количество дубликатов\n",
    "print(f'Всего {df.duplicated().sum()} дубликата(ов) в таблице')"
   ]
  },
  {
   "cell_type": "markdown",
   "id": "d1da8418",
   "metadata": {},
   "source": [
    "Приведём колонку с датой и временем события в типу дата."
   ]
  },
  {
   "cell_type": "code",
   "execution_count": 8,
   "id": "b23e34a5",
   "metadata": {},
   "outputs": [],
   "source": [
    "df['event_time'] = pd.to_datetime(df['event_time'], unit='s')"
   ]
  },
  {
   "cell_type": "code",
   "execution_count": 9,
   "id": "d0c7b5b9",
   "metadata": {},
   "outputs": [
    {
     "name": "stdout",
     "output_type": "stream",
     "text": [
      "<class 'pandas.core.frame.DataFrame'>\n",
      "RangeIndex: 243713 entries, 0 to 243712\n",
      "Data columns (total 4 columns):\n",
      "event         243713 non-null object\n",
      "device_id     243713 non-null int64\n",
      "event_time    243713 non-null datetime64[ns]\n",
      "exp_id        243713 non-null object\n",
      "dtypes: datetime64[ns](1), int64(1), object(2)\n",
      "memory usage: 7.4+ MB\n"
     ]
    },
    {
     "data": {
      "text/html": [
       "<div>\n",
       "<style scoped>\n",
       "    .dataframe tbody tr th:only-of-type {\n",
       "        vertical-align: middle;\n",
       "    }\n",
       "\n",
       "    .dataframe tbody tr th {\n",
       "        vertical-align: top;\n",
       "    }\n",
       "\n",
       "    .dataframe thead th {\n",
       "        text-align: right;\n",
       "    }\n",
       "</style>\n",
       "<table border=\"1\" class=\"dataframe\">\n",
       "  <thead>\n",
       "    <tr style=\"text-align: right;\">\n",
       "      <th></th>\n",
       "      <th>event</th>\n",
       "      <th>device_id</th>\n",
       "      <th>event_time</th>\n",
       "      <th>exp_id</th>\n",
       "    </tr>\n",
       "  </thead>\n",
       "  <tbody>\n",
       "    <tr>\n",
       "      <td>0</td>\n",
       "      <td>\"MainScreenAppear</td>\n",
       "      <td>4575588528974610257</td>\n",
       "      <td>2019-07-25 04:43:36</td>\n",
       "      <td>246\"</td>\n",
       "    </tr>\n",
       "    <tr>\n",
       "      <td>1</td>\n",
       "      <td>\"MainScreenAppear</td>\n",
       "      <td>7416695313311560658</td>\n",
       "      <td>2019-07-25 11:11:42</td>\n",
       "      <td>246\"</td>\n",
       "    </tr>\n",
       "    <tr>\n",
       "      <td>2</td>\n",
       "      <td>\"PaymentScreenSuccessful</td>\n",
       "      <td>3518123091307005509</td>\n",
       "      <td>2019-07-25 11:28:47</td>\n",
       "      <td>248\"</td>\n",
       "    </tr>\n",
       "    <tr>\n",
       "      <td>3</td>\n",
       "      <td>\"CartScreenAppear</td>\n",
       "      <td>3518123091307005509</td>\n",
       "      <td>2019-07-25 11:28:47</td>\n",
       "      <td>248\"</td>\n",
       "    </tr>\n",
       "    <tr>\n",
       "      <td>4</td>\n",
       "      <td>\"PaymentScreenSuccessful</td>\n",
       "      <td>6217807653094995999</td>\n",
       "      <td>2019-07-25 11:48:42</td>\n",
       "      <td>248\"</td>\n",
       "    </tr>\n",
       "  </tbody>\n",
       "</table>\n",
       "</div>"
      ],
      "text/plain": [
       "                      event            device_id          event_time exp_id\n",
       "0         \"MainScreenAppear  4575588528974610257 2019-07-25 04:43:36   246\"\n",
       "1         \"MainScreenAppear  7416695313311560658 2019-07-25 11:11:42   246\"\n",
       "2  \"PaymentScreenSuccessful  3518123091307005509 2019-07-25 11:28:47   248\"\n",
       "3         \"CartScreenAppear  3518123091307005509 2019-07-25 11:28:47   248\"\n",
       "4  \"PaymentScreenSuccessful  6217807653094995999 2019-07-25 11:48:42   248\""
      ]
     },
     "execution_count": 9,
     "metadata": {},
     "output_type": "execute_result"
    }
   ],
   "source": [
    "df.info()\n",
    "df.head()"
   ]
  },
  {
   "cell_type": "code",
   "execution_count": 10,
   "id": "226e7734",
   "metadata": {},
   "outputs": [
    {
     "name": "stdout",
     "output_type": "stream",
     "text": [
      "Всего пропусков в таблице \n",
      "event         0\n",
      "device_id     0\n",
      "event_time    0\n",
      "exp_id        0\n",
      "dtype: int64\n"
     ]
    }
   ],
   "source": [
    "print(f'Всего пропусков в таблице \\n{df.isna().sum()}')"
   ]
  },
  {
   "cell_type": "markdown",
   "id": "c34cc156",
   "metadata": {},
   "source": [
    "## \tДобавим столбец даты"
   ]
  },
  {
   "cell_type": "code",
   "execution_count": 11,
   "id": "256768be",
   "metadata": {},
   "outputs": [
    {
     "data": {
      "text/html": [
       "<div>\n",
       "<style scoped>\n",
       "    .dataframe tbody tr th:only-of-type {\n",
       "        vertical-align: middle;\n",
       "    }\n",
       "\n",
       "    .dataframe tbody tr th {\n",
       "        vertical-align: top;\n",
       "    }\n",
       "\n",
       "    .dataframe thead th {\n",
       "        text-align: right;\n",
       "    }\n",
       "</style>\n",
       "<table border=\"1\" class=\"dataframe\">\n",
       "  <thead>\n",
       "    <tr style=\"text-align: right;\">\n",
       "      <th></th>\n",
       "      <th>event</th>\n",
       "      <th>device_id</th>\n",
       "      <th>event_time</th>\n",
       "      <th>exp_id</th>\n",
       "      <th>event_date</th>\n",
       "    </tr>\n",
       "  </thead>\n",
       "  <tbody>\n",
       "    <tr>\n",
       "      <td>0</td>\n",
       "      <td>\"MainScreenAppear</td>\n",
       "      <td>4575588528974610257</td>\n",
       "      <td>2019-07-25 04:43:36</td>\n",
       "      <td>246\"</td>\n",
       "      <td>2019-07-25</td>\n",
       "    </tr>\n",
       "    <tr>\n",
       "      <td>1</td>\n",
       "      <td>\"MainScreenAppear</td>\n",
       "      <td>7416695313311560658</td>\n",
       "      <td>2019-07-25 11:11:42</td>\n",
       "      <td>246\"</td>\n",
       "      <td>2019-07-25</td>\n",
       "    </tr>\n",
       "    <tr>\n",
       "      <td>2</td>\n",
       "      <td>\"PaymentScreenSuccessful</td>\n",
       "      <td>3518123091307005509</td>\n",
       "      <td>2019-07-25 11:28:47</td>\n",
       "      <td>248\"</td>\n",
       "      <td>2019-07-25</td>\n",
       "    </tr>\n",
       "    <tr>\n",
       "      <td>3</td>\n",
       "      <td>\"CartScreenAppear</td>\n",
       "      <td>3518123091307005509</td>\n",
       "      <td>2019-07-25 11:28:47</td>\n",
       "      <td>248\"</td>\n",
       "      <td>2019-07-25</td>\n",
       "    </tr>\n",
       "    <tr>\n",
       "      <td>4</td>\n",
       "      <td>\"PaymentScreenSuccessful</td>\n",
       "      <td>6217807653094995999</td>\n",
       "      <td>2019-07-25 11:48:42</td>\n",
       "      <td>248\"</td>\n",
       "      <td>2019-07-25</td>\n",
       "    </tr>\n",
       "  </tbody>\n",
       "</table>\n",
       "</div>"
      ],
      "text/plain": [
       "                      event            device_id          event_time exp_id  \\\n",
       "0         \"MainScreenAppear  4575588528974610257 2019-07-25 04:43:36   246\"   \n",
       "1         \"MainScreenAppear  7416695313311560658 2019-07-25 11:11:42   246\"   \n",
       "2  \"PaymentScreenSuccessful  3518123091307005509 2019-07-25 11:28:47   248\"   \n",
       "3         \"CartScreenAppear  3518123091307005509 2019-07-25 11:28:47   248\"   \n",
       "4  \"PaymentScreenSuccessful  6217807653094995999 2019-07-25 11:48:42   248\"   \n",
       "\n",
       "   event_date  \n",
       "0  2019-07-25  \n",
       "1  2019-07-25  \n",
       "2  2019-07-25  \n",
       "3  2019-07-25  \n",
       "4  2019-07-25  "
      ]
     },
     "execution_count": 11,
     "metadata": {},
     "output_type": "execute_result"
    }
   ],
   "source": [
    "# выделяем столбец с датой\n",
    "df['event_date'] = df['event_time'].dt.date\n",
    "df.head()"
   ]
  },
  {
   "cell_type": "code",
   "execution_count": 12,
   "id": "9ccd0cbd",
   "metadata": {},
   "outputs": [
    {
     "name": "stdout",
     "output_type": "stream",
     "text": [
      "<class 'pandas.core.frame.DataFrame'>\n",
      "RangeIndex: 243713 entries, 0 to 243712\n",
      "Data columns (total 5 columns):\n",
      "event         243713 non-null object\n",
      "device_id     243713 non-null int64\n",
      "event_time    243713 non-null datetime64[ns]\n",
      "exp_id        243713 non-null object\n",
      "event_date    243713 non-null object\n",
      "dtypes: datetime64[ns](1), int64(1), object(3)\n",
      "memory usage: 9.3+ MB\n"
     ]
    }
   ],
   "source": [
    "df.info()"
   ]
  },
  {
   "cell_type": "markdown",
   "id": "5e722243",
   "metadata": {},
   "source": [
    "# Изучим и проверим данные"
   ]
  },
  {
   "cell_type": "markdown",
   "id": "ef5ef5c7",
   "metadata": {},
   "source": [
    "## \tСколько всего событий в логе"
   ]
  },
  {
   "cell_type": "code",
   "execution_count": 13,
   "id": "133f608d",
   "metadata": {},
   "outputs": [
    {
     "data": {
      "text/plain": [
       "\"MainScreenAppear           119101\n",
       "\"OffersScreenAppear          46808\n",
       "\"CartScreenAppear            42668\n",
       "\"PaymentScreenSuccessful     34118\n",
       "\"Tutorial                     1018\n",
       "Name: event, dtype: int64"
      ]
     },
     "execution_count": 13,
     "metadata": {},
     "output_type": "execute_result"
    }
   ],
   "source": [
    "df.event.value_counts()"
   ]
  },
  {
   "cell_type": "markdown",
   "id": "af7cdf4e",
   "metadata": {},
   "source": [
    "Всего 5 событий в логе:\n",
    "- `\"MainScreenAppear` (пользователь на главном экране)\n",
    "- `\"OffersScreenAppear` (пользователь увидел предложение)\n",
    "- `\"CartScreenAppear` (добавление товара в корзину)\n",
    "- `\"PaymentScreenSuccessful` (успешная оплата)\n",
    "- `\"Tutorial` (особняком стоит просмотр руководства пользователя)"
   ]
  },
  {
   "cell_type": "markdown",
   "id": "0fad5944",
   "metadata": {},
   "source": [
    "## \tСколько всего пользователей в логе"
   ]
  },
  {
   "cell_type": "code",
   "execution_count": 14,
   "id": "4009143f",
   "metadata": {},
   "outputs": [
    {
     "name": "stdout",
     "output_type": "stream",
     "text": [
      "Всего 7551 уникальных пользователей в логе\n"
     ]
    }
   ],
   "source": [
    "print(f'Всего {df.device_id.nunique()} уникальных пользователей в логе')"
   ]
  },
  {
   "cell_type": "markdown",
   "id": "3b58e268",
   "metadata": {},
   "source": [
    "## Сколько в среднем событий приходится на пользователя"
   ]
  },
  {
   "cell_type": "code",
   "execution_count": 15,
   "id": "1f12089e",
   "metadata": {},
   "outputs": [
    {
     "name": "stdout",
     "output_type": "stream",
     "text": [
      "Всего 32 события в среднем на пользователя\n"
     ]
    }
   ],
   "source": [
    "device_id_event_mean = df.groupby('device_id').agg({'event':'count'}).event.mean().round().astype('int8')\n",
    "print(f'Всего {device_id_event_mean} события в среднем на пользователя')"
   ]
  },
  {
   "cell_type": "code",
   "execution_count": 16,
   "id": "fbc00a88",
   "metadata": {},
   "outputs": [
    {
     "data": {
      "text/html": [
       "<div>\n",
       "<style scoped>\n",
       "    .dataframe tbody tr th:only-of-type {\n",
       "        vertical-align: middle;\n",
       "    }\n",
       "\n",
       "    .dataframe tbody tr th {\n",
       "        vertical-align: top;\n",
       "    }\n",
       "\n",
       "    .dataframe thead th {\n",
       "        text-align: right;\n",
       "    }\n",
       "</style>\n",
       "<table border=\"1\" class=\"dataframe\">\n",
       "  <thead>\n",
       "    <tr style=\"text-align: right;\">\n",
       "      <th>event</th>\n",
       "      <th>\"CartScreenAppear</th>\n",
       "      <th>\"MainScreenAppear</th>\n",
       "      <th>\"OffersScreenAppear</th>\n",
       "      <th>\"PaymentScreenSuccessful</th>\n",
       "      <th>\"Tutorial</th>\n",
       "    </tr>\n",
       "  </thead>\n",
       "  <tbody>\n",
       "    <tr>\n",
       "      <td>count</td>\n",
       "      <td>7551.00</td>\n",
       "      <td>7551.00</td>\n",
       "      <td>7551.00</td>\n",
       "      <td>7551.00</td>\n",
       "      <td>7551.00</td>\n",
       "    </tr>\n",
       "    <tr>\n",
       "      <td>mean</td>\n",
       "      <td>5.65</td>\n",
       "      <td>15.77</td>\n",
       "      <td>6.20</td>\n",
       "      <td>4.52</td>\n",
       "      <td>0.13</td>\n",
       "    </tr>\n",
       "    <tr>\n",
       "      <td>std</td>\n",
       "      <td>27.34</td>\n",
       "      <td>16.26</td>\n",
       "      <td>13.46</td>\n",
       "      <td>25.61</td>\n",
       "      <td>0.54</td>\n",
       "    </tr>\n",
       "    <tr>\n",
       "      <td>min</td>\n",
       "      <td>0.00</td>\n",
       "      <td>0.00</td>\n",
       "      <td>0.00</td>\n",
       "      <td>0.00</td>\n",
       "      <td>0.00</td>\n",
       "    </tr>\n",
       "    <tr>\n",
       "      <td>25%</td>\n",
       "      <td>0.00</td>\n",
       "      <td>6.00</td>\n",
       "      <td>0.00</td>\n",
       "      <td>0.00</td>\n",
       "      <td>0.00</td>\n",
       "    </tr>\n",
       "    <tr>\n",
       "      <td>50%</td>\n",
       "      <td>0.00</td>\n",
       "      <td>11.00</td>\n",
       "      <td>2.00</td>\n",
       "      <td>0.00</td>\n",
       "      <td>0.00</td>\n",
       "    </tr>\n",
       "    <tr>\n",
       "      <td>75%</td>\n",
       "      <td>5.00</td>\n",
       "      <td>21.00</td>\n",
       "      <td>8.00</td>\n",
       "      <td>4.00</td>\n",
       "      <td>0.00</td>\n",
       "    </tr>\n",
       "    <tr>\n",
       "      <td>max</td>\n",
       "      <td>1100.00</td>\n",
       "      <td>206.00</td>\n",
       "      <td>509.00</td>\n",
       "      <td>1085.00</td>\n",
       "      <td>27.00</td>\n",
       "    </tr>\n",
       "  </tbody>\n",
       "</table>\n",
       "</div>"
      ],
      "text/plain": [
       "event  \"CartScreenAppear  \"MainScreenAppear  \"OffersScreenAppear  \\\n",
       "count            7551.00            7551.00              7551.00   \n",
       "mean                5.65              15.77                 6.20   \n",
       "std                27.34              16.26                13.46   \n",
       "min                 0.00               0.00                 0.00   \n",
       "25%                 0.00               6.00                 0.00   \n",
       "50%                 0.00              11.00                 2.00   \n",
       "75%                 5.00              21.00                 8.00   \n",
       "max              1100.00             206.00               509.00   \n",
       "\n",
       "event  \"PaymentScreenSuccessful  \"Tutorial  \n",
       "count                   7551.00    7551.00  \n",
       "mean                       4.52       0.13  \n",
       "std                       25.61       0.54  \n",
       "min                        0.00       0.00  \n",
       "25%                        0.00       0.00  \n",
       "50%                        0.00       0.00  \n",
       "75%                        4.00       0.00  \n",
       "max                     1085.00      27.00  "
      ]
     },
     "execution_count": 16,
     "metadata": {},
     "output_type": "execute_result"
    }
   ],
   "source": [
    "df.pivot_table(index='device_id', columns='event', values='event_time', aggfunc='count').fillna(0).describe().round(2)"
   ]
  },
  {
   "cell_type": "markdown",
   "id": "b4a76ef7",
   "metadata": {},
   "source": [
    "Посмотрели данные по по пользователям по количеству логов по каждому событию."
   ]
  },
  {
   "cell_type": "markdown",
   "id": "bf65c38e",
   "metadata": {},
   "source": [
    "##  Данные за какой период. Найдём максимальную и минимальную дату. Построем гистограмму по дате и времени. "
   ]
  },
  {
   "cell_type": "code",
   "execution_count": 17,
   "id": "05f205e6",
   "metadata": {},
   "outputs": [
    {
     "name": "stdout",
     "output_type": "stream",
     "text": [
      "Минимальная дата лога 2019-07-25 04:43:36\n",
      "Максимальная дата лога 2019-08-07 21:15:17\n"
     ]
    }
   ],
   "source": [
    "print(f'Минимальная дата лога {df.event_time.min()}\\nМаксимальная дата лога {df.event_time.max()}')"
   ]
  },
  {
   "cell_type": "code",
   "execution_count": 18,
   "id": "36948722",
   "metadata": {},
   "outputs": [
    {
     "data": {
      "image/png": "[encoded data removed]",
      "text/plain": [
       "<Figure size 1080x576 with 1 Axes>"
      ]
     },
     "metadata": {
      "needs_background": "light"
     },
     "output_type": "display_data"
    }
   ],
   "source": [
    "fig, ax = plt.subplots(figsize=(15,8))\n",
    "\n",
    "# строим гистрограмму по количеству событий с разбивкой каждого часа в период данных логов\n",
    "# bins считаем как разность начала и конца данных логов умноженных на количество часов в сутки \n",
    "ax.hist(df.event_time, bins=(df.event_date.max() - df.event_date.min()).days * 24, color='#BDB76B')\n",
    "plt.title('Количество событий в единицу времени каждого часа по временным данным логов', fontsize=18)\n",
    "plt.show()"
   ]
  },
  {
   "cell_type": "markdown",
   "id": "1a9e7514",
   "metadata": {},
   "source": [
    "По гистограмме видно, что в первую неделю есть крайне малое количество событий.  \n",
    "Основные события начинаются с 01 августа по 07 августа со спадами каждый день вероятно в ночные часы."
   ]
  },
  {
   "cell_type": "markdown",
   "id": "2ab642f0",
   "metadata": {},
   "source": [
    "## Технически в логи новых дней по некоторым пользователям могут «доезжать» события из прошлого — это может «перекашивать данные». Определим, с какого момента данные полные и отбросим более старые. "
   ]
  },
  {
   "cell_type": "markdown",
   "id": "f5caaac2",
   "metadata": {},
   "source": [
    "Очистим данные за первую неделю, так как события, как выше на графике, преобретают устойчивый характер событий логов начиная со второй недели."
   ]
  },
  {
   "cell_type": "code",
   "execution_count": 19,
   "id": "2af57a9e",
   "metadata": {},
   "outputs": [],
   "source": [
    "# оставляем данные только за вторую неделю с 01 по 08 августа\n",
    "df = df.query('event_date > Timestamp(\"2019-07-31\")')"
   ]
  },
  {
   "cell_type": "code",
   "execution_count": 20,
   "id": "62c8ae5f",
   "metadata": {},
   "outputs": [
    {
     "name": "stdout",
     "output_type": "stream",
     "text": [
      "\n",
      "Всего осталось 7534 уникальных пользователей\n"
     ]
    }
   ],
   "source": [
    "print(f'\\nВсего осталось {df.device_id.nunique()} уникальных пользователей')"
   ]
  },
  {
   "cell_type": "markdown",
   "id": "eab553e4",
   "metadata": {},
   "source": [
    "После очистки данных за первую неделю мы лишились 17 пользователей в данных."
   ]
  },
  {
   "cell_type": "markdown",
   "id": "13f5ef11",
   "metadata": {},
   "source": [
    "Проверяю количество пользователей, у которых первое событие не является открытием стартовой страницы. Буду руководствоваться соображениями, что новые пользователи должны первым событием иметь **\"MainScreenAppear**, а дальше уже могут быть остальные логи.  Если у `device_id` первым логом идёт иное событие, то тогда стоит предполагать, что пользователь не новый.  "
   ]
  },
  {
   "cell_type": "code",
   "execution_count": 21,
   "id": "7fc3474f",
   "metadata": {},
   "outputs": [],
   "source": [
    "# создаю таблицу с группированными данными по пользователю и событию с самой ранней датой события\n",
    "# хочу найти id и все первые события по пользователю, чтобы в дальнейшем выделить первое событие по пользователю\n",
    "min_date_event = ( df.sort_values(by=['event', 'event_time']).groupby(['device_id','event']).\n",
    "                  agg({'event_time':'min'}).\n",
    "                  reset_index().\n",
    "                  sort_values(by=['device_id', 'event_time'])\n",
    ")\n",
    "\n",
    "# выбираю первое событие совершенное пользователем \n",
    "min_date_event = min_date_event.groupby('device_id').agg({'event_time':'min','event':'first'})\n",
    "\n",
    "# получаю все device_id, логам которых соответствием первым событием \"MainScreenAppear, которое я \n",
    "# определил для новых пользователей\n",
    "device_id_new = min_date_event.query('event == \"\\\\\"MainScreenAppear\"').reset_index().device_id\n"
   ]
  },
  {
   "cell_type": "code",
   "execution_count": 22,
   "id": "607d9c5b",
   "metadata": {
    "scrolled": true
   },
   "outputs": [
    {
     "name": "stdout",
     "output_type": "stream",
     "text": [
      "<class 'pandas.core.frame.DataFrame'>\n",
      "Int64Index: 240887 entries, 2826 to 243712\n",
      "Data columns (total 5 columns):\n",
      "event         240887 non-null object\n",
      "device_id     240887 non-null int64\n",
      "event_time    240887 non-null datetime64[ns]\n",
      "exp_id        240887 non-null object\n",
      "event_date    240887 non-null object\n",
      "dtypes: datetime64[ns](1), int64(1), object(3)\n",
      "memory usage: 11.0+ MB\n",
      "\n",
      "Всего 1228 уникальных пользователей,которые могут быть старыми пользователями\n"
     ]
    }
   ],
   "source": [
    "df.info()\n",
    "print(f'\\nВсего {df.device_id.nunique() - device_id_new.count()} уникальных пользователей,\\\n",
    "которые могут быть старыми пользователями')"
   ]
  },
  {
   "cell_type": "markdown",
   "id": "b8130894",
   "metadata": {},
   "source": [
    "## \tПроверим, что есть пользователи из всех трёх экспериментальных групп."
   ]
  },
  {
   "cell_type": "code",
   "execution_count": 23,
   "id": "6e17e76f",
   "metadata": {},
   "outputs": [],
   "source": [
    "# функция строит барплот\n",
    "def df_barplot(df, column_x, column_y, **kwargs):\n",
    "    plt.figure(figsize=kwargs.get('figsize', (15, 6)))\n",
    "# устанавливаем стиль\n",
    "    sns.set(style=\"white\")\n",
    "    sns.barplot(x=column_x, y=column_y, data=df)\n",
    "    plt.title(label=kwargs.get('title'), fontsize=kwargs.get('fontsize_title', 20))\n",
    "    plt.xlabel(xlabel=kwargs.get('x_label',''), fontsize=kwargs.get('fontsize_xlabel', 16))\n",
    "    plt.ylabel(ylabel=kwargs.get('y_label',''), fontsize=kwargs.get('fontsize_ylabel', 16))    \n",
    "# убираем оси, кроме нижней\n",
    "    sns.despine(left=True)\n",
    "    plt.show()    "
   ]
  },
  {
   "cell_type": "code",
   "execution_count": 24,
   "id": "3a984c3b",
   "metadata": {},
   "outputs": [],
   "source": [
    "# группируем device_id по экспериментальным группам\n",
    "device_id_group_id = df.groupby('exp_id').agg({'device_id':'nunique'}).reset_index()"
   ]
  },
  {
   "cell_type": "code",
   "execution_count": 25,
   "id": "98874559",
   "metadata": {},
   "outputs": [
    {
     "data": {
      "image/png": "[encoded data removed]",
      "text/plain": [
       "<Figure size 1080x432 with 1 Axes>"
      ]
     },
     "metadata": {
      "needs_background": "light"
     },
     "output_type": "display_data"
    },
    {
     "data": {
      "text/html": [
       "<div>\n",
       "<style scoped>\n",
       "    .dataframe tbody tr th:only-of-type {\n",
       "        vertical-align: middle;\n",
       "    }\n",
       "\n",
       "    .dataframe tbody tr th {\n",
       "        vertical-align: top;\n",
       "    }\n",
       "\n",
       "    .dataframe thead th {\n",
       "        text-align: right;\n",
       "    }\n",
       "</style>\n",
       "<table border=\"1\" class=\"dataframe\">\n",
       "  <thead>\n",
       "    <tr style=\"text-align: right;\">\n",
       "      <th></th>\n",
       "      <th>exp_id</th>\n",
       "      <th>device_id</th>\n",
       "    </tr>\n",
       "  </thead>\n",
       "  <tbody>\n",
       "    <tr>\n",
       "      <td>0</td>\n",
       "      <td>246\"</td>\n",
       "      <td>2484</td>\n",
       "    </tr>\n",
       "    <tr>\n",
       "      <td>1</td>\n",
       "      <td>247\"</td>\n",
       "      <td>2513</td>\n",
       "    </tr>\n",
       "    <tr>\n",
       "      <td>2</td>\n",
       "      <td>248\"</td>\n",
       "      <td>2537</td>\n",
       "    </tr>\n",
       "  </tbody>\n",
       "</table>\n",
       "</div>"
      ],
      "text/plain": [
       "  exp_id  device_id\n",
       "0   246\"       2484\n",
       "1   247\"       2513\n",
       "2   248\"       2537"
      ]
     },
     "execution_count": 25,
     "metadata": {},
     "output_type": "execute_result"
    }
   ],
   "source": [
    "df_barplot(device_id_group_id, 'exp_id', 'device_id', title='Распределение пользователей по экспериментальным группам',\n",
    "          x_label='Экспериментальные группы', y_label='Количество пользователей')\n",
    "device_id_group_id"
   ]
  },
  {
   "cell_type": "markdown",
   "id": "11e6fb38",
   "metadata": {},
   "source": [
    "Экспериментальные группы 246\" и 247\" и 248\" имеют примерно равное количество пользователей с разбежкой в пару десятков."
   ]
  },
  {
   "cell_type": "markdown",
   "id": "86ca0404",
   "metadata": {},
   "source": [
    "# Изучим воронку событий"
   ]
  },
  {
   "cell_type": "markdown",
   "id": "049e11a7",
   "metadata": {},
   "source": [
    "## \tПосмотрим, какие события есть в логах, как часто они встречаются. Отсортируем события по частоте."
   ]
  },
  {
   "cell_type": "code",
   "execution_count": 26,
   "id": "dd37f323",
   "metadata": {},
   "outputs": [
    {
     "data": {
      "image/png": "[encoded data removed]",
      "text/plain": [
       "<Figure size 1080x432 with 1 Axes>"
      ]
     },
     "metadata": {},
     "output_type": "display_data"
    },
    {
     "data": {
      "text/html": [
       "<div>\n",
       "<style scoped>\n",
       "    .dataframe tbody tr th:only-of-type {\n",
       "        vertical-align: middle;\n",
       "    }\n",
       "\n",
       "    .dataframe tbody tr th {\n",
       "        vertical-align: top;\n",
       "    }\n",
       "\n",
       "    .dataframe thead th {\n",
       "        text-align: right;\n",
       "    }\n",
       "</style>\n",
       "<table border=\"1\" class=\"dataframe\">\n",
       "  <thead>\n",
       "    <tr style=\"text-align: right;\">\n",
       "      <th></th>\n",
       "      <th>event</th>\n",
       "      <th>device_id</th>\n",
       "    </tr>\n",
       "  </thead>\n",
       "  <tbody>\n",
       "    <tr>\n",
       "      <td>1</td>\n",
       "      <td>\"MainScreenAppear</td>\n",
       "      <td>117328</td>\n",
       "    </tr>\n",
       "    <tr>\n",
       "      <td>2</td>\n",
       "      <td>\"OffersScreenAppear</td>\n",
       "      <td>46333</td>\n",
       "    </tr>\n",
       "    <tr>\n",
       "      <td>0</td>\n",
       "      <td>\"CartScreenAppear</td>\n",
       "      <td>42303</td>\n",
       "    </tr>\n",
       "    <tr>\n",
       "      <td>3</td>\n",
       "      <td>\"PaymentScreenSuccessful</td>\n",
       "      <td>33918</td>\n",
       "    </tr>\n",
       "    <tr>\n",
       "      <td>4</td>\n",
       "      <td>\"Tutorial</td>\n",
       "      <td>1005</td>\n",
       "    </tr>\n",
       "  </tbody>\n",
       "</table>\n",
       "</div>"
      ],
      "text/plain": [
       "                      event  device_id\n",
       "1         \"MainScreenAppear     117328\n",
       "2       \"OffersScreenAppear      46333\n",
       "0         \"CartScreenAppear      42303\n",
       "3  \"PaymentScreenSuccessful      33918\n",
       "4                 \"Tutorial       1005"
      ]
     },
     "execution_count": 26,
     "metadata": {},
     "output_type": "execute_result"
    }
   ],
   "source": [
    "# группирую события в логах и сортирую по частоте\n",
    "event_frecuency = df.groupby('event').agg({'device_id':'count'}).reset_index().sort_values(by='device_id', ascending=False)\n",
    "\n",
    "# барплот по событиям\n",
    "df_barplot(event_frecuency, 'event', 'device_id', title='Количество каждого события в логах')\n",
    "\n",
    "event_frecuency"
   ]
  },
  {
   "cell_type": "markdown",
   "id": "32fa82d9",
   "metadata": {},
   "source": [
    "## \tПосчитаем, сколько пользователей совершали каждое из этих событий. Отсортируем события по числу пользователей. Посчитаем долю пользователей, которые хоть раз совершали событие."
   ]
  },
  {
   "cell_type": "code",
   "execution_count": 27,
   "id": "c1476ef0",
   "metadata": {},
   "outputs": [
    {
     "data": {
      "image/png": "[encoded data removed]",
      "text/plain": [
       "<Figure size 1080x432 with 1 Axes>"
      ]
     },
     "metadata": {},
     "output_type": "display_data"
    },
    {
     "data": {
      "text/html": [
       "<div>\n",
       "<style scoped>\n",
       "    .dataframe tbody tr th:only-of-type {\n",
       "        vertical-align: middle;\n",
       "    }\n",
       "\n",
       "    .dataframe tbody tr th {\n",
       "        vertical-align: top;\n",
       "    }\n",
       "\n",
       "    .dataframe thead th {\n",
       "        text-align: right;\n",
       "    }\n",
       "</style>\n",
       "<table border=\"1\" class=\"dataframe\">\n",
       "  <thead>\n",
       "    <tr style=\"text-align: right;\">\n",
       "      <th></th>\n",
       "      <th>index</th>\n",
       "      <th>event</th>\n",
       "      <th>device_id</th>\n",
       "      <th>device_id_share</th>\n",
       "    </tr>\n",
       "  </thead>\n",
       "  <tbody>\n",
       "    <tr>\n",
       "      <td>0</td>\n",
       "      <td>1</td>\n",
       "      <td>total</td>\n",
       "      <td>7534</td>\n",
       "      <td>100.00</td>\n",
       "    </tr>\n",
       "    <tr>\n",
       "      <td>1</td>\n",
       "      <td>2</td>\n",
       "      <td>\"MainScreenAppear</td>\n",
       "      <td>7419</td>\n",
       "      <td>98.47</td>\n",
       "    </tr>\n",
       "    <tr>\n",
       "      <td>2</td>\n",
       "      <td>3</td>\n",
       "      <td>\"OffersScreenAppear</td>\n",
       "      <td>4593</td>\n",
       "      <td>60.96</td>\n",
       "    </tr>\n",
       "    <tr>\n",
       "      <td>3</td>\n",
       "      <td>4</td>\n",
       "      <td>\"CartScreenAppear</td>\n",
       "      <td>3734</td>\n",
       "      <td>49.56</td>\n",
       "    </tr>\n",
       "    <tr>\n",
       "      <td>4</td>\n",
       "      <td>5</td>\n",
       "      <td>\"PaymentScreenSuccessful</td>\n",
       "      <td>3539</td>\n",
       "      <td>46.97</td>\n",
       "    </tr>\n",
       "    <tr>\n",
       "      <td>5</td>\n",
       "      <td>6</td>\n",
       "      <td>\"Tutorial</td>\n",
       "      <td>840</td>\n",
       "      <td>11.15</td>\n",
       "    </tr>\n",
       "  </tbody>\n",
       "</table>\n",
       "</div>"
      ],
      "text/plain": [
       "   index                     event  device_id  device_id_share\n",
       "0      1                     total       7534           100.00\n",
       "1      2         \"MainScreenAppear       7419            98.47\n",
       "2      3       \"OffersScreenAppear       4593            60.96\n",
       "3      4         \"CartScreenAppear       3734            49.56\n",
       "4      5  \"PaymentScreenSuccessful       3539            46.97\n",
       "5      6                 \"Tutorial        840            11.15"
      ]
     },
     "execution_count": 27,
     "metadata": {},
     "output_type": "execute_result"
    }
   ],
   "source": [
    "# группируем события по уникальным device_id и сортируем от большего к меньшему\n",
    "device_id_nunique_e = ( df.groupby('event').agg({'device_id':'nunique'}).\n",
    "                           sort_values(by='device_id', ascending=False).\n",
    "                           reset_index()\n",
    ")\n",
    "# создаем датафрейм с событие всего и уникальными пользователями, чтобы сконкатенировать потом с device_id_nunique_e\n",
    "# датафрейм именно для этого index=[0,1], чтобы соединить, а потом лишнюю строку удалим\n",
    "total_id = pd.DataFrame(data={'event':'total', 'device_id': df.device_id.nunique()}, index=[0,1])\n",
    "\n",
    "# соединяем два датафрейма и удаляем повторяющую строку total:всего пользователей\n",
    "device_id_nunique_event = pd.concat([total_id, device_id_nunique_e], ignore_index=True)\n",
    "device_id_nunique_event = device_id_nunique_event.loc[1:].reset_index()\n",
    "\n",
    "# выделяем столбец по доли пользователей, совершавших каждое из событий\n",
    "device_id_nunique_event['device_id_share'] = ( (device_id_nunique_event['device_id'] /  \n",
    "                                            device_id_nunique_event['device_id'][0] * 100).round(2)\n",
    ")\n",
    "\n",
    "df_barplot(device_id_nunique_event.query('event != \"total\"'), 'event', 'device_id_share', \n",
    "           title='Доли пользователей, совершавшие события',\n",
    "           y_label='Процент пользователей')\n",
    "\n",
    "device_id_nunique_event"
   ]
  },
  {
   "cell_type": "markdown",
   "id": "222c8415",
   "metadata": {},
   "source": [
    "## \tПредположим, в каком порядке происходят события. Все ли они выстраиваются в последовательную цепочку и нужно ли учитывать все при расчёте воронки."
   ]
  },
  {
   "cell_type": "markdown",
   "id": "a02f82e6",
   "metadata": {},
   "source": [
    "Сначала пользователь оказывается на главном экране - это событие `\"MainScreenAppear`  \n",
    "далее пользователь видит предложение товаров или ассортимент - это событие `\"OffersScreenAppear`  \n",
    "после событие добавление товаров в корзину - это событие `\"CartScreenAppear`\n",
    "конечный итог успешная оплата товаров - это событие `\"PaymentScreenSuccessful`  \n",
    "Событие `\"Tutorial` - руководство или инструкция по совершению покупки. Данное событие не связано с воронкой события по покупке товаров. Данное событие может увеличивать долю пользователей, которые доходят до покупки, так и уменьшать долю, если руководство написано очень запутано, но не должно учитываться в воронке продаж. "
   ]
  },
  {
   "cell_type": "markdown",
   "id": "e2629899",
   "metadata": {},
   "source": [
    "## \tПо воронке событий посчитаем, какая доля пользователей проходит на следующий шаг воронки (от числа пользователей на предыдущем)"
   ]
  },
  {
   "cell_type": "code",
   "execution_count": 28,
   "id": "d2aa3347",
   "metadata": {},
   "outputs": [],
   "source": [
    "# удалим последнюю строку с событием \"Tutorial, как нерелевантное к нашей воронке событий\n",
    "device_id_nunique_event = device_id_nunique_event.iloc[:5]\n",
    "\n",
    "# до целого числа округляем столбец с процентом переходящих пользователей по событиям\n",
    "device_id_nunique_event.device_id_share = round(device_id_nunique_event.device_id_share, 0)\n",
    "\n",
    "# создаем столбец с предыдущими значениями по колонке devide_id, первое значение, которое должно стать Nan\n",
    "# заполняем fill_value значением первого события\n",
    "device_id_nunique_event['device_id_shift'] = ( device_id_nunique_event['device_id'].\n",
    "                                             shift(fill_value=device_id_nunique_event.device_id[0])\n",
    ")\n",
    "\n",
    "device_id_nunique_event['device_id_percent%'] = ( (device_id_nunique_event['device_id'] / \n",
    "                                                 device_id_nunique_event['device_id_shift'] * 100).round()\n",
    ")\n",
    "\n",
    "device_id_nunique_event = device_id_nunique_event.loc[1:]"
   ]
  },
  {
   "cell_type": "code",
   "execution_count": 29,
   "id": "0745b893",
   "metadata": {},
   "outputs": [
    {
     "data": {
      "image/png": "[encoded data removed]",
      "text/plain": [
       "<Figure size 1080x432 with 1 Axes>"
      ]
     },
     "metadata": {},
     "output_type": "display_data"
    },
    {
     "data": {
      "text/html": [
       "<div>\n",
       "<style scoped>\n",
       "    .dataframe tbody tr th:only-of-type {\n",
       "        vertical-align: middle;\n",
       "    }\n",
       "\n",
       "    .dataframe tbody tr th {\n",
       "        vertical-align: top;\n",
       "    }\n",
       "\n",
       "    .dataframe thead th {\n",
       "        text-align: right;\n",
       "    }\n",
       "</style>\n",
       "<table border=\"1\" class=\"dataframe\">\n",
       "  <thead>\n",
       "    <tr style=\"text-align: right;\">\n",
       "      <th></th>\n",
       "      <th>index</th>\n",
       "      <th>event</th>\n",
       "      <th>device_id</th>\n",
       "      <th>device_id_share</th>\n",
       "      <th>device_id_shift</th>\n",
       "      <th>device_id_percent%</th>\n",
       "    </tr>\n",
       "  </thead>\n",
       "  <tbody>\n",
       "    <tr>\n",
       "      <td>1</td>\n",
       "      <td>2</td>\n",
       "      <td>\"MainScreenAppear</td>\n",
       "      <td>7419</td>\n",
       "      <td>98.0</td>\n",
       "      <td>7534</td>\n",
       "      <td>98.0</td>\n",
       "    </tr>\n",
       "    <tr>\n",
       "      <td>2</td>\n",
       "      <td>3</td>\n",
       "      <td>\"OffersScreenAppear</td>\n",
       "      <td>4593</td>\n",
       "      <td>61.0</td>\n",
       "      <td>7419</td>\n",
       "      <td>62.0</td>\n",
       "    </tr>\n",
       "    <tr>\n",
       "      <td>3</td>\n",
       "      <td>4</td>\n",
       "      <td>\"CartScreenAppear</td>\n",
       "      <td>3734</td>\n",
       "      <td>50.0</td>\n",
       "      <td>4593</td>\n",
       "      <td>81.0</td>\n",
       "    </tr>\n",
       "    <tr>\n",
       "      <td>4</td>\n",
       "      <td>5</td>\n",
       "      <td>\"PaymentScreenSuccessful</td>\n",
       "      <td>3539</td>\n",
       "      <td>47.0</td>\n",
       "      <td>3734</td>\n",
       "      <td>95.0</td>\n",
       "    </tr>\n",
       "  </tbody>\n",
       "</table>\n",
       "</div>"
      ],
      "text/plain": [
       "   index                     event  device_id  device_id_share  \\\n",
       "1      2         \"MainScreenAppear       7419             98.0   \n",
       "2      3       \"OffersScreenAppear       4593             61.0   \n",
       "3      4         \"CartScreenAppear       3734             50.0   \n",
       "4      5  \"PaymentScreenSuccessful       3539             47.0   \n",
       "\n",
       "   device_id_shift  device_id_percent%  \n",
       "1             7534                98.0  \n",
       "2             7419                62.0  \n",
       "3             4593                81.0  \n",
       "4             3734                95.0  "
      ]
     },
     "execution_count": 29,
     "metadata": {},
     "output_type": "execute_result"
    }
   ],
   "source": [
    "df_barplot(device_id_nunique_event, 'event', 'device_id_percent%', title='Доли пользователей, проходящие по воронке событий',\n",
    "          y_label='Процент пользователей')\n",
    "\n",
    "device_id_nunique_event"
   ]
  },
  {
   "cell_type": "markdown",
   "id": "36846ddf",
   "metadata": {},
   "source": [
    "## \tНа каком шаге теряете больше всего пользователей. \tДоля пользователей доходит от первого события до оплаты."
   ]
  },
  {
   "cell_type": "markdown",
   "id": "86af86cf",
   "metadata": {},
   "source": [
    "Можем видеть, что больше всего теряется пользователей, около 38% на переходе с первого на второе событие, 81% доходит до корзины после получения предложения и 95% оплачивают товары после корзины.  \n",
    "Всего 47% пользователей доходит до оплаты товара от изначального количества."
   ]
  },
  {
   "cell_type": "markdown",
   "id": "bd653614",
   "metadata": {},
   "source": [
    "# Изучим результаты эксперимента"
   ]
  },
  {
   "cell_type": "markdown",
   "id": "aa0cdef6",
   "metadata": {},
   "source": [
    "## \tСколько пользователей в каждой экспериментальной группе."
   ]
  },
  {
   "cell_type": "markdown",
   "id": "696fbae9",
   "metadata": {},
   "source": [
    "Ранее мы уже определили количество пользователей в каждой из групп. Они примерно равны."
   ]
  },
  {
   "cell_type": "code",
   "execution_count": 30,
   "id": "a97e29f3",
   "metadata": {},
   "outputs": [
    {
     "data": {
      "image/png": "[encoded data removed]",
      "text/plain": [
       "<Figure size 1080x432 with 1 Axes>"
      ]
     },
     "metadata": {},
     "output_type": "display_data"
    },
    {
     "data": {
      "text/html": [
       "<div>\n",
       "<style scoped>\n",
       "    .dataframe tbody tr th:only-of-type {\n",
       "        vertical-align: middle;\n",
       "    }\n",
       "\n",
       "    .dataframe tbody tr th {\n",
       "        vertical-align: top;\n",
       "    }\n",
       "\n",
       "    .dataframe thead th {\n",
       "        text-align: right;\n",
       "    }\n",
       "</style>\n",
       "<table border=\"1\" class=\"dataframe\">\n",
       "  <thead>\n",
       "    <tr style=\"text-align: right;\">\n",
       "      <th></th>\n",
       "      <th>exp_id</th>\n",
       "      <th>device_id</th>\n",
       "    </tr>\n",
       "  </thead>\n",
       "  <tbody>\n",
       "    <tr>\n",
       "      <td>0</td>\n",
       "      <td>246\"</td>\n",
       "      <td>2484</td>\n",
       "    </tr>\n",
       "    <tr>\n",
       "      <td>1</td>\n",
       "      <td>247\"</td>\n",
       "      <td>2513</td>\n",
       "    </tr>\n",
       "    <tr>\n",
       "      <td>2</td>\n",
       "      <td>248\"</td>\n",
       "      <td>2537</td>\n",
       "    </tr>\n",
       "  </tbody>\n",
       "</table>\n",
       "</div>"
      ],
      "text/plain": [
       "  exp_id  device_id\n",
       "0   246\"       2484\n",
       "1   247\"       2513\n",
       "2   248\"       2537"
      ]
     },
     "execution_count": 30,
     "metadata": {},
     "output_type": "execute_result"
    }
   ],
   "source": [
    "df_barplot(device_id_group_id, 'exp_id', 'device_id', title='Распределение пользователей по экспериментальным группам',\n",
    "          x_label='Экспериментальные группы', y_label='Количество пользователей')\n",
    "device_id_group_id"
   ]
  },
  {
   "cell_type": "markdown",
   "id": "9cbef18d",
   "metadata": {},
   "source": [
    "## \tЕсть 2 контрольные группы для А/А-эксперимента, чтобы проверить корректность всех механизмов и расчётов. Проверим, находят ли статистические критерии разницу между выборками 246 и 247."
   ]
  },
  {
   "cell_type": "markdown",
   "id": "51891591",
   "metadata": {},
   "source": [
    "Проверим корректность выполнения всех механизмов и расчётов для двух груп - 246 и 247:"
   ]
  },
  {
   "cell_type": "markdown",
   "id": "07d63aab",
   "metadata": {},
   "source": [
    "- Проверим, что количество пользователей, попавших в различные группы, не отличается или имеет очень небольшое отличие."
   ]
  },
  {
   "cell_type": "code",
   "execution_count": 31,
   "id": "1fde6ce6",
   "metadata": {},
   "outputs": [
    {
     "name": "stdout",
     "output_type": "stream",
     "text": [
      "Разность количества пользователей 0.58% между двумя группами А/А теста\n"
     ]
    }
   ],
   "source": [
    "difference_246_247 = (abs(device_id_group_id.query('exp_id == \"247\\\\\"\"')['device_id'].sum() - \n",
    "device_id_group_id.query('exp_id == \"246\\\\\"\"')['device_id'].sum()) / (\n",
    "    device_id_group_id.query('exp_id == \"247\\\\\"\"')['device_id'].sum() + \n",
    "    device_id_group_id.query('exp_id == \"246\\\\\"\"')['device_id'].sum())).round(4)\n",
    "print(f'Разность количества пользователей {difference_246_247:.2%} между двумя группами А/А теста')"
   ]
  },
  {
   "cell_type": "markdown",
   "id": "3c30e772",
   "metadata": {},
   "source": [
    "- Данные во всех группах отправляются в системы аналитики одинаково - наши тестировщики за этим проследили, будем исходить из этого.  \n",
    "- Каждый посетитель, попавший в одну из групп теста, остаётся в этой группе до конца теста."
   ]
  },
  {
   "cell_type": "code",
   "execution_count": 32,
   "id": "a2c2a547",
   "metadata": {},
   "outputs": [
    {
     "name": "stdout",
     "output_type": "stream",
     "text": [
      "Количество пользователей - 0, попавших в несколько экспериментальных групп\n"
     ]
    }
   ],
   "source": [
    "# проверяем, чтобы все пользователи попадали только в одну экспериментальную группу\n",
    "device_id_different_exp_id = (df.groupby('device_id').agg({'exp_id':'nunique'}).reset_index().\n",
    "        sort_values(by='exp_id', ascending=False).query('exp_id > 1')['exp_id'].count())\n",
    "print(f'Количество пользователей - {device_id_different_exp_id}, попавших в несколько экспериментальных групп')"
   ]
  },
  {
   "cell_type": "markdown",
   "id": "7eb4aecd",
   "metadata": {},
   "source": [
    "- Различие конверсии перехода пользователей по группам не более 1% и не имеет статистической значимости"
   ]
  },
  {
   "cell_type": "code",
   "execution_count": 33,
   "id": "efdabd17",
   "metadata": {},
   "outputs": [
    {
     "data": {
      "text/html": [
       "<div>\n",
       "<style scoped>\n",
       "    .dataframe tbody tr th:only-of-type {\n",
       "        vertical-align: middle;\n",
       "    }\n",
       "\n",
       "    .dataframe tbody tr th {\n",
       "        vertical-align: top;\n",
       "    }\n",
       "\n",
       "    .dataframe thead th {\n",
       "        text-align: right;\n",
       "    }\n",
       "</style>\n",
       "<table border=\"1\" class=\"dataframe\">\n",
       "  <thead>\n",
       "    <tr style=\"text-align: right;\">\n",
       "      <th></th>\n",
       "      <th>event</th>\n",
       "      <th>exp_id</th>\n",
       "      <th>device_id</th>\n",
       "    </tr>\n",
       "  </thead>\n",
       "  <tbody>\n",
       "    <tr>\n",
       "      <td>0</td>\n",
       "      <td>\"MainScreenAppear</td>\n",
       "      <td>248\"</td>\n",
       "      <td>2493</td>\n",
       "    </tr>\n",
       "    <tr>\n",
       "      <td>1</td>\n",
       "      <td>\"MainScreenAppear</td>\n",
       "      <td>247\"</td>\n",
       "      <td>2476</td>\n",
       "    </tr>\n",
       "    <tr>\n",
       "      <td>2</td>\n",
       "      <td>\"MainScreenAppear</td>\n",
       "      <td>246\"</td>\n",
       "      <td>2450</td>\n",
       "    </tr>\n",
       "    <tr>\n",
       "      <td>3</td>\n",
       "      <td>\"OffersScreenAppear</td>\n",
       "      <td>246\"</td>\n",
       "      <td>1542</td>\n",
       "    </tr>\n",
       "    <tr>\n",
       "      <td>4</td>\n",
       "      <td>\"OffersScreenAppear</td>\n",
       "      <td>248\"</td>\n",
       "      <td>1531</td>\n",
       "    </tr>\n",
       "    <tr>\n",
       "      <td>5</td>\n",
       "      <td>\"OffersScreenAppear</td>\n",
       "      <td>247\"</td>\n",
       "      <td>1520</td>\n",
       "    </tr>\n",
       "    <tr>\n",
       "      <td>6</td>\n",
       "      <td>\"CartScreenAppear</td>\n",
       "      <td>246\"</td>\n",
       "      <td>1266</td>\n",
       "    </tr>\n",
       "    <tr>\n",
       "      <td>7</td>\n",
       "      <td>\"CartScreenAppear</td>\n",
       "      <td>247\"</td>\n",
       "      <td>1238</td>\n",
       "    </tr>\n",
       "    <tr>\n",
       "      <td>8</td>\n",
       "      <td>\"CartScreenAppear</td>\n",
       "      <td>248\"</td>\n",
       "      <td>1230</td>\n",
       "    </tr>\n",
       "    <tr>\n",
       "      <td>9</td>\n",
       "      <td>\"PaymentScreenSuccessful</td>\n",
       "      <td>246\"</td>\n",
       "      <td>1200</td>\n",
       "    </tr>\n",
       "    <tr>\n",
       "      <td>10</td>\n",
       "      <td>\"PaymentScreenSuccessful</td>\n",
       "      <td>248\"</td>\n",
       "      <td>1181</td>\n",
       "    </tr>\n",
       "    <tr>\n",
       "      <td>11</td>\n",
       "      <td>\"PaymentScreenSuccessful</td>\n",
       "      <td>247\"</td>\n",
       "      <td>1158</td>\n",
       "    </tr>\n",
       "  </tbody>\n",
       "</table>\n",
       "</div>"
      ],
      "text/plain": [
       "                       event exp_id  device_id\n",
       "0          \"MainScreenAppear   248\"       2493\n",
       "1          \"MainScreenAppear   247\"       2476\n",
       "2          \"MainScreenAppear   246\"       2450\n",
       "3        \"OffersScreenAppear   246\"       1542\n",
       "4        \"OffersScreenAppear   248\"       1531\n",
       "5        \"OffersScreenAppear   247\"       1520\n",
       "6          \"CartScreenAppear   246\"       1266\n",
       "7          \"CartScreenAppear   247\"       1238\n",
       "8          \"CartScreenAppear   248\"       1230\n",
       "9   \"PaymentScreenSuccessful   246\"       1200\n",
       "10  \"PaymentScreenSuccessful   248\"       1181\n",
       "11  \"PaymentScreenSuccessful   247\"       1158"
      ]
     },
     "execution_count": 33,
     "metadata": {},
     "output_type": "execute_result"
    }
   ],
   "source": [
    "# группируем события по уникальным device_id и сортируем от большего к меньшему\n",
    "device_id_exp_id = ( df.query('event != \"\\\\\"Tutorial\"').groupby(['event','exp_id']).agg({'device_id':'nunique'}).\n",
    "                           sort_values(by='device_id', ascending=False).\n",
    "                           reset_index()\n",
    "                   )\n",
    "device_id_exp_id"
   ]
  },
  {
   "cell_type": "code",
   "execution_count": 34,
   "id": "629982ce",
   "metadata": {},
   "outputs": [
    {
     "data": {
      "text/html": [
       "<div>\n",
       "<style scoped>\n",
       "    .dataframe tbody tr th:only-of-type {\n",
       "        vertical-align: middle;\n",
       "    }\n",
       "\n",
       "    .dataframe tbody tr th {\n",
       "        vertical-align: top;\n",
       "    }\n",
       "\n",
       "    .dataframe thead th {\n",
       "        text-align: right;\n",
       "    }\n",
       "</style>\n",
       "<table border=\"1\" class=\"dataframe\">\n",
       "  <thead>\n",
       "    <tr style=\"text-align: right;\">\n",
       "      <th></th>\n",
       "      <th>exp_id</th>\n",
       "      <th>device_id</th>\n",
       "      <th>event</th>\n",
       "    </tr>\n",
       "  </thead>\n",
       "  <tbody>\n",
       "    <tr>\n",
       "      <td>0</td>\n",
       "      <td>246\"</td>\n",
       "      <td>2484</td>\n",
       "      <td>total</td>\n",
       "    </tr>\n",
       "    <tr>\n",
       "      <td>1</td>\n",
       "      <td>247\"</td>\n",
       "      <td>2513</td>\n",
       "      <td>total</td>\n",
       "    </tr>\n",
       "    <tr>\n",
       "      <td>2</td>\n",
       "      <td>248\"</td>\n",
       "      <td>2537</td>\n",
       "      <td>total</td>\n",
       "    </tr>\n",
       "  </tbody>\n",
       "</table>\n",
       "</div>"
      ],
      "text/plain": [
       "  exp_id  device_id  event\n",
       "0   246\"       2484  total\n",
       "1   247\"       2513  total\n",
       "2   248\"       2537  total"
      ]
     },
     "execution_count": 34,
     "metadata": {},
     "output_type": "execute_result"
    }
   ],
   "source": [
    "# создадим таблицу с общим количеством пользователей по группам\n",
    "total_exp_id = df.groupby('exp_id').agg({'device_id':'nunique'}).reset_index()\n",
    "total_exp_id['event'] ='total'\n",
    "total_exp_id"
   ]
  },
  {
   "cell_type": "code",
   "execution_count": 35,
   "id": "f196820c",
   "metadata": {},
   "outputs": [
    {
     "data": {
      "text/html": [
       "<div>\n",
       "<style scoped>\n",
       "    .dataframe tbody tr th:only-of-type {\n",
       "        vertical-align: middle;\n",
       "    }\n",
       "\n",
       "    .dataframe tbody tr th {\n",
       "        vertical-align: top;\n",
       "    }\n",
       "\n",
       "    .dataframe thead th {\n",
       "        text-align: right;\n",
       "    }\n",
       "</style>\n",
       "<table border=\"1\" class=\"dataframe\">\n",
       "  <thead>\n",
       "    <tr style=\"text-align: right;\">\n",
       "      <th></th>\n",
       "      <th>device_id</th>\n",
       "      <th>event</th>\n",
       "      <th>exp_id</th>\n",
       "    </tr>\n",
       "  </thead>\n",
       "  <tbody>\n",
       "    <tr>\n",
       "      <td>0</td>\n",
       "      <td>2484</td>\n",
       "      <td>total</td>\n",
       "      <td>246\"</td>\n",
       "    </tr>\n",
       "    <tr>\n",
       "      <td>1</td>\n",
       "      <td>2513</td>\n",
       "      <td>total</td>\n",
       "      <td>247\"</td>\n",
       "    </tr>\n",
       "    <tr>\n",
       "      <td>2</td>\n",
       "      <td>2537</td>\n",
       "      <td>total</td>\n",
       "      <td>248\"</td>\n",
       "    </tr>\n",
       "    <tr>\n",
       "      <td>3</td>\n",
       "      <td>2493</td>\n",
       "      <td>\"MainScreenAppear</td>\n",
       "      <td>248\"</td>\n",
       "    </tr>\n",
       "    <tr>\n",
       "      <td>4</td>\n",
       "      <td>2476</td>\n",
       "      <td>\"MainScreenAppear</td>\n",
       "      <td>247\"</td>\n",
       "    </tr>\n",
       "    <tr>\n",
       "      <td>5</td>\n",
       "      <td>2450</td>\n",
       "      <td>\"MainScreenAppear</td>\n",
       "      <td>246\"</td>\n",
       "    </tr>\n",
       "    <tr>\n",
       "      <td>6</td>\n",
       "      <td>1542</td>\n",
       "      <td>\"OffersScreenAppear</td>\n",
       "      <td>246\"</td>\n",
       "    </tr>\n",
       "    <tr>\n",
       "      <td>7</td>\n",
       "      <td>1531</td>\n",
       "      <td>\"OffersScreenAppear</td>\n",
       "      <td>248\"</td>\n",
       "    </tr>\n",
       "    <tr>\n",
       "      <td>8</td>\n",
       "      <td>1520</td>\n",
       "      <td>\"OffersScreenAppear</td>\n",
       "      <td>247\"</td>\n",
       "    </tr>\n",
       "    <tr>\n",
       "      <td>9</td>\n",
       "      <td>1266</td>\n",
       "      <td>\"CartScreenAppear</td>\n",
       "      <td>246\"</td>\n",
       "    </tr>\n",
       "    <tr>\n",
       "      <td>10</td>\n",
       "      <td>1238</td>\n",
       "      <td>\"CartScreenAppear</td>\n",
       "      <td>247\"</td>\n",
       "    </tr>\n",
       "    <tr>\n",
       "      <td>11</td>\n",
       "      <td>1230</td>\n",
       "      <td>\"CartScreenAppear</td>\n",
       "      <td>248\"</td>\n",
       "    </tr>\n",
       "    <tr>\n",
       "      <td>12</td>\n",
       "      <td>1200</td>\n",
       "      <td>\"PaymentScreenSuccessful</td>\n",
       "      <td>246\"</td>\n",
       "    </tr>\n",
       "    <tr>\n",
       "      <td>13</td>\n",
       "      <td>1181</td>\n",
       "      <td>\"PaymentScreenSuccessful</td>\n",
       "      <td>248\"</td>\n",
       "    </tr>\n",
       "    <tr>\n",
       "      <td>14</td>\n",
       "      <td>1158</td>\n",
       "      <td>\"PaymentScreenSuccessful</td>\n",
       "      <td>247\"</td>\n",
       "    </tr>\n",
       "  </tbody>\n",
       "</table>\n",
       "</div>"
      ],
      "text/plain": [
       "    device_id                     event exp_id\n",
       "0        2484                     total   246\"\n",
       "1        2513                     total   247\"\n",
       "2        2537                     total   248\"\n",
       "3        2493         \"MainScreenAppear   248\"\n",
       "4        2476         \"MainScreenAppear   247\"\n",
       "5        2450         \"MainScreenAppear   246\"\n",
       "6        1542       \"OffersScreenAppear   246\"\n",
       "7        1531       \"OffersScreenAppear   248\"\n",
       "8        1520       \"OffersScreenAppear   247\"\n",
       "9        1266         \"CartScreenAppear   246\"\n",
       "10       1238         \"CartScreenAppear   247\"\n",
       "11       1230         \"CartScreenAppear   248\"\n",
       "12       1200  \"PaymentScreenSuccessful   246\"\n",
       "13       1181  \"PaymentScreenSuccessful   248\"\n",
       "14       1158  \"PaymentScreenSuccessful   247\""
      ]
     },
     "execution_count": 35,
     "metadata": {},
     "output_type": "execute_result"
    }
   ],
   "source": [
    "# получаем общую таблицу по пользователям и событиям по всем группам\n",
    "device_id_exp_id_total = pd.concat([total_exp_id, device_id_exp_id], ignore_index=True)\n",
    "device_id_exp_id_total"
   ]
  },
  {
   "cell_type": "code",
   "execution_count": 36,
   "id": "9fac7f31",
   "metadata": {},
   "outputs": [],
   "source": [
    "# z-тест для пропорций\n",
    "# на вход подаем сгруппированную таблицу по событиям event и экспериментальным группам exp_id, в которой \n",
    "# считаются уникальные пользователи device_id : nunique  \n",
    "\n",
    "def z_test(df, exp_1, exp_2, event, event_early, alpha = .01):\n",
    "    # массив успешных переходов или количество уникальных device_id в логах событий по двум экспериментам\n",
    "    successes =  np.array([ df.loc[(df['exp_id'] == exp_1) & (df['event'] == event), 'device_id'].sum(),\n",
    "                           df.loc[(df['exp_id'] == exp_2) & (df['event'] == event), 'device_id'].sum()])\n",
    " \n",
    "    # массив общего количества device_id или количество уникальных device_id в логах раннего события события\n",
    "    # по двум экспериментам\n",
    "    trials = np.array([ df.loc[(df['exp_id'] == exp_1) & (df['event'] == event_early), 'device_id'].sum(),\n",
    "                           df.loc[(df['exp_id'] == exp_2) & (df['event'] == event_early), 'device_id'].sum()])\n",
    "    \n",
    "    # пропорция успехов в первой группе:\n",
    "    p1 = successes[0]/trials[0]\n",
    "\n",
    "    # пропорция успехов во второй группе:\n",
    "    p2 = successes[1]/trials[1]\n",
    "\n",
    "    # пропорция успехов в комбинированном датасете:\n",
    "    p_combined = (successes[0] + successes[1]) / (trials[0] + trials[1])\n",
    "    \n",
    "    # разница пропорций в датасетах\n",
    "    difference = p1 - p2\n",
    "    \n",
    "    # считаем статистику в ст.отклонениях стандартного нормального распределения\n",
    "    z_value = difference / mth.sqrt(p_combined * (1 - p_combined) * (1/trials[0] + 1/trials[1]))\n",
    "\n",
    "    # задаем стандартное нормальное распределение (среднее 0, ст.отклонение 1)\n",
    "    distr = st.norm(0, 1)\n",
    "    \n",
    "    p_value = (1 - distr.cdf(abs(z_value))) * 2\n",
    "\n",
    "    print('p-значение: ', p_value)\n",
    "\n",
    "    if p_value < alpha:\n",
    "        print(f'Отвергаем нулевую гипотезу: между долями экспериментальных групп {exp_1}\\\n",
    " и {exp_2} между событиями {event} и {event_early} есть значимая разница\\n')\n",
    "    else:\n",
    "        print(\n",
    "        f'Не получилось отвергнуть нулевую гипотезу.\\nНет оснований считать доли {exp_1}\\\n",
    " и {exp_2} между событиями {event} и {event_early} разными\\n'\n",
    "        )"
   ]
  },
  {
   "cell_type": "code",
   "execution_count": 37,
   "id": "f0a3af35",
   "metadata": {},
   "outputs": [
    {
     "data": {
      "text/plain": [
       "['total',\n",
       " '\"MainScreenAppear',\n",
       " '\"OffersScreenAppear',\n",
       " '\"CartScreenAppear',\n",
       " '\"PaymentScreenSuccessful']"
      ]
     },
     "execution_count": 37,
     "metadata": {},
     "output_type": "execute_result"
    }
   ],
   "source": [
    "# список event по воронке событий\n",
    "list_event = device_id_exp_id_total.event.unique().tolist()\n",
    "list_event"
   ]
  },
  {
   "cell_type": "code",
   "execution_count": null,
   "id": "a0f3e4ea",
   "metadata": {},
   "outputs": [],
   "source": [
    "# функция, проверяет по списку z_test для пропорций для двух групп\n",
    "# проверяем сначала каждое событие к предыдущему, а потом каждое событие к первому\n",
    "\n",
    "def z_event_all(exp_1, exp_2, df = device_id_exp_id_total, run_one=True, run_two=True):\n",
    "# тест последующих событий к предыдущим\n",
    "# run_one=True по умолчанию, чтобы считала статистическую значимость по воронке с к предыдущему    \n",
    "    if run_one:\n",
    "        for event in list_event:\n",
    "            if event == list_event[0]:\n",
    "                event_early = event\n",
    "                continue\n",
    "            z_test(df, exp_1, exp_2, event, event_early)\n",
    "            event_early = event\n",
    "# тест последующих событий к общему количеству\n",
    "# run_two=True по умолчанию, чтобы считала статистическую значимость по воронке с общим количеством\n",
    "    if run_two:\n",
    "        for event in list_event:\n",
    "            if event in (list_event[0], list_event[1]):\n",
    "                continue\n",
    "            z_test(df, exp_1, exp_2, event, list_event[0])"
   ]
  },
  {
   "cell_type": "code",
   "execution_count": null,
   "id": "14d48a4a",
   "metadata": {},
   "outputs": [],
   "source": [
    "z_event_all('246\"', '247\"')"
   ]
  },
  {
   "cell_type": "markdown",
   "id": "671a8be1",
   "metadata": {},
   "source": [
    "## Можно ли сказать, что разбиение на группы работает корректно?"
   ]
  },
  {
   "cell_type": "markdown",
   "id": "e5842a1b",
   "metadata": {},
   "source": [
    "Да, у нас происходит корректное разбиение на группы.   \n",
    "Мы проверили корректность всех механизмов и расчётов для двух групп А/А-эксперимента. Проверили и выяснили, что статистические критерии разницу между выборками 246 и 247 не находят."
   ]
  },
  {
   "cell_type": "markdown",
   "id": "7cd647fd",
   "metadata": {},
   "source": [
    "## Сравним результаты с каждой из контрольных групп в отдельности по каждому событию. Сравним результаты с объединённой контрольной группой. Сделаем выводы из эксперимента."
   ]
  },
  {
   "cell_type": "code",
   "execution_count": 40,
   "id": "185ffa5c",
   "metadata": {},
   "outputs": [
    {
     "name": "stdout",
     "output_type": "stream",
     "text": [
      "p-значение:  0.2949721933554552\n",
      "Не получилось отвергнуть нулевую гипотезу.\n",
      "Нет оснований считать доли 246\" и 248\" между событиями \"MainScreenAppear и total разными\n",
      "\n",
      "p-значение:  0.2684281587249231\n",
      "Не получилось отвергнуть нулевую гипотезу.\n",
      "Нет оснований считать доли 246\" и 248\" между событиями \"OffersScreenAppear и \"MainScreenAppear разными\n",
      "\n",
      "p-значение:  0.2112170818054686\n",
      "Не получилось отвергнуть нулевую гипотезу.\n",
      "Нет оснований считать доли 246\" и 248\" между событиями \"CartScreenAppear и \"OffersScreenAppear разными\n",
      "\n",
      "p-значение:  0.14295341270419004\n",
      "Не получилось отвергнуть нулевую гипотезу.\n",
      "Нет оснований считать доли 246\" и 248\" между событиями \"PaymentScreenSuccessful и \"CartScreenAppear разными\n",
      "\n",
      "p-значение:  0.20836205402738917\n",
      "Не получилось отвергнуть нулевую гипотезу.\n",
      "Нет оснований считать доли 246\" и 248\" между событиями \"OffersScreenAppear и total разными\n",
      "\n",
      "p-значение:  0.07842923237520116\n",
      "Не получилось отвергнуть нулевую гипотезу.\n",
      "Нет оснований считать доли 246\" и 248\" между событиями \"CartScreenAppear и total разными\n",
      "\n",
      "p-значение:  0.2122553275697796\n",
      "Не получилось отвергнуть нулевую гипотезу.\n",
      "Нет оснований считать доли 246\" и 248\" между событиями \"PaymentScreenSuccessful и total разными\n",
      "\n"
     ]
    }
   ],
   "source": [
    "# сравниваем группы 246\" и 247\"\n",
    "z_event_all('246\"', '248\"')"
   ]
  },
  {
   "cell_type": "code",
   "execution_count": 41,
   "id": "80be872e",
   "metadata": {},
   "outputs": [
    {
     "name": "stdout",
     "output_type": "stream",
     "text": [
      "p-значение:  0.4587053616621515\n",
      "Не получилось отвергнуть нулевую гипотезу.\n",
      "Нет оснований считать доли 247\" и 248\" между событиями \"MainScreenAppear и total разными\n",
      "\n",
      "p-значение:  0.9869365252844515\n",
      "Не получилось отвергнуть нулевую гипотезу.\n",
      "Нет оснований считать доли 247\" и 248\" между событиями \"OffersScreenAppear и \"MainScreenAppear разными\n",
      "\n",
      "p-значение:  0.4364903513062255\n",
      "Не получилось отвергнуть нулевую гипотезу.\n",
      "Нет оснований считать доли 247\" и 248\" между событиями \"CartScreenAppear и \"OffersScreenAppear разными\n",
      "\n",
      "p-значение:  0.005677465395736325\n",
      "Отвергаем нулевую гипотезу: между долями экспериментальных групп 247\" и 248\" между событиями \"PaymentScreenSuccessful и \"CartScreenAppear есть значимая разница\n",
      "\n",
      "p-значение:  0.9197817830592261\n",
      "Не получилось отвергнуть нулевую гипотезу.\n",
      "Нет оснований считать доли 247\" и 248\" между событиями \"OffersScreenAppear и total разными\n",
      "\n",
      "p-значение:  0.5786197879539783\n",
      "Не получилось отвергнуть нулевую гипотезу.\n",
      "Нет оснований считать доли 247\" и 248\" между событиями \"CartScreenAppear и total разными\n",
      "\n",
      "p-значение:  0.7373415053803964\n",
      "Не получилось отвергнуть нулевую гипотезу.\n",
      "Нет оснований считать доли 247\" и 248\" между событиями \"PaymentScreenSuccessful и total разными\n",
      "\n"
     ]
    }
   ],
   "source": [
    "# сравниваем группы 247\" и 248\"\n",
    "z_event_all('247\"', '248\"')"
   ]
  },
  {
   "cell_type": "code",
   "execution_count": 42,
   "id": "7bf1ee2c",
   "metadata": {},
   "outputs": [
    {
     "data": {
      "text/html": [
       "<div>\n",
       "<style scoped>\n",
       "    .dataframe tbody tr th:only-of-type {\n",
       "        vertical-align: middle;\n",
       "    }\n",
       "\n",
       "    .dataframe tbody tr th {\n",
       "        vertical-align: top;\n",
       "    }\n",
       "\n",
       "    .dataframe thead th {\n",
       "        text-align: right;\n",
       "    }\n",
       "</style>\n",
       "<table border=\"1\" class=\"dataframe\">\n",
       "  <thead>\n",
       "    <tr style=\"text-align: right;\">\n",
       "      <th></th>\n",
       "      <th>device_id</th>\n",
       "      <th>event</th>\n",
       "      <th>exp_id</th>\n",
       "    </tr>\n",
       "  </thead>\n",
       "  <tbody>\n",
       "    <tr>\n",
       "      <td>0</td>\n",
       "      <td>2484</td>\n",
       "      <td>total</td>\n",
       "      <td>246\"</td>\n",
       "    </tr>\n",
       "    <tr>\n",
       "      <td>1</td>\n",
       "      <td>2513</td>\n",
       "      <td>total</td>\n",
       "      <td>247\"</td>\n",
       "    </tr>\n",
       "    <tr>\n",
       "      <td>2</td>\n",
       "      <td>2537</td>\n",
       "      <td>total</td>\n",
       "      <td>248\"</td>\n",
       "    </tr>\n",
       "    <tr>\n",
       "      <td>3</td>\n",
       "      <td>2493</td>\n",
       "      <td>\"MainScreenAppear</td>\n",
       "      <td>248\"</td>\n",
       "    </tr>\n",
       "    <tr>\n",
       "      <td>4</td>\n",
       "      <td>2476</td>\n",
       "      <td>\"MainScreenAppear</td>\n",
       "      <td>247\"</td>\n",
       "    </tr>\n",
       "    <tr>\n",
       "      <td>5</td>\n",
       "      <td>2450</td>\n",
       "      <td>\"MainScreenAppear</td>\n",
       "      <td>246\"</td>\n",
       "    </tr>\n",
       "    <tr>\n",
       "      <td>6</td>\n",
       "      <td>1542</td>\n",
       "      <td>\"OffersScreenAppear</td>\n",
       "      <td>246\"</td>\n",
       "    </tr>\n",
       "    <tr>\n",
       "      <td>7</td>\n",
       "      <td>1531</td>\n",
       "      <td>\"OffersScreenAppear</td>\n",
       "      <td>248\"</td>\n",
       "    </tr>\n",
       "    <tr>\n",
       "      <td>8</td>\n",
       "      <td>1520</td>\n",
       "      <td>\"OffersScreenAppear</td>\n",
       "      <td>247\"</td>\n",
       "    </tr>\n",
       "    <tr>\n",
       "      <td>9</td>\n",
       "      <td>1266</td>\n",
       "      <td>\"CartScreenAppear</td>\n",
       "      <td>246\"</td>\n",
       "    </tr>\n",
       "    <tr>\n",
       "      <td>10</td>\n",
       "      <td>1238</td>\n",
       "      <td>\"CartScreenAppear</td>\n",
       "      <td>247\"</td>\n",
       "    </tr>\n",
       "    <tr>\n",
       "      <td>11</td>\n",
       "      <td>1230</td>\n",
       "      <td>\"CartScreenAppear</td>\n",
       "      <td>248\"</td>\n",
       "    </tr>\n",
       "    <tr>\n",
       "      <td>12</td>\n",
       "      <td>1200</td>\n",
       "      <td>\"PaymentScreenSuccessful</td>\n",
       "      <td>246\"</td>\n",
       "    </tr>\n",
       "    <tr>\n",
       "      <td>13</td>\n",
       "      <td>1181</td>\n",
       "      <td>\"PaymentScreenSuccessful</td>\n",
       "      <td>248\"</td>\n",
       "    </tr>\n",
       "    <tr>\n",
       "      <td>14</td>\n",
       "      <td>1158</td>\n",
       "      <td>\"PaymentScreenSuccessful</td>\n",
       "      <td>247\"</td>\n",
       "    </tr>\n",
       "    <tr>\n",
       "      <td>15</td>\n",
       "      <td>2504</td>\n",
       "      <td>\"CartScreenAppear</td>\n",
       "      <td>246\"_247\"</td>\n",
       "    </tr>\n",
       "    <tr>\n",
       "      <td>16</td>\n",
       "      <td>4926</td>\n",
       "      <td>\"MainScreenAppear</td>\n",
       "      <td>246\"_247\"</td>\n",
       "    </tr>\n",
       "    <tr>\n",
       "      <td>17</td>\n",
       "      <td>3062</td>\n",
       "      <td>\"OffersScreenAppear</td>\n",
       "      <td>246\"_247\"</td>\n",
       "    </tr>\n",
       "    <tr>\n",
       "      <td>18</td>\n",
       "      <td>2358</td>\n",
       "      <td>\"PaymentScreenSuccessful</td>\n",
       "      <td>246\"_247\"</td>\n",
       "    </tr>\n",
       "    <tr>\n",
       "      <td>19</td>\n",
       "      <td>4997</td>\n",
       "      <td>total</td>\n",
       "      <td>246\"_247\"</td>\n",
       "    </tr>\n",
       "  </tbody>\n",
       "</table>\n",
       "</div>"
      ],
      "text/plain": [
       "    device_id                     event     exp_id\n",
       "0        2484                     total       246\"\n",
       "1        2513                     total       247\"\n",
       "2        2537                     total       248\"\n",
       "3        2493         \"MainScreenAppear       248\"\n",
       "4        2476         \"MainScreenAppear       247\"\n",
       "5        2450         \"MainScreenAppear       246\"\n",
       "6        1542       \"OffersScreenAppear       246\"\n",
       "7        1531       \"OffersScreenAppear       248\"\n",
       "8        1520       \"OffersScreenAppear       247\"\n",
       "9        1266         \"CartScreenAppear       246\"\n",
       "10       1238         \"CartScreenAppear       247\"\n",
       "11       1230         \"CartScreenAppear       248\"\n",
       "12       1200  \"PaymentScreenSuccessful       246\"\n",
       "13       1181  \"PaymentScreenSuccessful       248\"\n",
       "14       1158  \"PaymentScreenSuccessful       247\"\n",
       "15       2504         \"CartScreenAppear  246\"_247\"\n",
       "16       4926         \"MainScreenAppear  246\"_247\"\n",
       "17       3062       \"OffersScreenAppear  246\"_247\"\n",
       "18       2358  \"PaymentScreenSuccessful  246\"_247\"\n",
       "19       4997                     total  246\"_247\""
      ]
     },
     "execution_count": 42,
     "metadata": {},
     "output_type": "execute_result"
    }
   ],
   "source": [
    "# cоединим два контрольных эксперимента количетво пользователей\n",
    "exp_1_2 = ( device_id_exp_id_total.query('exp_id in (\"246\\\\\"\", \"247\\\\\"\")').\n",
    "    groupby('event').\n",
    "    agg({'device_id':'sum', 'exp_id':'max'}).reset_index()    \n",
    ")\n",
    "exp_1_2['exp_id'] = '246\"_247\"'\n",
    "exp_1_2\n",
    "# добавим в основной сгруппированный фрейм суммированные данные\n",
    "device_id_exp_id_total_246_247_concat = pd.concat([device_id_exp_id_total, exp_1_2], ignore_index=True)\n",
    "device_id_exp_id_total_246_247_concat"
   ]
  },
  {
   "cell_type": "code",
   "execution_count": 43,
   "id": "b337ead4",
   "metadata": {},
   "outputs": [
    {
     "name": "stdout",
     "output_type": "stream",
     "text": [
      "p-значение:  0.29424526837179577\n",
      "Не получилось отвергнуть нулевую гипотезу.\n",
      "Нет оснований считать доли 246\"_247\" и 248\" между событиями \"MainScreenAppear и total разными\n",
      "\n",
      "p-значение:  0.5308589432077624\n",
      "Не получилось отвергнуть нулевую гипотезу.\n",
      "Нет оснований считать доли 246\"_247\" и 248\" между событиями \"OffersScreenAppear и \"MainScreenAppear разными\n",
      "\n",
      "p-значение:  0.23905954279947372\n",
      "Не получилось отвергнуть нулевую гипотезу.\n",
      "Нет оснований считать доли 246\"_247\" и 248\" между событиями \"CartScreenAppear и \"OffersScreenAppear разными\n",
      "\n",
      "p-значение:  0.017114434319547067\n",
      "Не получилось отвергнуть нулевую гипотезу.\n",
      "Нет оснований считать доли 246\"_247\" и 248\" между событиями \"PaymentScreenSuccessful и \"CartScreenAppear разными\n",
      "\n",
      "p-значение:  0.43425549655188256\n",
      "Не получилось отвергнуть нулевую гипотезу.\n",
      "Нет оснований считать доли 246\"_247\" и 248\" между событиями \"OffersScreenAppear и total разными\n",
      "\n",
      "p-значение:  0.18175875284404386\n",
      "Не получилось отвергнуть нулевую гипотезу.\n",
      "Нет оснований считать доли 246\"_247\" и 248\" между событиями \"CartScreenAppear и total разными\n",
      "\n",
      "p-значение:  0.6004294282308704\n",
      "Не получилось отвергнуть нулевую гипотезу.\n",
      "Нет оснований считать доли 246\"_247\" и 248\" между событиями \"PaymentScreenSuccessful и total разными\n",
      "\n"
     ]
    }
   ],
   "source": [
    "# сравниваем группы 246\"-247\" и 248\"\n",
    "z_event_all('246\"_247\"', '248\"', device_id_exp_id_total_246_247_concat)"
   ]
  },
  {
   "cell_type": "markdown",
   "id": "8e7e33cd",
   "metadata": {},
   "source": [
    "**По результатам эксперимента можно сделать вывод, что эксперимент прошёл успешно, изменение шрифта не повлияло на конверсию пользователей по воронке событий.**"
   ]
  },
  {
   "cell_type": "markdown",
   "id": "f1502cfd",
   "metadata": {},
   "source": [
    "## Какой уровень значимости вы выбрали при проверке статистических гипотез выше? Сколько проверок статистических гипотез вы сделали. При уровне значимости 0.1 каждый десятый раз можно получать ложный результат. Какой уровень значимости стоит применить? Если вы хотите изменить его, проделайте предыдущие пункты и проверьте свои выводы."
   ]
  },
  {
   "cell_type": "markdown",
   "id": "a89f49b7",
   "metadata": {},
   "source": [
    "У меня был установлен уровень значимости 0.01.  \n",
    "Всего было проведено 28 проверок статистических критериев. Из 28 проверок, только один критерий показал статистическую значимость. \n",
    "Перед началом эксперимента мной был выбран уровень значимости, изменить выбранный уровень можно после просчета всех результатов. Коррекция уровеня на соответствующее число проверок и пересчет результатов отрицательно не сказываются. Применив поправки Бенферони у нас уровень значимости стремиться к нулю относительно выбранного нашего уровня значимости. Считаю верным свой выбор."
   ]
  },
  {
   "cell_type": "markdown",
   "id": "1c52deaf",
   "metadata": {},
   "source": [
    "# Вывод"
   ]
  },
  {
   "cell_type": "markdown",
   "id": "4e5bd161",
   "metadata": {},
   "source": [
    "**Мы исследовали поведения пользователей в процессе попадания на сайт и до покупки товаров.  \n",
    "Общий процент пользователей, доходящих до покупок очень высокий - 47% наших пользователей доходят до покупки.  \n",
    "Самый большой отвал пользователей происходит от появления на главной страницы, до поиска товара или предложения порядка 38%.  \n",
    "81% пользователей доходит до корзины, после поиска товаров. Т.е. порядка 20% либо не находят товар в нашем предложении или не устраивает цена или иная причина, из-за которой пользователь останавливается в дальнейшем.  \n",
    "95% совершают оплату после того, как положили товар в корзину. Это высокий показатель.  \n",
    "По поводу эксперимента - проведен корректно. Группы А/А теста также корректны, статистические критерии между ними не выявлены.  \n",
    "В целом эксперимент показал, что нет статистической значимости в конверсии пользователей после изменения шрифта.  \n",
    "Новый шрифт никак не повлиял на конверсию, тк что если он нравится всем больше, можно внедрять.**"
   ]
  }
 ],
 "metadata": {
  "kernelspec": {
   "display_name": "Python 3",
   "language": "python",
   "name": "python3"
  },
  "language_info": {
   "codemirror_mode": {
    "name": "ipython",
    "version": 3
   },
   "file_extension": ".py",
   "mimetype": "text/x-python",
   "name": "python",
   "nbconvert_exporter": "python",
   "pygments_lexer": "ipython3",
   "version": "3.7.12"
  },
  "toc": {
   "base_numbering": 1,
   "nav_menu": {},
   "number_sections": true,
   "sideBar": true,
   "skip_h1_title": false,
   "title_cell": "Table of Contents",
   "title_sidebar": "Contents",
   "toc_cell": false,
   "toc_position": {
    "height": "calc(100% - 180px)",
    "left": "10px",
    "top": "150px",
    "width": "221.188px"
   },
   "toc_section_display": true,
   "toc_window_display": true
  }
 },
 "nbformat": 4,
 "nbformat_minor": 5
}
