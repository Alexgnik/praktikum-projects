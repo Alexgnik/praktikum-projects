{
 "cells": [
  {
   "cell_type": "code",
   "execution_count": 1,
   "metadata": {
    "cellId": "7esrb05l5ydk8rvocadn0d"
   },
   "outputs": [],
   "source": [
    "#%pip install --upgrade pip"
   ]
  },
  {
   "cell_type": "code",
   "execution_count": 2,
   "metadata": {
    "cellId": "jdvarx8gtodio7hcqpdcw"
   },
   "outputs": [],
   "source": [
    "#%pip install -q -r requirements.txt"
   ]
  },
  {
   "cell_type": "markdown",
   "metadata": {
    "cellId": "6o7n68nudiwxbzz6o8r1xs"
   },
   "source": [
    "# Анализ тарифов компании \"Мегалайн\""
   ]
  },
  {
   "cell_type": "markdown",
   "metadata": {
    "cellId": "8hsa0k1pdhhif33hn492ac"
   },
   "source": [
    "Я аналитик компании «Мегалайн» — федерального оператора сотовой связи. Клиентам предлагают два тарифных плана: «Смарт» и «Ультра». Чтобы скорректировать рекламный бюджет, коммерческий департамент хочет понять, какой тариф приносит больше денег.  \n",
    "Мне предстоит сделать предварительный анализ тарифов на небольшой выборке клиентов. В моём распоряжении данные 500 пользователей «Мегалайна»: кто они, откуда, каким тарифом пользуются, сколько звонков и сообщений каждый отправил за 2018 год. Нужно проанализировать поведение клиентов и сделать вывод — какой тариф лучше.  \n",
    "\n",
    "**Описание тарифов**  \n",
    "\n",
    "**Тариф `«Смарт»`** \n",
    "1. Ежемесячная плата: 550 рублей  \n",
    "2. Включено 500 минут разговора, 50 сообщений и 15 Гб интернет-трафика  \n",
    "3. Стоимость услуг сверх тарифного пакета: 1. минута разговора: 3 рубля («Мегалайн» всегда округляет вверх значения минут и мегабайтов. Если пользователь проговорил всего 1 секунду, в тарифе засчитывается целая минута); 2. сообщение: 3 рубля; 3. 1 Гб интернет-трафика: 200 рублей.  \n",
    "\n",
    "**Тариф `«Ультра»`**  \n",
    "\n",
    "1. Ежемесячная плата: 1950 рублей\n",
    "2. Включено 3000 минут разговора, 1000 сообщений и 30 Гб интернет-трафика\n",
    "3. Стоимость услуг сверх тарифного пакета: 1. минута разговора: 1 рубль; 2. сообщение: 1 рубль; 3. 1 Гб интернет-трафика: 150 рублей.  \n",
    "\n",
    "*Примечание:\n",
    "«Мегалайн» всегда округляет секунды до минут, а мегабайты — до гигабайт. Каждый звонок округляется отдельно: даже если он длился всего 1 секунду, будет засчитан как 1 минута.\n",
    "Для веб-трафика отдельные сессии не считаются. Вместо этого общая сумма за месяц округляется в бо́льшую сторону. Если абонент использует 1025 мегабайт в этом месяце, с него возьмут плату за 2 гигабайта.*"
   ]
  },
  {
   "cell_type": "markdown",
   "metadata": {
    "cellId": "wb1njri8usjivmgq3uuii"
   },
   "source": [
    "## Откроем файл с данными и изучим общую информацию"
   ]
  },
  {
   "cell_type": "code",
   "execution_count": 3,
   "metadata": {
    "cellId": "um70z368a4u5p20zuqs4"
   },
   "outputs": [],
   "source": [
    "# импортируем библиотеки\n",
    "import pandas as pd\n",
    "import numpy as np\n",
    "import matplotlib.pyplot as plt\n",
    "%matplotlib inline\n",
    "import warnings\n",
    "warnings.filterwarnings('ignore')\n",
    "# import seaborn as sns\n",
    "from scipy import stats as st\n",
    "import math"
   ]
  },
  {
   "cell_type": "code",
   "execution_count": 4,
   "metadata": {
    "cellId": "qyksqv68jyf76yozlzvg"
   },
   "outputs": [],
   "source": [
    "# считываем файлы с данными\n",
    "try:\n",
    "    df_users = pd.read_csv('users.csv', sep=',')\n",
    "    df_tariffs = pd.read_csv('tariffs.csv', sep=',')\n",
    "    df_calls = pd.read_csv('calls.csv', sep=',')\n",
    "    df_internet = pd.read_csv('internet.csv', sep=',')\n",
    "    df_messages = pd.read_csv('messages.csv', sep=',')\n",
    "except:\n",
    "    df_users = pd.read_csv('/datasets/users.csv', sep=',')\n",
    "    df_tariffs = pd.read_csv('/datasets/tariffs.csv', sep=',')\n",
    "    df_calls = pd.read_csv('/datasets/calls.csv', sep=',')\n",
    "    df_internet = pd.read_csv('/datasets/internet.csv', sep=',')\n",
    "    df_messages = pd.read_csv('/datasets/messages.csv', sep=',')"
   ]
  },
  {
   "cell_type": "markdown",
   "metadata": {},
   "source": [
    "```python\n",
    "\n",
    "try:\n",
    "    # Что-то делаем.\n",
    "except Exception as e:\n",
    "    # Обрабатываем исключение.\n",
    "    # То есть мы ожидаем, что может случиться ошибка.\n",
    "else:\n",
    "    # Выполянем что-то, если нет ошибок.\n",
    "finally:\n",
    "    # Выполянем что-то при любом раскладе.\n",
    "    \n",
    "```"
   ]
  },
  {
   "cell_type": "code",
   "execution_count": 5,
   "metadata": {
    "cellId": "mh53qmlng5iosa8bfoy1j"
   },
   "outputs": [
    {
     "data": {
      "text/html": [
       "<div>\n",
       "<style scoped>\n",
       "    .dataframe tbody tr th:only-of-type {\n",
       "        vertical-align: middle;\n",
       "    }\n",
       "\n",
       "    .dataframe tbody tr th {\n",
       "        vertical-align: top;\n",
       "    }\n",
       "\n",
       "    .dataframe thead th {\n",
       "        text-align: right;\n",
       "    }\n",
       "</style>\n",
       "<table border=\"1\" class=\"dataframe\">\n",
       "  <thead>\n",
       "    <tr style=\"text-align: right;\">\n",
       "      <th></th>\n",
       "      <th>user_id</th>\n",
       "      <th>age</th>\n",
       "      <th>churn_date</th>\n",
       "      <th>city</th>\n",
       "      <th>first_name</th>\n",
       "      <th>last_name</th>\n",
       "      <th>reg_date</th>\n",
       "      <th>tariff</th>\n",
       "    </tr>\n",
       "  </thead>\n",
       "  <tbody>\n",
       "    <tr>\n",
       "      <td>0</td>\n",
       "      <td>1000</td>\n",
       "      <td>52</td>\n",
       "      <td>NaN</td>\n",
       "      <td>Краснодар</td>\n",
       "      <td>Рафаил</td>\n",
       "      <td>Верещагин</td>\n",
       "      <td>2018-05-25</td>\n",
       "      <td>ultra</td>\n",
       "    </tr>\n",
       "    <tr>\n",
       "      <td>1</td>\n",
       "      <td>1001</td>\n",
       "      <td>41</td>\n",
       "      <td>NaN</td>\n",
       "      <td>Москва</td>\n",
       "      <td>Иван</td>\n",
       "      <td>Ежов</td>\n",
       "      <td>2018-11-01</td>\n",
       "      <td>smart</td>\n",
       "    </tr>\n",
       "    <tr>\n",
       "      <td>2</td>\n",
       "      <td>1002</td>\n",
       "      <td>59</td>\n",
       "      <td>NaN</td>\n",
       "      <td>Стерлитамак</td>\n",
       "      <td>Евгений</td>\n",
       "      <td>Абрамович</td>\n",
       "      <td>2018-06-17</td>\n",
       "      <td>smart</td>\n",
       "    </tr>\n",
       "    <tr>\n",
       "      <td>3</td>\n",
       "      <td>1003</td>\n",
       "      <td>23</td>\n",
       "      <td>NaN</td>\n",
       "      <td>Москва</td>\n",
       "      <td>Белла</td>\n",
       "      <td>Белякова</td>\n",
       "      <td>2018-08-17</td>\n",
       "      <td>ultra</td>\n",
       "    </tr>\n",
       "    <tr>\n",
       "      <td>4</td>\n",
       "      <td>1004</td>\n",
       "      <td>68</td>\n",
       "      <td>NaN</td>\n",
       "      <td>Новокузнецк</td>\n",
       "      <td>Татьяна</td>\n",
       "      <td>Авдеенко</td>\n",
       "      <td>2018-05-14</td>\n",
       "      <td>ultra</td>\n",
       "    </tr>\n",
       "  </tbody>\n",
       "</table>\n",
       "</div>"
      ],
      "text/plain": [
       "   user_id  age churn_date         city first_name  last_name    reg_date  \\\n",
       "0     1000   52        NaN    Краснодар     Рафаил  Верещагин  2018-05-25   \n",
       "1     1001   41        NaN       Москва       Иван       Ежов  2018-11-01   \n",
       "2     1002   59        NaN  Стерлитамак    Евгений  Абрамович  2018-06-17   \n",
       "3     1003   23        NaN       Москва      Белла   Белякова  2018-08-17   \n",
       "4     1004   68        NaN  Новокузнецк    Татьяна   Авдеенко  2018-05-14   \n",
       "\n",
       "  tariff  \n",
       "0  ultra  \n",
       "1  smart  \n",
       "2  smart  \n",
       "3  ultra  \n",
       "4  ultra  "
      ]
     },
     "metadata": {},
     "output_type": "display_data"
    },
    {
     "name": "stdout",
     "output_type": "stream",
     "text": [
      "<class 'pandas.core.frame.DataFrame'>\n",
      "RangeIndex: 500 entries, 0 to 499\n",
      "Data columns (total 8 columns):\n",
      "user_id       500 non-null int64\n",
      "age           500 non-null int64\n",
      "churn_date    38 non-null object\n",
      "city          500 non-null object\n",
      "first_name    500 non-null object\n",
      "last_name     500 non-null object\n",
      "reg_date      500 non-null object\n",
      "tariff        500 non-null object\n",
      "dtypes: int64(2), object(6)\n",
      "memory usage: 31.4+ KB\n",
      "None Всего уникальных пользователей 500\n"
     ]
    }
   ],
   "source": [
    "# смотрим информацию по таблице `users`\n",
    "display(df_users.head())\n",
    "print(df_users.info(), 'Всего уникальных пользователей', df_users['user_id'].nunique())"
   ]
  },
  {
   "cell_type": "markdown",
   "metadata": {
    "cellId": "sc8zv9t710ilnp7hejbng"
   },
   "source": [
    "Согласно документации таблица users (информация о пользователях):    \n",
    "`user_id` — уникальный идентификатор пользователя  \n",
    "`first_name` — имя пользователя  \n",
    "`last_name` — фамилия пользователя  \n",
    "`age` — возраст пользователя (годы)  \n",
    "`reg_date` — дата подключения тарифа (день, месяц, год)  \n",
    "`churn_date` — дата прекращения пользования тарифом (если значение пропущено, то тариф ещё действовал на момент выгрузки данных)  \n",
    "`city` — город проживания пользователя  \n",
    "`tarif` — название тарифного плана  \n",
    "\n",
    "В таблице 500 записей, каждая представляет собой данные о 500 уникальных пользователях.   \n",
    "38 пользователей прекратили пользоваться тарифным планом на момент выгрузки данных.  \n",
    "Столбцы `reg_date` и `churn_date` представляют собой даты в формате год-месяц-день. Далее мы переведём их в соответствующий формат даты.   Остальные данные предварительно у нас не вызывают вопросов."
   ]
  },
  {
   "cell_type": "code",
   "execution_count": 6,
   "metadata": {
    "cellId": "o70gkp5vven6f1f7g3n3m"
   },
   "outputs": [
    {
     "data": {
      "text/html": [
       "<div>\n",
       "<style scoped>\n",
       "    .dataframe tbody tr th:only-of-type {\n",
       "        vertical-align: middle;\n",
       "    }\n",
       "\n",
       "    .dataframe tbody tr th {\n",
       "        vertical-align: top;\n",
       "    }\n",
       "\n",
       "    .dataframe thead th {\n",
       "        text-align: right;\n",
       "    }\n",
       "</style>\n",
       "<table border=\"1\" class=\"dataframe\">\n",
       "  <thead>\n",
       "    <tr style=\"text-align: right;\">\n",
       "      <th></th>\n",
       "      <th>messages_included</th>\n",
       "      <th>mb_per_month_included</th>\n",
       "      <th>minutes_included</th>\n",
       "      <th>rub_monthly_fee</th>\n",
       "      <th>rub_per_gb</th>\n",
       "      <th>rub_per_message</th>\n",
       "      <th>rub_per_minute</th>\n",
       "      <th>tariff_name</th>\n",
       "    </tr>\n",
       "  </thead>\n",
       "  <tbody>\n",
       "    <tr>\n",
       "      <td>0</td>\n",
       "      <td>50</td>\n",
       "      <td>15360</td>\n",
       "      <td>500</td>\n",
       "      <td>550</td>\n",
       "      <td>200</td>\n",
       "      <td>3</td>\n",
       "      <td>3</td>\n",
       "      <td>smart</td>\n",
       "    </tr>\n",
       "    <tr>\n",
       "      <td>1</td>\n",
       "      <td>1000</td>\n",
       "      <td>30720</td>\n",
       "      <td>3000</td>\n",
       "      <td>1950</td>\n",
       "      <td>150</td>\n",
       "      <td>1</td>\n",
       "      <td>1</td>\n",
       "      <td>ultra</td>\n",
       "    </tr>\n",
       "  </tbody>\n",
       "</table>\n",
       "</div>"
      ],
      "text/plain": [
       "   messages_included  mb_per_month_included  minutes_included  \\\n",
       "0                 50                  15360               500   \n",
       "1               1000                  30720              3000   \n",
       "\n",
       "   rub_monthly_fee  rub_per_gb  rub_per_message  rub_per_minute tariff_name  \n",
       "0              550         200                3               3       smart  \n",
       "1             1950         150                1               1       ultra  "
      ]
     },
     "metadata": {},
     "output_type": "display_data"
    },
    {
     "name": "stdout",
     "output_type": "stream",
     "text": [
      "<class 'pandas.core.frame.DataFrame'>\n",
      "RangeIndex: 2 entries, 0 to 1\n",
      "Data columns (total 8 columns):\n",
      "messages_included        2 non-null int64\n",
      "mb_per_month_included    2 non-null int64\n",
      "minutes_included         2 non-null int64\n",
      "rub_monthly_fee          2 non-null int64\n",
      "rub_per_gb               2 non-null int64\n",
      "rub_per_message          2 non-null int64\n",
      "rub_per_minute           2 non-null int64\n",
      "tariff_name              2 non-null object\n",
      "dtypes: int64(7), object(1)\n",
      "memory usage: 256.0+ bytes\n"
     ]
    }
   ],
   "source": [
    "# смотрим таблицу тарифных планов\n",
    "display(df_tariffs.head())\n",
    "df_tariffs.info()"
   ]
  },
  {
   "cell_type": "markdown",
   "metadata": {
    "cellId": "8ahmyw9w53ob7julzwqiy"
   },
   "source": [
    "Согласно документации таблица tariffs (информация о тарифах):    \n",
    "* tariff_name — название тарифа\n",
    "* rub_monthly_fee — ежемесячная абонентская плата в рублях\n",
    "* minutes_included — количество минут разговора в месяц, включённых в абонентскую плату\n",
    "* messages_included — количество сообщений в месяц, включённых в абонентскую плату\n",
    "* mb_per_month_included — объём интернет-трафика, включённого в абонентскую плату (в мегабайтах)\n",
    "* rub_per_minute — стоимость минуты разговора сверх тарифного пакета (например, если в тарифе 100 минут разговора в месяц, то со 101 минуты будет взиматься плата)\n",
    "* rub_per_message — стоимость отправки сообщения сверх тарифного пакета\n",
    "* rub_per_gb — стоимость дополнительного гигабайта интернет-трафика сверх тарифного пакета (1 гигабайт = 1024 мегабайта)  \n",
    "\n",
    "Мы видим две записи по тарифным планам. Данные соответствуют тарифным планам."
   ]
  },
  {
   "cell_type": "code",
   "execution_count": 7,
   "metadata": {
    "cellId": "j0pcesc25m3nc4q47etiw"
   },
   "outputs": [
    {
     "data": {
      "text/html": [
       "<div>\n",
       "<style scoped>\n",
       "    .dataframe tbody tr th:only-of-type {\n",
       "        vertical-align: middle;\n",
       "    }\n",
       "\n",
       "    .dataframe tbody tr th {\n",
       "        vertical-align: top;\n",
       "    }\n",
       "\n",
       "    .dataframe thead th {\n",
       "        text-align: right;\n",
       "    }\n",
       "</style>\n",
       "<table border=\"1\" class=\"dataframe\">\n",
       "  <thead>\n",
       "    <tr style=\"text-align: right;\">\n",
       "      <th></th>\n",
       "      <th>id</th>\n",
       "      <th>call_date</th>\n",
       "      <th>duration</th>\n",
       "      <th>user_id</th>\n",
       "    </tr>\n",
       "  </thead>\n",
       "  <tbody>\n",
       "    <tr>\n",
       "      <td>0</td>\n",
       "      <td>1000_0</td>\n",
       "      <td>2018-07-25</td>\n",
       "      <td>0.00</td>\n",
       "      <td>1000</td>\n",
       "    </tr>\n",
       "    <tr>\n",
       "      <td>1</td>\n",
       "      <td>1000_1</td>\n",
       "      <td>2018-08-17</td>\n",
       "      <td>0.00</td>\n",
       "      <td>1000</td>\n",
       "    </tr>\n",
       "    <tr>\n",
       "      <td>2</td>\n",
       "      <td>1000_2</td>\n",
       "      <td>2018-06-11</td>\n",
       "      <td>2.85</td>\n",
       "      <td>1000</td>\n",
       "    </tr>\n",
       "    <tr>\n",
       "      <td>3</td>\n",
       "      <td>1000_3</td>\n",
       "      <td>2018-09-21</td>\n",
       "      <td>13.80</td>\n",
       "      <td>1000</td>\n",
       "    </tr>\n",
       "    <tr>\n",
       "      <td>4</td>\n",
       "      <td>1000_4</td>\n",
       "      <td>2018-12-15</td>\n",
       "      <td>5.18</td>\n",
       "      <td>1000</td>\n",
       "    </tr>\n",
       "  </tbody>\n",
       "</table>\n",
       "</div>"
      ],
      "text/plain": [
       "       id   call_date  duration  user_id\n",
       "0  1000_0  2018-07-25      0.00     1000\n",
       "1  1000_1  2018-08-17      0.00     1000\n",
       "2  1000_2  2018-06-11      2.85     1000\n",
       "3  1000_3  2018-09-21     13.80     1000\n",
       "4  1000_4  2018-12-15      5.18     1000"
      ]
     },
     "metadata": {},
     "output_type": "display_data"
    },
    {
     "name": "stdout",
     "output_type": "stream",
     "text": [
      "<class 'pandas.core.frame.DataFrame'>\n",
      "RangeIndex: 202607 entries, 0 to 202606\n",
      "Data columns (total 4 columns):\n",
      "id           202607 non-null object\n",
      "call_date    202607 non-null object\n",
      "duration     202607 non-null float64\n",
      "user_id      202607 non-null int64\n",
      "dtypes: float64(1), int64(1), object(2)\n",
      "memory usage: 6.2+ MB\n"
     ]
    },
    {
     "data": {
      "text/plain": [
       "39613"
      ]
     },
     "execution_count": 7,
     "metadata": {},
     "output_type": "execute_result"
    }
   ],
   "source": [
    "# таблица информация о звонках\n",
    "display(df_calls.head())\n",
    "df_calls.info()\n",
    "df_calls.loc[df_calls['duration'] == 0, 'duration'].count()"
   ]
  },
  {
   "cell_type": "code",
   "execution_count": 8,
   "metadata": {
    "cellId": "d0c1s8osnxcdtg87yzabe7"
   },
   "outputs": [
    {
     "data": {
      "image/png": "[encoded data removed]",
      "text/plain": [
       "<Figure size 432x288 with 1 Axes>"
      ]
     },
     "metadata": {
      "needs_background": "light"
     },
     "output_type": "display_data"
    }
   ],
   "source": [
    "# построили гистрограмму посмотреть разброс\n",
    "df_calls['duration'].hist(bins=30, range=(0, 30))\n",
    "plt.show()"
   ]
  },
  {
   "cell_type": "markdown",
   "metadata": {
    "cellId": "rv8qhvcr5rpxyv9lgtmya"
   },
   "source": [
    " Согласно документации таблица calls (информация о звонках):  \n",
    "* id — уникальный номер звонка\n",
    "* call_date — дата звонка\n",
    "* duration — длительность звонка в минутах\n",
    "* user_id — идентификатор пользователя, сделавшего звонок  \n",
    "\n",
    "По таблице звонков у нас всего 202 067 записей. По столбцам `call_date` будет правильно перевести в тип дата. Мы построили диаграмму, чтобы визуально оценить звонки и видим, что очень много звонков с нулевым значением. Согласно пояснениям это пропущенные звонки абонентов. Также согласно примечанию, все звонки округляются до целых для тарифных планов, даже если звонок был 1 секунду, он будет засчитан, как 1 минута. Поэтому длительность звонков мы переведём в тип Int c округлением в большую сторону. Воспользуемся функцией ceil() для округления в большую сторону до целого числа."
   ]
  },
  {
   "cell_type": "code",
   "execution_count": 9,
   "metadata": {
    "cellId": "o6984otuhsc9uo101kjb1"
   },
   "outputs": [
    {
     "data": {
      "text/html": [
       "<div>\n",
       "<style scoped>\n",
       "    .dataframe tbody tr th:only-of-type {\n",
       "        vertical-align: middle;\n",
       "    }\n",
       "\n",
       "    .dataframe tbody tr th {\n",
       "        vertical-align: top;\n",
       "    }\n",
       "\n",
       "    .dataframe thead th {\n",
       "        text-align: right;\n",
       "    }\n",
       "</style>\n",
       "<table border=\"1\" class=\"dataframe\">\n",
       "  <thead>\n",
       "    <tr style=\"text-align: right;\">\n",
       "      <th></th>\n",
       "      <th>id</th>\n",
       "      <th>message_date</th>\n",
       "      <th>user_id</th>\n",
       "    </tr>\n",
       "  </thead>\n",
       "  <tbody>\n",
       "    <tr>\n",
       "      <td>0</td>\n",
       "      <td>1000_0</td>\n",
       "      <td>2018-06-27</td>\n",
       "      <td>1000</td>\n",
       "    </tr>\n",
       "    <tr>\n",
       "      <td>1</td>\n",
       "      <td>1000_1</td>\n",
       "      <td>2018-10-08</td>\n",
       "      <td>1000</td>\n",
       "    </tr>\n",
       "    <tr>\n",
       "      <td>2</td>\n",
       "      <td>1000_2</td>\n",
       "      <td>2018-08-04</td>\n",
       "      <td>1000</td>\n",
       "    </tr>\n",
       "    <tr>\n",
       "      <td>3</td>\n",
       "      <td>1000_3</td>\n",
       "      <td>2018-06-16</td>\n",
       "      <td>1000</td>\n",
       "    </tr>\n",
       "    <tr>\n",
       "      <td>4</td>\n",
       "      <td>1000_4</td>\n",
       "      <td>2018-12-05</td>\n",
       "      <td>1000</td>\n",
       "    </tr>\n",
       "  </tbody>\n",
       "</table>\n",
       "</div>"
      ],
      "text/plain": [
       "       id message_date  user_id\n",
       "0  1000_0   2018-06-27     1000\n",
       "1  1000_1   2018-10-08     1000\n",
       "2  1000_2   2018-08-04     1000\n",
       "3  1000_3   2018-06-16     1000\n",
       "4  1000_4   2018-12-05     1000"
      ]
     },
     "metadata": {},
     "output_type": "display_data"
    },
    {
     "name": "stdout",
     "output_type": "stream",
     "text": [
      "<class 'pandas.core.frame.DataFrame'>\n",
      "RangeIndex: 123036 entries, 0 to 123035\n",
      "Data columns (total 3 columns):\n",
      "id              123036 non-null object\n",
      "message_date    123036 non-null object\n",
      "user_id         123036 non-null int64\n",
      "dtypes: int64(1), object(2)\n",
      "memory usage: 2.8+ MB\n"
     ]
    }
   ],
   "source": [
    "display(df_messages.head())\n",
    "df_messages.info()"
   ]
  },
  {
   "cell_type": "markdown",
   "metadata": {
    "cellId": "fksw57qhae81c83lfxo4s3"
   },
   "source": [
    "Cогласно документации таблица messages (информация о сообщениях):\n",
    "* id — уникальный номер сообщения\n",
    "* message_date — дата сообщения\n",
    "* user_id — идентификатор пользователя, отправившего сообщение  \n",
    "\n",
    "В таблице 3 столбца. Столбец `message_date` переведем в тип дата. По остальным вопросов нет."
   ]
  },
  {
   "cell_type": "code",
   "execution_count": 10,
   "metadata": {
    "cellId": "6prg9mfl6gxm5kbsvyj8v"
   },
   "outputs": [
    {
     "data": {
      "text/html": [
       "<div>\n",
       "<style scoped>\n",
       "    .dataframe tbody tr th:only-of-type {\n",
       "        vertical-align: middle;\n",
       "    }\n",
       "\n",
       "    .dataframe tbody tr th {\n",
       "        vertical-align: top;\n",
       "    }\n",
       "\n",
       "    .dataframe thead th {\n",
       "        text-align: right;\n",
       "    }\n",
       "</style>\n",
       "<table border=\"1\" class=\"dataframe\">\n",
       "  <thead>\n",
       "    <tr style=\"text-align: right;\">\n",
       "      <th></th>\n",
       "      <th>Unnamed: 0</th>\n",
       "      <th>id</th>\n",
       "      <th>mb_used</th>\n",
       "      <th>session_date</th>\n",
       "      <th>user_id</th>\n",
       "    </tr>\n",
       "  </thead>\n",
       "  <tbody>\n",
       "    <tr>\n",
       "      <td>0</td>\n",
       "      <td>0</td>\n",
       "      <td>1000_0</td>\n",
       "      <td>112.95</td>\n",
       "      <td>2018-11-25</td>\n",
       "      <td>1000</td>\n",
       "    </tr>\n",
       "    <tr>\n",
       "      <td>1</td>\n",
       "      <td>1</td>\n",
       "      <td>1000_1</td>\n",
       "      <td>1052.81</td>\n",
       "      <td>2018-09-07</td>\n",
       "      <td>1000</td>\n",
       "    </tr>\n",
       "    <tr>\n",
       "      <td>2</td>\n",
       "      <td>2</td>\n",
       "      <td>1000_2</td>\n",
       "      <td>1197.26</td>\n",
       "      <td>2018-06-25</td>\n",
       "      <td>1000</td>\n",
       "    </tr>\n",
       "    <tr>\n",
       "      <td>3</td>\n",
       "      <td>3</td>\n",
       "      <td>1000_3</td>\n",
       "      <td>550.27</td>\n",
       "      <td>2018-08-22</td>\n",
       "      <td>1000</td>\n",
       "    </tr>\n",
       "    <tr>\n",
       "      <td>4</td>\n",
       "      <td>4</td>\n",
       "      <td>1000_4</td>\n",
       "      <td>302.56</td>\n",
       "      <td>2018-09-24</td>\n",
       "      <td>1000</td>\n",
       "    </tr>\n",
       "  </tbody>\n",
       "</table>\n",
       "</div>"
      ],
      "text/plain": [
       "   Unnamed: 0      id  mb_used session_date  user_id\n",
       "0           0  1000_0   112.95   2018-11-25     1000\n",
       "1           1  1000_1  1052.81   2018-09-07     1000\n",
       "2           2  1000_2  1197.26   2018-06-25     1000\n",
       "3           3  1000_3   550.27   2018-08-22     1000\n",
       "4           4  1000_4   302.56   2018-09-24     1000"
      ]
     },
     "metadata": {},
     "output_type": "display_data"
    },
    {
     "name": "stdout",
     "output_type": "stream",
     "text": [
      "<class 'pandas.core.frame.DataFrame'>\n",
      "RangeIndex: 149396 entries, 0 to 149395\n",
      "Data columns (total 5 columns):\n",
      "Unnamed: 0      149396 non-null int64\n",
      "id              149396 non-null object\n",
      "mb_used         149396 non-null float64\n",
      "session_date    149396 non-null object\n",
      "user_id         149396 non-null int64\n",
      "dtypes: float64(1), int64(2), object(2)\n",
      "memory usage: 5.7+ MB\n"
     ]
    },
    {
     "data": {
      "text/plain": [
       "0.13118155773916304"
      ]
     },
     "execution_count": 10,
     "metadata": {},
     "output_type": "execute_result"
    }
   ],
   "source": [
    "display(df_internet.head())\n",
    "df_internet.info()\n",
    "# проверяем количество нулей в значениях использования интернета\n",
    "df_internet.loc[df_internet['mb_used'] == 0,'mb_used'].count() / df_internet.shape[0]"
   ]
  },
  {
   "cell_type": "code",
   "execution_count": 11,
   "metadata": {},
   "outputs": [
    {
     "data": {
      "text/html": [
       "<div>\n",
       "<style scoped>\n",
       "    .dataframe tbody tr th:only-of-type {\n",
       "        vertical-align: middle;\n",
       "    }\n",
       "\n",
       "    .dataframe tbody tr th {\n",
       "        vertical-align: top;\n",
       "    }\n",
       "\n",
       "    .dataframe thead th {\n",
       "        text-align: right;\n",
       "    }\n",
       "</style>\n",
       "<table border=\"1\" class=\"dataframe\">\n",
       "  <thead>\n",
       "    <tr style=\"text-align: right;\">\n",
       "      <th></th>\n",
       "      <th>Unnamed: 0</th>\n",
       "      <th>id</th>\n",
       "      <th>mb_used</th>\n",
       "      <th>session_date</th>\n",
       "      <th>user_id</th>\n",
       "    </tr>\n",
       "  </thead>\n",
       "  <tbody>\n",
       "    <tr>\n",
       "      <td>103</td>\n",
       "      <td>103</td>\n",
       "      <td>1000_103</td>\n",
       "      <td>0.00</td>\n",
       "      <td>2018-05-26</td>\n",
       "      <td>1000</td>\n",
       "    </tr>\n",
       "    <tr>\n",
       "      <td>96</td>\n",
       "      <td>96</td>\n",
       "      <td>1000_96</td>\n",
       "      <td>544.22</td>\n",
       "      <td>2018-05-28</td>\n",
       "      <td>1000</td>\n",
       "    </tr>\n",
       "    <tr>\n",
       "      <td>59</td>\n",
       "      <td>59</td>\n",
       "      <td>1000_59</td>\n",
       "      <td>363.20</td>\n",
       "      <td>2018-05-28</td>\n",
       "      <td>1000</td>\n",
       "    </tr>\n",
       "    <tr>\n",
       "      <td>51</td>\n",
       "      <td>51</td>\n",
       "      <td>1000_51</td>\n",
       "      <td>628.41</td>\n",
       "      <td>2018-05-31</td>\n",
       "      <td>1000</td>\n",
       "    </tr>\n",
       "    <tr>\n",
       "      <td>134</td>\n",
       "      <td>134</td>\n",
       "      <td>1000_134</td>\n",
       "      <td>717.66</td>\n",
       "      <td>2018-05-31</td>\n",
       "      <td>1000</td>\n",
       "    </tr>\n",
       "    <tr>\n",
       "      <td>...</td>\n",
       "      <td>...</td>\n",
       "      <td>...</td>\n",
       "      <td>...</td>\n",
       "      <td>...</td>\n",
       "      <td>...</td>\n",
       "    </tr>\n",
       "    <tr>\n",
       "      <td>58</td>\n",
       "      <td>58</td>\n",
       "      <td>1000_58</td>\n",
       "      <td>10.23</td>\n",
       "      <td>2018-12-28</td>\n",
       "      <td>1000</td>\n",
       "    </tr>\n",
       "    <tr>\n",
       "      <td>143</td>\n",
       "      <td>143</td>\n",
       "      <td>1000_143</td>\n",
       "      <td>0.00</td>\n",
       "      <td>2018-12-29</td>\n",
       "      <td>1000</td>\n",
       "    </tr>\n",
       "    <tr>\n",
       "      <td>197</td>\n",
       "      <td>197</td>\n",
       "      <td>1000_197</td>\n",
       "      <td>178.76</td>\n",
       "      <td>2018-12-29</td>\n",
       "      <td>1000</td>\n",
       "    </tr>\n",
       "    <tr>\n",
       "      <td>194</td>\n",
       "      <td>194</td>\n",
       "      <td>1000_194</td>\n",
       "      <td>369.19</td>\n",
       "      <td>2018-12-30</td>\n",
       "      <td>1000</td>\n",
       "    </tr>\n",
       "    <tr>\n",
       "      <td>205</td>\n",
       "      <td>205</td>\n",
       "      <td>1000_205</td>\n",
       "      <td>559.98</td>\n",
       "      <td>2018-12-30</td>\n",
       "      <td>1000</td>\n",
       "    </tr>\n",
       "  </tbody>\n",
       "</table>\n",
       "<p>211 rows × 5 columns</p>\n",
       "</div>"
      ],
      "text/plain": [
       "     Unnamed: 0        id  mb_used session_date  user_id\n",
       "103         103  1000_103     0.00   2018-05-26     1000\n",
       "96           96   1000_96   544.22   2018-05-28     1000\n",
       "59           59   1000_59   363.20   2018-05-28     1000\n",
       "51           51   1000_51   628.41   2018-05-31     1000\n",
       "134         134  1000_134   717.66   2018-05-31     1000\n",
       "..          ...       ...      ...          ...      ...\n",
       "58           58   1000_58    10.23   2018-12-28     1000\n",
       "143         143  1000_143     0.00   2018-12-29     1000\n",
       "197         197  1000_197   178.76   2018-12-29     1000\n",
       "194         194  1000_194   369.19   2018-12-30     1000\n",
       "205         205  1000_205   559.98   2018-12-30     1000\n",
       "\n",
       "[211 rows x 5 columns]"
      ]
     },
     "execution_count": 11,
     "metadata": {},
     "output_type": "execute_result"
    }
   ],
   "source": [
    "# смотрю выборку по пользователю, у которого есть нулевое потребление трафика интернета\n",
    "df_internet[df_internet['user_id'] == 1000].sort_values(by='session_date')"
   ]
  },
  {
   "cell_type": "markdown",
   "metadata": {
    "cellId": "ntg0yqga51gh33vct4wb4m"
   },
   "source": [
    "По описанию документации таблица содержит internet (информация об интернет-сессиях):\n",
    "* id — уникальный номер сессии\n",
    "* mb_used — объём потраченного за сессию интернет-трафика (в мегабайтах)\n",
    "* session_date — дата интернет-сессии\n",
    "* user_id — идентификатор пользователя"
   ]
  },
  {
   "cell_type": "markdown",
   "metadata": {},
   "source": [
    "Мы видим, то в таблице появился неучтенный столбец `Unnamed: 0`, который повторяет индексацию таблицы. Удалим его, так как он совсем лишний столбец в нашей таблице. Столбец с датами также следует перевести в тип дата. "
   ]
  },
  {
   "cell_type": "markdown",
   "metadata": {
    "cellId": "f4rat26bvcdrgwju8ylto"
   },
   "source": [
    "## Подготовка данных"
   ]
  },
  {
   "cell_type": "markdown",
   "metadata": {
    "cellId": "u6riwb79ekjxnq9ddc6sbo"
   },
   "source": [
    "### Приведем данные к нужным типам и исправим ошибки в данных"
   ]
  },
  {
   "cell_type": "code",
   "execution_count": 12,
   "metadata": {
    "cellId": "euacwzdurdk3nmilpq3n71"
   },
   "outputs": [],
   "source": [
    "# перевод даты в привычный формат в таблице users\n",
    "df_users['reg_date'] = pd.to_datetime(df_users['reg_date'], format='%Y-%m-%d')\n",
    "df_users['churn_date'] = pd.to_datetime(df_users['churn_date'], format='%Y-%m-%d')"
   ]
  },
  {
   "cell_type": "code",
   "execution_count": 13,
   "metadata": {
    "cellId": "46mc422y5ey2s4i4jem3f9"
   },
   "outputs": [],
   "source": [
    "# перевод даты в привычный формат в таблице calls\n",
    "df_calls['call_date'] = pd.to_datetime(df_calls['call_date'], format='%Y-%m-%d')"
   ]
  },
  {
   "cell_type": "code",
   "execution_count": 14,
   "metadata": {
    "cellId": "lt84c207128152np2z826r"
   },
   "outputs": [],
   "source": [
    "# огруглим столбец `duration` до целых чисел в большую сторону, так звонки в \"Мегалайне\" округляются в большую сторону \n",
    "# до минут и переведём в тип Int\n",
    "np.ceil(df_calls['duration'])\n",
    "df_calls['duration'] = df_calls['duration'].astype('int64')"
   ]
  },
  {
   "cell_type": "code",
   "execution_count": 15,
   "metadata": {
    "cellId": "edp80owzwng41dai215vdo"
   },
   "outputs": [],
   "source": [
    "# перевод даты в привычный формат в таблице df_messages\n",
    "df_messages['message_date'] = pd.to_datetime(df_messages['message_date'], format='%Y-%m-%d')"
   ]
  },
  {
   "cell_type": "code",
   "execution_count": 16,
   "metadata": {
    "cellId": "zlmeivvd03prqrcdvh11qm"
   },
   "outputs": [],
   "source": [
    "# перевод даты в привычный формат в таблице df_internet\n",
    "df_internet['session_date'] = pd.to_datetime(df_internet['session_date'], format='%Y-%m-%d')\n",
    "# удалим лишний столбец Unnamed: 0 в таблице df_internet\n",
    "df_internet = df_internet.drop('Unnamed: 0', 1)"
   ]
  },
  {
   "cell_type": "markdown",
   "metadata": {
    "cellId": "dcccrvz1kdmnyidmj1f7zd"
   },
   "source": [
    "Мы привели даты к типам дата в таблицах, удалили лишний столбец в таблице `internet`, огруглили к целым минутам длительность звонков в минутах в таблице `calls`.  "
   ]
  },
  {
   "cell_type": "markdown",
   "metadata": {
    "cellId": "p5kc3emotsfkq4z4e8y4i"
   },
   "source": [
    "### Объединение таблиц и расчет данных для каждого пользователя"
   ]
  },
  {
   "cell_type": "markdown",
   "metadata": {
    "cellId": "4hjzgy4mvu333ft776qh7j"
   },
   "source": [
    "Посчитаем для каждого пользователя:  \n",
    "* количество сделанных звонков и израсходованных минут разговора по месяцам;\n",
    "* количество отправленных сообщений по месяцам;\n",
    "* объем израсходованного интернет-трафика по месяцам;\n",
    "* помесячную выручку с каждого пользователя (вычтите бесплатный лимит из суммарного количества звонков, сообщений и интернет-трафика; остаток умножьте на значение из тарифного плана; прибавьте абонентскую плату, соответствующую тарифному плану)."
   ]
  },
  {
   "cell_type": "markdown",
   "metadata": {
    "cellId": "k3rd27s6viguujzgdxpu9n"
   },
   "source": [
    "Подотовим данные для расчётов. Для этого объединим таблицы `users`, `calls`, `messages`, `internet`"
   ]
  },
  {
   "cell_type": "code",
   "execution_count": 17,
   "metadata": {},
   "outputs": [],
   "source": [
    "# функция, добавляющая в таблицу столбец `column_month` число соответствующее месяцу от \n",
    "# даты в столбце `column_month`, а после переводящая столбец в тип int, так как сразу приводит к float\n",
    "\n",
    "def df_month_add(df, column, column_month):\n",
    "    df[column_month] = pd.DatetimeIndex(df[column]).month\n",
    "    df[column_month] = df[column_month].astype('int8')"
   ]
  },
  {
   "cell_type": "code",
   "execution_count": 18,
   "metadata": {},
   "outputs": [],
   "source": [
    "# функция, запускающая сначала функцию добавления месяца столбца в таблицу, а потом группирует данные по user_id\n",
    "# и месяцу и возвращающая новый датафрейм\n",
    "\n",
    "def group_id_month(df, column, column_month, user_id, agg_column, func):\n",
    "    df_month_add(df, column, column_month)\n",
    "    return df.groupby([user_id, column_month]).agg({agg_column: func}).reset_index()\n"
   ]
  },
  {
   "cell_type": "code",
   "execution_count": 19,
   "metadata": {},
   "outputs": [],
   "source": [
    "# сгруппируем последовательно `calls`, `messages`, `internet` таблицы по 'user_id' и месяцу в новые датафреймы\n",
    "df_calls_group = group_id_month(df_calls, 'call_date', 'month', 'user_id', 'duration', sum)\n",
    "df_messages_group = (group_id_month(df_messages, 'message_date', 'month', 'user_id', 'id', 'count').\n",
    "                     rename(columns={\"id\": \"sms\"}))\n",
    "df_internet_group = group_id_month(df_internet, 'session_date', 'month', 'user_id', 'mb_used', sum)"
   ]
  },
  {
   "cell_type": "code",
   "execution_count": 20,
   "metadata": {},
   "outputs": [],
   "source": [
    "# объединим данные в таблицах со звонками, сообщениями и трафиком интернета\n",
    "df_user_group = pd.merge(df_calls_group, df_messages_group, how='outer')\n",
    "df_user_group = df_user_group.merge(df_internet_group, how='outer')"
   ]
  },
  {
   "cell_type": "code",
   "execution_count": 21,
   "metadata": {},
   "outputs": [],
   "source": [
    "# соединяем таблицу 'users' c группированными данными звонков, сообщений и потребления интернета\n",
    "df_user_group = df_users.merge(df_user_group, how='outer')"
   ]
  },
  {
   "cell_type": "code",
   "execution_count": 22,
   "metadata": {},
   "outputs": [],
   "source": [
    "# переименуем столбец с тарифным планом для дальнейшего объединения таблицы со сводной\n",
    "df_tariffs = df_tariffs.rename(columns={\"tariff_name\": \"tariff\"})\n",
    "# соединяем сводную таблицу с таблицей df_tariffs\n",
    "df_user_group = df_user_group.merge(df_tariffs, how='left')"
   ]
  },
  {
   "cell_type": "code",
   "execution_count": 23,
   "metadata": {},
   "outputs": [
    {
     "data": {
      "text/plain": [
       "2"
      ]
     },
     "execution_count": 23,
     "metadata": {},
     "output_type": "execute_result"
    }
   ],
   "source": [
    "df_user_group.loc[df_user_group['mb_used'] == 0, 'mb_used'].count()"
   ]
  },
  {
   "cell_type": "markdown",
   "metadata": {},
   "source": [
    "### Промежуточные выводы после объединения таблиц"
   ]
  },
  {
   "cell_type": "markdown",
   "metadata": {},
   "source": [
    "Подготовили данные для расчёта.    \n",
    "Мы соединили все данные по каждому пользователю в одну таблицу, чтобы далее иметь возможнось делать расчёты по каждому месяцу и определять затраты пользователя и в конечном итоге сделать вывод о лучшем тарифе.  \n",
    "Теперь работаем с общей таблицей `df_user_group`"
   ]
  },
  {
   "cell_type": "code",
   "execution_count": 24,
   "metadata": {},
   "outputs": [
    {
     "name": "stdout",
     "output_type": "stream",
     "text": [
      "<class 'pandas.core.frame.DataFrame'>\n",
      "Int64Index: 3216 entries, 0 to 3215\n",
      "Data columns (total 19 columns):\n",
      "user_id                  3216 non-null int64\n",
      "age                      3216 non-null int64\n",
      "churn_date               189 non-null datetime64[ns]\n",
      "city                     3216 non-null object\n",
      "first_name               3216 non-null object\n",
      "last_name                3216 non-null object\n",
      "reg_date                 3216 non-null datetime64[ns]\n",
      "tariff                   3216 non-null object\n",
      "month                    3214 non-null float64\n",
      "duration                 3174 non-null float64\n",
      "sms                      2717 non-null float64\n",
      "mb_used                  3203 non-null float64\n",
      "messages_included        3216 non-null int64\n",
      "mb_per_month_included    3216 non-null int64\n",
      "minutes_included         3216 non-null int64\n",
      "rub_monthly_fee          3216 non-null int64\n",
      "rub_per_gb               3216 non-null int64\n",
      "rub_per_message          3216 non-null int64\n",
      "rub_per_minute           3216 non-null int64\n",
      "dtypes: datetime64[ns](2), float64(4), int64(9), object(4)\n",
      "memory usage: 502.5+ KB\n"
     ]
    }
   ],
   "source": [
    "# смотрим общую инфо по сводной таблице\n",
    "df_user_group.info()"
   ]
  },
  {
   "cell_type": "markdown",
   "metadata": {},
   "source": [
    "Заметил, что столбец 'month' опять стал float - это могло произойти по причине наличия пустых значений.  \n",
    "Проверим, что это за значения и почему они образовались"
   ]
  },
  {
   "cell_type": "code",
   "execution_count": 25,
   "metadata": {},
   "outputs": [
    {
     "data": {
      "text/html": [
       "<div>\n",
       "<style scoped>\n",
       "    .dataframe tbody tr th:only-of-type {\n",
       "        vertical-align: middle;\n",
       "    }\n",
       "\n",
       "    .dataframe tbody tr th {\n",
       "        vertical-align: top;\n",
       "    }\n",
       "\n",
       "    .dataframe thead th {\n",
       "        text-align: right;\n",
       "    }\n",
       "</style>\n",
       "<table border=\"1\" class=\"dataframe\">\n",
       "  <thead>\n",
       "    <tr style=\"text-align: right;\">\n",
       "      <th></th>\n",
       "      <th>user_id</th>\n",
       "      <th>age</th>\n",
       "      <th>churn_date</th>\n",
       "      <th>city</th>\n",
       "      <th>first_name</th>\n",
       "      <th>last_name</th>\n",
       "      <th>reg_date</th>\n",
       "      <th>tariff</th>\n",
       "      <th>month</th>\n",
       "      <th>duration</th>\n",
       "      <th>sms</th>\n",
       "      <th>mb_used</th>\n",
       "      <th>messages_included</th>\n",
       "      <th>mb_per_month_included</th>\n",
       "      <th>minutes_included</th>\n",
       "      <th>rub_monthly_fee</th>\n",
       "      <th>rub_per_gb</th>\n",
       "      <th>rub_per_message</th>\n",
       "      <th>rub_per_minute</th>\n",
       "    </tr>\n",
       "  </thead>\n",
       "  <tbody>\n",
       "    <tr>\n",
       "      <td>827</td>\n",
       "      <td>1128</td>\n",
       "      <td>51</td>\n",
       "      <td>2018-12-23</td>\n",
       "      <td>Волжский</td>\n",
       "      <td>Ксения</td>\n",
       "      <td>Агаева</td>\n",
       "      <td>2018-12-15</td>\n",
       "      <td>ultra</td>\n",
       "      <td>NaN</td>\n",
       "      <td>NaN</td>\n",
       "      <td>NaN</td>\n",
       "      <td>NaN</td>\n",
       "      <td>1000</td>\n",
       "      <td>30720</td>\n",
       "      <td>3000</td>\n",
       "      <td>1950</td>\n",
       "      <td>150</td>\n",
       "      <td>1</td>\n",
       "      <td>1</td>\n",
       "    </tr>\n",
       "    <tr>\n",
       "      <td>2335</td>\n",
       "      <td>1371</td>\n",
       "      <td>50</td>\n",
       "      <td>2018-12-30</td>\n",
       "      <td>Омск</td>\n",
       "      <td>Ириней</td>\n",
       "      <td>Трофимов</td>\n",
       "      <td>2018-12-25</td>\n",
       "      <td>smart</td>\n",
       "      <td>NaN</td>\n",
       "      <td>NaN</td>\n",
       "      <td>NaN</td>\n",
       "      <td>NaN</td>\n",
       "      <td>50</td>\n",
       "      <td>15360</td>\n",
       "      <td>500</td>\n",
       "      <td>550</td>\n",
       "      <td>200</td>\n",
       "      <td>3</td>\n",
       "      <td>3</td>\n",
       "    </tr>\n",
       "  </tbody>\n",
       "</table>\n",
       "</div>"
      ],
      "text/plain": [
       "      user_id  age churn_date      city first_name last_name   reg_date  \\\n",
       "827      1128   51 2018-12-23  Волжский     Ксения    Агаева 2018-12-15   \n",
       "2335     1371   50 2018-12-30      Омск     Ириней  Трофимов 2018-12-25   \n",
       "\n",
       "     tariff  month  duration  sms  mb_used  messages_included  \\\n",
       "827   ultra    NaN       NaN  NaN      NaN               1000   \n",
       "2335  smart    NaN       NaN  NaN      NaN                 50   \n",
       "\n",
       "      mb_per_month_included  minutes_included  rub_monthly_fee  rub_per_gb  \\\n",
       "827                   30720              3000             1950         150   \n",
       "2335                  15360               500              550         200   \n",
       "\n",
       "      rub_per_message  rub_per_minute  \n",
       "827                 1               1  \n",
       "2335                3               3  "
      ]
     },
     "execution_count": 25,
     "metadata": {},
     "output_type": "execute_result"
    }
   ],
   "source": [
    "# выводим строки по пустым значениям по месяцам\n",
    "df_user_group[df_user_group['month'].isna()]"
   ]
  },
  {
   "cell_type": "markdown",
   "metadata": {},
   "source": [
    "Мы видим, что это два пользователя, которые зарегистрировались в конце декабря и через +- неделю закрыли тарифный план, так и не сделав ни одного звонка, не написав сообщений и не пользовавшись интернетом.  \n",
    "Это явные выбросы в данном контексте, поэтому удалим строки с этими пользователями. "
   ]
  },
  {
   "cell_type": "code",
   "execution_count": 26,
   "metadata": {},
   "outputs": [
    {
     "data": {
      "text/plain": [
       "0"
      ]
     },
     "execution_count": 26,
     "metadata": {},
     "output_type": "execute_result"
    }
   ],
   "source": [
    "# удаляем нулевые значений по месяцу и проверяем правильность выполнения\n",
    "df_user_group = df_user_group.loc[~df_user_group['month'].isna()]\n",
    "df_user_group['month'].isna().sum()"
   ]
  },
  {
   "cell_type": "code",
   "execution_count": 27,
   "metadata": {},
   "outputs": [],
   "source": [
    "# приведём месяц к типу int\n",
    "df_user_group['month'] = df_user_group['month'].astype('int8')"
   ]
  },
  {
   "cell_type": "code",
   "execution_count": 28,
   "metadata": {},
   "outputs": [
    {
     "data": {
      "text/html": [
       "<div>\n",
       "<style scoped>\n",
       "    .dataframe tbody tr th:only-of-type {\n",
       "        vertical-align: middle;\n",
       "    }\n",
       "\n",
       "    .dataframe tbody tr th {\n",
       "        vertical-align: top;\n",
       "    }\n",
       "\n",
       "    .dataframe thead th {\n",
       "        text-align: right;\n",
       "    }\n",
       "</style>\n",
       "<table border=\"1\" class=\"dataframe\">\n",
       "  <thead>\n",
       "    <tr style=\"text-align: right;\">\n",
       "      <th></th>\n",
       "      <th>user_id</th>\n",
       "      <th>age</th>\n",
       "      <th>churn_date</th>\n",
       "      <th>city</th>\n",
       "      <th>first_name</th>\n",
       "      <th>last_name</th>\n",
       "      <th>reg_date</th>\n",
       "      <th>tariff</th>\n",
       "      <th>month</th>\n",
       "      <th>duration</th>\n",
       "      <th>sms</th>\n",
       "      <th>mb_used</th>\n",
       "      <th>messages_included</th>\n",
       "      <th>mb_per_month_included</th>\n",
       "      <th>minutes_included</th>\n",
       "      <th>rub_monthly_fee</th>\n",
       "      <th>rub_per_gb</th>\n",
       "      <th>rub_per_message</th>\n",
       "      <th>rub_per_minute</th>\n",
       "    </tr>\n",
       "  </thead>\n",
       "  <tbody>\n",
       "    <tr>\n",
       "      <td>0</td>\n",
       "      <td>1000</td>\n",
       "      <td>52</td>\n",
       "      <td>NaT</td>\n",
       "      <td>Краснодар</td>\n",
       "      <td>Рафаил</td>\n",
       "      <td>Верещагин</td>\n",
       "      <td>2018-05-25</td>\n",
       "      <td>ultra</td>\n",
       "      <td>5</td>\n",
       "      <td>142.0</td>\n",
       "      <td>22.0</td>\n",
       "      <td>2253.49</td>\n",
       "      <td>1000</td>\n",
       "      <td>30720</td>\n",
       "      <td>3000</td>\n",
       "      <td>1950</td>\n",
       "      <td>150</td>\n",
       "      <td>1</td>\n",
       "      <td>1</td>\n",
       "    </tr>\n",
       "    <tr>\n",
       "      <td>1</td>\n",
       "      <td>1000</td>\n",
       "      <td>52</td>\n",
       "      <td>NaT</td>\n",
       "      <td>Краснодар</td>\n",
       "      <td>Рафаил</td>\n",
       "      <td>Верещагин</td>\n",
       "      <td>2018-05-25</td>\n",
       "      <td>ultra</td>\n",
       "      <td>6</td>\n",
       "      <td>144.0</td>\n",
       "      <td>60.0</td>\n",
       "      <td>23233.77</td>\n",
       "      <td>1000</td>\n",
       "      <td>30720</td>\n",
       "      <td>3000</td>\n",
       "      <td>1950</td>\n",
       "      <td>150</td>\n",
       "      <td>1</td>\n",
       "      <td>1</td>\n",
       "    </tr>\n",
       "    <tr>\n",
       "      <td>2</td>\n",
       "      <td>1000</td>\n",
       "      <td>52</td>\n",
       "      <td>NaT</td>\n",
       "      <td>Краснодар</td>\n",
       "      <td>Рафаил</td>\n",
       "      <td>Верещагин</td>\n",
       "      <td>2018-05-25</td>\n",
       "      <td>ultra</td>\n",
       "      <td>7</td>\n",
       "      <td>299.0</td>\n",
       "      <td>75.0</td>\n",
       "      <td>14003.64</td>\n",
       "      <td>1000</td>\n",
       "      <td>30720</td>\n",
       "      <td>3000</td>\n",
       "      <td>1950</td>\n",
       "      <td>150</td>\n",
       "      <td>1</td>\n",
       "      <td>1</td>\n",
       "    </tr>\n",
       "    <tr>\n",
       "      <td>3</td>\n",
       "      <td>1000</td>\n",
       "      <td>52</td>\n",
       "      <td>NaT</td>\n",
       "      <td>Краснодар</td>\n",
       "      <td>Рафаил</td>\n",
       "      <td>Верещагин</td>\n",
       "      <td>2018-05-25</td>\n",
       "      <td>ultra</td>\n",
       "      <td>8</td>\n",
       "      <td>367.0</td>\n",
       "      <td>81.0</td>\n",
       "      <td>14055.93</td>\n",
       "      <td>1000</td>\n",
       "      <td>30720</td>\n",
       "      <td>3000</td>\n",
       "      <td>1950</td>\n",
       "      <td>150</td>\n",
       "      <td>1</td>\n",
       "      <td>1</td>\n",
       "    </tr>\n",
       "    <tr>\n",
       "      <td>4</td>\n",
       "      <td>1000</td>\n",
       "      <td>52</td>\n",
       "      <td>NaT</td>\n",
       "      <td>Краснодар</td>\n",
       "      <td>Рафаил</td>\n",
       "      <td>Верещагин</td>\n",
       "      <td>2018-05-25</td>\n",
       "      <td>ultra</td>\n",
       "      <td>9</td>\n",
       "      <td>421.0</td>\n",
       "      <td>57.0</td>\n",
       "      <td>14568.91</td>\n",
       "      <td>1000</td>\n",
       "      <td>30720</td>\n",
       "      <td>3000</td>\n",
       "      <td>1950</td>\n",
       "      <td>150</td>\n",
       "      <td>1</td>\n",
       "      <td>1</td>\n",
       "    </tr>\n",
       "  </tbody>\n",
       "</table>\n",
       "</div>"
      ],
      "text/plain": [
       "   user_id  age churn_date       city first_name  last_name   reg_date tariff  \\\n",
       "0     1000   52        NaT  Краснодар     Рафаил  Верещагин 2018-05-25  ultra   \n",
       "1     1000   52        NaT  Краснодар     Рафаил  Верещагин 2018-05-25  ultra   \n",
       "2     1000   52        NaT  Краснодар     Рафаил  Верещагин 2018-05-25  ultra   \n",
       "3     1000   52        NaT  Краснодар     Рафаил  Верещагин 2018-05-25  ultra   \n",
       "4     1000   52        NaT  Краснодар     Рафаил  Верещагин 2018-05-25  ultra   \n",
       "\n",
       "   month  duration   sms   mb_used  messages_included  mb_per_month_included  \\\n",
       "0      5     142.0  22.0   2253.49               1000                  30720   \n",
       "1      6     144.0  60.0  23233.77               1000                  30720   \n",
       "2      7     299.0  75.0  14003.64               1000                  30720   \n",
       "3      8     367.0  81.0  14055.93               1000                  30720   \n",
       "4      9     421.0  57.0  14568.91               1000                  30720   \n",
       "\n",
       "   minutes_included  rub_monthly_fee  rub_per_gb  rub_per_message  \\\n",
       "0              3000             1950         150                1   \n",
       "1              3000             1950         150                1   \n",
       "2              3000             1950         150                1   \n",
       "3              3000             1950         150                1   \n",
       "4              3000             1950         150                1   \n",
       "\n",
       "   rub_per_minute  \n",
       "0               1  \n",
       "1               1  \n",
       "2               1  \n",
       "3               1  \n",
       "4               1  "
      ]
     },
     "execution_count": 28,
     "metadata": {},
     "output_type": "execute_result"
    }
   ],
   "source": [
    "df_user_group.head()"
   ]
  },
  {
   "cell_type": "code",
   "execution_count": 29,
   "metadata": {},
   "outputs": [],
   "source": [
    "# функция, считающая помесячную выручку каждого пользователя\n",
    "def user_sum_month(df):\n",
    "    result = df['rub_monthly_fee'] # присваиваем result абоненскую плату\n",
    "# проверяем в каждом условиии по очереди условия превышения включения бесплатных минут, смс и интернета\n",
    "# при превышении условий включения добавляем стоимость дополнительных услуг\n",
    "    if (df['duration'] - df['minutes_included']) > 0: \n",
    "        result += (df['duration'] - df['minutes_included']) * df['rub_per_minute']\n",
    "    if (df['sms'] - df['messages_included']) > 0:\n",
    "        result += (df['sms'] - df['messages_included']) * df['rub_per_message']\n",
    "    if (df['mb_used'] - df['mb_per_month_included']) > 0:\n",
    "        result += math.ceil((df['mb_used'] - df['mb_per_month_included']) / 1024) * df['rub_per_gb']\n",
    "    return result"
   ]
  },
  {
   "cell_type": "code",
   "execution_count": 30,
   "metadata": {},
   "outputs": [],
   "source": [
    "# добавим столбец в сводную таблицу выручку с каждого пользователя помесячно\n",
    "df_user_group['sum_month'] = df_user_group.apply(user_sum_month, axis=1)"
   ]
  },
  {
   "cell_type": "markdown",
   "metadata": {},
   "source": [
    "## Анализ данных"
   ]
  },
  {
   "cell_type": "markdown",
   "metadata": {},
   "source": [
    "Опишим поведение клиентов оператора, исходя из выборки.   \n",
    "Сколько минут разговора, сколько сообщений и какой объём интернет-трафика требуется пользователям каждого тарифа в месяц?   \n",
    "Посчитаем среднее количество, дисперсию и стандартное отклонение. Построем гистограммы. Опишим распределения."
   ]
  },
  {
   "cell_type": "code",
   "execution_count": null,
   "metadata": {},
   "outputs": [],
   "source": []
  },
  {
   "cell_type": "code",
   "execution_count": 31,
   "metadata": {},
   "outputs": [],
   "source": [
    "# функция рисует диаграмму среднего использования услуги по тарифам в каждом из месяцев \n",
    "def user_bar(df, column, ylabel='', title=''):\n",
    "    df_user_group1 = (df_user_group.groupby(['tariff', 'month']).agg({column : 'mean'})\n",
    "    .query('tariff ==\"ultra\"').reset_index().drop('tariff', 1))\n",
    "    \n",
    "    df_user_group2 = (df_user_group.groupby(['tariff', 'month']).agg({column : 'mean'})\n",
    "    .query('tariff ==\"smart\"').reset_index().drop('tariff', 1))\n",
    "    \n",
    "    fig, ax = plt.subplots()\n",
    "# сдвигаем колонки влева и вправо на 0,2, чтобы они расположились рядом\n",
    "    ax.bar(df_user_group1['month'] - 0.2, df_user_group1[column], width = 0.4, label = ('ultra'))\n",
    "    ax.bar(df_user_group2['month'] + 0.2, df_user_group2[column], width = 0.4, label = ('smart'))\n",
    "# устанавливаем фон внутри графика\n",
    "    ax.set_facecolor('seashell')\n",
    "# устанавливаем размеры графика\n",
    "    fig.set_figwidth(12)    \n",
    "    fig.set_figheight(6)    \n",
    "# устанавливаем фон снаружи графика\n",
    "    fig.set_facecolor('floralwhite')\n",
    "# устанавливаем оси графика\n",
    "    ax.set_xlabel('месяц')\n",
    "    ax.set_ylabel(ylabel)\n",
    "    ax.set_title(title)\n",
    "    plt.legend()"
   ]
  },
  {
   "cell_type": "code",
   "execution_count": 32,
   "metadata": {},
   "outputs": [
    {
     "data": {
      "image/png": "[encoded data removed]",
      "text/plain": [
       "<Figure size 864x432 with 1 Axes>"
      ]
     },
     "metadata": {},
     "output_type": "display_data"
    },
    {
     "data": {
      "image/png": "[encoded data removed]",
      "text/plain": [
       "<Figure size 864x432 with 1 Axes>"
      ]
     },
     "metadata": {},
     "output_type": "display_data"
    },
    {
     "data": {
      "image/png": "[encoded data removed]",
      "text/plain": [
       "<Figure size 864x432 with 1 Axes>"
      ]
     },
     "metadata": {},
     "output_type": "display_data"
    }
   ],
   "source": [
    "# строим диаграммы оказанных услуг по тарифам помесячно\n",
    "user_bar(df_user_group, 'duration', 'средняя длительность звонков', \\\n",
    "         'Диаграмма сравнение средней длительности звонков по тарифам')\n",
    "\n",
    "user_bar(df_user_group, 'sms', 'среднее количество смс', \\\n",
    "         'Диаграмма сравнение среднего количества смс по тарифам')\n",
    "\n",
    "user_bar(df_user_group, 'mb_used', 'средняя потребление трафика интернета', \\\n",
    "         'Диаграмма сравнение среднего потребления трафика интернета по тарифам')\n",
    "\n",
    "plt.show()"
   ]
  },
  {
   "cell_type": "markdown",
   "metadata": {},
   "source": [
    "По диаграмам видно, что в начале года было меньше среднее по всем услугам, постепенно увеличиваясь в течении года. \n",
    "\n",
    "Тариф **smart** пользователи в среднем вкладываются по услугам во включенный пакет, по пакету интернет-трафика есть в некоторых месяцах превышения.    \n",
    "По тарифу **ultra** есть большой запас пакетного плана по всем показателям. Превышение может быть только по отдельным пользователям. В среднем пользователям с запасом хватает включенных услуг."
   ]
  },
  {
   "cell_type": "code",
   "execution_count": 33,
   "metadata": {},
   "outputs": [],
   "source": [
    "# функция рисует гистрограмму сравнение использования услуг в среднем помесячно\n",
    "def user_hist_mean(df, column, xlabel='', title='', bins=24):\n",
    "# считает выборку среднего по тарифу и месяцу, удаляю лишние колонки, оставляя только значения оказанных услуг\n",
    "# чтобы получить Series\n",
    "    ax = df_user_group.groupby(['tariff', 'month']).agg({column : 'mean'}) \\\n",
    "    .query('tariff ==\"ultra\"').reset_index().drop(['tariff', 'month'],1) \\\n",
    "    .hist(bins=bins, alpha=0.8, figsize=(12,6))\n",
    "# выборка по второму тарифу    \n",
    "    df_user_group.groupby(['tariff', 'month']).agg({column : 'mean'}) \\\n",
    "    .query('tariff ==\"smart\"').reset_index().drop(['tariff', 'month'],1) \\\n",
    "    .hist(bins=bins, alpha=0.2, ax=ax, figsize=(12,6))\n",
    "# название гистрограммы\n",
    "    plt.title(title)\n",
    "# название по оси х\n",
    "    plt.xlabel(xlabel)\n",
    "    plt.ylabel(\"Количество значений\")\n",
    "# легенда графика\n",
    "    plt.legend(['ultra','smart'])   "
   ]
  },
  {
   "cell_type": "code",
   "execution_count": 34,
   "metadata": {},
   "outputs": [
    {
     "data": {
      "image/png": "[encoded data removed]",
      "text/plain": [
       "<Figure size 864x432 with 1 Axes>"
      ]
     },
     "metadata": {
      "needs_background": "light"
     },
     "output_type": "display_data"
    },
    {
     "data": {
      "image/png": "[encoded data removed]",
      "text/plain": [
       "<Figure size 864x432 with 1 Axes>"
      ]
     },
     "metadata": {
      "needs_background": "light"
     },
     "output_type": "display_data"
    },
    {
     "data": {
      "image/png": "[encoded data removed]",
      "text/plain": [
       "<Figure size 864x432 with 1 Axes>"
      ]
     },
     "metadata": {
      "needs_background": "light"
     },
     "output_type": "display_data"
    }
   ],
   "source": [
    "# строим гистрограммы по среднему в оказанных услугам по тарифам в каждом месяце\n",
    "user_hist_mean(df_user_group, 'duration', \n",
    "               xlabel='Количество минут звонков в среднем в месяц', \n",
    "               title='Гистрограмма сравнение тарифов по звонкам в среднем в месяц', bins=24)\n",
    "\n",
    "user_hist_mean(df_user_group, 'sms', \n",
    "               xlabel='Количество смс в среднем в месяц', \n",
    "               title='Гистрограмма сравнение смс в среднем в месяц', bins=20)\n",
    "\n",
    "user_hist_mean(df_user_group, 'mb_used', \n",
    "               xlabel='Количество интернет трафика в среднем в месяц', \n",
    "               title='Гистрограмма сравнение интернет трафика в среднем в месяц', bins=12)\n",
    "\n",
    "plt.show()"
   ]
  },
  {
   "cell_type": "markdown",
   "metadata": {},
   "source": [
    "По гистограммам мы видим:  \n",
    "* `тариф смарт` - в месяц чаще всего среднее по звонкам 350, 380 минут; 39 смс; 15-16 Гб  \n",
    "* `тариф ультра` - в месяц чаще всего среднее по звонкам 470, 500 минут, значения более плотные, но с выбросами по месяцам; значения по смс также плотные в основном разброс 45-70 смс; 20-21 Гб в среднем потребление трафика интернета "
   ]
  },
  {
   "cell_type": "code",
   "execution_count": 35,
   "metadata": {},
   "outputs": [],
   "source": [
    "# функция показывает на гистрограмме количество оказанных услуг в колонке в зависимости от тарифа  \n",
    "def user_tariff_hist(df, column, bins=10, title='', xlabel=''):\n",
    "# делаем выборку по тарифу по выбранной колонке услуг\n",
    "    df.groupby('tariff')[column].plot.hist(alpha=0.5, legend=True, bins=25, figsize=(10,8))\n",
    "    plt.title(title)\n",
    "# метка по оси х\n",
    "    plt.xlabel(xlabel)\n",
    "    plt.ylabel(\"Количество значений\")\n",
    "    plt.legend(['smart','ultra']) \n",
    "    plt.show()"
   ]
  },
  {
   "cell_type": "code",
   "execution_count": 36,
   "metadata": {},
   "outputs": [
    {
     "data": {
      "image/png": "[encoded data removed]",
      "text/plain": [
       "<Figure size 720x576 with 1 Axes>"
      ]
     },
     "metadata": {
      "needs_background": "light"
     },
     "output_type": "display_data"
    },
    {
     "data": {
      "image/png": "[encoded data removed]",
      "text/plain": [
       "<Figure size 720x576 with 1 Axes>"
      ]
     },
     "metadata": {
      "needs_background": "light"
     },
     "output_type": "display_data"
    },
    {
     "data": {
      "image/png": "[encoded data removed]",
      "text/plain": [
       "<Figure size 720x576 with 1 Axes>"
      ]
     },
     "metadata": {
      "needs_background": "light"
     },
     "output_type": "display_data"
    }
   ],
   "source": [
    "# строим гистрограммы распределения услуг по тарифным планам\n",
    "user_tariff_hist(df_user_group, 'duration', 25, \\\n",
    "                 'Гистрограмма распределения звонков в зависимости от тарифа', 'звонки в минутах в месяц')\n",
    "\n",
    "user_tariff_hist(df_user_group, 'sms', 10, \\\n",
    "                 'Гистрограмма распределения смс в зависимости от тарифа', 'смс количество в месяц')\n",
    "\n",
    "user_tariff_hist(df_user_group, 'mb_used', 15, \\\n",
    "                 'Гистрограмма распределения трафика интеренета в зависимости от тарифа', \\\n",
    "                 'трафик интернета в месяц')"
   ]
  },
  {
   "cell_type": "code",
   "execution_count": 37,
   "metadata": {},
   "outputs": [],
   "source": [
    "# функция, считает дисперсию по выборке\n",
    "def sample_variance(df):\n",
    "# параметр ddof=1 указывает, что это дисперсия выборки c одной степенью свободы\n",
    "    return np.var(df, ddof=1)"
   ]
  },
  {
   "cell_type": "code",
   "execution_count": 38,
   "metadata": {},
   "outputs": [],
   "source": [
    "# функция, считает стандартное отклонение по выборке\n",
    "def standard_dev(df):\n",
    "# параметр ddof=1 указывает, что это стандартное отклонение выборки с одной степенью свободы\n",
    "    return np.std(df, ddof=1)"
   ]
  },
  {
   "cell_type": "code",
   "execution_count": 39,
   "metadata": {},
   "outputs": [
    {
     "data": {
      "text/html": [
       "<div>\n",
       "<style scoped>\n",
       "    .dataframe tbody tr th:only-of-type {\n",
       "        vertical-align: middle;\n",
       "    }\n",
       "\n",
       "    .dataframe tbody tr th {\n",
       "        vertical-align: top;\n",
       "    }\n",
       "\n",
       "    .dataframe thead tr th {\n",
       "        text-align: left;\n",
       "    }\n",
       "</style>\n",
       "<table border=\"1\" class=\"dataframe\">\n",
       "  <thead>\n",
       "    <tr>\n",
       "      <th></th>\n",
       "      <th>tariff</th>\n",
       "      <th colspan=\"3\" halign=\"left\">duration</th>\n",
       "      <th colspan=\"3\" halign=\"left\">sms</th>\n",
       "      <th colspan=\"3\" halign=\"left\">mb_used</th>\n",
       "    </tr>\n",
       "    <tr>\n",
       "      <th></th>\n",
       "      <th></th>\n",
       "      <th>mean</th>\n",
       "      <th>sample_variance</th>\n",
       "      <th>standard_dev</th>\n",
       "      <th>mean</th>\n",
       "      <th>sample_variance</th>\n",
       "      <th>standard_dev</th>\n",
       "      <th>mean</th>\n",
       "      <th>sample_variance</th>\n",
       "      <th>standard_dev</th>\n",
       "    </tr>\n",
       "  </thead>\n",
       "  <tbody>\n",
       "    <tr>\n",
       "      <td>0</td>\n",
       "      <td>smart</td>\n",
       "      <td>372.45</td>\n",
       "      <td>28565.31</td>\n",
       "      <td>169.01</td>\n",
       "      <td>38.72</td>\n",
       "      <td>717.59</td>\n",
       "      <td>26.79</td>\n",
       "      <td>16215.66</td>\n",
       "      <td>34359951.68</td>\n",
       "      <td>5861.74</td>\n",
       "    </tr>\n",
       "    <tr>\n",
       "      <td>1</td>\n",
       "      <td>ultra</td>\n",
       "      <td>484.65</td>\n",
       "      <td>74640.05</td>\n",
       "      <td>273.20</td>\n",
       "      <td>61.16</td>\n",
       "      <td>2109.66</td>\n",
       "      <td>45.93</td>\n",
       "      <td>19668.49</td>\n",
       "      <td>98864248.95</td>\n",
       "      <td>9943.05</td>\n",
       "    </tr>\n",
       "  </tbody>\n",
       "</table>\n",
       "</div>"
      ],
      "text/plain": [
       "  tariff duration                                 sms                  \\\n",
       "             mean sample_variance standard_dev   mean sample_variance   \n",
       "0  smart   372.45        28565.31       169.01  38.72          717.59   \n",
       "1  ultra   484.65        74640.05       273.20  61.16         2109.66   \n",
       "\n",
       "                 mb_used                               \n",
       "  standard_dev      mean sample_variance standard_dev  \n",
       "0        26.79  16215.66     34359951.68      5861.74  \n",
       "1        45.93  19668.49     98864248.95      9943.05  "
      ]
     },
     "execution_count": 39,
     "metadata": {},
     "output_type": "execute_result"
    }
   ],
   "source": [
    "# создаем сводную таблицу по тарифам по каждой из услуг (звонки, смс, интернет) по данным (среднее, дисперсия\n",
    "# и стандартное отклонение)\n",
    "df_mean_var_std = (df_user_group.groupby('tariff')\n",
    "        .agg({'duration' : ['mean', sample_variance, standard_dev], \n",
    "         'sms' : ['mean', sample_variance, standard_dev],\n",
    "         'mb_used' : ['mean', sample_variance, standard_dev]}).round(2).reset_index())\n",
    "\n",
    "df_mean_var_std"
   ]
  },
  {
   "cell_type": "markdown",
   "metadata": {},
   "source": [
    "### Промежуточные выводы по анализу данных"
   ]
  },
  {
   "cell_type": "markdown",
   "metadata": {},
   "source": [
    "Мы посчитали среднее количество, дисперсию и стандартное отклонение по выборке пользователей в зависимости от тарифа.  \n",
    "* по звонкам в среднем пользователи тарифного плана *ультра* разговаривают на 110 минут больше, чем пользователи тарифного плана *смарт*, дисперсия в 2,5 раза больше и стандартное отклонение 270 против 169.  \n",
    "* по смс в среднем пользователи тарифного плана *ультра* 1,5 чаще пользуются данной услугой, дисперсия превышает в 3 раза пользователей тарифного плана *смарт*, стандартное отклонение 46 против 27.  \n",
    "* потребление интернет трафика в среднем у пользователей тарифных планов не сильно различается - разница в 3 Гб больше у пользователей тарифного плана *ультра*, однако у пользователей плана *смарт* это предел или даже небольшое превышение включенного в пакет, в в пакете *ультра* есть большой запас; дисперсия и стандартное отклонение просто огромны - это говорит о том, что поведение пользователей в части использования интернета сильно отличается между собой.  \n",
    "\n",
    "Как мы могли видеть видеть, пользование услугами в начале года было меньше в среднем относительно всего года и постепенно увеличивалось по месяцам.  \n",
    "Пользователи тарифного плана *смарт* используют услуги включенные в пакет почти под самый верх включенных, а по потреблению трафика интернета даже в некоторых месяцах с превышением в среднем.  \n",
    "У пользователей тарифного плана *ультра* в среднем есть большой запас по всем услугам, включенным в абоненскую плату."
   ]
  },
  {
   "cell_type": "markdown",
   "metadata": {},
   "source": [
    "## Проверяем гипотизы"
   ]
  },
  {
   "cell_type": "markdown",
   "metadata": {},
   "source": [
    "* средняя выручка пользователей тарифов «Ультра» и «Смарт» различаются;\n",
    "* средняя выручка пользователей из Москвы отличается от выручки пользователей из других регионов."
   ]
  },
  {
   "cell_type": "markdown",
   "metadata": {},
   "source": [
    "### Гипотиза о равенстве выручки от пользователей по тарифным планам"
   ]
  },
  {
   "cell_type": "markdown",
   "metadata": {},
   "source": [
    "**Сформулируем нулевую гипотизу. Она будет звучать так.** \n",
    "**Ho** ---> *средняя выручка пользователей тарифов \"Ультра\" и \"Смарт\" равны.*  \n",
    "**H1** ---> *средняя выручка пользователей тарифов \"Ультра\" и \"Смарт\" различаются.*  \n",
    "Зададим alpha = 0.05  -  критический уровень статистической значимости  \n",
    "Для проверки гипотизы выберем критерий равенства средних двух генеральных совокупностей по взятым из них выборок. "
   ]
  },
  {
   "cell_type": "code",
   "execution_count": 40,
   "metadata": {},
   "outputs": [],
   "source": [
    "# задаем уровень значимости\n",
    "alpha = 0.05"
   ]
  },
  {
   "cell_type": "code",
   "execution_count": 41,
   "metadata": {},
   "outputs": [
    {
     "data": {
      "text/html": [
       "<div>\n",
       "<style scoped>\n",
       "    .dataframe tbody tr th:only-of-type {\n",
       "        vertical-align: middle;\n",
       "    }\n",
       "\n",
       "    .dataframe tbody tr th {\n",
       "        vertical-align: top;\n",
       "    }\n",
       "\n",
       "    .dataframe thead th {\n",
       "        text-align: right;\n",
       "    }\n",
       "</style>\n",
       "<table border=\"1\" class=\"dataframe\">\n",
       "  <thead>\n",
       "    <tr style=\"text-align: right;\">\n",
       "      <th></th>\n",
       "      <th>sum_month</th>\n",
       "    </tr>\n",
       "    <tr>\n",
       "      <th>tariff</th>\n",
       "      <th></th>\n",
       "    </tr>\n",
       "  </thead>\n",
       "  <tbody>\n",
       "    <tr>\n",
       "      <td>smart</td>\n",
       "      <td>2229</td>\n",
       "    </tr>\n",
       "    <tr>\n",
       "      <td>ultra</td>\n",
       "      <td>985</td>\n",
       "    </tr>\n",
       "  </tbody>\n",
       "</table>\n",
       "</div>"
      ],
      "text/plain": [
       "        sum_month\n",
       "tariff           \n",
       "smart        2229\n",
       "ultra         985"
      ]
     },
     "execution_count": 41,
     "metadata": {},
     "output_type": "execute_result"
    }
   ],
   "source": [
    "# проверяю количество выборок по тарифным планам\n",
    "df_user_group.groupby('tariff').agg({'sum_month' : 'count'})"
   ]
  },
  {
   "cell_type": "code",
   "execution_count": 42,
   "metadata": {},
   "outputs": [
    {
     "name": "stdout",
     "output_type": "stream",
     "text": [
      "Дисперсии выборок различны\n"
     ]
    }
   ],
   "source": [
    "# проверим дисперсии двух выборок на гомогенность\n",
    "stat_smart_ultra, p_smart_ultra = (st.levene(df_user_group[df_user_group['tariff'] == 'ultra']['sum_month'], \n",
    "                    df_user_group[df_user_group['tariff'] == 'smart']['sum_month']))\n",
    "if p_smart_ultra < alpha:\n",
    "    print('Дисперсии выборок различны')\n",
    "else:\n",
    "    print('Дисперсии выборок гомогенны')"
   ]
  },
  {
   "cell_type": "code",
   "execution_count": 43,
   "metadata": {
    "scrolled": true
   },
   "outputs": [
    {
     "name": "stdout",
     "output_type": "stream",
     "text": [
      "p-значение: 5.5514986360950055e-295\n",
      "Отвергаем нулевую гипотезу\n",
      "Значения средних: \n"
     ]
    },
    {
     "data": {
      "text/html": [
       "<div>\n",
       "<style scoped>\n",
       "    .dataframe tbody tr th:only-of-type {\n",
       "        vertical-align: middle;\n",
       "    }\n",
       "\n",
       "    .dataframe tbody tr th {\n",
       "        vertical-align: top;\n",
       "    }\n",
       "\n",
       "    .dataframe thead th {\n",
       "        text-align: right;\n",
       "    }\n",
       "</style>\n",
       "<table border=\"1\" class=\"dataframe\">\n",
       "  <thead>\n",
       "    <tr style=\"text-align: right;\">\n",
       "      <th></th>\n",
       "      <th>tariff</th>\n",
       "      <th>sum_month</th>\n",
       "    </tr>\n",
       "  </thead>\n",
       "  <tbody>\n",
       "    <tr>\n",
       "      <td>0</td>\n",
       "      <td>smart</td>\n",
       "      <td>1231.0</td>\n",
       "    </tr>\n",
       "    <tr>\n",
       "      <td>1</td>\n",
       "      <td>ultra</td>\n",
       "      <td>2070.0</td>\n",
       "    </tr>\n",
       "  </tbody>\n",
       "</table>\n",
       "</div>"
      ],
      "text/plain": [
       "  tariff  sum_month\n",
       "0  smart     1231.0\n",
       "1  ultra     2070.0"
      ]
     },
     "metadata": {},
     "output_type": "display_data"
    }
   ],
   "source": [
    "# проверяем гипотезу о равенстве двух средних\n",
    "# equal_var=False устанавливливаем, так как дисперсии выборок различаются\n",
    "results_ultra_smart = st.ttest_ind(df_user_group[df_user_group['tariff'] == 'ultra']['sum_month'],\n",
    "                                   df_user_group[df_user_group['tariff'] == 'smart']['sum_month'], equal_var=False)\n",
    "\n",
    "# если p-value results_ultra_smart окажется меньше установленного alpha - отвергнем гипотезу\n",
    "print('p-значение:', results_ultra_smart.pvalue)\n",
    "\n",
    "if results_ultra_smart.pvalue < alpha:\n",
    "    print('Отвергаем нулевую гипотезу')\n",
    "else:\n",
    "    print('Не получилось отвергнуть нулевую гипотезу')\n",
    "print('Значения средних: ')\n",
    "display(df_user_group.groupby(\"tariff\").agg({\"sum_month\" : \"mean\"}).round(0).reset_index())"
   ]
  },
  {
   "cell_type": "markdown",
   "metadata": {},
   "source": [
    "Мы отвергли нулевую гипотизу. Получается принимаем альтернативную гипотизу.  \n",
    "**Средняя выручка пользователей тарифов \"Ультра\" и \"Смарт\" различаются.**  \n",
    "По выборке мы видим среднее значение выручки пользователей тарифного плана *'Ультра'* равняется **2070 рублей**, а выручка от пользователей тарифного плана *'Смарт'* **1231 рублей**.  \n",
    "Согласно ЦПТ, выборочные средние распределены нормально вокруг истинного среднего генеральной совокупности, поэтому может судить о средних  значений выборки, как о стремящихся к средним значениям генеральной совокупности. "
   ]
  },
  {
   "cell_type": "markdown",
   "metadata": {},
   "source": [
    "### Гипотиза о равенстве выручки пользователей из Москвы и других городов"
   ]
  },
  {
   "cell_type": "markdown",
   "metadata": {},
   "source": [
    "**Сформулируем нулевую гипотизу.**   \n",
    "**Ho** ---> *средняя выручка пользователей из Москвы равна выручке пользователей из других регионов.*  \n",
    "**H1** ---> *средняя выручка пользователей отличается от выручки пользователей из других регионов.*  \n",
    "Зададим alpha = 0.05  \n",
    "Для проверки гипотизы выберем критерий равенства средних двух генеральных совокупностей по взятым из них выборок. "
   ]
  },
  {
   "cell_type": "code",
   "execution_count": 44,
   "metadata": {},
   "outputs": [],
   "source": [
    "# добавляем столбец со значениями городов, чтобы далее те, что не Москва назвать единым значением\n",
    "df_user_group['city_another'] = df_user_group['city']"
   ]
  },
  {
   "cell_type": "code",
   "execution_count": 45,
   "metadata": {},
   "outputs": [
    {
     "data": {
      "text/plain": [
       "array(['другие', 'Москва'], dtype=object)"
      ]
     },
     "execution_count": 45,
     "metadata": {},
     "output_type": "execute_result"
    }
   ],
   "source": [
    "# в столбце 'city_another' меняем город, если не Москва на 'другие'. После проверяем список городов\n",
    "df_user_group.loc[df_user_group['city_another'] != 'Москва', 'city_another'] = 'другие' \n",
    "df_user_group['city_another'].unique()"
   ]
  },
  {
   "cell_type": "code",
   "execution_count": 46,
   "metadata": {},
   "outputs": [
    {
     "data": {
      "text/html": [
       "<div>\n",
       "<style scoped>\n",
       "    .dataframe tbody tr th:only-of-type {\n",
       "        vertical-align: middle;\n",
       "    }\n",
       "\n",
       "    .dataframe tbody tr th {\n",
       "        vertical-align: top;\n",
       "    }\n",
       "\n",
       "    .dataframe thead th {\n",
       "        text-align: right;\n",
       "    }\n",
       "</style>\n",
       "<table border=\"1\" class=\"dataframe\">\n",
       "  <thead>\n",
       "    <tr style=\"text-align: right;\">\n",
       "      <th></th>\n",
       "      <th>sum_month</th>\n",
       "    </tr>\n",
       "    <tr>\n",
       "      <th>city_another</th>\n",
       "      <th></th>\n",
       "    </tr>\n",
       "  </thead>\n",
       "  <tbody>\n",
       "    <tr>\n",
       "      <td>Москва</td>\n",
       "      <td>611</td>\n",
       "    </tr>\n",
       "    <tr>\n",
       "      <td>другие</td>\n",
       "      <td>2603</td>\n",
       "    </tr>\n",
       "  </tbody>\n",
       "</table>\n",
       "</div>"
      ],
      "text/plain": [
       "              sum_month\n",
       "city_another           \n",
       "Москва              611\n",
       "другие             2603"
      ]
     },
     "execution_count": 46,
     "metadata": {},
     "output_type": "execute_result"
    }
   ],
   "source": [
    "# проверяю количество выборок по тарифным планам\n",
    "df_user_group.groupby('city_another').agg({'sum_month': 'count'})"
   ]
  },
  {
   "cell_type": "code",
   "execution_count": 47,
   "metadata": {},
   "outputs": [
    {
     "name": "stdout",
     "output_type": "stream",
     "text": [
      "Дисперсии выборок гомогенны\n"
     ]
    }
   ],
   "source": [
    "# проверим дисперсии двух выборок на гомогенность\n",
    "stat_city, p_city = (st.levene(df_user_group[df_user_group['city_another'] == 'Москва']['sum_month'], \n",
    "                    df_user_group[df_user_group['city_another'] == 'другие']['sum_month']))\n",
    "if p_city < alpha:\n",
    "    print('Дисперсии выборок различны')\n",
    "else:\n",
    "    print('Дисперсии выборок гомогенны')"
   ]
  },
  {
   "cell_type": "code",
   "execution_count": 48,
   "metadata": {
    "scrolled": true
   },
   "outputs": [
    {
     "name": "stdout",
     "output_type": "stream",
     "text": [
      "p-значение: 0.4495612335173296\n",
      "Не получилось отвергнуть нулевую гипотезу\n",
      "Значения средних: \n"
     ]
    },
    {
     "data": {
      "text/html": [
       "<div>\n",
       "<style scoped>\n",
       "    .dataframe tbody tr th:only-of-type {\n",
       "        vertical-align: middle;\n",
       "    }\n",
       "\n",
       "    .dataframe tbody tr th {\n",
       "        vertical-align: top;\n",
       "    }\n",
       "\n",
       "    .dataframe thead th {\n",
       "        text-align: right;\n",
       "    }\n",
       "</style>\n",
       "<table border=\"1\" class=\"dataframe\">\n",
       "  <thead>\n",
       "    <tr style=\"text-align: right;\">\n",
       "      <th></th>\n",
       "      <th>city_another</th>\n",
       "      <th>sum_month</th>\n",
       "    </tr>\n",
       "  </thead>\n",
       "  <tbody>\n",
       "    <tr>\n",
       "      <td>0</td>\n",
       "      <td>Москва</td>\n",
       "      <td>1510.0</td>\n",
       "    </tr>\n",
       "    <tr>\n",
       "      <td>1</td>\n",
       "      <td>другие</td>\n",
       "      <td>1483.0</td>\n",
       "    </tr>\n",
       "  </tbody>\n",
       "</table>\n",
       "</div>"
      ],
      "text/plain": [
       "  city_another  sum_month\n",
       "0       Москва     1510.0\n",
       "1       другие     1483.0"
      ]
     },
     "metadata": {},
     "output_type": "display_data"
    }
   ],
   "source": [
    "# проверяем гипотезу о равенстве двух средних\n",
    "results_city = st.ttest_ind(df_user_group[df_user_group['city_another'] == 'Москва']['sum_month'],\n",
    "                                   df_user_group[df_user_group['city_another'] == 'другие']['sum_month'])\n",
    "\n",
    "# если p-value results_city окажется меньше установленного alpha - отвергнем гипотезу\n",
    "print('p-значение:', results_city.pvalue)\n",
    "\n",
    "if results_city.pvalue < alpha:\n",
    "    print('Отвергаем нулевую гипотезу')\n",
    "else:\n",
    "    print('Не получилось отвергнуть нулевую гипотезу')\n",
    "print('Значения средних: ')\n",
    "display(df_user_group.groupby('city_another').agg({'sum_month': 'mean'}).round(0).reset_index())"
   ]
  },
  {
   "cell_type": "markdown",
   "metadata": {},
   "source": [
    "Мы принимаем нулевую гипотизу.    \n",
    "**Средняя выручка пользователей из Москвы равна выручке пользователей из других регионов.**"
   ]
  },
  {
   "cell_type": "markdown",
   "metadata": {},
   "source": [
    "## Общий вывод"
   ]
  },
  {
   "cell_type": "markdown",
   "metadata": {},
   "source": [
    "**Как мы могли проанализировать, пользователи тарифного плана *смарт* используют услуги включенные в пакет почти под самый потолок включенных, а по потреблению трафика интернета даже в некоторых месяцах с превышением в среднем. За счёт дорогих услуг сверх тарифа, пользователь приносит столько же и даже немного больше дополнительно к абоненской плате.      \n",
    "У пользователей тарифного плана *ультра* в среднем есть большой запас по всем услугам, включенным в абоненскую плату.  \n",
    "Однако, в связи с большой разницей в абоненской плате, даже с учётом дополнительной оплаты пользователей тарифного плана *смарт* сверх абоненской платы, пользователи тарифного плана *ультра* приносят компании \"Мегалайн\" в 1,7 раза больше денег, чем пользователи тарифного плана *смарт*                \n",
    "Также мы выяснили, что средняя выручка пользователей из Москвы равна выручке пользователей из других регионов.**"
   ]
  }
 ],
 "metadata": {
  "ExecuteTimeLog": [
   {
    "duration": 4,
    "start_time": "2021-12-20T21:18:26.206Z"
   },
   {
    "duration": 14,
    "start_time": "2021-12-20T21:18:26.211Z"
   },
   {
    "duration": 1309,
    "start_time": "2021-12-20T21:18:26.227Z"
   },
   {
    "duration": 1391,
    "start_time": "2021-12-20T21:18:27.538Z"
   },
   {
    "duration": 19,
    "start_time": "2021-12-20T21:18:28.931Z"
   },
   {
    "duration": 18,
    "start_time": "2021-12-20T21:18:28.952Z"
   },
   {
    "duration": 33,
    "start_time": "2021-12-20T21:18:28.972Z"
   },
   {
    "duration": 263,
    "start_time": "2021-12-20T21:18:29.007Z"
   },
   {
    "duration": 21,
    "start_time": "2021-12-20T21:18:29.273Z"
   },
   {
    "duration": 50,
    "start_time": "2021-12-20T21:18:29.297Z"
   },
   {
    "duration": 7,
    "start_time": "2021-12-20T21:18:29.348Z"
   },
   {
    "duration": 40,
    "start_time": "2021-12-20T21:18:29.357Z"
   },
   {
    "duration": 6,
    "start_time": "2021-12-20T21:18:29.399Z"
   },
   {
    "duration": 40,
    "start_time": "2021-12-20T21:18:29.407Z"
   },
   {
    "duration": 34,
    "start_time": "2021-12-20T21:18:29.449Z"
   },
   {
    "duration": 3,
    "start_time": "2021-12-20T21:18:29.485Z"
   },
   {
    "duration": 10,
    "start_time": "2021-12-20T21:18:29.490Z"
   },
   {
    "duration": 120,
    "start_time": "2021-12-20T21:18:29.501Z"
   },
   {
    "duration": 28,
    "start_time": "2021-12-20T21:18:29.623Z"
   },
   {
    "duration": 8,
    "start_time": "2021-12-20T21:18:29.653Z"
   },
   {
    "duration": 10,
    "start_time": "2021-12-20T21:18:29.663Z"
   },
   {
    "duration": 12,
    "start_time": "2021-12-20T21:18:29.674Z"
   },
   {
    "duration": 16,
    "start_time": "2021-12-20T21:18:29.688Z"
   },
   {
    "duration": 36,
    "start_time": "2021-12-20T21:18:29.706Z"
   },
   {
    "duration": 4,
    "start_time": "2021-12-20T21:18:29.744Z"
   },
   {
    "duration": 21,
    "start_time": "2021-12-20T21:18:29.750Z"
   },
   {
    "duration": 5,
    "start_time": "2021-12-20T21:18:29.774Z"
   },
   {
    "duration": 242,
    "start_time": "2021-12-20T21:18:29.781Z"
   },
   {
    "duration": 6,
    "start_time": "2021-12-20T21:18:30.025Z"
   },
   {
    "duration": 1011,
    "start_time": "2021-12-20T21:18:30.041Z"
   },
   {
    "duration": 5,
    "start_time": "2021-12-20T21:18:31.054Z"
   },
   {
    "duration": 1109,
    "start_time": "2021-12-20T21:18:31.061Z"
   },
   {
    "duration": 4,
    "start_time": "2021-12-20T21:18:32.172Z"
   },
   {
    "duration": 906,
    "start_time": "2021-12-20T21:18:32.178Z"
   },
   {
    "duration": 2,
    "start_time": "2021-12-20T21:18:33.086Z"
   },
   {
    "duration": 6,
    "start_time": "2021-12-20T21:18:33.090Z"
   },
   {
    "duration": 49,
    "start_time": "2021-12-20T21:18:33.098Z"
   },
   {
    "duration": 2,
    "start_time": "2021-12-20T21:18:33.149Z"
   },
   {
    "duration": 12,
    "start_time": "2021-12-20T21:18:33.153Z"
   },
   {
    "duration": 9,
    "start_time": "2021-12-20T21:18:33.166Z"
   },
   {
    "duration": 19,
    "start_time": "2021-12-20T21:18:33.177Z"
   },
   {
    "duration": 3,
    "start_time": "2021-12-20T21:18:33.198Z"
   },
   {
    "duration": 43,
    "start_time": "2021-12-20T21:18:33.203Z"
   },
   {
    "duration": 12,
    "start_time": "2021-12-20T21:18:33.248Z"
   },
   {
    "duration": 10,
    "start_time": "2021-12-20T21:18:33.262Z"
   },
   {
    "duration": 25,
    "start_time": "2021-12-20T21:18:33.274Z"
   },
   {
    "duration": 11,
    "start_time": "2021-12-20T21:20:57.871Z"
   },
   {
    "duration": 13,
    "start_time": "2021-12-20T21:21:16.378Z"
   },
   {
    "duration": 4,
    "start_time": "2021-12-20T21:21:24.225Z"
   },
   {
    "duration": 6,
    "start_time": "2021-12-20T21:21:24.231Z"
   },
   {
    "duration": 9,
    "start_time": "2021-12-20T21:21:24.239Z"
   },
   {
    "duration": 756,
    "start_time": "2021-12-20T21:21:24.250Z"
   },
   {
    "duration": 18,
    "start_time": "2021-12-20T21:21:25.009Z"
   },
   {
    "duration": 15,
    "start_time": "2021-12-20T21:21:25.042Z"
   },
   {
    "duration": 57,
    "start_time": "2021-12-20T21:21:25.059Z"
   },
   {
    "duration": 307,
    "start_time": "2021-12-20T21:21:25.119Z"
   },
   {
    "duration": 37,
    "start_time": "2021-12-20T21:21:25.430Z"
   },
   {
    "duration": 34,
    "start_time": "2021-12-20T21:21:25.469Z"
   },
   {
    "duration": 8,
    "start_time": "2021-12-20T21:21:25.505Z"
   },
   {
    "duration": 62,
    "start_time": "2021-12-20T21:21:25.515Z"
   },
   {
    "duration": 7,
    "start_time": "2021-12-20T21:21:25.580Z"
   },
   {
    "duration": 15,
    "start_time": "2021-12-20T21:21:25.590Z"
   },
   {
    "duration": 3,
    "start_time": "2021-12-20T21:21:47.722Z"
   },
   {
    "duration": 11,
    "start_time": "2021-12-20T21:21:47.727Z"
   },
   {
    "duration": 11,
    "start_time": "2021-12-20T21:21:47.741Z"
   },
   {
    "duration": 800,
    "start_time": "2021-12-20T21:21:47.755Z"
   },
   {
    "duration": 20,
    "start_time": "2021-12-20T21:21:48.557Z"
   },
   {
    "duration": 67,
    "start_time": "2021-12-20T21:21:48.579Z"
   },
   {
    "duration": 29,
    "start_time": "2021-12-20T21:21:48.648Z"
   },
   {
    "duration": 461,
    "start_time": "2021-12-20T21:21:48.680Z"
   },
   {
    "duration": 27,
    "start_time": "2021-12-20T21:21:49.144Z"
   },
   {
    "duration": 39,
    "start_time": "2021-12-20T21:21:49.174Z"
   },
   {
    "duration": 30,
    "start_time": "2021-12-20T21:21:49.215Z"
   },
   {
    "duration": 40,
    "start_time": "2021-12-20T21:21:49.248Z"
   },
   {
    "duration": 5,
    "start_time": "2021-12-20T21:21:49.290Z"
   },
   {
    "duration": 26,
    "start_time": "2021-12-20T21:21:49.297Z"
   },
   {
    "duration": 48,
    "start_time": "2021-12-20T21:21:49.325Z"
   },
   {
    "duration": 3,
    "start_time": "2021-12-20T21:21:49.375Z"
   },
   {
    "duration": 9,
    "start_time": "2021-12-20T21:21:49.380Z"
   },
   {
    "duration": 125,
    "start_time": "2021-12-20T21:21:49.391Z"
   },
   {
    "duration": 25,
    "start_time": "2021-12-20T21:21:49.519Z"
   },
   {
    "duration": 9,
    "start_time": "2021-12-20T21:21:49.547Z"
   },
   {
    "duration": 21,
    "start_time": "2021-12-20T21:21:49.559Z"
   },
   {
    "duration": 11,
    "start_time": "2021-12-20T21:21:49.582Z"
   },
   {
    "duration": 17,
    "start_time": "2021-12-20T21:21:49.595Z"
   },
   {
    "duration": 33,
    "start_time": "2021-12-20T21:21:49.614Z"
   },
   {
    "duration": 4,
    "start_time": "2021-12-20T21:21:49.649Z"
   },
   {
    "duration": 43,
    "start_time": "2021-12-20T21:21:49.656Z"
   },
   {
    "duration": 8,
    "start_time": "2021-12-20T21:21:49.703Z"
   },
   {
    "duration": 255,
    "start_time": "2021-12-20T21:21:49.713Z"
   },
   {
    "duration": 6,
    "start_time": "2021-12-20T21:21:49.970Z"
   },
   {
    "duration": 1169,
    "start_time": "2021-12-20T21:21:49.978Z"
   },
   {
    "duration": 9,
    "start_time": "2021-12-20T21:21:51.150Z"
   },
   {
    "duration": 1313,
    "start_time": "2021-12-20T21:21:51.161Z"
   },
   {
    "duration": 5,
    "start_time": "2021-12-20T21:21:52.477Z"
   },
   {
    "duration": 859,
    "start_time": "2021-12-20T21:21:52.484Z"
   },
   {
    "duration": 4,
    "start_time": "2021-12-20T21:21:53.348Z"
   },
   {
    "duration": 47,
    "start_time": "2021-12-20T21:21:53.354Z"
   },
   {
    "duration": 43,
    "start_time": "2021-12-20T21:21:53.403Z"
   },
   {
    "duration": 3,
    "start_time": "2021-12-20T21:21:53.448Z"
   },
   {
    "duration": 35,
    "start_time": "2021-12-20T21:21:53.453Z"
   },
   {
    "duration": 28,
    "start_time": "2021-12-20T21:21:53.490Z"
   },
   {
    "duration": 21,
    "start_time": "2021-12-20T21:21:53.520Z"
   },
   {
    "duration": 12,
    "start_time": "2021-12-20T21:21:53.543Z"
   },
   {
    "duration": 26,
    "start_time": "2021-12-20T21:21:53.557Z"
   },
   {
    "duration": 26,
    "start_time": "2021-12-20T21:21:53.585Z"
   },
   {
    "duration": 28,
    "start_time": "2021-12-20T21:21:53.613Z"
   },
   {
    "duration": 27,
    "start_time": "2021-12-20T21:21:53.643Z"
   },
   {
    "duration": 388,
    "start_time": "2021-12-20T21:26:18.365Z"
   }
  ],
  "kernelspec": {
   "display_name": "Python 3",
   "language": "python",
   "name": "python3"
  },
  "language_info": {
   "codemirror_mode": {
    "name": "ipython",
    "version": 3
   },
   "file_extension": ".py",
   "mimetype": "text/x-python",
   "name": "python",
   "nbconvert_exporter": "python",
   "pygments_lexer": "ipython3",
   "version": "3.7.12"
  },
  "notebookId": "e6acbedb-4a01-4b49-8c3e-325bf1589363",
  "notebookPath": "da-ds-statistics.ipynb",
  "toc": {
   "base_numbering": 1,
   "nav_menu": {},
   "number_sections": true,
   "sideBar": true,
   "skip_h1_title": true,
   "title_cell": "Table of Contents",
   "title_sidebar": "Contents",
   "toc_cell": true,
   "toc_position": {
    "height": "calc(100% - 180px)",
    "left": "10px",
    "top": "150px",
    "width": "194px"
   },
   "toc_section_display": true,
   "toc_window_display": true
  }
 },
 "nbformat": 4,
 "nbformat_minor": 4
}
